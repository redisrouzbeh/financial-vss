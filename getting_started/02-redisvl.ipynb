{
 "cells": [
  {
   "cell_type": "markdown",
   "metadata": {
    "id": "R2-i8jBl9GRH"
   },
   "source": [
    "![Redis](https://redis.com/wp-content/themes/wpx/assets/images/logo-redis.svg?auto=webp&quality=85,75&width=120)\n",
    "\n",
    "# Vector Search from scratch with the Redis Vector Library\n",
    "\n",
    "\n",
    "Now that you have a good foundation in Redis data structures and basic search capabilities, this notebook builds on that path. It introduces [redisvl](https://redisvl.com), a dedicated Python client library for streamline GenAI application development.\n",
    "\n",
    "We will go through the same initial setup and data prep stage, then dive into building an **end-to-end RAG system from scratch**, including a few special topics/techniques:\n",
    "- Dense content representation\n",
    "- Query rewriting / expansion\n",
    "- Semantic caching\n",
    "- Conversational memory persistence\n",
    "\n",
    "\n"
   ]
  },
  {
   "metadata": {
    "ExecuteTime": {
     "end_time": "2024-05-23T00:43:25.192094Z",
     "start_time": "2024-05-23T00:43:25.145428Z"
    }
   },
   "cell_type": "code",
   "source": [
    "import os\n",
    "import warnings\n",
    "warnings.filterwarnings(\"ignore\")\n",
    "dir_path = os.getcwd()\n",
    "parent_directory = os.path.dirname(dir_path)\n",
    "os.environ[\"TOKENIZERS_PARALLELISM\"] = \"false\"\n",
    "os.environ[\"ROOT_DIR\"] = parent_directory\n",
    "print(dir_path)\n",
    "print(parent_directory)"
   ],
   "outputs": [
    {
     "name": "stdout",
     "output_type": "stream",
     "text": [
      "/Users/rouzbeh.farahmand/PycharmProjects/commit/financial-vss/getting_started\n",
      "/Users/rouzbeh.farahmand/PycharmProjects/commit/financial-vss\n"
     ]
    }
   ],
   "execution_count": 48
  },
  {
   "cell_type": "markdown",
   "metadata": {
    "id": "Z67mf6T91ui2"
   },
   "source": [
    "### Install Python Dependencies"
   ]
  },
  {
   "cell_type": "code",
   "metadata": {
    "id": "DgxBQFXQ1ui2",
    "ExecuteTime": {
     "end_time": "2024-05-23T00:43:27.584504Z",
     "start_time": "2024-05-23T00:43:25.194381Z"
    }
   },
   "source": "%pip install -r $ROOT_DIR/requirements.txt",
   "outputs": [
    {
     "name": "stdout",
     "output_type": "stream",
     "text": [
      "Requirement already satisfied: openai in /Users/rouzbeh.farahmand/PycharmProjects/redis-recommender/.venv/financial-vss/lib/python3.11/site-packages (from -r /Users/rouzbeh.farahmand/PycharmProjects/commit/financial-vss/requirements.txt (line 1)) (1.30.1)\r\n",
      "Requirement already satisfied: tiktoken in /Users/rouzbeh.farahmand/PycharmProjects/redis-recommender/.venv/financial-vss/lib/python3.11/site-packages (from -r /Users/rouzbeh.farahmand/PycharmProjects/commit/financial-vss/requirements.txt (line 2)) (0.7.0)\r\n",
      "Requirement already satisfied: langchain in /Users/rouzbeh.farahmand/PycharmProjects/redis-recommender/.venv/financial-vss/lib/python3.11/site-packages (from -r /Users/rouzbeh.farahmand/PycharmProjects/commit/financial-vss/requirements.txt (line 3)) (0.1.20)\r\n",
      "Requirement already satisfied: langchain-community in /Users/rouzbeh.farahmand/PycharmProjects/redis-recommender/.venv/financial-vss/lib/python3.11/site-packages (from -r /Users/rouzbeh.farahmand/PycharmProjects/commit/financial-vss/requirements.txt (line 4)) (0.0.38)\r\n",
      "Requirement already satisfied: unstructured[pdf] in /Users/rouzbeh.farahmand/PycharmProjects/redis-recommender/.venv/financial-vss/lib/python3.11/site-packages (from -r /Users/rouzbeh.farahmand/PycharmProjects/commit/financial-vss/requirements.txt (line 5)) (0.13.7)\r\n",
      "Requirement already satisfied: sentence-transformers in /Users/rouzbeh.farahmand/PycharmProjects/redis-recommender/.venv/financial-vss/lib/python3.11/site-packages (from -r /Users/rouzbeh.farahmand/PycharmProjects/commit/financial-vss/requirements.txt (line 6)) (2.7.0)\r\n",
      "Requirement already satisfied: pandas in /Users/rouzbeh.farahmand/PycharmProjects/redis-recommender/.venv/financial-vss/lib/python3.11/site-packages (from -r /Users/rouzbeh.farahmand/PycharmProjects/commit/financial-vss/requirements.txt (line 7)) (2.2.2)\r\n",
      "Requirement already satisfied: pdf2image in /Users/rouzbeh.farahmand/PycharmProjects/redis-recommender/.venv/financial-vss/lib/python3.11/site-packages (from -r /Users/rouzbeh.farahmand/PycharmProjects/commit/financial-vss/requirements.txt (line 8)) (1.17.0)\r\n",
      "Requirement already satisfied: redisvl>=0.1.0 in /Users/rouzbeh.farahmand/PycharmProjects/redis-recommender/.venv/financial-vss/lib/python3.11/site-packages (from -r /Users/rouzbeh.farahmand/PycharmProjects/commit/financial-vss/requirements.txt (line 9)) (0.2.0)\r\n",
      "Requirement already satisfied: anyio<5,>=3.5.0 in /Users/rouzbeh.farahmand/PycharmProjects/redis-recommender/.venv/financial-vss/lib/python3.11/site-packages (from openai->-r /Users/rouzbeh.farahmand/PycharmProjects/commit/financial-vss/requirements.txt (line 1)) (4.3.0)\r\n",
      "Requirement already satisfied: distro<2,>=1.7.0 in /Users/rouzbeh.farahmand/PycharmProjects/redis-recommender/.venv/financial-vss/lib/python3.11/site-packages (from openai->-r /Users/rouzbeh.farahmand/PycharmProjects/commit/financial-vss/requirements.txt (line 1)) (1.9.0)\r\n",
      "Requirement already satisfied: httpx<1,>=0.23.0 in /Users/rouzbeh.farahmand/PycharmProjects/redis-recommender/.venv/financial-vss/lib/python3.11/site-packages (from openai->-r /Users/rouzbeh.farahmand/PycharmProjects/commit/financial-vss/requirements.txt (line 1)) (0.27.0)\r\n",
      "Requirement already satisfied: pydantic<3,>=1.9.0 in /Users/rouzbeh.farahmand/PycharmProjects/redis-recommender/.venv/financial-vss/lib/python3.11/site-packages (from openai->-r /Users/rouzbeh.farahmand/PycharmProjects/commit/financial-vss/requirements.txt (line 1)) (2.7.1)\r\n",
      "Requirement already satisfied: sniffio in /Users/rouzbeh.farahmand/PycharmProjects/redis-recommender/.venv/financial-vss/lib/python3.11/site-packages (from openai->-r /Users/rouzbeh.farahmand/PycharmProjects/commit/financial-vss/requirements.txt (line 1)) (1.3.1)\r\n",
      "Requirement already satisfied: tqdm>4 in /Users/rouzbeh.farahmand/PycharmProjects/redis-recommender/.venv/financial-vss/lib/python3.11/site-packages (from openai->-r /Users/rouzbeh.farahmand/PycharmProjects/commit/financial-vss/requirements.txt (line 1)) (4.66.4)\r\n",
      "Requirement already satisfied: typing-extensions<5,>=4.7 in /Users/rouzbeh.farahmand/PycharmProjects/redis-recommender/.venv/financial-vss/lib/python3.11/site-packages (from openai->-r /Users/rouzbeh.farahmand/PycharmProjects/commit/financial-vss/requirements.txt (line 1)) (4.11.0)\r\n",
      "Requirement already satisfied: regex>=2022.1.18 in /Users/rouzbeh.farahmand/PycharmProjects/redis-recommender/.venv/financial-vss/lib/python3.11/site-packages (from tiktoken->-r /Users/rouzbeh.farahmand/PycharmProjects/commit/financial-vss/requirements.txt (line 2)) (2024.5.15)\r\n",
      "Requirement already satisfied: requests>=2.26.0 in /Users/rouzbeh.farahmand/PycharmProjects/redis-recommender/.venv/financial-vss/lib/python3.11/site-packages (from tiktoken->-r /Users/rouzbeh.farahmand/PycharmProjects/commit/financial-vss/requirements.txt (line 2)) (2.31.0)\r\n",
      "Requirement already satisfied: PyYAML>=5.3 in /Users/rouzbeh.farahmand/PycharmProjects/redis-recommender/.venv/financial-vss/lib/python3.11/site-packages (from langchain->-r /Users/rouzbeh.farahmand/PycharmProjects/commit/financial-vss/requirements.txt (line 3)) (6.0.1)\r\n",
      "Requirement already satisfied: SQLAlchemy<3,>=1.4 in /Users/rouzbeh.farahmand/PycharmProjects/redis-recommender/.venv/financial-vss/lib/python3.11/site-packages (from langchain->-r /Users/rouzbeh.farahmand/PycharmProjects/commit/financial-vss/requirements.txt (line 3)) (2.0.30)\r\n",
      "Requirement already satisfied: aiohttp<4.0.0,>=3.8.3 in /Users/rouzbeh.farahmand/PycharmProjects/redis-recommender/.venv/financial-vss/lib/python3.11/site-packages (from langchain->-r /Users/rouzbeh.farahmand/PycharmProjects/commit/financial-vss/requirements.txt (line 3)) (3.9.5)\r\n",
      "Requirement already satisfied: dataclasses-json<0.7,>=0.5.7 in /Users/rouzbeh.farahmand/PycharmProjects/redis-recommender/.venv/financial-vss/lib/python3.11/site-packages (from langchain->-r /Users/rouzbeh.farahmand/PycharmProjects/commit/financial-vss/requirements.txt (line 3)) (0.6.6)\r\n",
      "Requirement already satisfied: langchain-core<0.2.0,>=0.1.52 in /Users/rouzbeh.farahmand/PycharmProjects/redis-recommender/.venv/financial-vss/lib/python3.11/site-packages (from langchain->-r /Users/rouzbeh.farahmand/PycharmProjects/commit/financial-vss/requirements.txt (line 3)) (0.1.52)\r\n",
      "Requirement already satisfied: langchain-text-splitters<0.1,>=0.0.1 in /Users/rouzbeh.farahmand/PycharmProjects/redis-recommender/.venv/financial-vss/lib/python3.11/site-packages (from langchain->-r /Users/rouzbeh.farahmand/PycharmProjects/commit/financial-vss/requirements.txt (line 3)) (0.0.2)\r\n",
      "Requirement already satisfied: langsmith<0.2.0,>=0.1.17 in /Users/rouzbeh.farahmand/PycharmProjects/redis-recommender/.venv/financial-vss/lib/python3.11/site-packages (from langchain->-r /Users/rouzbeh.farahmand/PycharmProjects/commit/financial-vss/requirements.txt (line 3)) (0.1.59)\r\n",
      "Requirement already satisfied: numpy<2,>=1 in /Users/rouzbeh.farahmand/PycharmProjects/redis-recommender/.venv/financial-vss/lib/python3.11/site-packages (from langchain->-r /Users/rouzbeh.farahmand/PycharmProjects/commit/financial-vss/requirements.txt (line 3)) (1.26.4)\r\n",
      "Requirement already satisfied: tenacity<9.0.0,>=8.1.0 in /Users/rouzbeh.farahmand/PycharmProjects/redis-recommender/.venv/financial-vss/lib/python3.11/site-packages (from langchain->-r /Users/rouzbeh.farahmand/PycharmProjects/commit/financial-vss/requirements.txt (line 3)) (8.3.0)\r\n",
      "Requirement already satisfied: chardet in /Users/rouzbeh.farahmand/PycharmProjects/redis-recommender/.venv/financial-vss/lib/python3.11/site-packages (from unstructured[pdf]->-r /Users/rouzbeh.farahmand/PycharmProjects/commit/financial-vss/requirements.txt (line 5)) (5.2.0)\r\n",
      "Requirement already satisfied: filetype in /Users/rouzbeh.farahmand/PycharmProjects/redis-recommender/.venv/financial-vss/lib/python3.11/site-packages (from unstructured[pdf]->-r /Users/rouzbeh.farahmand/PycharmProjects/commit/financial-vss/requirements.txt (line 5)) (1.2.0)\r\n",
      "Requirement already satisfied: python-magic in /Users/rouzbeh.farahmand/PycharmProjects/redis-recommender/.venv/financial-vss/lib/python3.11/site-packages (from unstructured[pdf]->-r /Users/rouzbeh.farahmand/PycharmProjects/commit/financial-vss/requirements.txt (line 5)) (0.4.27)\r\n",
      "Requirement already satisfied: lxml in /Users/rouzbeh.farahmand/PycharmProjects/redis-recommender/.venv/financial-vss/lib/python3.11/site-packages (from unstructured[pdf]->-r /Users/rouzbeh.farahmand/PycharmProjects/commit/financial-vss/requirements.txt (line 5)) (5.2.2)\r\n",
      "Requirement already satisfied: nltk in /Users/rouzbeh.farahmand/PycharmProjects/redis-recommender/.venv/financial-vss/lib/python3.11/site-packages (from unstructured[pdf]->-r /Users/rouzbeh.farahmand/PycharmProjects/commit/financial-vss/requirements.txt (line 5)) (3.8.1)\r\n",
      "Requirement already satisfied: tabulate in /Users/rouzbeh.farahmand/PycharmProjects/redis-recommender/.venv/financial-vss/lib/python3.11/site-packages (from unstructured[pdf]->-r /Users/rouzbeh.farahmand/PycharmProjects/commit/financial-vss/requirements.txt (line 5)) (0.9.0)\r\n",
      "Requirement already satisfied: beautifulsoup4 in /Users/rouzbeh.farahmand/PycharmProjects/redis-recommender/.venv/financial-vss/lib/python3.11/site-packages (from unstructured[pdf]->-r /Users/rouzbeh.farahmand/PycharmProjects/commit/financial-vss/requirements.txt (line 5)) (4.12.3)\r\n",
      "Requirement already satisfied: emoji in /Users/rouzbeh.farahmand/PycharmProjects/redis-recommender/.venv/financial-vss/lib/python3.11/site-packages (from unstructured[pdf]->-r /Users/rouzbeh.farahmand/PycharmProjects/commit/financial-vss/requirements.txt (line 5)) (2.11.1)\r\n",
      "Requirement already satisfied: python-iso639 in /Users/rouzbeh.farahmand/PycharmProjects/redis-recommender/.venv/financial-vss/lib/python3.11/site-packages (from unstructured[pdf]->-r /Users/rouzbeh.farahmand/PycharmProjects/commit/financial-vss/requirements.txt (line 5)) (2024.4.27)\r\n",
      "Requirement already satisfied: langdetect in /Users/rouzbeh.farahmand/PycharmProjects/redis-recommender/.venv/financial-vss/lib/python3.11/site-packages (from unstructured[pdf]->-r /Users/rouzbeh.farahmand/PycharmProjects/commit/financial-vss/requirements.txt (line 5)) (1.0.9)\r\n",
      "Requirement already satisfied: rapidfuzz in /Users/rouzbeh.farahmand/PycharmProjects/redis-recommender/.venv/financial-vss/lib/python3.11/site-packages (from unstructured[pdf]->-r /Users/rouzbeh.farahmand/PycharmProjects/commit/financial-vss/requirements.txt (line 5)) (3.9.0)\r\n",
      "Requirement already satisfied: backoff in /Users/rouzbeh.farahmand/PycharmProjects/redis-recommender/.venv/financial-vss/lib/python3.11/site-packages (from unstructured[pdf]->-r /Users/rouzbeh.farahmand/PycharmProjects/commit/financial-vss/requirements.txt (line 5)) (2.2.1)\r\n",
      "Requirement already satisfied: unstructured-client in /Users/rouzbeh.farahmand/PycharmProjects/redis-recommender/.venv/financial-vss/lib/python3.11/site-packages (from unstructured[pdf]->-r /Users/rouzbeh.farahmand/PycharmProjects/commit/financial-vss/requirements.txt (line 5)) (0.22.0)\r\n",
      "Requirement already satisfied: wrapt in /Users/rouzbeh.farahmand/PycharmProjects/redis-recommender/.venv/financial-vss/lib/python3.11/site-packages (from unstructured[pdf]->-r /Users/rouzbeh.farahmand/PycharmProjects/commit/financial-vss/requirements.txt (line 5)) (1.16.0)\r\n",
      "Requirement already satisfied: onnx in /Users/rouzbeh.farahmand/PycharmProjects/redis-recommender/.venv/financial-vss/lib/python3.11/site-packages (from unstructured[pdf]->-r /Users/rouzbeh.farahmand/PycharmProjects/commit/financial-vss/requirements.txt (line 5)) (1.16.0)\r\n",
      "Requirement already satisfied: pdfminer.six in /Users/rouzbeh.farahmand/PycharmProjects/redis-recommender/.venv/financial-vss/lib/python3.11/site-packages (from unstructured[pdf]->-r /Users/rouzbeh.farahmand/PycharmProjects/commit/financial-vss/requirements.txt (line 5)) (20231228)\r\n",
      "Requirement already satisfied: pikepdf in /Users/rouzbeh.farahmand/PycharmProjects/redis-recommender/.venv/financial-vss/lib/python3.11/site-packages (from unstructured[pdf]->-r /Users/rouzbeh.farahmand/PycharmProjects/commit/financial-vss/requirements.txt (line 5)) (8.15.1)\r\n",
      "Requirement already satisfied: pillow-heif in /Users/rouzbeh.farahmand/PycharmProjects/redis-recommender/.venv/financial-vss/lib/python3.11/site-packages (from unstructured[pdf]->-r /Users/rouzbeh.farahmand/PycharmProjects/commit/financial-vss/requirements.txt (line 5)) (0.16.0)\r\n",
      "Requirement already satisfied: pypdf in /Users/rouzbeh.farahmand/PycharmProjects/redis-recommender/.venv/financial-vss/lib/python3.11/site-packages (from unstructured[pdf]->-r /Users/rouzbeh.farahmand/PycharmProjects/commit/financial-vss/requirements.txt (line 5)) (4.2.0)\r\n",
      "Requirement already satisfied: unstructured-inference==0.7.31 in /Users/rouzbeh.farahmand/PycharmProjects/redis-recommender/.venv/financial-vss/lib/python3.11/site-packages (from unstructured[pdf]->-r /Users/rouzbeh.farahmand/PycharmProjects/commit/financial-vss/requirements.txt (line 5)) (0.7.31)\r\n",
      "Requirement already satisfied: unstructured.pytesseract>=0.3.12 in /Users/rouzbeh.farahmand/PycharmProjects/redis-recommender/.venv/financial-vss/lib/python3.11/site-packages (from unstructured[pdf]->-r /Users/rouzbeh.farahmand/PycharmProjects/commit/financial-vss/requirements.txt (line 5)) (0.3.12)\r\n",
      "Requirement already satisfied: google-cloud-vision in /Users/rouzbeh.farahmand/PycharmProjects/redis-recommender/.venv/financial-vss/lib/python3.11/site-packages (from unstructured[pdf]->-r /Users/rouzbeh.farahmand/PycharmProjects/commit/financial-vss/requirements.txt (line 5)) (3.7.2)\r\n",
      "Requirement already satisfied: layoutparser[layoutmodels,tesseract] in /Users/rouzbeh.farahmand/PycharmProjects/redis-recommender/.venv/financial-vss/lib/python3.11/site-packages (from unstructured-inference==0.7.31->unstructured[pdf]->-r /Users/rouzbeh.farahmand/PycharmProjects/commit/financial-vss/requirements.txt (line 5)) (0.3.4)\r\n",
      "Requirement already satisfied: python-multipart in /Users/rouzbeh.farahmand/PycharmProjects/redis-recommender/.venv/financial-vss/lib/python3.11/site-packages (from unstructured-inference==0.7.31->unstructured[pdf]->-r /Users/rouzbeh.farahmand/PycharmProjects/commit/financial-vss/requirements.txt (line 5)) (0.0.9)\r\n",
      "Requirement already satisfied: huggingface-hub in /Users/rouzbeh.farahmand/PycharmProjects/redis-recommender/.venv/financial-vss/lib/python3.11/site-packages (from unstructured-inference==0.7.31->unstructured[pdf]->-r /Users/rouzbeh.farahmand/PycharmProjects/commit/financial-vss/requirements.txt (line 5)) (0.23.0)\r\n",
      "Requirement already satisfied: opencv-python!=4.7.0.68 in /Users/rouzbeh.farahmand/PycharmProjects/redis-recommender/.venv/financial-vss/lib/python3.11/site-packages (from unstructured-inference==0.7.31->unstructured[pdf]->-r /Users/rouzbeh.farahmand/PycharmProjects/commit/financial-vss/requirements.txt (line 5)) (4.9.0.80)\r\n",
      "Requirement already satisfied: onnxruntime>=1.17.0 in /Users/rouzbeh.farahmand/PycharmProjects/redis-recommender/.venv/financial-vss/lib/python3.11/site-packages (from unstructured-inference==0.7.31->unstructured[pdf]->-r /Users/rouzbeh.farahmand/PycharmProjects/commit/financial-vss/requirements.txt (line 5)) (1.17.3)\r\n",
      "Requirement already satisfied: transformers>=4.25.1 in /Users/rouzbeh.farahmand/PycharmProjects/redis-recommender/.venv/financial-vss/lib/python3.11/site-packages (from unstructured-inference==0.7.31->unstructured[pdf]->-r /Users/rouzbeh.farahmand/PycharmProjects/commit/financial-vss/requirements.txt (line 5)) (4.41.0)\r\n",
      "Requirement already satisfied: torch>=1.11.0 in /Users/rouzbeh.farahmand/PycharmProjects/redis-recommender/.venv/financial-vss/lib/python3.11/site-packages (from sentence-transformers->-r /Users/rouzbeh.farahmand/PycharmProjects/commit/financial-vss/requirements.txt (line 6)) (2.3.0)\r\n",
      "Requirement already satisfied: scikit-learn in /Users/rouzbeh.farahmand/PycharmProjects/redis-recommender/.venv/financial-vss/lib/python3.11/site-packages (from sentence-transformers->-r /Users/rouzbeh.farahmand/PycharmProjects/commit/financial-vss/requirements.txt (line 6)) (1.4.2)\r\n",
      "Requirement already satisfied: scipy in /Users/rouzbeh.farahmand/PycharmProjects/redis-recommender/.venv/financial-vss/lib/python3.11/site-packages (from sentence-transformers->-r /Users/rouzbeh.farahmand/PycharmProjects/commit/financial-vss/requirements.txt (line 6)) (1.13.0)\r\n",
      "Requirement already satisfied: Pillow in /Users/rouzbeh.farahmand/PycharmProjects/redis-recommender/.venv/financial-vss/lib/python3.11/site-packages (from sentence-transformers->-r /Users/rouzbeh.farahmand/PycharmProjects/commit/financial-vss/requirements.txt (line 6)) (10.3.0)\r\n",
      "Requirement already satisfied: python-dateutil>=2.8.2 in /Users/rouzbeh.farahmand/PycharmProjects/redis-recommender/.venv/financial-vss/lib/python3.11/site-packages (from pandas->-r /Users/rouzbeh.farahmand/PycharmProjects/commit/financial-vss/requirements.txt (line 7)) (2.9.0.post0)\r\n",
      "Requirement already satisfied: pytz>=2020.1 in /Users/rouzbeh.farahmand/PycharmProjects/redis-recommender/.venv/financial-vss/lib/python3.11/site-packages (from pandas->-r /Users/rouzbeh.farahmand/PycharmProjects/commit/financial-vss/requirements.txt (line 7)) (2024.1)\r\n",
      "Requirement already satisfied: tzdata>=2022.7 in /Users/rouzbeh.farahmand/PycharmProjects/redis-recommender/.venv/financial-vss/lib/python3.11/site-packages (from pandas->-r /Users/rouzbeh.farahmand/PycharmProjects/commit/financial-vss/requirements.txt (line 7)) (2024.1)\r\n",
      "Requirement already satisfied: coloredlogs in /Users/rouzbeh.farahmand/PycharmProjects/redis-recommender/.venv/financial-vss/lib/python3.11/site-packages (from redisvl>=0.1.0->-r /Users/rouzbeh.farahmand/PycharmProjects/commit/financial-vss/requirements.txt (line 9)) (15.0.1)\r\n",
      "Requirement already satisfied: redis>=5.0.0 in /Users/rouzbeh.farahmand/PycharmProjects/redis-recommender/.venv/financial-vss/lib/python3.11/site-packages (from redisvl>=0.1.0->-r /Users/rouzbeh.farahmand/PycharmProjects/commit/financial-vss/requirements.txt (line 9)) (5.0.4)\r\n",
      "Requirement already satisfied: aiosignal>=1.1.2 in /Users/rouzbeh.farahmand/PycharmProjects/redis-recommender/.venv/financial-vss/lib/python3.11/site-packages (from aiohttp<4.0.0,>=3.8.3->langchain->-r /Users/rouzbeh.farahmand/PycharmProjects/commit/financial-vss/requirements.txt (line 3)) (1.3.1)\r\n",
      "Requirement already satisfied: attrs>=17.3.0 in /Users/rouzbeh.farahmand/PycharmProjects/redis-recommender/.venv/financial-vss/lib/python3.11/site-packages (from aiohttp<4.0.0,>=3.8.3->langchain->-r /Users/rouzbeh.farahmand/PycharmProjects/commit/financial-vss/requirements.txt (line 3)) (23.2.0)\r\n",
      "Requirement already satisfied: frozenlist>=1.1.1 in /Users/rouzbeh.farahmand/PycharmProjects/redis-recommender/.venv/financial-vss/lib/python3.11/site-packages (from aiohttp<4.0.0,>=3.8.3->langchain->-r /Users/rouzbeh.farahmand/PycharmProjects/commit/financial-vss/requirements.txt (line 3)) (1.4.1)\r\n",
      "Requirement already satisfied: multidict<7.0,>=4.5 in /Users/rouzbeh.farahmand/PycharmProjects/redis-recommender/.venv/financial-vss/lib/python3.11/site-packages (from aiohttp<4.0.0,>=3.8.3->langchain->-r /Users/rouzbeh.farahmand/PycharmProjects/commit/financial-vss/requirements.txt (line 3)) (6.0.5)\r\n",
      "Requirement already satisfied: yarl<2.0,>=1.0 in /Users/rouzbeh.farahmand/PycharmProjects/redis-recommender/.venv/financial-vss/lib/python3.11/site-packages (from aiohttp<4.0.0,>=3.8.3->langchain->-r /Users/rouzbeh.farahmand/PycharmProjects/commit/financial-vss/requirements.txt (line 3)) (1.9.4)\r\n",
      "Requirement already satisfied: idna>=2.8 in /Users/rouzbeh.farahmand/PycharmProjects/redis-recommender/.venv/financial-vss/lib/python3.11/site-packages (from anyio<5,>=3.5.0->openai->-r /Users/rouzbeh.farahmand/PycharmProjects/commit/financial-vss/requirements.txt (line 1)) (3.7)\r\n",
      "Requirement already satisfied: marshmallow<4.0.0,>=3.18.0 in /Users/rouzbeh.farahmand/PycharmProjects/redis-recommender/.venv/financial-vss/lib/python3.11/site-packages (from dataclasses-json<0.7,>=0.5.7->langchain->-r /Users/rouzbeh.farahmand/PycharmProjects/commit/financial-vss/requirements.txt (line 3)) (3.21.2)\r\n",
      "Requirement already satisfied: typing-inspect<1,>=0.4.0 in /Users/rouzbeh.farahmand/PycharmProjects/redis-recommender/.venv/financial-vss/lib/python3.11/site-packages (from dataclasses-json<0.7,>=0.5.7->langchain->-r /Users/rouzbeh.farahmand/PycharmProjects/commit/financial-vss/requirements.txt (line 3)) (0.9.0)\r\n",
      "Requirement already satisfied: certifi in /Users/rouzbeh.farahmand/PycharmProjects/redis-recommender/.venv/financial-vss/lib/python3.11/site-packages (from httpx<1,>=0.23.0->openai->-r /Users/rouzbeh.farahmand/PycharmProjects/commit/financial-vss/requirements.txt (line 1)) (2024.2.2)\r\n",
      "Requirement already satisfied: httpcore==1.* in /Users/rouzbeh.farahmand/PycharmProjects/redis-recommender/.venv/financial-vss/lib/python3.11/site-packages (from httpx<1,>=0.23.0->openai->-r /Users/rouzbeh.farahmand/PycharmProjects/commit/financial-vss/requirements.txt (line 1)) (1.0.5)\r\n",
      "Requirement already satisfied: h11<0.15,>=0.13 in /Users/rouzbeh.farahmand/PycharmProjects/redis-recommender/.venv/financial-vss/lib/python3.11/site-packages (from httpcore==1.*->httpx<1,>=0.23.0->openai->-r /Users/rouzbeh.farahmand/PycharmProjects/commit/financial-vss/requirements.txt (line 1)) (0.14.0)\r\n",
      "Requirement already satisfied: filelock in /Users/rouzbeh.farahmand/PycharmProjects/redis-recommender/.venv/financial-vss/lib/python3.11/site-packages (from huggingface-hub->unstructured-inference==0.7.31->unstructured[pdf]->-r /Users/rouzbeh.farahmand/PycharmProjects/commit/financial-vss/requirements.txt (line 5)) (3.14.0)\r\n",
      "Requirement already satisfied: fsspec>=2023.5.0 in /Users/rouzbeh.farahmand/PycharmProjects/redis-recommender/.venv/financial-vss/lib/python3.11/site-packages (from huggingface-hub->unstructured-inference==0.7.31->unstructured[pdf]->-r /Users/rouzbeh.farahmand/PycharmProjects/commit/financial-vss/requirements.txt (line 5)) (2024.5.0)\r\n",
      "Requirement already satisfied: packaging>=20.9 in /Users/rouzbeh.farahmand/PycharmProjects/redis-recommender/.venv/financial-vss/lib/python3.11/site-packages (from huggingface-hub->unstructured-inference==0.7.31->unstructured[pdf]->-r /Users/rouzbeh.farahmand/PycharmProjects/commit/financial-vss/requirements.txt (line 5)) (23.2)\r\n",
      "Requirement already satisfied: jsonpatch<2.0,>=1.33 in /Users/rouzbeh.farahmand/PycharmProjects/redis-recommender/.venv/financial-vss/lib/python3.11/site-packages (from langchain-core<0.2.0,>=0.1.52->langchain->-r /Users/rouzbeh.farahmand/PycharmProjects/commit/financial-vss/requirements.txt (line 3)) (1.33)\r\n",
      "Requirement already satisfied: orjson<4.0.0,>=3.9.14 in /Users/rouzbeh.farahmand/PycharmProjects/redis-recommender/.venv/financial-vss/lib/python3.11/site-packages (from langsmith<0.2.0,>=0.1.17->langchain->-r /Users/rouzbeh.farahmand/PycharmProjects/commit/financial-vss/requirements.txt (line 3)) (3.10.3)\r\n",
      "Requirement already satisfied: annotated-types>=0.4.0 in /Users/rouzbeh.farahmand/PycharmProjects/redis-recommender/.venv/financial-vss/lib/python3.11/site-packages (from pydantic<3,>=1.9.0->openai->-r /Users/rouzbeh.farahmand/PycharmProjects/commit/financial-vss/requirements.txt (line 1)) (0.6.0)\r\n",
      "Requirement already satisfied: pydantic-core==2.18.2 in /Users/rouzbeh.farahmand/PycharmProjects/redis-recommender/.venv/financial-vss/lib/python3.11/site-packages (from pydantic<3,>=1.9.0->openai->-r /Users/rouzbeh.farahmand/PycharmProjects/commit/financial-vss/requirements.txt (line 1)) (2.18.2)\r\n",
      "Requirement already satisfied: six>=1.5 in /Users/rouzbeh.farahmand/PycharmProjects/redis-recommender/.venv/financial-vss/lib/python3.11/site-packages (from python-dateutil>=2.8.2->pandas->-r /Users/rouzbeh.farahmand/PycharmProjects/commit/financial-vss/requirements.txt (line 7)) (1.16.0)\r\n",
      "Requirement already satisfied: charset-normalizer<4,>=2 in /Users/rouzbeh.farahmand/PycharmProjects/redis-recommender/.venv/financial-vss/lib/python3.11/site-packages (from requests>=2.26.0->tiktoken->-r /Users/rouzbeh.farahmand/PycharmProjects/commit/financial-vss/requirements.txt (line 2)) (3.3.2)\r\n",
      "Requirement already satisfied: urllib3<3,>=1.21.1 in /Users/rouzbeh.farahmand/PycharmProjects/redis-recommender/.venv/financial-vss/lib/python3.11/site-packages (from requests>=2.26.0->tiktoken->-r /Users/rouzbeh.farahmand/PycharmProjects/commit/financial-vss/requirements.txt (line 2)) (2.2.1)\r\n",
      "Requirement already satisfied: sympy in /Users/rouzbeh.farahmand/PycharmProjects/redis-recommender/.venv/financial-vss/lib/python3.11/site-packages (from torch>=1.11.0->sentence-transformers->-r /Users/rouzbeh.farahmand/PycharmProjects/commit/financial-vss/requirements.txt (line 6)) (1.12)\r\n",
      "Requirement already satisfied: networkx in /Users/rouzbeh.farahmand/PycharmProjects/redis-recommender/.venv/financial-vss/lib/python3.11/site-packages (from torch>=1.11.0->sentence-transformers->-r /Users/rouzbeh.farahmand/PycharmProjects/commit/financial-vss/requirements.txt (line 6)) (3.3)\r\n",
      "Requirement already satisfied: jinja2 in /Users/rouzbeh.farahmand/PycharmProjects/redis-recommender/.venv/financial-vss/lib/python3.11/site-packages (from torch>=1.11.0->sentence-transformers->-r /Users/rouzbeh.farahmand/PycharmProjects/commit/financial-vss/requirements.txt (line 6)) (3.1.4)\r\n",
      "Requirement already satisfied: tokenizers<0.20,>=0.19 in /Users/rouzbeh.farahmand/PycharmProjects/redis-recommender/.venv/financial-vss/lib/python3.11/site-packages (from transformers>=4.25.1->unstructured-inference==0.7.31->unstructured[pdf]->-r /Users/rouzbeh.farahmand/PycharmProjects/commit/financial-vss/requirements.txt (line 5)) (0.19.1)\r\n",
      "Requirement already satisfied: safetensors>=0.4.1 in /Users/rouzbeh.farahmand/PycharmProjects/redis-recommender/.venv/financial-vss/lib/python3.11/site-packages (from transformers>=4.25.1->unstructured-inference==0.7.31->unstructured[pdf]->-r /Users/rouzbeh.farahmand/PycharmProjects/commit/financial-vss/requirements.txt (line 5)) (0.4.3)\r\n",
      "Requirement already satisfied: soupsieve>1.2 in /Users/rouzbeh.farahmand/PycharmProjects/redis-recommender/.venv/financial-vss/lib/python3.11/site-packages (from beautifulsoup4->unstructured[pdf]->-r /Users/rouzbeh.farahmand/PycharmProjects/commit/financial-vss/requirements.txt (line 5)) (2.5)\r\n",
      "Requirement already satisfied: humanfriendly>=9.1 in /Users/rouzbeh.farahmand/PycharmProjects/redis-recommender/.venv/financial-vss/lib/python3.11/site-packages (from coloredlogs->redisvl>=0.1.0->-r /Users/rouzbeh.farahmand/PycharmProjects/commit/financial-vss/requirements.txt (line 9)) (10.0)\r\n",
      "Requirement already satisfied: google-api-core[grpc]!=2.0.*,!=2.1.*,!=2.10.*,!=2.2.*,!=2.3.*,!=2.4.*,!=2.5.*,!=2.6.*,!=2.7.*,!=2.8.*,!=2.9.*,<3.0.0dev,>=1.34.1 in /Users/rouzbeh.farahmand/PycharmProjects/redis-recommender/.venv/financial-vss/lib/python3.11/site-packages (from google-cloud-vision->unstructured[pdf]->-r /Users/rouzbeh.farahmand/PycharmProjects/commit/financial-vss/requirements.txt (line 5)) (2.19.0)\r\n",
      "Requirement already satisfied: google-auth!=2.24.0,!=2.25.0,<3.0.0dev,>=2.14.1 in /Users/rouzbeh.farahmand/PycharmProjects/redis-recommender/.venv/financial-vss/lib/python3.11/site-packages (from google-cloud-vision->unstructured[pdf]->-r /Users/rouzbeh.farahmand/PycharmProjects/commit/financial-vss/requirements.txt (line 5)) (2.29.0)\r\n",
      "Requirement already satisfied: proto-plus<2.0.0dev,>=1.22.3 in /Users/rouzbeh.farahmand/PycharmProjects/redis-recommender/.venv/financial-vss/lib/python3.11/site-packages (from google-cloud-vision->unstructured[pdf]->-r /Users/rouzbeh.farahmand/PycharmProjects/commit/financial-vss/requirements.txt (line 5)) (1.23.0)\r\n",
      "Requirement already satisfied: protobuf!=3.20.0,!=3.20.1,!=4.21.0,!=4.21.1,!=4.21.2,!=4.21.3,!=4.21.4,!=4.21.5,<5.0.0dev,>=3.19.5 in /Users/rouzbeh.farahmand/PycharmProjects/redis-recommender/.venv/financial-vss/lib/python3.11/site-packages (from google-cloud-vision->unstructured[pdf]->-r /Users/rouzbeh.farahmand/PycharmProjects/commit/financial-vss/requirements.txt (line 5)) (4.25.3)\r\n",
      "Requirement already satisfied: click in /Users/rouzbeh.farahmand/PycharmProjects/redis-recommender/.venv/financial-vss/lib/python3.11/site-packages (from nltk->unstructured[pdf]->-r /Users/rouzbeh.farahmand/PycharmProjects/commit/financial-vss/requirements.txt (line 5)) (8.1.7)\r\n",
      "Requirement already satisfied: joblib in /Users/rouzbeh.farahmand/PycharmProjects/redis-recommender/.venv/financial-vss/lib/python3.11/site-packages (from nltk->unstructured[pdf]->-r /Users/rouzbeh.farahmand/PycharmProjects/commit/financial-vss/requirements.txt (line 5)) (1.4.2)\r\n",
      "Requirement already satisfied: cryptography>=36.0.0 in /Users/rouzbeh.farahmand/PycharmProjects/redis-recommender/.venv/financial-vss/lib/python3.11/site-packages (from pdfminer.six->unstructured[pdf]->-r /Users/rouzbeh.farahmand/PycharmProjects/commit/financial-vss/requirements.txt (line 5)) (42.0.7)\r\n",
      "Requirement already satisfied: Deprecated in /Users/rouzbeh.farahmand/PycharmProjects/redis-recommender/.venv/financial-vss/lib/python3.11/site-packages (from pikepdf->unstructured[pdf]->-r /Users/rouzbeh.farahmand/PycharmProjects/commit/financial-vss/requirements.txt (line 5)) (1.2.14)\r\n",
      "Requirement already satisfied: threadpoolctl>=2.0.0 in /Users/rouzbeh.farahmand/PycharmProjects/redis-recommender/.venv/financial-vss/lib/python3.11/site-packages (from scikit-learn->sentence-transformers->-r /Users/rouzbeh.farahmand/PycharmProjects/commit/financial-vss/requirements.txt (line 6)) (3.5.0)\r\n",
      "Requirement already satisfied: deepdiff>=6.0 in /Users/rouzbeh.farahmand/PycharmProjects/redis-recommender/.venv/financial-vss/lib/python3.11/site-packages (from unstructured-client->unstructured[pdf]->-r /Users/rouzbeh.farahmand/PycharmProjects/commit/financial-vss/requirements.txt (line 5)) (7.0.1)\r\n",
      "Requirement already satisfied: jsonpath-python>=1.0.6 in /Users/rouzbeh.farahmand/PycharmProjects/redis-recommender/.venv/financial-vss/lib/python3.11/site-packages (from unstructured-client->unstructured[pdf]->-r /Users/rouzbeh.farahmand/PycharmProjects/commit/financial-vss/requirements.txt (line 5)) (1.0.6)\r\n",
      "Requirement already satisfied: mypy-extensions>=1.0.0 in /Users/rouzbeh.farahmand/PycharmProjects/redis-recommender/.venv/financial-vss/lib/python3.11/site-packages (from unstructured-client->unstructured[pdf]->-r /Users/rouzbeh.farahmand/PycharmProjects/commit/financial-vss/requirements.txt (line 5)) (1.0.0)\r\n",
      "Requirement already satisfied: cffi>=1.12 in /Users/rouzbeh.farahmand/PycharmProjects/redis-recommender/.venv/financial-vss/lib/python3.11/site-packages (from cryptography>=36.0.0->pdfminer.six->unstructured[pdf]->-r /Users/rouzbeh.farahmand/PycharmProjects/commit/financial-vss/requirements.txt (line 5)) (1.16.0)\r\n",
      "Requirement already satisfied: ordered-set<4.2.0,>=4.1.0 in /Users/rouzbeh.farahmand/PycharmProjects/redis-recommender/.venv/financial-vss/lib/python3.11/site-packages (from deepdiff>=6.0->unstructured-client->unstructured[pdf]->-r /Users/rouzbeh.farahmand/PycharmProjects/commit/financial-vss/requirements.txt (line 5)) (4.1.0)\r\n",
      "Requirement already satisfied: googleapis-common-protos<2.0.dev0,>=1.56.2 in /Users/rouzbeh.farahmand/PycharmProjects/redis-recommender/.venv/financial-vss/lib/python3.11/site-packages (from google-api-core[grpc]!=2.0.*,!=2.1.*,!=2.10.*,!=2.2.*,!=2.3.*,!=2.4.*,!=2.5.*,!=2.6.*,!=2.7.*,!=2.8.*,!=2.9.*,<3.0.0dev,>=1.34.1->google-cloud-vision->unstructured[pdf]->-r /Users/rouzbeh.farahmand/PycharmProjects/commit/financial-vss/requirements.txt (line 5)) (1.63.0)\r\n",
      "Requirement already satisfied: grpcio<2.0dev,>=1.33.2 in /Users/rouzbeh.farahmand/PycharmProjects/redis-recommender/.venv/financial-vss/lib/python3.11/site-packages (from google-api-core[grpc]!=2.0.*,!=2.1.*,!=2.10.*,!=2.2.*,!=2.3.*,!=2.4.*,!=2.5.*,!=2.6.*,!=2.7.*,!=2.8.*,!=2.9.*,<3.0.0dev,>=1.34.1->google-cloud-vision->unstructured[pdf]->-r /Users/rouzbeh.farahmand/PycharmProjects/commit/financial-vss/requirements.txt (line 5)) (1.63.0)\r\n",
      "Requirement already satisfied: grpcio-status<2.0.dev0,>=1.33.2 in /Users/rouzbeh.farahmand/PycharmProjects/redis-recommender/.venv/financial-vss/lib/python3.11/site-packages (from google-api-core[grpc]!=2.0.*,!=2.1.*,!=2.10.*,!=2.2.*,!=2.3.*,!=2.4.*,!=2.5.*,!=2.6.*,!=2.7.*,!=2.8.*,!=2.9.*,<3.0.0dev,>=1.34.1->google-cloud-vision->unstructured[pdf]->-r /Users/rouzbeh.farahmand/PycharmProjects/commit/financial-vss/requirements.txt (line 5)) (1.62.2)\r\n",
      "Requirement already satisfied: cachetools<6.0,>=2.0.0 in /Users/rouzbeh.farahmand/PycharmProjects/redis-recommender/.venv/financial-vss/lib/python3.11/site-packages (from google-auth!=2.24.0,!=2.25.0,<3.0.0dev,>=2.14.1->google-cloud-vision->unstructured[pdf]->-r /Users/rouzbeh.farahmand/PycharmProjects/commit/financial-vss/requirements.txt (line 5)) (5.3.3)\r\n",
      "Requirement already satisfied: pyasn1-modules>=0.2.1 in /Users/rouzbeh.farahmand/PycharmProjects/redis-recommender/.venv/financial-vss/lib/python3.11/site-packages (from google-auth!=2.24.0,!=2.25.0,<3.0.0dev,>=2.14.1->google-cloud-vision->unstructured[pdf]->-r /Users/rouzbeh.farahmand/PycharmProjects/commit/financial-vss/requirements.txt (line 5)) (0.4.0)\r\n",
      "Requirement already satisfied: rsa<5,>=3.1.4 in /Users/rouzbeh.farahmand/PycharmProjects/redis-recommender/.venv/financial-vss/lib/python3.11/site-packages (from google-auth!=2.24.0,!=2.25.0,<3.0.0dev,>=2.14.1->google-cloud-vision->unstructured[pdf]->-r /Users/rouzbeh.farahmand/PycharmProjects/commit/financial-vss/requirements.txt (line 5)) (4.9)\r\n",
      "Requirement already satisfied: jsonpointer>=1.9 in /Users/rouzbeh.farahmand/PycharmProjects/redis-recommender/.venv/financial-vss/lib/python3.11/site-packages (from jsonpatch<2.0,>=1.33->langchain-core<0.2.0,>=0.1.52->langchain->-r /Users/rouzbeh.farahmand/PycharmProjects/commit/financial-vss/requirements.txt (line 3)) (2.4)\r\n",
      "Requirement already satisfied: flatbuffers in /Users/rouzbeh.farahmand/PycharmProjects/redis-recommender/.venv/financial-vss/lib/python3.11/site-packages (from onnxruntime>=1.17.0->unstructured-inference==0.7.31->unstructured[pdf]->-r /Users/rouzbeh.farahmand/PycharmProjects/commit/financial-vss/requirements.txt (line 5)) (24.3.25)\r\n",
      "Requirement already satisfied: MarkupSafe>=2.0 in /Users/rouzbeh.farahmand/PycharmProjects/redis-recommender/.venv/financial-vss/lib/python3.11/site-packages (from jinja2->torch>=1.11.0->sentence-transformers->-r /Users/rouzbeh.farahmand/PycharmProjects/commit/financial-vss/requirements.txt (line 6)) (2.1.5)\r\n",
      "Requirement already satisfied: iopath in /Users/rouzbeh.farahmand/PycharmProjects/redis-recommender/.venv/financial-vss/lib/python3.11/site-packages (from layoutparser[layoutmodels,tesseract]->unstructured-inference==0.7.31->unstructured[pdf]->-r /Users/rouzbeh.farahmand/PycharmProjects/commit/financial-vss/requirements.txt (line 5)) (0.1.10)\r\n",
      "Requirement already satisfied: pdfplumber in /Users/rouzbeh.farahmand/PycharmProjects/redis-recommender/.venv/financial-vss/lib/python3.11/site-packages (from layoutparser[layoutmodels,tesseract]->unstructured-inference==0.7.31->unstructured[pdf]->-r /Users/rouzbeh.farahmand/PycharmProjects/commit/financial-vss/requirements.txt (line 5)) (0.11.0)\r\n",
      "Requirement already satisfied: torchvision in /Users/rouzbeh.farahmand/PycharmProjects/redis-recommender/.venv/financial-vss/lib/python3.11/site-packages (from layoutparser[layoutmodels,tesseract]->unstructured-inference==0.7.31->unstructured[pdf]->-r /Users/rouzbeh.farahmand/PycharmProjects/commit/financial-vss/requirements.txt (line 5)) (0.18.0)\r\n",
      "Requirement already satisfied: effdet in /Users/rouzbeh.farahmand/PycharmProjects/redis-recommender/.venv/financial-vss/lib/python3.11/site-packages (from layoutparser[layoutmodels,tesseract]->unstructured-inference==0.7.31->unstructured[pdf]->-r /Users/rouzbeh.farahmand/PycharmProjects/commit/financial-vss/requirements.txt (line 5)) (0.4.1)\r\n",
      "Requirement already satisfied: pytesseract in /Users/rouzbeh.farahmand/PycharmProjects/redis-recommender/.venv/financial-vss/lib/python3.11/site-packages (from layoutparser[layoutmodels,tesseract]->unstructured-inference==0.7.31->unstructured[pdf]->-r /Users/rouzbeh.farahmand/PycharmProjects/commit/financial-vss/requirements.txt (line 5)) (0.3.10)\r\n",
      "Requirement already satisfied: mpmath>=0.19 in /Users/rouzbeh.farahmand/PycharmProjects/redis-recommender/.venv/financial-vss/lib/python3.11/site-packages (from sympy->torch>=1.11.0->sentence-transformers->-r /Users/rouzbeh.farahmand/PycharmProjects/commit/financial-vss/requirements.txt (line 6)) (1.3.0)\r\n",
      "Requirement already satisfied: pycparser in /Users/rouzbeh.farahmand/PycharmProjects/redis-recommender/.venv/financial-vss/lib/python3.11/site-packages (from cffi>=1.12->cryptography>=36.0.0->pdfminer.six->unstructured[pdf]->-r /Users/rouzbeh.farahmand/PycharmProjects/commit/financial-vss/requirements.txt (line 5)) (2.22)\r\n",
      "Requirement already satisfied: pyasn1<0.7.0,>=0.4.6 in /Users/rouzbeh.farahmand/PycharmProjects/redis-recommender/.venv/financial-vss/lib/python3.11/site-packages (from pyasn1-modules>=0.2.1->google-auth!=2.24.0,!=2.25.0,<3.0.0dev,>=2.14.1->google-cloud-vision->unstructured[pdf]->-r /Users/rouzbeh.farahmand/PycharmProjects/commit/financial-vss/requirements.txt (line 5)) (0.6.0)\r\n",
      "Requirement already satisfied: timm>=0.9.2 in /Users/rouzbeh.farahmand/PycharmProjects/redis-recommender/.venv/financial-vss/lib/python3.11/site-packages (from effdet->layoutparser[layoutmodels,tesseract]->unstructured-inference==0.7.31->unstructured[pdf]->-r /Users/rouzbeh.farahmand/PycharmProjects/commit/financial-vss/requirements.txt (line 5)) (1.0.3)\r\n",
      "Requirement already satisfied: pycocotools>=2.0.2 in /Users/rouzbeh.farahmand/PycharmProjects/redis-recommender/.venv/financial-vss/lib/python3.11/site-packages (from effdet->layoutparser[layoutmodels,tesseract]->unstructured-inference==0.7.31->unstructured[pdf]->-r /Users/rouzbeh.farahmand/PycharmProjects/commit/financial-vss/requirements.txt (line 5)) (2.0.7)\r\n",
      "Requirement already satisfied: omegaconf>=2.0 in /Users/rouzbeh.farahmand/PycharmProjects/redis-recommender/.venv/financial-vss/lib/python3.11/site-packages (from effdet->layoutparser[layoutmodels,tesseract]->unstructured-inference==0.7.31->unstructured[pdf]->-r /Users/rouzbeh.farahmand/PycharmProjects/commit/financial-vss/requirements.txt (line 5)) (2.3.0)\r\n",
      "Requirement already satisfied: portalocker in /Users/rouzbeh.farahmand/PycharmProjects/redis-recommender/.venv/financial-vss/lib/python3.11/site-packages (from iopath->layoutparser[layoutmodels,tesseract]->unstructured-inference==0.7.31->unstructured[pdf]->-r /Users/rouzbeh.farahmand/PycharmProjects/commit/financial-vss/requirements.txt (line 5)) (2.8.2)\r\n",
      "Requirement already satisfied: pypdfium2>=4.18.0 in /Users/rouzbeh.farahmand/PycharmProjects/redis-recommender/.venv/financial-vss/lib/python3.11/site-packages (from pdfplumber->layoutparser[layoutmodels,tesseract]->unstructured-inference==0.7.31->unstructured[pdf]->-r /Users/rouzbeh.farahmand/PycharmProjects/commit/financial-vss/requirements.txt (line 5)) (4.30.0)\r\n",
      "Requirement already satisfied: antlr4-python3-runtime==4.9.* in /Users/rouzbeh.farahmand/PycharmProjects/redis-recommender/.venv/financial-vss/lib/python3.11/site-packages (from omegaconf>=2.0->effdet->layoutparser[layoutmodels,tesseract]->unstructured-inference==0.7.31->unstructured[pdf]->-r /Users/rouzbeh.farahmand/PycharmProjects/commit/financial-vss/requirements.txt (line 5)) (4.9.3)\r\n",
      "Requirement already satisfied: matplotlib>=2.1.0 in /Users/rouzbeh.farahmand/PycharmProjects/redis-recommender/.venv/financial-vss/lib/python3.11/site-packages (from pycocotools>=2.0.2->effdet->layoutparser[layoutmodels,tesseract]->unstructured-inference==0.7.31->unstructured[pdf]->-r /Users/rouzbeh.farahmand/PycharmProjects/commit/financial-vss/requirements.txt (line 5)) (3.9.0)\r\n",
      "Requirement already satisfied: contourpy>=1.0.1 in /Users/rouzbeh.farahmand/PycharmProjects/redis-recommender/.venv/financial-vss/lib/python3.11/site-packages (from matplotlib>=2.1.0->pycocotools>=2.0.2->effdet->layoutparser[layoutmodels,tesseract]->unstructured-inference==0.7.31->unstructured[pdf]->-r /Users/rouzbeh.farahmand/PycharmProjects/commit/financial-vss/requirements.txt (line 5)) (1.2.1)\r\n",
      "Requirement already satisfied: cycler>=0.10 in /Users/rouzbeh.farahmand/PycharmProjects/redis-recommender/.venv/financial-vss/lib/python3.11/site-packages (from matplotlib>=2.1.0->pycocotools>=2.0.2->effdet->layoutparser[layoutmodels,tesseract]->unstructured-inference==0.7.31->unstructured[pdf]->-r /Users/rouzbeh.farahmand/PycharmProjects/commit/financial-vss/requirements.txt (line 5)) (0.12.1)\r\n",
      "Requirement already satisfied: fonttools>=4.22.0 in /Users/rouzbeh.farahmand/PycharmProjects/redis-recommender/.venv/financial-vss/lib/python3.11/site-packages (from matplotlib>=2.1.0->pycocotools>=2.0.2->effdet->layoutparser[layoutmodels,tesseract]->unstructured-inference==0.7.31->unstructured[pdf]->-r /Users/rouzbeh.farahmand/PycharmProjects/commit/financial-vss/requirements.txt (line 5)) (4.51.0)\r\n",
      "Requirement already satisfied: kiwisolver>=1.3.1 in /Users/rouzbeh.farahmand/PycharmProjects/redis-recommender/.venv/financial-vss/lib/python3.11/site-packages (from matplotlib>=2.1.0->pycocotools>=2.0.2->effdet->layoutparser[layoutmodels,tesseract]->unstructured-inference==0.7.31->unstructured[pdf]->-r /Users/rouzbeh.farahmand/PycharmProjects/commit/financial-vss/requirements.txt (line 5)) (1.4.5)\r\n",
      "Requirement already satisfied: pyparsing>=2.3.1 in /Users/rouzbeh.farahmand/PycharmProjects/redis-recommender/.venv/financial-vss/lib/python3.11/site-packages (from matplotlib>=2.1.0->pycocotools>=2.0.2->effdet->layoutparser[layoutmodels,tesseract]->unstructured-inference==0.7.31->unstructured[pdf]->-r /Users/rouzbeh.farahmand/PycharmProjects/commit/financial-vss/requirements.txt (line 5)) (3.1.2)\r\n",
      "\r\n",
      "\u001B[1m[\u001B[0m\u001B[34;49mnotice\u001B[0m\u001B[1;39;49m]\u001B[0m\u001B[39;49m A new release of pip is available: \u001B[0m\u001B[31;49m23.2.1\u001B[0m\u001B[39;49m -> \u001B[0m\u001B[32;49m24.0\u001B[0m\r\n",
      "\u001B[1m[\u001B[0m\u001B[34;49mnotice\u001B[0m\u001B[1;39;49m]\u001B[0m\u001B[39;49m To update, run: \u001B[0m\u001B[32;49mpip install --upgrade pip\u001B[0m\r\n"
     ]
    }
   ],
   "execution_count": 49
  },
  {
   "cell_type": "code",
   "metadata": {
    "id": "oTeBg4AvjdYs",
    "ExecuteTime": {
     "end_time": "2024-05-23T00:43:27.588771Z",
     "start_time": "2024-05-23T00:43:27.586069Z"
    }
   },
   "source": [
    "import warnings\n",
    "\n",
    "warnings.filterwarnings(\"ignore\")"
   ],
   "outputs": [],
   "execution_count": 50
  },
  {
   "cell_type": "markdown",
   "metadata": {},
   "source": [
    "### Define the Redis Connection URL\n",
    "\n",
    "By default this notebook connects to the local instance of Redis Stack. **If you have your own Redis Enterprise instance** - replace REDIS_PASSWORD, REDIS_HOST and REDIS_PORT values with your own."
   ]
  },
  {
   "cell_type": "code",
   "metadata": {
    "ExecuteTime": {
     "end_time": "2024-05-23T00:43:27.594469Z",
     "start_time": "2024-05-23T00:43:27.591497Z"
    }
   },
   "source": [
    "import os\n",
    "\n",
    "# Replace values below with your own if using Redis Cloud instance\n",
    "REDIS_HOST = os.getenv(\"REDIS_HOST\", \"localhost\")\n",
    "REDIS_PORT = os.getenv(\"REDIS_PORT\", \"6379\")\n",
    "REDIS_PASSWORD = os.getenv(\"REDIS_PASSWORD\", \"\")\n",
    "\n",
    "# If SSL is enabled on the endpoint, use rediss:// as the URL prefix\n",
    "REDIS_URL = f\"redis://:{REDIS_PASSWORD}@{REDIS_HOST}:{REDIS_PORT}\""
   ],
   "outputs": [],
   "execution_count": 51
  },
  {
   "cell_type": "markdown",
   "metadata": {},
   "source": [
    "## Simplified Vector Search with RedisVL"
   ]
  },
  {
   "cell_type": "markdown",
   "metadata": {
    "id": "KrtWWU4I1ui3"
   },
   "source": [
    "### Dataset Preparation (PDF Documents)\n",
    "\n",
    "To best demonstrate Redis as a vector database layer, we will load a single\n",
    "financial (10k filings) doc and preprocess it using some helpers from LangChain:\n",
    "\n",
    "- `UnstructuredFileLoader` is not the only document loader type that LangChain provides. Docs: https://python.langchain.com/docs/integrations/document_loaders/unstructured_file\n",
    "- `RecursiveCharacterTextSplitter` is what we use to create smaller chunks of text from the doc. Docs: https://python.langchain.com/docs/modules/data_connection/document_transformers/text_splitters/recursive_text_splitter"
   ]
  },
  {
   "cell_type": "code",
   "metadata": {
    "id": "uijl2qFH1ui3",
    "ExecuteTime": {
     "end_time": "2024-05-23T00:43:27.601946Z",
     "start_time": "2024-05-23T00:43:27.595489Z"
    }
   },
   "source": [
    "from langchain.text_splitter import RecursiveCharacterTextSplitter\n",
    "from langchain.document_loaders import UnstructuredFileLoader\n",
    "\n",
    "# Load list of pdfs from a folder\n",
    "data_path = f\"{parent_directory}/resources/10K\"\n",
    "docs = [os.path.join(data_path, file) for file in os.listdir(data_path)]\n",
    "\n",
    "print(\"Listing available documents ...\", docs)"
   ],
   "outputs": [
    {
     "name": "stdout",
     "output_type": "stream",
     "text": [
      "Listing available documents ... ['/Users/rouzbeh.farahmand/PycharmProjects/commit/financial-vss/resources/10K/nke-10k-2023.pdf', '/Users/rouzbeh.farahmand/PycharmProjects/commit/financial-vss/resources/10K/mu-10K-2019.pdf', '/Users/rouzbeh.farahmand/PycharmProjects/commit/financial-vss/resources/10K/amzn-10k-2023.pdf', '/Users/rouzbeh.farahmand/PycharmProjects/commit/financial-vss/resources/10K/jnj-10k-2023.pdf', '/Users/rouzbeh.farahmand/PycharmProjects/commit/financial-vss/resources/10K/amzn-10K-2019.pdf', '/Users/rouzbeh.farahmand/PycharmProjects/commit/financial-vss/resources/10K/aapl-10k-2023.pdf', '/Users/rouzbeh.farahmand/PycharmProjects/commit/financial-vss/resources/10K/aapl-10K-2019.pdf', '/Users/rouzbeh.farahmand/PycharmProjects/commit/financial-vss/resources/10K/nvd-10k-2023.pdf', '/Users/rouzbeh.farahmand/PycharmProjects/commit/financial-vss/resources/10K/msft-10k-2023.pdf']\n"
     ]
    }
   ],
   "execution_count": 52
  },
  {
   "cell_type": "code",
   "metadata": {
    "id": "anya8hVnT6K_",
    "ExecuteTime": {
     "end_time": "2024-05-23T00:43:36.851465Z",
     "start_time": "2024-05-23T00:43:27.602553Z"
    }
   },
   "source": [
    "# pick out the Nike doc for this exercise\n",
    "doc = [doc for doc in docs if \"nke\" in doc][0]\n",
    "\n",
    "# set up the file loader/extractor and text splitter to create chunks\n",
    "text_splitter = RecursiveCharacterTextSplitter(\n",
    "    chunk_size=2500, chunk_overlap=0\n",
    ")\n",
    "loader = UnstructuredFileLoader(\n",
    "    doc, mode=\"single\", strategy=\"fast\"\n",
    ")\n",
    "\n",
    "# extract, load, and make chunks\n",
    "chunks = loader.load_and_split(text_splitter)\n",
    "\n",
    "print(\"Done preprocessing. Created\", len(chunks), \"chunks of the original pdf\", doc)"
   ],
   "outputs": [
    {
     "name": "stdout",
     "output_type": "stream",
     "text": [
      "Done preprocessing. Created 180 chunks of the original pdf /Users/rouzbeh.farahmand/PycharmProjects/commit/financial-vss/resources/10K/nke-10k-2023.pdf\n"
     ]
    }
   ],
   "execution_count": 53
  },
  {
   "cell_type": "markdown",
   "metadata": {},
   "source": [
    "### Text embedding generation with RedisVL\n",
    "RedisVL has built-in extensions and utilities to aid the GenAI development process.\n",
    "\n",
    "#### SentenceTransformer Models Cache folder\n",
    "We are using `SentenceTransformer` in this demo and here we specify the cache folder. If you already downloaded the models in a local file system, set this folder here, otherwise the library tries to download the models in this folder if not available locally.\n",
    "\n",
    "In particular, these models will be downloaded if not present in the cache folder:\n",
    "\n",
    "models/models--sentence-transformers--all-MiniLM-L6-v2"
   ]
  },
  {
   "metadata": {
    "ExecuteTime": {
     "end_time": "2024-05-23T00:43:36.853380Z",
     "start_time": "2024-05-23T00:43:36.852033Z"
    }
   },
   "cell_type": "code",
   "source": [
    "#setting the local downloaded sentence transformer models f\n",
    "os.environ[\"TRANSFORMERS_CACHE\"] = f\"{parent_directory}/models\""
   ],
   "outputs": [],
   "execution_count": 54
  },
  {
   "cell_type": "code",
   "metadata": {
    "ExecuteTime": {
     "end_time": "2024-05-23T00:43:40.873092Z",
     "start_time": "2024-05-23T00:43:36.854084Z"
    }
   },
   "source": [
    "from redisvl.utils.vectorize import HFTextVectorizer\n",
    "\n",
    "hf = HFTextVectorizer(\"sentence-transformers/all-MiniLM-L6-v2\", cache_folder = os.getenv(\"TRANSFORMERS_CACHE\", f\"{parent_directory}/models\"))\n",
    "\n",
    "\n",
    "# Embed each chunk content\n",
    "embeddings = hf.embed_many([chunk.page_content for chunk in chunks])\n",
    "\n",
    "# Check to make sure we've created enough embeddings, 1 per document chunk\n",
    "len(embeddings) == len(chunks)"
   ],
   "outputs": [
    {
     "data": {
      "text/plain": [
       "True"
      ]
     },
     "execution_count": 55,
     "metadata": {},
     "output_type": "execute_result"
    }
   ],
   "execution_count": 55
  },
  {
   "metadata": {
    "ExecuteTime": {
     "end_time": "2024-05-23T00:43:40.875303Z",
     "start_time": "2024-05-23T00:43:40.873712Z"
    }
   },
   "cell_type": "code",
   "source": "print(f\"{len(chunks)} chunks embedded - with embeddings of {len(embeddings[0])} size\")",
   "outputs": [
    {
     "name": "stdout",
     "output_type": "stream",
     "text": [
      "180 chunks embedded - with embeddings of 384 size\n"
     ]
    }
   ],
   "execution_count": 56
  },
  {
   "cell_type": "markdown",
   "metadata": {
    "id": "5baI0xDQ1ui-"
   },
   "source": [
    "### Define a schema and create an index\n",
    "\n",
    "Below we connect to Redis and create an index that contains a text field, tag field, and vector field."
   ]
  },
  {
   "cell_type": "code",
   "metadata": {
    "id": "zB1EW_9n1ui-",
    "ExecuteTime": {
     "end_time": "2024-05-23T00:43:40.879Z",
     "start_time": "2024-05-23T00:43:40.876934Z"
    }
   },
   "source": [
    "from redis import Redis\n",
    "from redisvl.schema import IndexSchema\n",
    "from redisvl.index import SearchIndex\n",
    "\n",
    "\n",
    "index_name = \"redisvl\"\n",
    "\n",
    "\n",
    "schema = IndexSchema.from_dict({\n",
    "  \"index\": {\n",
    "    \"name\": index_name,\n",
    "    \"prefix\": \"chunk\"\n",
    "  },\n",
    "  \"fields\": [\n",
    "    {\n",
    "        \"name\": \"doc_id\",\n",
    "        \"type\": \"tag\",\n",
    "        \"attrs\": {\n",
    "            \"sortable\": True\n",
    "        }\n",
    "    },\n",
    "    {\n",
    "        \"name\": \"content\",\n",
    "        \"type\": \"text\"\n",
    "    },\n",
    "    {\n",
    "        \"name\": \"text_embedding\",\n",
    "        \"type\": \"vector\",\n",
    "        \"attrs\": {\n",
    "            \"dims\": hf.dims,\n",
    "            \"distance_metric\": \"cosine\",\n",
    "            \"algorithm\": \"hnsw\",\n",
    "            \"datatype\": \"float32\"\n",
    "        }\n",
    "    }\n",
    "  ]\n",
    "})"
   ],
   "outputs": [],
   "execution_count": 57
  },
  {
   "cell_type": "code",
   "metadata": {
    "ExecuteTime": {
     "end_time": "2024-05-23T00:43:40.895017Z",
     "start_time": "2024-05-23T00:43:40.879562Z"
    }
   },
   "source": [
    "# connect to redis\n",
    "client = Redis.from_url(REDIS_URL)\n",
    "\n",
    "# create an index from schema and the client\n",
    "index = SearchIndex(schema, client)\n",
    "index.create(overwrite=True, drop=True)"
   ],
   "outputs": [],
   "execution_count": 58
  },
  {
   "cell_type": "code",
   "metadata": {
    "id": "L6GOqmeN1ui_",
    "ExecuteTime": {
     "end_time": "2024-05-23T00:43:41.296915Z",
     "start_time": "2024-05-23T00:43:40.895822Z"
    }
   },
   "source": [
    "# use the RedisVL CLI tool to list all indices\n",
    "!rvl index listall"
   ],
   "outputs": [
    {
     "name": "stdout",
     "output_type": "stream",
     "text": [
      "\u001B[32m20:43:41\u001B[0m \u001B[34m[RedisVL]\u001B[0m \u001B[1;30mINFO\u001B[0m   Indices:\r\n",
      "\u001B[32m20:43:41\u001B[0m \u001B[34m[RedisVL]\u001B[0m \u001B[1;30mINFO\u001B[0m   1. langchain\r\n",
      "\u001B[32m20:43:41\u001B[0m \u001B[34m[RedisVL]\u001B[0m \u001B[1;30mINFO\u001B[0m   2. redisvl\r\n"
     ]
    }
   ],
   "execution_count": 59
  },
  {
   "cell_type": "code",
   "metadata": {
    "id": "C70C-UWj1ujA",
    "ExecuteTime": {
     "end_time": "2024-05-23T00:43:41.610289Z",
     "start_time": "2024-05-23T00:43:41.297956Z"
    }
   },
   "source": [
    "# get info about the index\n",
    "!rvl index info -i redisvl"
   ],
   "outputs": [
    {
     "name": "stdout",
     "output_type": "stream",
     "text": [
      "\r\n",
      "\r\n",
      "Index Information:\r\n",
      "╭──────────────┬────────────────┬────────────┬─────────────────┬────────────╮\r\n",
      "│ Index Name   │ Storage Type   │ Prefixes   │ Index Options   │   Indexing │\r\n",
      "├──────────────┼────────────────┼────────────┼─────────────────┼────────────┤\r\n",
      "│ redisvl      │ HASH           │ ['chunk']  │ []              │          0 │\r\n",
      "╰──────────────┴────────────────┴────────────┴─────────────────┴────────────╯\r\n",
      "Index Fields:\r\n",
      "╭────────────────┬────────────────┬────────┬────────────────┬────────────────┬────────────────┬────────────────┬────────────────┬────────────────┬─────────────────┬────────────────┬────────────────┬────────────────┬─────────────────┬────────────────╮\r\n",
      "│ Name           │ Attribute      │ Type   │ Field Option   │ Option Value   │ Field Option   │ Option Value   │ Field Option   │   Option Value │ Field Option    │ Option Value   │ Field Option   │   Option Value │ Field Option    │   Option Value │\r\n",
      "├────────────────┼────────────────┼────────┼────────────────┼────────────────┼────────────────┼────────────────┼────────────────┼────────────────┼─────────────────┼────────────────┼────────────────┼────────────────┼─────────────────┼────────────────┤\r\n",
      "│ doc_id         │ doc_id         │ TAG    │ SEPARATOR      │ ,              │                │                │                │                │                 │                │                │                │                 │                │\r\n",
      "│ content        │ content        │ TEXT   │ WEIGHT         │ 1              │                │                │                │                │                 │                │                │                │                 │                │\r\n",
      "│ text_embedding │ text_embedding │ VECTOR │ algorithm      │ HNSW           │ data_type      │ FLOAT32        │ dim            │            384 │ distance_metric │ COSINE         │ M              │             16 │ ef_construction │            200 │\r\n",
      "╰────────────────┴────────────────┴────────┴────────────────┴────────────────┴────────────────┴────────────────┴────────────────┴────────────────┴─────────────────┴────────────────┴────────────────┴────────────────┴─────────────────┴────────────────╯\r\n"
     ]
    }
   ],
   "execution_count": 60
  },
  {
   "cell_type": "markdown",
   "metadata": {
    "id": "Qrj-jeGmBRTL"
   },
   "source": [
    "### Process and load dataset\n",
    "Below we use the RedisVL index to simply load the list of document chunks to Redis db."
   ]
  },
  {
   "cell_type": "code",
   "metadata": {
    "id": "Zsg09Keg1ujA",
    "ExecuteTime": {
     "end_time": "2024-05-23T00:43:41.706082Z",
     "start_time": "2024-05-23T00:43:41.611439Z"
    }
   },
   "source": [
    "# load expects an iterable of dictionaries\n",
    "from redisvl.redis.utils import array_to_buffer\n",
    "\n",
    "data = [\n",
    "    {\n",
    "        'doc_id': f'{i}',\n",
    "        'content': chunk.page_content,\n",
    "        # For HASH -- must convert embeddings to bytes\n",
    "        'text_embedding': array_to_buffer(embeddings[i])\n",
    "    } for i, chunk in enumerate(chunks)\n",
    "]\n",
    "\n",
    "# RedisVL handles batching automatically\n",
    "keys = index.load(data, id_field=\"doc_id\")"
   ],
   "outputs": [],
   "execution_count": 61
  },
  {
   "cell_type": "markdown",
   "metadata": {
    "id": "-ZsFB-6Z1ujB"
   },
   "source": [
    "### Query the database\n",
    "Now we can use the RedisVL index to perform similarity search operations with Redis"
   ]
  },
  {
   "cell_type": "code",
   "metadata": {
    "id": "BkFv-_iC1ujB",
    "ExecuteTime": {
     "end_time": "2024-05-23T00:43:41.732361Z",
     "start_time": "2024-05-23T00:43:41.707020Z"
    }
   },
   "source": [
    "from redisvl.query import VectorQuery\n",
    "\n",
    "query = \"Nike profit margins and company performance\"\n",
    "\n",
    "query_embedding = hf.embed(query)\n",
    "\n",
    "vector_query = VectorQuery(\n",
    "    vector=query_embedding,\n",
    "    vector_field_name=\"text_embedding\",\n",
    "    num_results=3,\n",
    "    return_fields=[\"doc_id\", \"content\"],\n",
    "    return_score=True\n",
    ")\n",
    "\n",
    "# show the raw redis query\n",
    "str(vector_query)"
   ],
   "outputs": [
    {
     "data": {
      "text/plain": [
       "'*=>[KNN 3 @text_embedding $vector AS vector_distance] RETURN 3 doc_id content vector_distance SORTBY vector_distance ASC DIALECT 2 LIMIT 0 3'"
      ]
     },
     "execution_count": 62,
     "metadata": {},
     "output_type": "execute_result"
    }
   ],
   "execution_count": 62
  },
  {
   "cell_type": "code",
   "metadata": {
    "id": "5reL5qTW1ujC",
    "ExecuteTime": {
     "end_time": "2024-05-23T00:43:41.737131Z",
     "start_time": "2024-05-23T00:43:41.733044Z"
    }
   },
   "source": [
    "# execute the query with RedisVL\n",
    "index.query(vector_query)"
   ],
   "outputs": [
    {
     "data": {
      "text/plain": [
       "[{'id': 'chunk:85',\n",
       "  'vector_distance': '0.321347296238',\n",
       "  'doc_id': '85',\n",
       "  'content': 'TOTAL NIKE BRAND Converse\\n\\n$\\n\\n1,932 (4,841)\\n\\n8,359 676\\n\\n$\\n\\n1,896 (4,262)\\n\\n8,406 669\\n\\n2 % -14 %\\n\\n1 % $ 1 %\\n\\n1,530 (3,656)\\n\\n8,641 543\\n\\nCorporate TOTAL NIKE, INC. EARNINGS BEFORE INTEREST AND TAXES\\n\\n(1)\\n\\n$\\n\\n(2,840)\\n\\n6,195\\n\\n$\\n\\n(2,219)\\n\\n6,856\\n\\n28 %\\n\\n10 % $\\n\\n(2,261)\\n\\n6,923\\n\\nEBIT margin\\n\\n(1)\\n\\n12.1 %\\n\\n14.7 %\\n\\n15.5 %\\n\\nInterest expense (income), net\\n\\n(6)\\n\\n205\\n\\n—\\n\\n262\\n\\nTOTAL NIKE, INC. INCOME BEFORE INCOME TAXES\\n\\n$\\n\\n6,201\\n\\n$\\n\\n6,651\\n\\n7 % $\\n\\n6,661\\n\\n(1) Total NIKE Brand EBIT, Total NIKE, Inc. EBIT and EBIT Margin represent non-GAAP financial measures. See \"Use of Non-GAAP Financial Measures\" for further information.\\n\\n2023 FORM 10-K 36\\n\\n% CHANGE EXCLUDING CURRENCY (1) CHANGES\\n\\n7 % 12 % -13 %\\n\\n16 % 302 %\\n\\n6 % 7 %\\n\\n— 6 %\\n\\n% CHANGE\\n\\n0 % 35 % -27 %\\n\\n24 % -17 %\\n\\n3 % 23 % 2 %\\n\\n1 %\\n\\n—\\n\\n0 %\\n\\nTable of Contents\\n\\nNORTH AMERICA\\n\\n(Dollars in millions)\\n\\nFISCAL 2023 FISCAL 2022\\n\\n% CHANGE\\n\\n% CHANGE EXCLUDING CURRENCY\\n\\nCHANGES FISCAL 2021\\n\\n% CHANGE\\n\\n% CHANGE EXCLUDING CURRENCY CHANGES\\n\\nRevenues by: Footwear Apparel\\n\\n$\\n\\n14,897 $ 5,947\\n\\n12,228 5,492\\n\\n22 % 8 %\\n\\n22 % $ 9 %\\n\\n11,644 5,028\\n\\n5 % 9 %\\n\\n5 % 9 %\\n\\nEquipment\\n\\nTOTAL REVENUES\\n\\n$\\n\\n764 21,608 $\\n\\n633 18,353\\n\\n21 % 18 %\\n\\n21 % 18 % $\\n\\n507 17,179\\n\\n25 % 7 %\\n\\n25 % 7 %\\n\\nRevenues by:\\n\\nSales to Wholesale Customers\\n\\n$\\n\\n11,273 $\\n\\n9,621\\n\\n17 %\\n\\n18 % $\\n\\n10,186\\n\\n6 %\\n\\n6 %\\n\\nSales through NIKE Direct\\n\\nTOTAL REVENUES\\n\\n$\\n\\n10,335 21,608 $\\n\\n8,732 18,353\\n\\n18 % 18 %\\n\\n18 % 18 % $\\n\\n6,993 17,179\\n\\n25 % 7 %\\n\\n25 % 7 %\\n\\nEARNINGS BEFORE INTEREST AND TAXES\\n\\n$\\n\\n5,454 $\\n\\n5,114\\n\\n7 %\\n\\n$\\n\\n5,089\\n\\n0 %\\n\\nFISCAL 2023 COMPARED TO FISCAL 2022\\n\\nNorth America revenues increased 18% on a currency-neutral basis, primarily due to higher revenues in Men\\'s and the Jordan Brand. NIKE Direct revenues\\n\\nincreased 18%, driven by strong digital sales growth of 23%, comparable store sales growth of 9% and the addition of new stores.\\n\\nFootwear revenues increased 22% on a currency-neutral basis, primarily due to higher revenues in Men\\'s and the Jordan Brand. Unit sales of footwear increased\\n\\n17%, while higher ASP per pair contributed approximately 5 percentage points of footwear revenue growth. Higher ASP per pair was primarily due to higher full-price ASP and growth in NIKE Direct, partially offset by lower NIKE Direct ASP, reflecting higher promotional activity as well as lower available inventory supply in the prior period and a lower mix of full-price sales.'},\n",
       " {'id': 'chunk:84',\n",
       "  'vector_distance': '0.328033983707',\n",
       "  'doc_id': '84',\n",
       "  'content': 'As discussed in Note 15 — Operating Segments and Related Information in the accompanying Notes to the Consolidated Financial Statements, our operating segments are evidence of the structure of the Company\\'s internal organization. The NIKE Brand segments are defined by geographic regions for operations participating in NIKE Brand sales activity.\\n\\nThe breakdown of Revenues is as follows:\\n\\n(Dollars in millions)\\n\\nFISCAL 2023 FISCAL 2022\\n\\n% CHANGE\\n\\n% CHANGE EXCLUDING CURRENCY (1) CHANGES FISCAL 2021\\n\\n% CHANGE\\n\\nNorth America Europe, Middle East & Africa Greater China\\n\\n$\\n\\n21,608 $ 13,418 7,248\\n\\n18,353 12,479 7,547\\n\\n18 % 8 % -4 %\\n\\n18 % $ 21 % 4 %\\n\\n17,179 11,456 8,290\\n\\n7 % 9 % -9 %\\n\\nAsia Pacific & Latin America Global Brand Divisions\\n\\n(3)\\n\\n(2)\\n\\n6,431 58\\n\\n5,955 102\\n\\n8 % -43 %\\n\\n17 % -43 %\\n\\n5,343 25\\n\\n11 % 308 %\\n\\nTOTAL NIKE BRAND Converse\\n\\n$\\n\\n48,763 $ 2,427\\n\\n44,436 2,346\\n\\n10 % 3 %\\n\\n16 % $ 8 %\\n\\n42,293 2,205\\n\\n5 % 6 %\\n\\n(4)\\n\\nCorporate TOTAL NIKE, INC. REVENUES\\n\\n$\\n\\n27\\n\\n51,217 $\\n\\n(72) 46,710\\n\\n— 10 %\\n\\n— 16 % $\\n\\n40 44,538\\n\\n— 5 %\\n\\n(1) The percent change excluding currency changes represents a non-GAAP financial measure. For further information, see \"Use of Non-GAAP Financial Measures\".\\n\\n(2) For additional information on the transition of our NIKE Brand businesses within our CASA territory to a third-party distributor, see Note 18 — Acquisitions and Divestitures of the Notes to Consolidated\\n\\nFinancial Statements contained in Item 8 of this Annual Report.\\n\\n(3) Global Brand Divisions revenues include NIKE Brand licensing and other miscellaneous revenues that are not part of a geographic operating segment.\\n\\n(4) Corporate revenues primarily consist of foreign currency hedge gains and losses related to revenues generated by entities within the NIKE Brand geographic operating segments and Converse, but\\n\\nmanaged through our central foreign exchange risk management program.\\n\\nThe primary financial measure used by the Company to evaluate performance is Earnings Before Interest and Taxes (\"EBIT\"). As discussed in Note 15 — Operating Segments and Related Information in the accompanying Notes to the Consolidated Financial Statements, certain corporate costs are not included in EBIT.\\n\\nThe breakdown of EBIT is as follows:\\n\\n(Dollars in millions)\\n\\nFISCAL 2023\\n\\nFISCAL 2022\\n\\n% CHANGE\\n\\nFISCAL 2021\\n\\nNorth America Europe, Middle East & Africa Greater China\\n\\n$\\n\\n5,454 3,531 2,283\\n\\n$\\n\\n5,114 3,293 2,365\\n\\n7 % $ 7 % -3 %\\n\\n5,089 2,435 3,243\\n\\nAsia Pacific & Latin America Global Brand Divisions (1)'},\n",
       " {'id': 'chunk:118',\n",
       "  'vector_distance': '0.358749687672',\n",
       "  'doc_id': '118',\n",
       "  'content': \"NIKE, INC. CONSOLIDATED STATEMENTS OF INCOME\\n\\n(In millions, except per share data)\\n\\nRevenues Cost of sales\\n\\nGross profit\\n\\nDemand creation expense Operating overhead expense\\n\\nTotal selling and administrative expense\\n\\nInterest expense (income), net\\n\\nOther (income) expense, net Income before income taxes\\n\\nIncome tax expense NET INCOME\\n\\nEarnings per common share:\\n\\nBasic Diluted\\n\\nWeighted average common shares outstanding:\\n\\nBasic Diluted\\n\\nThe accompanying Notes to the Consolidated Financial Statements are an integral part of this statement.\\n\\n$\\n\\n$\\n\\n$ $\\n\\nYEAR ENDED MAY 31,\\n\\n2023\\n\\n2022\\n\\n2021\\n\\n51,217 $ 28,925\\n\\n46,710 $ 25,231\\n\\n44,538 24,576\\n\\n22,292 4,060 12,317\\n\\n21,479 3,850 10,954\\n\\n19,962 3,114 9,911\\n\\n16,377 (6)\\n\\n14,804 205\\n\\n13,025 262\\n\\n(280) 6,201\\n\\n(181) 6,651\\n\\n14 6,661\\n\\n1,131 5,070 $\\n\\n605 6,046 $\\n\\n934 5,727\\n\\n3.27 $ 3.23 $\\n\\n3.83 $ 3.75 $\\n\\n3.64 3.56\\n\\n1,551.6 1,569.8\\n\\n1,578.8 1,610.8\\n\\n1,573.0 1,609.4\\n\\n2023 FORM 10-K 55\\n\\nTable of Contents\\n\\nNIKE, INC. CONSOLIDATED STATEMENTS OF COMPREHENSIVE INCOME\\n\\nYEAR ENDED MAY 31,\\n\\n(Dollars in millions)\\n\\n2023\\n\\n2022\\n\\nNet income Other comprehensive income (loss), net of tax:\\n\\n$\\n\\n5,070 $\\n\\n6,046 $\\n\\nChange in net foreign currency translation adjustment\\n\\n267\\n\\n(522)\\n\\nChange in net gains (losses) on cash flow hedges Change in net gains (losses) on other\\n\\n(348) (6)\\n\\n1,214 6\\n\\nTotal other comprehensive income (loss), net of tax TOTAL COMPREHENSIVE INCOME\\n\\n$\\n\\n(87) 4,983 $\\n\\n698 6,744 $\\n\\nThe accompanying Notes to the Consolidated Financial Statements are an integral part of this statement.\\n\\n2023 FORM 10-K 56\\n\\n2021\\n\\n5,727\\n\\n496\\n\\n(825) 5\\n\\n(324) 5,403\\n\\nTable of Contents\\n\\nNIKE, INC. CONSOLIDATED BALANCE SHEETS\\n\\n(In millions)\\n\\nASSETS\\n\\nCurrent assets:\\n\\nCash and equivalents Short-term investments\\n\\nAccounts receivable, net Inventories Prepaid expenses and other current assets\\n\\nTotal current assets\\n\\nProperty, plant and equipment, net\\n\\nOperating lease right-of-use assets, net Identifiable intangible assets, net Goodwill\\n\\nDeferred income taxes and other assets\\n\\nTOTAL ASSETS\\n\\nLIABILITIES AND SHAREHOLDERS' EQUITY Current liabilities:\\n\\nCurrent portion of long-term debt Notes payable Accounts payable\\n\\nCurrent portion of operating lease liabilities Accrued liabilities Income taxes payable\\n\\nTotal current liabilities\\n\\nLong-term debt\\n\\nOperating lease liabilities Deferred income taxes and other liabilities Commitments and contingencies (Note 16)\\n\\nRedeemable preferred stock Shareholders' equity: Common stock at stated value:\"}]"
      ]
     },
     "execution_count": 63,
     "metadata": {},
     "output_type": "execute_result"
    }
   ],
   "execution_count": 63
  },
  {
   "cell_type": "code",
   "metadata": {
    "id": "rZrcd6n7T6LE",
    "ExecuteTime": {
     "end_time": "2024-05-23T00:43:41.742424Z",
     "start_time": "2024-05-23T00:43:41.737719Z"
    }
   },
   "source": [
    "# paginate through results\n",
    "for result in index.paginate(vector_query, page_size=1):\n",
    "    print(result[0][\"doc_id\"], result[0][\"vector_distance\"], flush=True)"
   ],
   "outputs": [
    {
     "name": "stdout",
     "output_type": "stream",
     "text": [
      "85 0.321347296238\n",
      "84 0.328033983707\n",
      "118 0.358749687672\n"
     ]
    }
   ],
   "execution_count": 64
  },
  {
   "cell_type": "markdown",
   "metadata": {
    "id": "0Ap6WqPLT6LE"
   },
   "source": [
    "### Sort by alternative fields"
   ]
  },
  {
   "cell_type": "code",
   "metadata": {
    "id": "daLVm6OkLn9T",
    "ExecuteTime": {
     "end_time": "2024-05-23T00:43:41.753596Z",
     "start_time": "2024-05-23T00:43:41.743079Z"
    }
   },
   "source": [
    "# Sort by doc_id field after vector search limits to topK\n",
    "vector_query = VectorQuery(\n",
    "    vector=query_embedding,\n",
    "    vector_field_name=\"text_embedding\",\n",
    "    num_results=4,\n",
    "    return_fields=[\"doc_id\"],\n",
    "    return_score=True\n",
    ")\n",
    "\n",
    "# Decompose vector_query into the core query and the params\n",
    "query = vector_query.query\n",
    "params = vector_query.params\n",
    "\n",
    "# Pass query and params direct to index.search()\n",
    "result = index.search(\n",
    "    query.sort_by(\"doc_id\", asc=True),\n",
    "    params\n",
    ")\n",
    "\n",
    "[doc.__dict__ for doc in result.docs]"
   ],
   "outputs": [
    {
     "data": {
      "text/plain": [
       "[{'id': 'chunk:118',\n",
       "  'payload': None,\n",
       "  'vector_distance': '0.358749687672',\n",
       "  'doc_id': '118'},\n",
       " {'id': 'chunk:158',\n",
       "  'payload': None,\n",
       "  'vector_distance': '0.360825479031',\n",
       "  'doc_id': '158'},\n",
       " {'id': 'chunk:84',\n",
       "  'payload': None,\n",
       "  'vector_distance': '0.328033983707',\n",
       "  'doc_id': '84'},\n",
       " {'id': 'chunk:85',\n",
       "  'payload': None,\n",
       "  'vector_distance': '0.321347296238',\n",
       "  'doc_id': '85'}]"
      ]
     },
     "execution_count": 65,
     "metadata": {},
     "output_type": "execute_result"
    }
   ],
   "execution_count": 65
  },
  {
   "cell_type": "markdown",
   "metadata": {
    "id": "81PoXomtT6LF"
   },
   "source": [
    "### Add filters to vector queries"
   ]
  },
  {
   "cell_type": "code",
   "metadata": {
    "id": "a11G3xXJ1ujC",
    "ExecuteTime": {
     "end_time": "2024-05-23T00:43:41.767822Z",
     "start_time": "2024-05-23T00:43:41.756249Z"
    }
   },
   "source": [
    "from redisvl.query.filter import Text\n",
    "\n",
    "vector_query = VectorQuery(\n",
    "    vector=query_embedding,\n",
    "    vector_field_name=\"text_embedding\",\n",
    "    num_results=4,\n",
    "    return_fields=[\"content\"],\n",
    "    return_score=True\n",
    ")\n",
    "\n",
    "# Set a text filter\n",
    "text_filter = Text(\"content\") % \"profit\"\n",
    "\n",
    "vector_query.set_filter(text_filter)\n",
    "\n",
    "index.query(vector_query)"
   ],
   "outputs": [
    {
     "data": {
      "text/plain": [
       "[{'id': 'chunk:81',\n",
       "  'vector_distance': '0.363789796829',\n",
       "  'content': 'NIKE Brand revenues, which represented over 90% of NIKE, Inc. Revenues, increased 10% and 16% on a reported and currency-neutral basis, respectively. This increase was primarily due to higher revenues in Men\\'s, the Jordan Brand, Women\\'s and Kids\\' which grew 17%, 35%,11% and 10%, respectively, on a wholesale equivalent basis.\\n\\nNIKE Brand footwear revenues increased 20% on a currency-neutral basis, due to higher revenues in Men\\'s, the Jordan Brand, Women\\'s and Kids\\'. Unit sales of footwear increased 13%, while higher average selling price (\"ASP\") per pair contributed approximately 7 percentage points of footwear revenue growth. Higher ASP was primarily due to higher full-price ASP, net of discounts, on a wholesale equivalent basis, and growth in the size of our NIKE Direct business, partially offset by lower NIKE Direct ASP.\\n\\nNIKE Brand apparel revenues increased 8% on a currency-neutral basis, primarily due to higher revenues in Men\\'s. Unit sales of apparel increased 4%, while higher ASP per unit contributed approximately 4 percentage points of apparel revenue growth. Higher ASP was primarily due to higher full-price ASP and growth in the size of our NIKE Direct business, partially offset by lower NIKE Direct ASP, reflecting higher promotional activity.\\n\\nNIKE Direct revenues increased 14% from $18.7 billion in fiscal 2022 to $21.3 billion in fiscal 2023. On a currency-neutral basis, NIKE Direct revenues increased 20% primarily driven by NIKE Brand Digital sales growth of 24%, comparable store sales growth of 14% and the addition of new stores. For further information regarding comparable store sales, including the definition, see \"Comparable Store Sales\". NIKE Brand Digital sales were $12.6 billion for fiscal 2023 compared to $10.7 billion for fiscal 2022.\\n\\n2023 FORM 10-K 33\\n\\nTable of Contents\\n\\nGROSS MARGIN FISCAL 2023 COMPARED TO FISCAL 2022\\n\\nFor fiscal 2023, our consolidated gross profit increased 4% to $22,292 million compared to $21,479 million for fiscal 2022. Gross margin decreased 250 basis points to 43.5% for fiscal 2023 compared to 46.0% for fiscal 2022 due to the following:\\n\\nWholesale equivalent\\n\\nThe decrease in gross margin for fiscal 2023 was primarily due to:\\n\\nHigher NIKE Brand product costs, on a wholesale equivalent basis, primarily due to higher input costs and elevated inbound freight and logistics costs as well as\\n\\nproduct mix;'},\n",
       " {'id': 'chunk:79',\n",
       "  'vector_distance': '0.616193056107',\n",
       "  'content': \"(Dollars in millions, except per share data)\\n\\nRevenues Cost of sales\\n\\nGross profit Gross margin\\n\\nDemand creation expense Operating overhead expense\\n\\nTotal selling and administrative expense % of revenues\\n\\nInterest expense (income), net\\n\\nOther (income) expense, net Income before income taxes\\n\\nIncome tax expense Effective tax rate\\n\\nNET INCOME Diluted earnings per common share\\n\\n$\\n\\n$ $\\n\\nFISCAL 2023\\n\\n51,217 28,925\\n\\n22,292\\n\\n43.5 %\\n\\n4,060 12,317\\n\\n16,377\\n\\n32.0 % (6)\\n\\n(280) 6,201\\n\\n1,131\\n\\n18.2 %\\n\\n5,070 3.23\\n\\n$\\n\\n$ $\\n\\nFISCAL 2022\\n\\n46,710 25,231\\n\\n21,479\\n\\n46.0 %\\n\\n3,850 10,954\\n\\n14,804\\n\\n31.7 % 205\\n\\n(181) 6,651\\n\\n605 9.1 %\\n\\n6,046 3.75\\n\\n% CHANGE\\n\\n10 % $ 15 %\\n\\n4 %\\n\\n5 % 12 %\\n\\n11 %\\n\\n—\\n\\n— -7 %\\n\\n87 %\\n\\n16 % $ -14 % $\\n\\nFISCAL 2021\\n\\n% CHANGE\\n\\n44,538 24,576\\n\\n5 % 3 %\\n\\n19,962\\n\\n8 %\\n\\n44.8 %\\n\\n3,114 9,911\\n\\n24 % 11 %\\n\\n13,025\\n\\n14 %\\n\\n29.2 % 262\\n\\n—\\n\\n14 6,661\\n\\n— 0 %\\n\\n934 14.0 %\\n\\n35 %\\n\\n5,727 3.56\\n\\n6 % 5 %\\n\\n2023 FORM 10-K 31\\n\\nTable of Contents\\n\\nCONSOLIDATED OPERATING RESULTS REVENUES\\n\\n(Dollars in millions)\\n\\nFISCAL 2023\\n\\nFISCAL 2022\\n\\n% CHANGE\\n\\n% CHANGE EXCLUDING CURRENCY (1) CHANGES\\n\\nFISCAL 2021\\n\\n% CHANGE\\n\\nNIKE, Inc. Revenues:\\n\\nNIKE Brand Revenues by:\\n\\nFootwear Apparel\\n\\n$\\n\\n33,135 $ 13,843\\n\\n29,143 13,567\\n\\n14 % 2 %\\n\\n20 % $ 8 %\\n\\n28,021 12,865\\n\\n4 % 5 %\\n\\nEquipment Global Brand Divisions\\n\\n(2)\\n\\nTotal NIKE Brand Revenues\\n\\n$\\n\\n1,727 58\\n\\n48,763 $\\n\\n1,624 102 44,436\\n\\n6 % -43 % 10 %\\n\\n13 % -43 % 16 % $\\n\\n1,382 25 42,293\\n\\n18 % 308 % 5 %\\n\\nConverse Corporate\\n\\n(3)\\n\\n2,427 27\\n\\n2,346 (72)\\n\\n3 % —\\n\\n8 % —\\n\\n2,205 40\\n\\n6 % —\\n\\nTOTAL NIKE, INC. REVENUES\\n\\n$\\n\\n51,217 $\\n\\n46,710\\n\\n10 %\\n\\n16 % $\\n\\n44,538\\n\\n5 %\\n\\nSupplemental NIKE Brand Revenues Details: NIKE Brand Revenues by:\\n\\nSales to Wholesale Customers\\n\\n$\\n\\n27,397 $\\n\\n25,608\\n\\n7 %\\n\\n14 % $\\n\\n25,898\\n\\n1 %\\n\\nSales through NIKE Direct Global Brand Divisions\\n\\n(2)\\n\\n21,308 58\\n\\n18,726 102\\n\\n14 % -43 %\\n\\n20 % -43 %\\n\\n16,370 25\\n\\n14 % 308 %\\n\\nTOTAL NIKE BRAND REVENUES (1) NIKE Brand Revenues on a Wholesale Equivalent Basis :\\n\\n$\\n\\n48,763 $\\n\\n44,436\\n\\n10 %\\n\\n16 % $\\n\\n42,293\\n\\n5 %\\n\\nSales to Wholesale Customers Sales from our Wholesale Operations to NIKE Direct Operations\\n\\nTOTAL NIKE BRAND WHOLESALE EQUIVALENT REVENUES NIKE Brand Wholesale Equivalent Revenues by:\\n\\n(1),(4)\\n\\n$\\n\\n$\\n\\n27,397 $ 12,730\\n\\n40,127 $\\n\\n25,608 10,543\\n\\n36,151\\n\\n7 % 21 %\\n\\n11 %\\n\\n14 % $ 27 %\\n\\n18 % $\\n\\n25,898 9,872\\n\\n35,770\\n\\n1 % 7 % 1 %\\n\\nMen's Women's NIKE Kids'\\n\\n$\\n\\n20,733 $ 8,606 5,038\\n\\n18,797 8,273 4,874\\n\\n10 % 4 % 3 %\\n\\n17 % $ 11 % 10 %\\n\\n18,391 8,225 4,882\\n\\n2 % 1 % 0 %\\n\\nJordan Brand (5) Others\\n\\n6,589 (839)\\n\\n5,122 (915)\\n\\n29 % 8 %\\n\\n35 % -3 %\"},\n",
       " {'id': 'chunk:149',\n",
       "  'vector_distance': '0.703676819801',\n",
       "  'content': '131.10 115.56 126.97\\n\\n(1) Includes an immaterial amount of PSU transactions\\n\\nThe weighted average fair value per share of restricted stock and restricted stock units granted for the fiscal years ended May 31, 2023, 2022 and 2021, computed as of the grant date, was $115.56, $168.04 and $113.84, respectively. During the fiscal years ended May 31, 2023, 2022 and 2021, the aggregate fair value of vested restricted stock and restricted stock units was $250 million, $354 million and $310 million, respectively, computed as of the date of vesting.\\n\\nAs of May 31, 2023, the Company had $649 million of unrecognized compensation costs from restricted stock and restricted stock units, net of estimated forfeitures, to be recognized in Cost of sales or Operating overhead expense, as applicable, over a weighted average remaining period of 2.3 years.\\n\\n2023 FORM 10-K 76\\n\\nTable of Contents\\n\\nNOTE 10 — EARNINGS PER SHARE\\n\\nThe following is a reconciliation from basic earnings per common share to diluted earnings per common share. The computations of diluted earnings per common share excluded restricted stock, restricted stock units and options, including shares under ESPPs, to purchase an estimated additional 31.7 million, 9.4 million and 11.3 million shares of common stock outstanding for the fiscal years ended May 31, 2023, 2022 and 2021, respectively, because the awards were assumed to be anti-dilutive.\\n\\nYEAR ENDED MAY 31,\\n\\n(In millions, except per share data)\\n\\n2023\\n\\n2022\\n\\n2021\\n\\nNet income available to common stockholders\\n\\n$\\n\\n5,070 $\\n\\n6,046 $\\n\\n5,727\\n\\nDetermination of shares:\\n\\nWeighted average common shares outstanding Assumed conversion of dilutive stock options and awards\\n\\n1,551.6 18.2\\n\\n1,578.8 32.0\\n\\n1,573.0 36.4\\n\\nDILUTED WEIGHTED AVERAGE COMMON SHARES OUTSTANDING\\n\\n1,569.8\\n\\n1,610.8\\n\\n1,609.4\\n\\nEarnings per common share:\\n\\nBasic Diluted\\n\\n$ $\\n\\n3.27 $ 3.23 $\\n\\n3.83 $ 3.75 $\\n\\n3.64 3.56\\n\\nNOTE 11 — BENEFIT PLANS\\n\\nThe Company has a qualified 401(k) Savings and Profit Sharing Plan, in which all U.S. employees are able to participate. The Company matches a portion of employee contributions to the savings plan. Company contributions to the savings plan were $136 million, $126 million and $110 million and included in Cost of sales or Operating overhead expense, as applicable, for the fiscal years ended May 31, 2023, 2022 and 2021, respectively.'},\n",
       " {'id': 'chunk:37',\n",
       "  'vector_distance': '0.711833953857',\n",
       "  'content': 'Our success depends on our ability to identify, originate and define product trends as well as to anticipate, gauge and react to changing consumer demands in a timely manner. However, lead times for many of our products may make it more difficult for us to respond rapidly to new or changing product trends or consumer preferences. All of our products are subject to changing consumer preferences that cannot be predicted with certainty. Our new products may not receive consumer acceptance as consumer preferences could shift rapidly to different types of performance products or away from these types of products altogether, and our future success depends in part on our ability to anticipate and respond to these changes. If we fail to anticipate accurately and respond to trends and shifts in consumer preferences by adjusting the mix of existing product offerings, developing new products, designs, styles and categories, and influencing sports and fitness preferences through extensive marketing, we could experience lower sales, excess inventories or lower profit margins, any of which could have an adverse effect on our results of operations and financial condition. In addition, we market our products globally through a diverse spectrum of advertising and promotional programs and campaigns, including social media and other digital advertising networks. If we do not successfully market our products or if advertising and promotional costs increase, these factors could have an adverse effect on our business, financial condition and results of operations.\\n\\nWe rely on technical innovation and high-quality products to compete in the market for our products.'}]"
      ]
     },
     "execution_count": 66,
     "metadata": {},
     "output_type": "execute_result"
    }
   ],
   "execution_count": 66
  },
  {
   "cell_type": "markdown",
   "metadata": {
    "id": "5XvVv8zAT6LF"
   },
   "source": [
    "### Range queries in RedisVL"
   ]
  },
  {
   "cell_type": "code",
   "metadata": {
    "id": "bCffoZRx1ujD",
    "ExecuteTime": {
     "end_time": "2024-05-23T00:43:41.777994Z",
     "start_time": "2024-05-23T00:43:41.770812Z"
    }
   },
   "source": [
    "from redisvl.query import RangeQuery\n",
    "\n",
    "range_query = RangeQuery(\n",
    "    vector=query_embedding,\n",
    "    vector_field_name=\"text_embedding\",\n",
    "    num_results=4,\n",
    "    return_fields=[\"content\"],\n",
    "    return_score=True,\n",
    "    distance_threshold=0.8  # find all items with a semantic distance of less than 0.8\n",
    ")"
   ],
   "outputs": [],
   "execution_count": 67
  },
  {
   "cell_type": "code",
   "metadata": {
    "id": "0gHmam1Q1ujD",
    "ExecuteTime": {
     "end_time": "2024-05-23T00:43:41.792745Z",
     "start_time": "2024-05-23T00:43:41.779796Z"
    }
   },
   "source": [
    "index.query(range_query)"
   ],
   "outputs": [
    {
     "data": {
      "text/plain": [
       "[{'id': 'chunk:85',\n",
       "  'vector_distance': '0.321347296238',\n",
       "  'content': 'TOTAL NIKE BRAND Converse\\n\\n$\\n\\n1,932 (4,841)\\n\\n8,359 676\\n\\n$\\n\\n1,896 (4,262)\\n\\n8,406 669\\n\\n2 % -14 %\\n\\n1 % $ 1 %\\n\\n1,530 (3,656)\\n\\n8,641 543\\n\\nCorporate TOTAL NIKE, INC. EARNINGS BEFORE INTEREST AND TAXES\\n\\n(1)\\n\\n$\\n\\n(2,840)\\n\\n6,195\\n\\n$\\n\\n(2,219)\\n\\n6,856\\n\\n28 %\\n\\n10 % $\\n\\n(2,261)\\n\\n6,923\\n\\nEBIT margin\\n\\n(1)\\n\\n12.1 %\\n\\n14.7 %\\n\\n15.5 %\\n\\nInterest expense (income), net\\n\\n(6)\\n\\n205\\n\\n—\\n\\n262\\n\\nTOTAL NIKE, INC. INCOME BEFORE INCOME TAXES\\n\\n$\\n\\n6,201\\n\\n$\\n\\n6,651\\n\\n7 % $\\n\\n6,661\\n\\n(1) Total NIKE Brand EBIT, Total NIKE, Inc. EBIT and EBIT Margin represent non-GAAP financial measures. See \"Use of Non-GAAP Financial Measures\" for further information.\\n\\n2023 FORM 10-K 36\\n\\n% CHANGE EXCLUDING CURRENCY (1) CHANGES\\n\\n7 % 12 % -13 %\\n\\n16 % 302 %\\n\\n6 % 7 %\\n\\n— 6 %\\n\\n% CHANGE\\n\\n0 % 35 % -27 %\\n\\n24 % -17 %\\n\\n3 % 23 % 2 %\\n\\n1 %\\n\\n—\\n\\n0 %\\n\\nTable of Contents\\n\\nNORTH AMERICA\\n\\n(Dollars in millions)\\n\\nFISCAL 2023 FISCAL 2022\\n\\n% CHANGE\\n\\n% CHANGE EXCLUDING CURRENCY\\n\\nCHANGES FISCAL 2021\\n\\n% CHANGE\\n\\n% CHANGE EXCLUDING CURRENCY CHANGES\\n\\nRevenues by: Footwear Apparel\\n\\n$\\n\\n14,897 $ 5,947\\n\\n12,228 5,492\\n\\n22 % 8 %\\n\\n22 % $ 9 %\\n\\n11,644 5,028\\n\\n5 % 9 %\\n\\n5 % 9 %\\n\\nEquipment\\n\\nTOTAL REVENUES\\n\\n$\\n\\n764 21,608 $\\n\\n633 18,353\\n\\n21 % 18 %\\n\\n21 % 18 % $\\n\\n507 17,179\\n\\n25 % 7 %\\n\\n25 % 7 %\\n\\nRevenues by:\\n\\nSales to Wholesale Customers\\n\\n$\\n\\n11,273 $\\n\\n9,621\\n\\n17 %\\n\\n18 % $\\n\\n10,186\\n\\n6 %\\n\\n6 %\\n\\nSales through NIKE Direct\\n\\nTOTAL REVENUES\\n\\n$\\n\\n10,335 21,608 $\\n\\n8,732 18,353\\n\\n18 % 18 %\\n\\n18 % 18 % $\\n\\n6,993 17,179\\n\\n25 % 7 %\\n\\n25 % 7 %\\n\\nEARNINGS BEFORE INTEREST AND TAXES\\n\\n$\\n\\n5,454 $\\n\\n5,114\\n\\n7 %\\n\\n$\\n\\n5,089\\n\\n0 %\\n\\nFISCAL 2023 COMPARED TO FISCAL 2022\\n\\nNorth America revenues increased 18% on a currency-neutral basis, primarily due to higher revenues in Men\\'s and the Jordan Brand. NIKE Direct revenues\\n\\nincreased 18%, driven by strong digital sales growth of 23%, comparable store sales growth of 9% and the addition of new stores.\\n\\nFootwear revenues increased 22% on a currency-neutral basis, primarily due to higher revenues in Men\\'s and the Jordan Brand. Unit sales of footwear increased\\n\\n17%, while higher ASP per pair contributed approximately 5 percentage points of footwear revenue growth. Higher ASP per pair was primarily due to higher full-price ASP and growth in NIKE Direct, partially offset by lower NIKE Direct ASP, reflecting higher promotional activity as well as lower available inventory supply in the prior period and a lower mix of full-price sales.'},\n",
       " {'id': 'chunk:84',\n",
       "  'vector_distance': '0.328033983707',\n",
       "  'content': 'As discussed in Note 15 — Operating Segments and Related Information in the accompanying Notes to the Consolidated Financial Statements, our operating segments are evidence of the structure of the Company\\'s internal organization. The NIKE Brand segments are defined by geographic regions for operations participating in NIKE Brand sales activity.\\n\\nThe breakdown of Revenues is as follows:\\n\\n(Dollars in millions)\\n\\nFISCAL 2023 FISCAL 2022\\n\\n% CHANGE\\n\\n% CHANGE EXCLUDING CURRENCY (1) CHANGES FISCAL 2021\\n\\n% CHANGE\\n\\nNorth America Europe, Middle East & Africa Greater China\\n\\n$\\n\\n21,608 $ 13,418 7,248\\n\\n18,353 12,479 7,547\\n\\n18 % 8 % -4 %\\n\\n18 % $ 21 % 4 %\\n\\n17,179 11,456 8,290\\n\\n7 % 9 % -9 %\\n\\nAsia Pacific & Latin America Global Brand Divisions\\n\\n(3)\\n\\n(2)\\n\\n6,431 58\\n\\n5,955 102\\n\\n8 % -43 %\\n\\n17 % -43 %\\n\\n5,343 25\\n\\n11 % 308 %\\n\\nTOTAL NIKE BRAND Converse\\n\\n$\\n\\n48,763 $ 2,427\\n\\n44,436 2,346\\n\\n10 % 3 %\\n\\n16 % $ 8 %\\n\\n42,293 2,205\\n\\n5 % 6 %\\n\\n(4)\\n\\nCorporate TOTAL NIKE, INC. REVENUES\\n\\n$\\n\\n27\\n\\n51,217 $\\n\\n(72) 46,710\\n\\n— 10 %\\n\\n— 16 % $\\n\\n40 44,538\\n\\n— 5 %\\n\\n(1) The percent change excluding currency changes represents a non-GAAP financial measure. For further information, see \"Use of Non-GAAP Financial Measures\".\\n\\n(2) For additional information on the transition of our NIKE Brand businesses within our CASA territory to a third-party distributor, see Note 18 — Acquisitions and Divestitures of the Notes to Consolidated\\n\\nFinancial Statements contained in Item 8 of this Annual Report.\\n\\n(3) Global Brand Divisions revenues include NIKE Brand licensing and other miscellaneous revenues that are not part of a geographic operating segment.\\n\\n(4) Corporate revenues primarily consist of foreign currency hedge gains and losses related to revenues generated by entities within the NIKE Brand geographic operating segments and Converse, but\\n\\nmanaged through our central foreign exchange risk management program.\\n\\nThe primary financial measure used by the Company to evaluate performance is Earnings Before Interest and Taxes (\"EBIT\"). As discussed in Note 15 — Operating Segments and Related Information in the accompanying Notes to the Consolidated Financial Statements, certain corporate costs are not included in EBIT.\\n\\nThe breakdown of EBIT is as follows:\\n\\n(Dollars in millions)\\n\\nFISCAL 2023\\n\\nFISCAL 2022\\n\\n% CHANGE\\n\\nFISCAL 2021\\n\\nNorth America Europe, Middle East & Africa Greater China\\n\\n$\\n\\n5,454 3,531 2,283\\n\\n$\\n\\n5,114 3,293 2,365\\n\\n7 % $ 7 % -3 %\\n\\n5,089 2,435 3,243\\n\\nAsia Pacific & Latin America Global Brand Divisions (1)'},\n",
       " {'id': 'chunk:118',\n",
       "  'vector_distance': '0.358749687672',\n",
       "  'content': \"NIKE, INC. CONSOLIDATED STATEMENTS OF INCOME\\n\\n(In millions, except per share data)\\n\\nRevenues Cost of sales\\n\\nGross profit\\n\\nDemand creation expense Operating overhead expense\\n\\nTotal selling and administrative expense\\n\\nInterest expense (income), net\\n\\nOther (income) expense, net Income before income taxes\\n\\nIncome tax expense NET INCOME\\n\\nEarnings per common share:\\n\\nBasic Diluted\\n\\nWeighted average common shares outstanding:\\n\\nBasic Diluted\\n\\nThe accompanying Notes to the Consolidated Financial Statements are an integral part of this statement.\\n\\n$\\n\\n$\\n\\n$ $\\n\\nYEAR ENDED MAY 31,\\n\\n2023\\n\\n2022\\n\\n2021\\n\\n51,217 $ 28,925\\n\\n46,710 $ 25,231\\n\\n44,538 24,576\\n\\n22,292 4,060 12,317\\n\\n21,479 3,850 10,954\\n\\n19,962 3,114 9,911\\n\\n16,377 (6)\\n\\n14,804 205\\n\\n13,025 262\\n\\n(280) 6,201\\n\\n(181) 6,651\\n\\n14 6,661\\n\\n1,131 5,070 $\\n\\n605 6,046 $\\n\\n934 5,727\\n\\n3.27 $ 3.23 $\\n\\n3.83 $ 3.75 $\\n\\n3.64 3.56\\n\\n1,551.6 1,569.8\\n\\n1,578.8 1,610.8\\n\\n1,573.0 1,609.4\\n\\n2023 FORM 10-K 55\\n\\nTable of Contents\\n\\nNIKE, INC. CONSOLIDATED STATEMENTS OF COMPREHENSIVE INCOME\\n\\nYEAR ENDED MAY 31,\\n\\n(Dollars in millions)\\n\\n2023\\n\\n2022\\n\\nNet income Other comprehensive income (loss), net of tax:\\n\\n$\\n\\n5,070 $\\n\\n6,046 $\\n\\nChange in net foreign currency translation adjustment\\n\\n267\\n\\n(522)\\n\\nChange in net gains (losses) on cash flow hedges Change in net gains (losses) on other\\n\\n(348) (6)\\n\\n1,214 6\\n\\nTotal other comprehensive income (loss), net of tax TOTAL COMPREHENSIVE INCOME\\n\\n$\\n\\n(87) 4,983 $\\n\\n698 6,744 $\\n\\nThe accompanying Notes to the Consolidated Financial Statements are an integral part of this statement.\\n\\n2023 FORM 10-K 56\\n\\n2021\\n\\n5,727\\n\\n496\\n\\n(825) 5\\n\\n(324) 5,403\\n\\nTable of Contents\\n\\nNIKE, INC. CONSOLIDATED BALANCE SHEETS\\n\\n(In millions)\\n\\nASSETS\\n\\nCurrent assets:\\n\\nCash and equivalents Short-term investments\\n\\nAccounts receivable, net Inventories Prepaid expenses and other current assets\\n\\nTotal current assets\\n\\nProperty, plant and equipment, net\\n\\nOperating lease right-of-use assets, net Identifiable intangible assets, net Goodwill\\n\\nDeferred income taxes and other assets\\n\\nTOTAL ASSETS\\n\\nLIABILITIES AND SHAREHOLDERS' EQUITY Current liabilities:\\n\\nCurrent portion of long-term debt Notes payable Accounts payable\\n\\nCurrent portion of operating lease liabilities Accrued liabilities Income taxes payable\\n\\nTotal current liabilities\\n\\nLong-term debt\\n\\nOperating lease liabilities Deferred income taxes and other liabilities Commitments and contingencies (Note 16)\\n\\nRedeemable preferred stock Shareholders' equity: Common stock at stated value:\"},\n",
       " {'id': 'chunk:158',\n",
       "  'vector_distance': '0.360825479031',\n",
       "  'content': \"Tax (expense) benefit Gain (loss) net of tax\\n\\n5 (14)\\n\\n(9) 22\\n\\nTotal net gain (loss) reclassified for the period\\n\\n$\\n\\n463 $\\n\\n30\\n\\n2023 FORM 10-K 82\\n\\nTable of Contents\\n\\nNOTE 14 — REVENUES\\n\\nDISAGGREGATION OF REVENUES The following tables present the Company's Revenues disaggregated by reportable operating segment, major product line and distribution channel:\\n\\n(Dollars in millions)\\n\\nNORTH AMERICA\\n\\nEUROPE, MIDDLE EAST & AFRICA\\n\\nGREATER CHINA\\n\\nYEAR ENDED MAY 31, 2023 ASIA PACIFIC & LATIN (1)\\n\\nGLOBAL BRAND DIVISIONS\\n\\nTOTAL NIKE\\n\\nAMERICA\\n\\nBRAND CONVERSE CORPORATE\\n\\nTOTAL NIKE, INC.\\n\\nRevenues by: Footwear\\n\\n$\\n\\n14,897 $\\n\\n8,260 $\\n\\n5,435 $\\n\\n4,543 $\\n\\n— $\\n\\n33,135 $\\n\\n2,155 $\\n\\n— $\\n\\n35,290\\n\\nApparel Equipment Other\\n\\n5,947 764 —\\n\\n4,566 592 —\\n\\n1,666 147 —\\n\\n1,664 224 —\\n\\n— — 58\\n\\n13,843 1,727 58\\n\\n90 28 154\\n\\n— — 27\\n\\n13,933 1,755 239\\n\\nTOTAL REVENUES\\n\\n$\\n\\n21,608 $\\n\\n13,418 $\\n\\n7,248 $\\n\\n6,431 $\\n\\n58 $\\n\\n48,763 $\\n\\n2,427 $\\n\\n27 $\\n\\n51,217\\n\\nRevenues by:\\n\\nSales to Wholesale Customers Sales through Direct to Consumer\\n\\n$\\n\\n11,273 $ 10,335\\n\\n8,522 $ 4,896\\n\\n3,866 $ 3,382\\n\\n3,736 $ 2,695\\n\\n— $ —\\n\\n27,397 $ 21,308\\n\\n1,299 $ 974\\n\\n— $ —\\n\\n28,696 22,282\\n\\nOther\\n\\nTOTAL REVENUES\\n\\n$\\n\\n—\\n\\n21,608 $\\n\\n—\\n\\n13,418 $\\n\\n— 7,248 $\\n\\n— 6,431 $\\n\\n58 58 $\\n\\n58\\n\\n48,763 $\\n\\n154 2,427 $\\n\\n27 27 $\\n\\n239 51,217\\n\\n(1) Refer to Note 18 — Acquisitions and Divestitures for additional information on the transition of the Company's NIKE Brand businesses in its CASA territory to third-party distributors.\\n\\nYEAR ENDED MAY 31, 2022\\n\\n(Dollars in millions)\\n\\nNORTH AMERICA\\n\\nEUROPE, MIDDLE EAST & AFRICA\\n\\nGREATER CHINA\\n\\nASIA PACIFIC & LATIN AMERICA\\n\\nGLOBAL BRAND DIVISIONS\\n\\nTOTAL NIKE\\n\\nBRAND CONVERSE CORPORATE\\n\\nTOTAL NIKE, INC.\\n\\nRevenues by: Footwear Apparel\\n\\n$\\n\\n12,228 $ 5,492\\n\\n7,388 $ 4,527\\n\\n5,416 $ 1,938\\n\\n4,111 $ 1,610\\n\\n— $ —\\n\\n29,143 $ 13,567\\n\\n2,094 $ 103\\n\\n— $ —\\n\\n31,237 13,670\\n\\nEquipment Other\\n\\n633 —\\n\\n564 —\\n\\n193 —\\n\\n234 —\\n\\n— 102\\n\\n1,624 102\\n\\n26 123\\n\\n— (72)\\n\\n1,650 153\\n\\nTOTAL REVENUES Revenues by:\\n\\n$\\n\\n18,353 $\\n\\n12,479 $\\n\\n7,547 $\\n\\n5,955 $\\n\\n102 $\\n\\n44,436 $\\n\\n2,346 $\\n\\n(72) $\\n\\n46,710\\n\\nSales to Wholesale Customers Sales through Direct to Consumer Other\\n\\n$\\n\\n9,621 $ 8,732 —\\n\\n8,377 $ 4,102 —\\n\\n4,081 $ 3,466 —\\n\\n3,529 $ 2,426 —\\n\\n— $ — 102\\n\\n25,608 $ 18,726 102\\n\\n1,292 $ 931 123\\n\\n— $ — (72)\\n\\n26,900 19,657 153\\n\\nTOTAL REVENUES\\n\\n$\\n\\n18,353 $\\n\\n12,479 $\\n\\n7,547 $\\n\\n5,955 $\\n\\n102 $\\n\\n44,436 $\\n\\n2,346 $\\n\\n(72) $\\n\\n46,710\\n\\n2023 FORM 10-K 83\\n\\nTable of Contents\\n\\nYEAR ENDED MAY 31, 2021\\n\\n(Dollars in millions)\\n\\nNORTH AMERICA\\n\\nEUROPE, MIDDLE EAST & AFRICA\\n\\nGREATER CHINA\"}]"
      ]
     },
     "execution_count": 68,
     "metadata": {},
     "output_type": "execute_result"
    }
   ],
   "execution_count": 68
  },
  {
   "cell_type": "code",
   "metadata": {
    "id": "YZg4U21r1ujD",
    "ExecuteTime": {
     "end_time": "2024-05-23T00:43:41.797762Z",
     "start_time": "2024-05-23T00:43:41.793658Z"
    }
   },
   "source": [
    "# Add filter to range query\n",
    "range_query.set_filter(text_filter)\n",
    "\n",
    "index.query(range_query)"
   ],
   "outputs": [
    {
     "data": {
      "text/plain": [
       "[{'id': 'chunk:81',\n",
       "  'vector_distance': '0.363789796829',\n",
       "  'content': 'NIKE Brand revenues, which represented over 90% of NIKE, Inc. Revenues, increased 10% and 16% on a reported and currency-neutral basis, respectively. This increase was primarily due to higher revenues in Men\\'s, the Jordan Brand, Women\\'s and Kids\\' which grew 17%, 35%,11% and 10%, respectively, on a wholesale equivalent basis.\\n\\nNIKE Brand footwear revenues increased 20% on a currency-neutral basis, due to higher revenues in Men\\'s, the Jordan Brand, Women\\'s and Kids\\'. Unit sales of footwear increased 13%, while higher average selling price (\"ASP\") per pair contributed approximately 7 percentage points of footwear revenue growth. Higher ASP was primarily due to higher full-price ASP, net of discounts, on a wholesale equivalent basis, and growth in the size of our NIKE Direct business, partially offset by lower NIKE Direct ASP.\\n\\nNIKE Brand apparel revenues increased 8% on a currency-neutral basis, primarily due to higher revenues in Men\\'s. Unit sales of apparel increased 4%, while higher ASP per unit contributed approximately 4 percentage points of apparel revenue growth. Higher ASP was primarily due to higher full-price ASP and growth in the size of our NIKE Direct business, partially offset by lower NIKE Direct ASP, reflecting higher promotional activity.\\n\\nNIKE Direct revenues increased 14% from $18.7 billion in fiscal 2022 to $21.3 billion in fiscal 2023. On a currency-neutral basis, NIKE Direct revenues increased 20% primarily driven by NIKE Brand Digital sales growth of 24%, comparable store sales growth of 14% and the addition of new stores. For further information regarding comparable store sales, including the definition, see \"Comparable Store Sales\". NIKE Brand Digital sales were $12.6 billion for fiscal 2023 compared to $10.7 billion for fiscal 2022.\\n\\n2023 FORM 10-K 33\\n\\nTable of Contents\\n\\nGROSS MARGIN FISCAL 2023 COMPARED TO FISCAL 2022\\n\\nFor fiscal 2023, our consolidated gross profit increased 4% to $22,292 million compared to $21,479 million for fiscal 2022. Gross margin decreased 250 basis points to 43.5% for fiscal 2023 compared to 46.0% for fiscal 2022 due to the following:\\n\\nWholesale equivalent\\n\\nThe decrease in gross margin for fiscal 2023 was primarily due to:\\n\\nHigher NIKE Brand product costs, on a wholesale equivalent basis, primarily due to higher input costs and elevated inbound freight and logistics costs as well as\\n\\nproduct mix;'},\n",
       " {'id': 'chunk:74',\n",
       "  'vector_distance': '0.45367962122',\n",
       "  'content': 'NIKE designs, develops, markets and sells athletic footwear, apparel, equipment, accessories and services worldwide. We are the largest seller of athletic footwear and apparel in the world. We sell our products through NIKE Direct operations, which is comprised of both NIKE-owned retail stores and sales through our digital platforms (also referred to as \"NIKE Brand Digital\"), to wholesale accounts and to a mix of independent distributors, licensees and sales representatives in nearly all countries around the world. Our goal is to deliver value to our shareholders by building a profitable global portfolio of branded footwear, apparel, equipment and accessories businesses. Our strategy is to achieve long-term revenue growth by creating innovative, \"must-have\" products, building deep personal consumer connections with our brands and delivering compelling consumer experiences through digital platforms and at retail.\\n\\nThrough the Consumer Direct Acceleration strategy, we are focused on creating the marketplace of the future with more premium, consistent and seamless consumer experiences, leading with digital and our owned stores, as well as select wholesale partners. In addition, our product creation and marketing organizations are aligned to a consumer construct focused on sports dimensions through Men\\'s, Women\\'s and Kids\\', which allows us to better serve consumer needs. We continue to invest in a new Enterprise Resource Planning Platform, data and analytics, demand sensing, insight gathering, and other areas to create an end-to-end technology foundation, which we believe will further accelerate our digital transformation. We believe this unified approach will accelerate growth and unlock more efficiency for our business, while driving speed and responsiveness as we serve consumers globally.\\n\\nFINANCIAL HIGHLIGHTS\\n\\n\\n\\nIn fiscal 2023, NIKE, Inc. achieved record Revenues of $51.2 billion, which increased 10% and 16% on a reported and currency-neutral basis, respectively\\n\\nNIKE Direct revenues grew 14% from $18.7 billion in fiscal 2022 to $21.3 billion in fiscal 2023, and represented approximately 44% of total NIKE Brand revenues for\\n\\nfiscal 2023\\n\\nGross margin for the fiscal year decreased 250 basis points to 43.5% primarily driven by higher product costs, higher markdowns and unfavorable changes in foreign currency exchange rates, partially offset by strategic pricing actions'},\n",
       " {'id': 'chunk:67',\n",
       "  'vector_distance': '0.466785609722',\n",
       "  'content': 'From time to time, we may invest in technology, business infrastructure, new businesses or capabilities, product offering and manufacturing innovation and expansion of existing businesses, such as our NIKE Direct operations, which require substantial cash investments and management attention. We believe cost-effective investments are essential to business growth and profitability; however, significant investments are subject to typical risks and uncertainties inherent in developing a new business or expanding an existing business. The failure of any significant investment to provide expected returns or profitability could have a material adverse effect on our financial results and divert management attention from more profitable business operations. See also \"Our NIKE Direct operations have required and will continue to require a substantial investment and commitment of resources and are subject to numerous risks and uncertainties.\"\\n\\nThe sale of a large number of shares of common stock by our principal shareholder could depress the market price of our common stock.\\n\\nAs of June 30, 2023, Swoosh, LLC beneficially owned approximately 77% of our Class A Common Stock. If, on June 30, 2023, all of these shares were converted into Class B Common Stock, Swoosh, LLC\\'s commensurate ownership percentage of our Class B Common Stock would be approximately 16%. The shares are available for resale, subject to the requirements of the U.S. securities laws and the terms of the limited liability company agreement governing Swoosh, LLC. The sale or prospect of a sale of a substantial number of these shares could have an adverse effect on the market price of our common stock. Swoosh, LLC was formed by Philip H. Knight, our Chairman Emeritus, to hold the majority of his shares of Class A Common Stock. Mr. Knight does not have voting rights with respect to Swoosh, LLC, although Travis Knight, his son and a NIKE director, has a significant role in the management of the Class A Common Stock owned by Swoosh, LLC.\\n\\nChanges in our credit ratings or macroeconomic conditions may affect our liquidity, increasing borrowing costs and limiting our financing options.'},\n",
       " {'id': 'chunk:5',\n",
       "  'vector_distance': '0.525818347931',\n",
       "  'content': 'Our wholly-owned subsidiary brand, Converse, headquartered in Boston, Massachusetts, designs, distributes and licenses casual sneakers, apparel and accessories under the Converse, Chuck Taylor, All Star, One Star, Star Chevron and Jack Purcell trademarks. Operating results of the Converse brand are reported on a stand-alone basis.\\n\\nIn addition to the products we sell to our wholesale customers and directly to consumers through our NIKE Direct operations, we have also entered into license agreements that permit unaffiliated parties to manufacture and sell, using NIKE-owned trademarks, certain apparel, digital devices and applications and other equipment designed for sports activities.\\n\\n2023 FORM 10-K 1\\n\\nTable of Contents\\n\\nWe also offer interactive consumer services and experiences as well as digital products through our digital platforms, including fitness and activity apps; sport, fitness and wellness content; and digital services and features in retail stores that enhance the consumer experience.\\n\\nSALES AND MARKETING\\n\\nWe experience moderate fluctuations in aggregate sales volume during the year. Historically, revenues in the first and fourth fiscal quarters have slightly exceeded those in the second and third fiscal quarters. However, the mix of product sales may vary considerably as a result of changes in seasonal and geographic demand for particular types of footwear, apparel and equipment, as well as other macroeconomic, strategic, operating and logistics-related factors.\\n\\nBecause NIKE is a consumer products company, the relative popularity and availability of various sports and fitness activities, as well as changing design trends, affect the demand for our products. We must, therefore, respond to trends and shifts in consumer preferences by adjusting the mix of existing product offerings, developing new products, styles and categories and influencing sports and fitness preferences through extensive marketing. Failure to respond in a timely and adequate manner could have a material adverse effect on our sales and profitability. This is a continuing risk. Refer to Item 1A. Risk Factors.\\n\\nOUR MARKETS'}]"
      ]
     },
     "execution_count": 69,
     "metadata": {},
     "output_type": "execute_result"
    }
   ],
   "execution_count": 69
  },
  {
   "metadata": {},
   "cell_type": "markdown",
   "source": [
    "## Cleanup\n",
    "\n",
    "Clean up the database."
   ]
  },
  {
   "cell_type": "code",
   "metadata": {
    "id": "On6yNuQn1ujD",
    "ExecuteTime": {
     "end_time": "2024-05-23T00:43:42.102600Z",
     "start_time": "2024-05-23T00:43:41.798304Z"
    }
   },
   "source": "!rvl index delete -i redisvl",
   "outputs": [
    {
     "name": "stdout",
     "output_type": "stream",
     "text": [
      "\u001B[32m20:43:41\u001B[0m \u001B[34m[RedisVL]\u001B[0m \u001B[1;30mINFO\u001B[0m   Index deleted successfully\r\n"
     ]
    }
   ],
   "execution_count": 70
  },
  {
   "metadata": {
    "ExecuteTime": {
     "end_time": "2024-05-23T00:43:42.105179Z",
     "start_time": "2024-05-23T00:43:42.103713Z"
    }
   },
   "cell_type": "code",
   "source": "",
   "outputs": [],
   "execution_count": 70
  }
 ],
 "metadata": {
  "accelerator": "GPU",
  "colab": {
   "gpuType": "T4",
   "provenance": []
  },
  "kernelspec": {
   "display_name": "Python 3 (ipykernel)",
   "name": "python3",
   "language": "python"
  },
  "language_info": {
   "codemirror_mode": {
    "name": "ipython",
    "version": 3
   },
   "file_extension": ".py",
   "mimetype": "text/x-python",
   "name": "python",
   "nbconvert_exporter": "python",
   "pygments_lexer": "ipython3",
   "version": "3.11.4"
  }
 },
 "nbformat": 4,
 "nbformat_minor": 0
}
