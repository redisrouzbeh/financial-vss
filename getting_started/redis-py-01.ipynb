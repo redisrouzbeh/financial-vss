{
 "cells": [
  {
   "cell_type": "markdown",
   "metadata": {
    "id": "R2-i8jBl9GRH"
   },
   "source": [
    "![Redis](https://redis.com/wp-content/themes/wpx/assets/images/logo-redis.svg?auto=webp&quality=85,75&width=120)\n",
    "\n",
    "# Introduction to Redis Python\n",
    "\n",
    "This notebook introduces [Redis](https://redis.io) and the standard Python client, [redis-py](https://redis-py.readthedocs.io/en/stable/), for interacting with the database. We will explore the basics of Redis setup, data structures, and capabilities like vector search!\n"
   ]
  },
  {
   "cell_type": "markdown",
   "metadata": {
    "id": "ojfRVcU2uPpr"
   },
   "source": [
    "### Install Python Dependencies"
   ]
  },
  {
   "metadata": {
    "ExecuteTime": {
     "end_time": "2024-05-23T00:32:32.081371Z",
     "start_time": "2024-05-23T00:32:32.079177Z"
    }
   },
   "cell_type": "code",
   "source": [
    "import os\n",
    "import warnings\n",
    "warnings.filterwarnings(\"ignore\")\n",
    "dir_path = os.getcwd()\n",
    "parent_directory = os.path.dirname(dir_path)\n",
    "os.environ[\"TOKENIZERS_PARALLELISM\"] = \"false\"\n",
    "os.environ[\"ROOT_DIR\"] = parent_directory\n",
    "print(dir_path)\n",
    "print(parent_directory)"
   ],
   "outputs": [
    {
     "name": "stdout",
     "output_type": "stream",
     "text": [
      "/Users/rouzbeh.farahmand/PycharmProjects/commit/financial-vss/getting_started\n",
      "/Users/rouzbeh.farahmand/PycharmProjects/commit/financial-vss\n"
     ]
    }
   ],
   "execution_count": 32
  },
  {
   "cell_type": "code",
   "metadata": {
    "colab": {
     "base_uri": "https://localhost:8080/"
    },
    "id": "Tpqa4wdIuPps",
    "outputId": "98d012ed-c460-4d46-bcb2-fdbd86589454",
    "ExecuteTime": {
     "end_time": "2024-05-23T00:32:34.389117Z",
     "start_time": "2024-05-23T00:32:32.221445Z"
    }
   },
   "source": "!pip install -r $ROOT_DIR/requirements.txt",
   "outputs": [
    {
     "name": "stdout",
     "output_type": "stream",
     "text": [
      "Requirement already satisfied: openai in /Users/rouzbeh.farahmand/PycharmProjects/redis-recommender/.venv/financial-vss/lib/python3.11/site-packages (from -r /Users/rouzbeh.farahmand/PycharmProjects/commit/financial-vss/requirements.txt (line 1)) (1.30.1)\r\n",
      "Requirement already satisfied: tiktoken in /Users/rouzbeh.farahmand/PycharmProjects/redis-recommender/.venv/financial-vss/lib/python3.11/site-packages (from -r /Users/rouzbeh.farahmand/PycharmProjects/commit/financial-vss/requirements.txt (line 2)) (0.7.0)\r\n",
      "Requirement already satisfied: langchain in /Users/rouzbeh.farahmand/PycharmProjects/redis-recommender/.venv/financial-vss/lib/python3.11/site-packages (from -r /Users/rouzbeh.farahmand/PycharmProjects/commit/financial-vss/requirements.txt (line 3)) (0.1.20)\r\n",
      "Requirement already satisfied: langchain-community in /Users/rouzbeh.farahmand/PycharmProjects/redis-recommender/.venv/financial-vss/lib/python3.11/site-packages (from -r /Users/rouzbeh.farahmand/PycharmProjects/commit/financial-vss/requirements.txt (line 4)) (0.0.38)\r\n",
      "Requirement already satisfied: unstructured[pdf] in /Users/rouzbeh.farahmand/PycharmProjects/redis-recommender/.venv/financial-vss/lib/python3.11/site-packages (from -r /Users/rouzbeh.farahmand/PycharmProjects/commit/financial-vss/requirements.txt (line 5)) (0.13.7)\r\n",
      "Requirement already satisfied: sentence-transformers in /Users/rouzbeh.farahmand/PycharmProjects/redis-recommender/.venv/financial-vss/lib/python3.11/site-packages (from -r /Users/rouzbeh.farahmand/PycharmProjects/commit/financial-vss/requirements.txt (line 6)) (2.7.0)\r\n",
      "Requirement already satisfied: pandas in /Users/rouzbeh.farahmand/PycharmProjects/redis-recommender/.venv/financial-vss/lib/python3.11/site-packages (from -r /Users/rouzbeh.farahmand/PycharmProjects/commit/financial-vss/requirements.txt (line 7)) (2.2.2)\r\n",
      "Requirement already satisfied: pdf2image in /Users/rouzbeh.farahmand/PycharmProjects/redis-recommender/.venv/financial-vss/lib/python3.11/site-packages (from -r /Users/rouzbeh.farahmand/PycharmProjects/commit/financial-vss/requirements.txt (line 8)) (1.17.0)\r\n",
      "Requirement already satisfied: redisvl>=0.1.0 in /Users/rouzbeh.farahmand/PycharmProjects/redis-recommender/.venv/financial-vss/lib/python3.11/site-packages (from -r /Users/rouzbeh.farahmand/PycharmProjects/commit/financial-vss/requirements.txt (line 9)) (0.2.0)\r\n",
      "Requirement already satisfied: anyio<5,>=3.5.0 in /Users/rouzbeh.farahmand/PycharmProjects/redis-recommender/.venv/financial-vss/lib/python3.11/site-packages (from openai->-r /Users/rouzbeh.farahmand/PycharmProjects/commit/financial-vss/requirements.txt (line 1)) (4.3.0)\r\n",
      "Requirement already satisfied: distro<2,>=1.7.0 in /Users/rouzbeh.farahmand/PycharmProjects/redis-recommender/.venv/financial-vss/lib/python3.11/site-packages (from openai->-r /Users/rouzbeh.farahmand/PycharmProjects/commit/financial-vss/requirements.txt (line 1)) (1.9.0)\r\n",
      "Requirement already satisfied: httpx<1,>=0.23.0 in /Users/rouzbeh.farahmand/PycharmProjects/redis-recommender/.venv/financial-vss/lib/python3.11/site-packages (from openai->-r /Users/rouzbeh.farahmand/PycharmProjects/commit/financial-vss/requirements.txt (line 1)) (0.27.0)\r\n",
      "Requirement already satisfied: pydantic<3,>=1.9.0 in /Users/rouzbeh.farahmand/PycharmProjects/redis-recommender/.venv/financial-vss/lib/python3.11/site-packages (from openai->-r /Users/rouzbeh.farahmand/PycharmProjects/commit/financial-vss/requirements.txt (line 1)) (2.7.1)\r\n",
      "Requirement already satisfied: sniffio in /Users/rouzbeh.farahmand/PycharmProjects/redis-recommender/.venv/financial-vss/lib/python3.11/site-packages (from openai->-r /Users/rouzbeh.farahmand/PycharmProjects/commit/financial-vss/requirements.txt (line 1)) (1.3.1)\r\n",
      "Requirement already satisfied: tqdm>4 in /Users/rouzbeh.farahmand/PycharmProjects/redis-recommender/.venv/financial-vss/lib/python3.11/site-packages (from openai->-r /Users/rouzbeh.farahmand/PycharmProjects/commit/financial-vss/requirements.txt (line 1)) (4.66.4)\r\n",
      "Requirement already satisfied: typing-extensions<5,>=4.7 in /Users/rouzbeh.farahmand/PycharmProjects/redis-recommender/.venv/financial-vss/lib/python3.11/site-packages (from openai->-r /Users/rouzbeh.farahmand/PycharmProjects/commit/financial-vss/requirements.txt (line 1)) (4.11.0)\r\n",
      "Requirement already satisfied: regex>=2022.1.18 in /Users/rouzbeh.farahmand/PycharmProjects/redis-recommender/.venv/financial-vss/lib/python3.11/site-packages (from tiktoken->-r /Users/rouzbeh.farahmand/PycharmProjects/commit/financial-vss/requirements.txt (line 2)) (2024.5.15)\r\n",
      "Requirement already satisfied: requests>=2.26.0 in /Users/rouzbeh.farahmand/PycharmProjects/redis-recommender/.venv/financial-vss/lib/python3.11/site-packages (from tiktoken->-r /Users/rouzbeh.farahmand/PycharmProjects/commit/financial-vss/requirements.txt (line 2)) (2.31.0)\r\n",
      "Requirement already satisfied: PyYAML>=5.3 in /Users/rouzbeh.farahmand/PycharmProjects/redis-recommender/.venv/financial-vss/lib/python3.11/site-packages (from langchain->-r /Users/rouzbeh.farahmand/PycharmProjects/commit/financial-vss/requirements.txt (line 3)) (6.0.1)\r\n",
      "Requirement already satisfied: SQLAlchemy<3,>=1.4 in /Users/rouzbeh.farahmand/PycharmProjects/redis-recommender/.venv/financial-vss/lib/python3.11/site-packages (from langchain->-r /Users/rouzbeh.farahmand/PycharmProjects/commit/financial-vss/requirements.txt (line 3)) (2.0.30)\r\n",
      "Requirement already satisfied: aiohttp<4.0.0,>=3.8.3 in /Users/rouzbeh.farahmand/PycharmProjects/redis-recommender/.venv/financial-vss/lib/python3.11/site-packages (from langchain->-r /Users/rouzbeh.farahmand/PycharmProjects/commit/financial-vss/requirements.txt (line 3)) (3.9.5)\r\n",
      "Requirement already satisfied: dataclasses-json<0.7,>=0.5.7 in /Users/rouzbeh.farahmand/PycharmProjects/redis-recommender/.venv/financial-vss/lib/python3.11/site-packages (from langchain->-r /Users/rouzbeh.farahmand/PycharmProjects/commit/financial-vss/requirements.txt (line 3)) (0.6.6)\r\n",
      "Requirement already satisfied: langchain-core<0.2.0,>=0.1.52 in /Users/rouzbeh.farahmand/PycharmProjects/redis-recommender/.venv/financial-vss/lib/python3.11/site-packages (from langchain->-r /Users/rouzbeh.farahmand/PycharmProjects/commit/financial-vss/requirements.txt (line 3)) (0.1.52)\r\n",
      "Requirement already satisfied: langchain-text-splitters<0.1,>=0.0.1 in /Users/rouzbeh.farahmand/PycharmProjects/redis-recommender/.venv/financial-vss/lib/python3.11/site-packages (from langchain->-r /Users/rouzbeh.farahmand/PycharmProjects/commit/financial-vss/requirements.txt (line 3)) (0.0.2)\r\n",
      "Requirement already satisfied: langsmith<0.2.0,>=0.1.17 in /Users/rouzbeh.farahmand/PycharmProjects/redis-recommender/.venv/financial-vss/lib/python3.11/site-packages (from langchain->-r /Users/rouzbeh.farahmand/PycharmProjects/commit/financial-vss/requirements.txt (line 3)) (0.1.59)\r\n",
      "Requirement already satisfied: numpy<2,>=1 in /Users/rouzbeh.farahmand/PycharmProjects/redis-recommender/.venv/financial-vss/lib/python3.11/site-packages (from langchain->-r /Users/rouzbeh.farahmand/PycharmProjects/commit/financial-vss/requirements.txt (line 3)) (1.26.4)\r\n",
      "Requirement already satisfied: tenacity<9.0.0,>=8.1.0 in /Users/rouzbeh.farahmand/PycharmProjects/redis-recommender/.venv/financial-vss/lib/python3.11/site-packages (from langchain->-r /Users/rouzbeh.farahmand/PycharmProjects/commit/financial-vss/requirements.txt (line 3)) (8.3.0)\r\n",
      "Requirement already satisfied: chardet in /Users/rouzbeh.farahmand/PycharmProjects/redis-recommender/.venv/financial-vss/lib/python3.11/site-packages (from unstructured[pdf]->-r /Users/rouzbeh.farahmand/PycharmProjects/commit/financial-vss/requirements.txt (line 5)) (5.2.0)\r\n",
      "Requirement already satisfied: filetype in /Users/rouzbeh.farahmand/PycharmProjects/redis-recommender/.venv/financial-vss/lib/python3.11/site-packages (from unstructured[pdf]->-r /Users/rouzbeh.farahmand/PycharmProjects/commit/financial-vss/requirements.txt (line 5)) (1.2.0)\r\n",
      "Requirement already satisfied: python-magic in /Users/rouzbeh.farahmand/PycharmProjects/redis-recommender/.venv/financial-vss/lib/python3.11/site-packages (from unstructured[pdf]->-r /Users/rouzbeh.farahmand/PycharmProjects/commit/financial-vss/requirements.txt (line 5)) (0.4.27)\r\n",
      "Requirement already satisfied: lxml in /Users/rouzbeh.farahmand/PycharmProjects/redis-recommender/.venv/financial-vss/lib/python3.11/site-packages (from unstructured[pdf]->-r /Users/rouzbeh.farahmand/PycharmProjects/commit/financial-vss/requirements.txt (line 5)) (5.2.2)\r\n",
      "Requirement already satisfied: nltk in /Users/rouzbeh.farahmand/PycharmProjects/redis-recommender/.venv/financial-vss/lib/python3.11/site-packages (from unstructured[pdf]->-r /Users/rouzbeh.farahmand/PycharmProjects/commit/financial-vss/requirements.txt (line 5)) (3.8.1)\r\n",
      "Requirement already satisfied: tabulate in /Users/rouzbeh.farahmand/PycharmProjects/redis-recommender/.venv/financial-vss/lib/python3.11/site-packages (from unstructured[pdf]->-r /Users/rouzbeh.farahmand/PycharmProjects/commit/financial-vss/requirements.txt (line 5)) (0.9.0)\r\n",
      "Requirement already satisfied: beautifulsoup4 in /Users/rouzbeh.farahmand/PycharmProjects/redis-recommender/.venv/financial-vss/lib/python3.11/site-packages (from unstructured[pdf]->-r /Users/rouzbeh.farahmand/PycharmProjects/commit/financial-vss/requirements.txt (line 5)) (4.12.3)\r\n",
      "Requirement already satisfied: emoji in /Users/rouzbeh.farahmand/PycharmProjects/redis-recommender/.venv/financial-vss/lib/python3.11/site-packages (from unstructured[pdf]->-r /Users/rouzbeh.farahmand/PycharmProjects/commit/financial-vss/requirements.txt (line 5)) (2.11.1)\r\n",
      "Requirement already satisfied: python-iso639 in /Users/rouzbeh.farahmand/PycharmProjects/redis-recommender/.venv/financial-vss/lib/python3.11/site-packages (from unstructured[pdf]->-r /Users/rouzbeh.farahmand/PycharmProjects/commit/financial-vss/requirements.txt (line 5)) (2024.4.27)\r\n",
      "Requirement already satisfied: langdetect in /Users/rouzbeh.farahmand/PycharmProjects/redis-recommender/.venv/financial-vss/lib/python3.11/site-packages (from unstructured[pdf]->-r /Users/rouzbeh.farahmand/PycharmProjects/commit/financial-vss/requirements.txt (line 5)) (1.0.9)\r\n",
      "Requirement already satisfied: rapidfuzz in /Users/rouzbeh.farahmand/PycharmProjects/redis-recommender/.venv/financial-vss/lib/python3.11/site-packages (from unstructured[pdf]->-r /Users/rouzbeh.farahmand/PycharmProjects/commit/financial-vss/requirements.txt (line 5)) (3.9.0)\r\n",
      "Requirement already satisfied: backoff in /Users/rouzbeh.farahmand/PycharmProjects/redis-recommender/.venv/financial-vss/lib/python3.11/site-packages (from unstructured[pdf]->-r /Users/rouzbeh.farahmand/PycharmProjects/commit/financial-vss/requirements.txt (line 5)) (2.2.1)\r\n",
      "Requirement already satisfied: unstructured-client in /Users/rouzbeh.farahmand/PycharmProjects/redis-recommender/.venv/financial-vss/lib/python3.11/site-packages (from unstructured[pdf]->-r /Users/rouzbeh.farahmand/PycharmProjects/commit/financial-vss/requirements.txt (line 5)) (0.22.0)\r\n",
      "Requirement already satisfied: wrapt in /Users/rouzbeh.farahmand/PycharmProjects/redis-recommender/.venv/financial-vss/lib/python3.11/site-packages (from unstructured[pdf]->-r /Users/rouzbeh.farahmand/PycharmProjects/commit/financial-vss/requirements.txt (line 5)) (1.16.0)\r\n",
      "Requirement already satisfied: onnx in /Users/rouzbeh.farahmand/PycharmProjects/redis-recommender/.venv/financial-vss/lib/python3.11/site-packages (from unstructured[pdf]->-r /Users/rouzbeh.farahmand/PycharmProjects/commit/financial-vss/requirements.txt (line 5)) (1.16.0)\r\n",
      "Requirement already satisfied: pdfminer.six in /Users/rouzbeh.farahmand/PycharmProjects/redis-recommender/.venv/financial-vss/lib/python3.11/site-packages (from unstructured[pdf]->-r /Users/rouzbeh.farahmand/PycharmProjects/commit/financial-vss/requirements.txt (line 5)) (20231228)\r\n",
      "Requirement already satisfied: pikepdf in /Users/rouzbeh.farahmand/PycharmProjects/redis-recommender/.venv/financial-vss/lib/python3.11/site-packages (from unstructured[pdf]->-r /Users/rouzbeh.farahmand/PycharmProjects/commit/financial-vss/requirements.txt (line 5)) (8.15.1)\r\n",
      "Requirement already satisfied: pillow-heif in /Users/rouzbeh.farahmand/PycharmProjects/redis-recommender/.venv/financial-vss/lib/python3.11/site-packages (from unstructured[pdf]->-r /Users/rouzbeh.farahmand/PycharmProjects/commit/financial-vss/requirements.txt (line 5)) (0.16.0)\r\n",
      "Requirement already satisfied: pypdf in /Users/rouzbeh.farahmand/PycharmProjects/redis-recommender/.venv/financial-vss/lib/python3.11/site-packages (from unstructured[pdf]->-r /Users/rouzbeh.farahmand/PycharmProjects/commit/financial-vss/requirements.txt (line 5)) (4.2.0)\r\n",
      "Requirement already satisfied: unstructured-inference==0.7.31 in /Users/rouzbeh.farahmand/PycharmProjects/redis-recommender/.venv/financial-vss/lib/python3.11/site-packages (from unstructured[pdf]->-r /Users/rouzbeh.farahmand/PycharmProjects/commit/financial-vss/requirements.txt (line 5)) (0.7.31)\r\n",
      "Requirement already satisfied: unstructured.pytesseract>=0.3.12 in /Users/rouzbeh.farahmand/PycharmProjects/redis-recommender/.venv/financial-vss/lib/python3.11/site-packages (from unstructured[pdf]->-r /Users/rouzbeh.farahmand/PycharmProjects/commit/financial-vss/requirements.txt (line 5)) (0.3.12)\r\n",
      "Requirement already satisfied: google-cloud-vision in /Users/rouzbeh.farahmand/PycharmProjects/redis-recommender/.venv/financial-vss/lib/python3.11/site-packages (from unstructured[pdf]->-r /Users/rouzbeh.farahmand/PycharmProjects/commit/financial-vss/requirements.txt (line 5)) (3.7.2)\r\n",
      "Requirement already satisfied: layoutparser[layoutmodels,tesseract] in /Users/rouzbeh.farahmand/PycharmProjects/redis-recommender/.venv/financial-vss/lib/python3.11/site-packages (from unstructured-inference==0.7.31->unstructured[pdf]->-r /Users/rouzbeh.farahmand/PycharmProjects/commit/financial-vss/requirements.txt (line 5)) (0.3.4)\r\n",
      "Requirement already satisfied: python-multipart in /Users/rouzbeh.farahmand/PycharmProjects/redis-recommender/.venv/financial-vss/lib/python3.11/site-packages (from unstructured-inference==0.7.31->unstructured[pdf]->-r /Users/rouzbeh.farahmand/PycharmProjects/commit/financial-vss/requirements.txt (line 5)) (0.0.9)\r\n",
      "Requirement already satisfied: huggingface-hub in /Users/rouzbeh.farahmand/PycharmProjects/redis-recommender/.venv/financial-vss/lib/python3.11/site-packages (from unstructured-inference==0.7.31->unstructured[pdf]->-r /Users/rouzbeh.farahmand/PycharmProjects/commit/financial-vss/requirements.txt (line 5)) (0.23.0)\r\n",
      "Requirement already satisfied: opencv-python!=4.7.0.68 in /Users/rouzbeh.farahmand/PycharmProjects/redis-recommender/.venv/financial-vss/lib/python3.11/site-packages (from unstructured-inference==0.7.31->unstructured[pdf]->-r /Users/rouzbeh.farahmand/PycharmProjects/commit/financial-vss/requirements.txt (line 5)) (4.9.0.80)\r\n",
      "Requirement already satisfied: onnxruntime>=1.17.0 in /Users/rouzbeh.farahmand/PycharmProjects/redis-recommender/.venv/financial-vss/lib/python3.11/site-packages (from unstructured-inference==0.7.31->unstructured[pdf]->-r /Users/rouzbeh.farahmand/PycharmProjects/commit/financial-vss/requirements.txt (line 5)) (1.17.3)\r\n",
      "Requirement already satisfied: transformers>=4.25.1 in /Users/rouzbeh.farahmand/PycharmProjects/redis-recommender/.venv/financial-vss/lib/python3.11/site-packages (from unstructured-inference==0.7.31->unstructured[pdf]->-r /Users/rouzbeh.farahmand/PycharmProjects/commit/financial-vss/requirements.txt (line 5)) (4.41.0)\r\n",
      "Requirement already satisfied: torch>=1.11.0 in /Users/rouzbeh.farahmand/PycharmProjects/redis-recommender/.venv/financial-vss/lib/python3.11/site-packages (from sentence-transformers->-r /Users/rouzbeh.farahmand/PycharmProjects/commit/financial-vss/requirements.txt (line 6)) (2.3.0)\r\n",
      "Requirement already satisfied: scikit-learn in /Users/rouzbeh.farahmand/PycharmProjects/redis-recommender/.venv/financial-vss/lib/python3.11/site-packages (from sentence-transformers->-r /Users/rouzbeh.farahmand/PycharmProjects/commit/financial-vss/requirements.txt (line 6)) (1.4.2)\r\n",
      "Requirement already satisfied: scipy in /Users/rouzbeh.farahmand/PycharmProjects/redis-recommender/.venv/financial-vss/lib/python3.11/site-packages (from sentence-transformers->-r /Users/rouzbeh.farahmand/PycharmProjects/commit/financial-vss/requirements.txt (line 6)) (1.13.0)\r\n",
      "Requirement already satisfied: Pillow in /Users/rouzbeh.farahmand/PycharmProjects/redis-recommender/.venv/financial-vss/lib/python3.11/site-packages (from sentence-transformers->-r /Users/rouzbeh.farahmand/PycharmProjects/commit/financial-vss/requirements.txt (line 6)) (10.3.0)\r\n",
      "Requirement already satisfied: python-dateutil>=2.8.2 in /Users/rouzbeh.farahmand/PycharmProjects/redis-recommender/.venv/financial-vss/lib/python3.11/site-packages (from pandas->-r /Users/rouzbeh.farahmand/PycharmProjects/commit/financial-vss/requirements.txt (line 7)) (2.9.0.post0)\r\n",
      "Requirement already satisfied: pytz>=2020.1 in /Users/rouzbeh.farahmand/PycharmProjects/redis-recommender/.venv/financial-vss/lib/python3.11/site-packages (from pandas->-r /Users/rouzbeh.farahmand/PycharmProjects/commit/financial-vss/requirements.txt (line 7)) (2024.1)\r\n",
      "Requirement already satisfied: tzdata>=2022.7 in /Users/rouzbeh.farahmand/PycharmProjects/redis-recommender/.venv/financial-vss/lib/python3.11/site-packages (from pandas->-r /Users/rouzbeh.farahmand/PycharmProjects/commit/financial-vss/requirements.txt (line 7)) (2024.1)\r\n",
      "Requirement already satisfied: coloredlogs in /Users/rouzbeh.farahmand/PycharmProjects/redis-recommender/.venv/financial-vss/lib/python3.11/site-packages (from redisvl>=0.1.0->-r /Users/rouzbeh.farahmand/PycharmProjects/commit/financial-vss/requirements.txt (line 9)) (15.0.1)\r\n",
      "Requirement already satisfied: redis>=5.0.0 in /Users/rouzbeh.farahmand/PycharmProjects/redis-recommender/.venv/financial-vss/lib/python3.11/site-packages (from redisvl>=0.1.0->-r /Users/rouzbeh.farahmand/PycharmProjects/commit/financial-vss/requirements.txt (line 9)) (5.0.4)\r\n",
      "Requirement already satisfied: aiosignal>=1.1.2 in /Users/rouzbeh.farahmand/PycharmProjects/redis-recommender/.venv/financial-vss/lib/python3.11/site-packages (from aiohttp<4.0.0,>=3.8.3->langchain->-r /Users/rouzbeh.farahmand/PycharmProjects/commit/financial-vss/requirements.txt (line 3)) (1.3.1)\r\n",
      "Requirement already satisfied: attrs>=17.3.0 in /Users/rouzbeh.farahmand/PycharmProjects/redis-recommender/.venv/financial-vss/lib/python3.11/site-packages (from aiohttp<4.0.0,>=3.8.3->langchain->-r /Users/rouzbeh.farahmand/PycharmProjects/commit/financial-vss/requirements.txt (line 3)) (23.2.0)\r\n",
      "Requirement already satisfied: frozenlist>=1.1.1 in /Users/rouzbeh.farahmand/PycharmProjects/redis-recommender/.venv/financial-vss/lib/python3.11/site-packages (from aiohttp<4.0.0,>=3.8.3->langchain->-r /Users/rouzbeh.farahmand/PycharmProjects/commit/financial-vss/requirements.txt (line 3)) (1.4.1)\r\n",
      "Requirement already satisfied: multidict<7.0,>=4.5 in /Users/rouzbeh.farahmand/PycharmProjects/redis-recommender/.venv/financial-vss/lib/python3.11/site-packages (from aiohttp<4.0.0,>=3.8.3->langchain->-r /Users/rouzbeh.farahmand/PycharmProjects/commit/financial-vss/requirements.txt (line 3)) (6.0.5)\r\n",
      "Requirement already satisfied: yarl<2.0,>=1.0 in /Users/rouzbeh.farahmand/PycharmProjects/redis-recommender/.venv/financial-vss/lib/python3.11/site-packages (from aiohttp<4.0.0,>=3.8.3->langchain->-r /Users/rouzbeh.farahmand/PycharmProjects/commit/financial-vss/requirements.txt (line 3)) (1.9.4)\r\n",
      "Requirement already satisfied: idna>=2.8 in /Users/rouzbeh.farahmand/PycharmProjects/redis-recommender/.venv/financial-vss/lib/python3.11/site-packages (from anyio<5,>=3.5.0->openai->-r /Users/rouzbeh.farahmand/PycharmProjects/commit/financial-vss/requirements.txt (line 1)) (3.7)\r\n",
      "Requirement already satisfied: marshmallow<4.0.0,>=3.18.0 in /Users/rouzbeh.farahmand/PycharmProjects/redis-recommender/.venv/financial-vss/lib/python3.11/site-packages (from dataclasses-json<0.7,>=0.5.7->langchain->-r /Users/rouzbeh.farahmand/PycharmProjects/commit/financial-vss/requirements.txt (line 3)) (3.21.2)\r\n",
      "Requirement already satisfied: typing-inspect<1,>=0.4.0 in /Users/rouzbeh.farahmand/PycharmProjects/redis-recommender/.venv/financial-vss/lib/python3.11/site-packages (from dataclasses-json<0.7,>=0.5.7->langchain->-r /Users/rouzbeh.farahmand/PycharmProjects/commit/financial-vss/requirements.txt (line 3)) (0.9.0)\r\n",
      "Requirement already satisfied: certifi in /Users/rouzbeh.farahmand/PycharmProjects/redis-recommender/.venv/financial-vss/lib/python3.11/site-packages (from httpx<1,>=0.23.0->openai->-r /Users/rouzbeh.farahmand/PycharmProjects/commit/financial-vss/requirements.txt (line 1)) (2024.2.2)\r\n",
      "Requirement already satisfied: httpcore==1.* in /Users/rouzbeh.farahmand/PycharmProjects/redis-recommender/.venv/financial-vss/lib/python3.11/site-packages (from httpx<1,>=0.23.0->openai->-r /Users/rouzbeh.farahmand/PycharmProjects/commit/financial-vss/requirements.txt (line 1)) (1.0.5)\r\n",
      "Requirement already satisfied: h11<0.15,>=0.13 in /Users/rouzbeh.farahmand/PycharmProjects/redis-recommender/.venv/financial-vss/lib/python3.11/site-packages (from httpcore==1.*->httpx<1,>=0.23.0->openai->-r /Users/rouzbeh.farahmand/PycharmProjects/commit/financial-vss/requirements.txt (line 1)) (0.14.0)\r\n",
      "Requirement already satisfied: filelock in /Users/rouzbeh.farahmand/PycharmProjects/redis-recommender/.venv/financial-vss/lib/python3.11/site-packages (from huggingface-hub->unstructured-inference==0.7.31->unstructured[pdf]->-r /Users/rouzbeh.farahmand/PycharmProjects/commit/financial-vss/requirements.txt (line 5)) (3.14.0)\r\n",
      "Requirement already satisfied: fsspec>=2023.5.0 in /Users/rouzbeh.farahmand/PycharmProjects/redis-recommender/.venv/financial-vss/lib/python3.11/site-packages (from huggingface-hub->unstructured-inference==0.7.31->unstructured[pdf]->-r /Users/rouzbeh.farahmand/PycharmProjects/commit/financial-vss/requirements.txt (line 5)) (2024.5.0)\r\n",
      "Requirement already satisfied: packaging>=20.9 in /Users/rouzbeh.farahmand/PycharmProjects/redis-recommender/.venv/financial-vss/lib/python3.11/site-packages (from huggingface-hub->unstructured-inference==0.7.31->unstructured[pdf]->-r /Users/rouzbeh.farahmand/PycharmProjects/commit/financial-vss/requirements.txt (line 5)) (23.2)\r\n",
      "Requirement already satisfied: jsonpatch<2.0,>=1.33 in /Users/rouzbeh.farahmand/PycharmProjects/redis-recommender/.venv/financial-vss/lib/python3.11/site-packages (from langchain-core<0.2.0,>=0.1.52->langchain->-r /Users/rouzbeh.farahmand/PycharmProjects/commit/financial-vss/requirements.txt (line 3)) (1.33)\r\n",
      "Requirement already satisfied: orjson<4.0.0,>=3.9.14 in /Users/rouzbeh.farahmand/PycharmProjects/redis-recommender/.venv/financial-vss/lib/python3.11/site-packages (from langsmith<0.2.0,>=0.1.17->langchain->-r /Users/rouzbeh.farahmand/PycharmProjects/commit/financial-vss/requirements.txt (line 3)) (3.10.3)\r\n",
      "Requirement already satisfied: annotated-types>=0.4.0 in /Users/rouzbeh.farahmand/PycharmProjects/redis-recommender/.venv/financial-vss/lib/python3.11/site-packages (from pydantic<3,>=1.9.0->openai->-r /Users/rouzbeh.farahmand/PycharmProjects/commit/financial-vss/requirements.txt (line 1)) (0.6.0)\r\n",
      "Requirement already satisfied: pydantic-core==2.18.2 in /Users/rouzbeh.farahmand/PycharmProjects/redis-recommender/.venv/financial-vss/lib/python3.11/site-packages (from pydantic<3,>=1.9.0->openai->-r /Users/rouzbeh.farahmand/PycharmProjects/commit/financial-vss/requirements.txt (line 1)) (2.18.2)\r\n",
      "Requirement already satisfied: six>=1.5 in /Users/rouzbeh.farahmand/PycharmProjects/redis-recommender/.venv/financial-vss/lib/python3.11/site-packages (from python-dateutil>=2.8.2->pandas->-r /Users/rouzbeh.farahmand/PycharmProjects/commit/financial-vss/requirements.txt (line 7)) (1.16.0)\r\n",
      "Requirement already satisfied: charset-normalizer<4,>=2 in /Users/rouzbeh.farahmand/PycharmProjects/redis-recommender/.venv/financial-vss/lib/python3.11/site-packages (from requests>=2.26.0->tiktoken->-r /Users/rouzbeh.farahmand/PycharmProjects/commit/financial-vss/requirements.txt (line 2)) (3.3.2)\r\n",
      "Requirement already satisfied: urllib3<3,>=1.21.1 in /Users/rouzbeh.farahmand/PycharmProjects/redis-recommender/.venv/financial-vss/lib/python3.11/site-packages (from requests>=2.26.0->tiktoken->-r /Users/rouzbeh.farahmand/PycharmProjects/commit/financial-vss/requirements.txt (line 2)) (2.2.1)\r\n",
      "Requirement already satisfied: sympy in /Users/rouzbeh.farahmand/PycharmProjects/redis-recommender/.venv/financial-vss/lib/python3.11/site-packages (from torch>=1.11.0->sentence-transformers->-r /Users/rouzbeh.farahmand/PycharmProjects/commit/financial-vss/requirements.txt (line 6)) (1.12)\r\n",
      "Requirement already satisfied: networkx in /Users/rouzbeh.farahmand/PycharmProjects/redis-recommender/.venv/financial-vss/lib/python3.11/site-packages (from torch>=1.11.0->sentence-transformers->-r /Users/rouzbeh.farahmand/PycharmProjects/commit/financial-vss/requirements.txt (line 6)) (3.3)\r\n",
      "Requirement already satisfied: jinja2 in /Users/rouzbeh.farahmand/PycharmProjects/redis-recommender/.venv/financial-vss/lib/python3.11/site-packages (from torch>=1.11.0->sentence-transformers->-r /Users/rouzbeh.farahmand/PycharmProjects/commit/financial-vss/requirements.txt (line 6)) (3.1.4)\r\n",
      "Requirement already satisfied: tokenizers<0.20,>=0.19 in /Users/rouzbeh.farahmand/PycharmProjects/redis-recommender/.venv/financial-vss/lib/python3.11/site-packages (from transformers>=4.25.1->unstructured-inference==0.7.31->unstructured[pdf]->-r /Users/rouzbeh.farahmand/PycharmProjects/commit/financial-vss/requirements.txt (line 5)) (0.19.1)\r\n",
      "Requirement already satisfied: safetensors>=0.4.1 in /Users/rouzbeh.farahmand/PycharmProjects/redis-recommender/.venv/financial-vss/lib/python3.11/site-packages (from transformers>=4.25.1->unstructured-inference==0.7.31->unstructured[pdf]->-r /Users/rouzbeh.farahmand/PycharmProjects/commit/financial-vss/requirements.txt (line 5)) (0.4.3)\r\n",
      "Requirement already satisfied: soupsieve>1.2 in /Users/rouzbeh.farahmand/PycharmProjects/redis-recommender/.venv/financial-vss/lib/python3.11/site-packages (from beautifulsoup4->unstructured[pdf]->-r /Users/rouzbeh.farahmand/PycharmProjects/commit/financial-vss/requirements.txt (line 5)) (2.5)\r\n",
      "Requirement already satisfied: humanfriendly>=9.1 in /Users/rouzbeh.farahmand/PycharmProjects/redis-recommender/.venv/financial-vss/lib/python3.11/site-packages (from coloredlogs->redisvl>=0.1.0->-r /Users/rouzbeh.farahmand/PycharmProjects/commit/financial-vss/requirements.txt (line 9)) (10.0)\r\n",
      "Requirement already satisfied: google-api-core[grpc]!=2.0.*,!=2.1.*,!=2.10.*,!=2.2.*,!=2.3.*,!=2.4.*,!=2.5.*,!=2.6.*,!=2.7.*,!=2.8.*,!=2.9.*,<3.0.0dev,>=1.34.1 in /Users/rouzbeh.farahmand/PycharmProjects/redis-recommender/.venv/financial-vss/lib/python3.11/site-packages (from google-cloud-vision->unstructured[pdf]->-r /Users/rouzbeh.farahmand/PycharmProjects/commit/financial-vss/requirements.txt (line 5)) (2.19.0)\r\n",
      "Requirement already satisfied: google-auth!=2.24.0,!=2.25.0,<3.0.0dev,>=2.14.1 in /Users/rouzbeh.farahmand/PycharmProjects/redis-recommender/.venv/financial-vss/lib/python3.11/site-packages (from google-cloud-vision->unstructured[pdf]->-r /Users/rouzbeh.farahmand/PycharmProjects/commit/financial-vss/requirements.txt (line 5)) (2.29.0)\r\n",
      "Requirement already satisfied: proto-plus<2.0.0dev,>=1.22.3 in /Users/rouzbeh.farahmand/PycharmProjects/redis-recommender/.venv/financial-vss/lib/python3.11/site-packages (from google-cloud-vision->unstructured[pdf]->-r /Users/rouzbeh.farahmand/PycharmProjects/commit/financial-vss/requirements.txt (line 5)) (1.23.0)\r\n",
      "Requirement already satisfied: protobuf!=3.20.0,!=3.20.1,!=4.21.0,!=4.21.1,!=4.21.2,!=4.21.3,!=4.21.4,!=4.21.5,<5.0.0dev,>=3.19.5 in /Users/rouzbeh.farahmand/PycharmProjects/redis-recommender/.venv/financial-vss/lib/python3.11/site-packages (from google-cloud-vision->unstructured[pdf]->-r /Users/rouzbeh.farahmand/PycharmProjects/commit/financial-vss/requirements.txt (line 5)) (4.25.3)\r\n",
      "Requirement already satisfied: click in /Users/rouzbeh.farahmand/PycharmProjects/redis-recommender/.venv/financial-vss/lib/python3.11/site-packages (from nltk->unstructured[pdf]->-r /Users/rouzbeh.farahmand/PycharmProjects/commit/financial-vss/requirements.txt (line 5)) (8.1.7)\r\n",
      "Requirement already satisfied: joblib in /Users/rouzbeh.farahmand/PycharmProjects/redis-recommender/.venv/financial-vss/lib/python3.11/site-packages (from nltk->unstructured[pdf]->-r /Users/rouzbeh.farahmand/PycharmProjects/commit/financial-vss/requirements.txt (line 5)) (1.4.2)\r\n",
      "Requirement already satisfied: cryptography>=36.0.0 in /Users/rouzbeh.farahmand/PycharmProjects/redis-recommender/.venv/financial-vss/lib/python3.11/site-packages (from pdfminer.six->unstructured[pdf]->-r /Users/rouzbeh.farahmand/PycharmProjects/commit/financial-vss/requirements.txt (line 5)) (42.0.7)\r\n",
      "Requirement already satisfied: Deprecated in /Users/rouzbeh.farahmand/PycharmProjects/redis-recommender/.venv/financial-vss/lib/python3.11/site-packages (from pikepdf->unstructured[pdf]->-r /Users/rouzbeh.farahmand/PycharmProjects/commit/financial-vss/requirements.txt (line 5)) (1.2.14)\r\n",
      "Requirement already satisfied: threadpoolctl>=2.0.0 in /Users/rouzbeh.farahmand/PycharmProjects/redis-recommender/.venv/financial-vss/lib/python3.11/site-packages (from scikit-learn->sentence-transformers->-r /Users/rouzbeh.farahmand/PycharmProjects/commit/financial-vss/requirements.txt (line 6)) (3.5.0)\r\n",
      "Requirement already satisfied: deepdiff>=6.0 in /Users/rouzbeh.farahmand/PycharmProjects/redis-recommender/.venv/financial-vss/lib/python3.11/site-packages (from unstructured-client->unstructured[pdf]->-r /Users/rouzbeh.farahmand/PycharmProjects/commit/financial-vss/requirements.txt (line 5)) (7.0.1)\r\n",
      "Requirement already satisfied: jsonpath-python>=1.0.6 in /Users/rouzbeh.farahmand/PycharmProjects/redis-recommender/.venv/financial-vss/lib/python3.11/site-packages (from unstructured-client->unstructured[pdf]->-r /Users/rouzbeh.farahmand/PycharmProjects/commit/financial-vss/requirements.txt (line 5)) (1.0.6)\r\n",
      "Requirement already satisfied: mypy-extensions>=1.0.0 in /Users/rouzbeh.farahmand/PycharmProjects/redis-recommender/.venv/financial-vss/lib/python3.11/site-packages (from unstructured-client->unstructured[pdf]->-r /Users/rouzbeh.farahmand/PycharmProjects/commit/financial-vss/requirements.txt (line 5)) (1.0.0)\r\n",
      "Requirement already satisfied: cffi>=1.12 in /Users/rouzbeh.farahmand/PycharmProjects/redis-recommender/.venv/financial-vss/lib/python3.11/site-packages (from cryptography>=36.0.0->pdfminer.six->unstructured[pdf]->-r /Users/rouzbeh.farahmand/PycharmProjects/commit/financial-vss/requirements.txt (line 5)) (1.16.0)\r\n",
      "Requirement already satisfied: ordered-set<4.2.0,>=4.1.0 in /Users/rouzbeh.farahmand/PycharmProjects/redis-recommender/.venv/financial-vss/lib/python3.11/site-packages (from deepdiff>=6.0->unstructured-client->unstructured[pdf]->-r /Users/rouzbeh.farahmand/PycharmProjects/commit/financial-vss/requirements.txt (line 5)) (4.1.0)\r\n",
      "Requirement already satisfied: googleapis-common-protos<2.0.dev0,>=1.56.2 in /Users/rouzbeh.farahmand/PycharmProjects/redis-recommender/.venv/financial-vss/lib/python3.11/site-packages (from google-api-core[grpc]!=2.0.*,!=2.1.*,!=2.10.*,!=2.2.*,!=2.3.*,!=2.4.*,!=2.5.*,!=2.6.*,!=2.7.*,!=2.8.*,!=2.9.*,<3.0.0dev,>=1.34.1->google-cloud-vision->unstructured[pdf]->-r /Users/rouzbeh.farahmand/PycharmProjects/commit/financial-vss/requirements.txt (line 5)) (1.63.0)\r\n",
      "Requirement already satisfied: grpcio<2.0dev,>=1.33.2 in /Users/rouzbeh.farahmand/PycharmProjects/redis-recommender/.venv/financial-vss/lib/python3.11/site-packages (from google-api-core[grpc]!=2.0.*,!=2.1.*,!=2.10.*,!=2.2.*,!=2.3.*,!=2.4.*,!=2.5.*,!=2.6.*,!=2.7.*,!=2.8.*,!=2.9.*,<3.0.0dev,>=1.34.1->google-cloud-vision->unstructured[pdf]->-r /Users/rouzbeh.farahmand/PycharmProjects/commit/financial-vss/requirements.txt (line 5)) (1.63.0)\r\n",
      "Requirement already satisfied: grpcio-status<2.0.dev0,>=1.33.2 in /Users/rouzbeh.farahmand/PycharmProjects/redis-recommender/.venv/financial-vss/lib/python3.11/site-packages (from google-api-core[grpc]!=2.0.*,!=2.1.*,!=2.10.*,!=2.2.*,!=2.3.*,!=2.4.*,!=2.5.*,!=2.6.*,!=2.7.*,!=2.8.*,!=2.9.*,<3.0.0dev,>=1.34.1->google-cloud-vision->unstructured[pdf]->-r /Users/rouzbeh.farahmand/PycharmProjects/commit/financial-vss/requirements.txt (line 5)) (1.62.2)\r\n",
      "Requirement already satisfied: cachetools<6.0,>=2.0.0 in /Users/rouzbeh.farahmand/PycharmProjects/redis-recommender/.venv/financial-vss/lib/python3.11/site-packages (from google-auth!=2.24.0,!=2.25.0,<3.0.0dev,>=2.14.1->google-cloud-vision->unstructured[pdf]->-r /Users/rouzbeh.farahmand/PycharmProjects/commit/financial-vss/requirements.txt (line 5)) (5.3.3)\r\n",
      "Requirement already satisfied: pyasn1-modules>=0.2.1 in /Users/rouzbeh.farahmand/PycharmProjects/redis-recommender/.venv/financial-vss/lib/python3.11/site-packages (from google-auth!=2.24.0,!=2.25.0,<3.0.0dev,>=2.14.1->google-cloud-vision->unstructured[pdf]->-r /Users/rouzbeh.farahmand/PycharmProjects/commit/financial-vss/requirements.txt (line 5)) (0.4.0)\r\n",
      "Requirement already satisfied: rsa<5,>=3.1.4 in /Users/rouzbeh.farahmand/PycharmProjects/redis-recommender/.venv/financial-vss/lib/python3.11/site-packages (from google-auth!=2.24.0,!=2.25.0,<3.0.0dev,>=2.14.1->google-cloud-vision->unstructured[pdf]->-r /Users/rouzbeh.farahmand/PycharmProjects/commit/financial-vss/requirements.txt (line 5)) (4.9)\r\n",
      "Requirement already satisfied: jsonpointer>=1.9 in /Users/rouzbeh.farahmand/PycharmProjects/redis-recommender/.venv/financial-vss/lib/python3.11/site-packages (from jsonpatch<2.0,>=1.33->langchain-core<0.2.0,>=0.1.52->langchain->-r /Users/rouzbeh.farahmand/PycharmProjects/commit/financial-vss/requirements.txt (line 3)) (2.4)\r\n",
      "Requirement already satisfied: flatbuffers in /Users/rouzbeh.farahmand/PycharmProjects/redis-recommender/.venv/financial-vss/lib/python3.11/site-packages (from onnxruntime>=1.17.0->unstructured-inference==0.7.31->unstructured[pdf]->-r /Users/rouzbeh.farahmand/PycharmProjects/commit/financial-vss/requirements.txt (line 5)) (24.3.25)\r\n",
      "Requirement already satisfied: MarkupSafe>=2.0 in /Users/rouzbeh.farahmand/PycharmProjects/redis-recommender/.venv/financial-vss/lib/python3.11/site-packages (from jinja2->torch>=1.11.0->sentence-transformers->-r /Users/rouzbeh.farahmand/PycharmProjects/commit/financial-vss/requirements.txt (line 6)) (2.1.5)\r\n",
      "Requirement already satisfied: iopath in /Users/rouzbeh.farahmand/PycharmProjects/redis-recommender/.venv/financial-vss/lib/python3.11/site-packages (from layoutparser[layoutmodels,tesseract]->unstructured-inference==0.7.31->unstructured[pdf]->-r /Users/rouzbeh.farahmand/PycharmProjects/commit/financial-vss/requirements.txt (line 5)) (0.1.10)\r\n",
      "Requirement already satisfied: pdfplumber in /Users/rouzbeh.farahmand/PycharmProjects/redis-recommender/.venv/financial-vss/lib/python3.11/site-packages (from layoutparser[layoutmodels,tesseract]->unstructured-inference==0.7.31->unstructured[pdf]->-r /Users/rouzbeh.farahmand/PycharmProjects/commit/financial-vss/requirements.txt (line 5)) (0.11.0)\r\n",
      "Requirement already satisfied: torchvision in /Users/rouzbeh.farahmand/PycharmProjects/redis-recommender/.venv/financial-vss/lib/python3.11/site-packages (from layoutparser[layoutmodels,tesseract]->unstructured-inference==0.7.31->unstructured[pdf]->-r /Users/rouzbeh.farahmand/PycharmProjects/commit/financial-vss/requirements.txt (line 5)) (0.18.0)\r\n",
      "Requirement already satisfied: effdet in /Users/rouzbeh.farahmand/PycharmProjects/redis-recommender/.venv/financial-vss/lib/python3.11/site-packages (from layoutparser[layoutmodels,tesseract]->unstructured-inference==0.7.31->unstructured[pdf]->-r /Users/rouzbeh.farahmand/PycharmProjects/commit/financial-vss/requirements.txt (line 5)) (0.4.1)\r\n",
      "Requirement already satisfied: pytesseract in /Users/rouzbeh.farahmand/PycharmProjects/redis-recommender/.venv/financial-vss/lib/python3.11/site-packages (from layoutparser[layoutmodels,tesseract]->unstructured-inference==0.7.31->unstructured[pdf]->-r /Users/rouzbeh.farahmand/PycharmProjects/commit/financial-vss/requirements.txt (line 5)) (0.3.10)\r\n",
      "Requirement already satisfied: mpmath>=0.19 in /Users/rouzbeh.farahmand/PycharmProjects/redis-recommender/.venv/financial-vss/lib/python3.11/site-packages (from sympy->torch>=1.11.0->sentence-transformers->-r /Users/rouzbeh.farahmand/PycharmProjects/commit/financial-vss/requirements.txt (line 6)) (1.3.0)\r\n",
      "Requirement already satisfied: pycparser in /Users/rouzbeh.farahmand/PycharmProjects/redis-recommender/.venv/financial-vss/lib/python3.11/site-packages (from cffi>=1.12->cryptography>=36.0.0->pdfminer.six->unstructured[pdf]->-r /Users/rouzbeh.farahmand/PycharmProjects/commit/financial-vss/requirements.txt (line 5)) (2.22)\r\n",
      "Requirement already satisfied: pyasn1<0.7.0,>=0.4.6 in /Users/rouzbeh.farahmand/PycharmProjects/redis-recommender/.venv/financial-vss/lib/python3.11/site-packages (from pyasn1-modules>=0.2.1->google-auth!=2.24.0,!=2.25.0,<3.0.0dev,>=2.14.1->google-cloud-vision->unstructured[pdf]->-r /Users/rouzbeh.farahmand/PycharmProjects/commit/financial-vss/requirements.txt (line 5)) (0.6.0)\r\n",
      "Requirement already satisfied: timm>=0.9.2 in /Users/rouzbeh.farahmand/PycharmProjects/redis-recommender/.venv/financial-vss/lib/python3.11/site-packages (from effdet->layoutparser[layoutmodels,tesseract]->unstructured-inference==0.7.31->unstructured[pdf]->-r /Users/rouzbeh.farahmand/PycharmProjects/commit/financial-vss/requirements.txt (line 5)) (1.0.3)\r\n",
      "Requirement already satisfied: pycocotools>=2.0.2 in /Users/rouzbeh.farahmand/PycharmProjects/redis-recommender/.venv/financial-vss/lib/python3.11/site-packages (from effdet->layoutparser[layoutmodels,tesseract]->unstructured-inference==0.7.31->unstructured[pdf]->-r /Users/rouzbeh.farahmand/PycharmProjects/commit/financial-vss/requirements.txt (line 5)) (2.0.7)\r\n",
      "Requirement already satisfied: omegaconf>=2.0 in /Users/rouzbeh.farahmand/PycharmProjects/redis-recommender/.venv/financial-vss/lib/python3.11/site-packages (from effdet->layoutparser[layoutmodels,tesseract]->unstructured-inference==0.7.31->unstructured[pdf]->-r /Users/rouzbeh.farahmand/PycharmProjects/commit/financial-vss/requirements.txt (line 5)) (2.3.0)\r\n",
      "Requirement already satisfied: portalocker in /Users/rouzbeh.farahmand/PycharmProjects/redis-recommender/.venv/financial-vss/lib/python3.11/site-packages (from iopath->layoutparser[layoutmodels,tesseract]->unstructured-inference==0.7.31->unstructured[pdf]->-r /Users/rouzbeh.farahmand/PycharmProjects/commit/financial-vss/requirements.txt (line 5)) (2.8.2)\r\n",
      "Requirement already satisfied: pypdfium2>=4.18.0 in /Users/rouzbeh.farahmand/PycharmProjects/redis-recommender/.venv/financial-vss/lib/python3.11/site-packages (from pdfplumber->layoutparser[layoutmodels,tesseract]->unstructured-inference==0.7.31->unstructured[pdf]->-r /Users/rouzbeh.farahmand/PycharmProjects/commit/financial-vss/requirements.txt (line 5)) (4.30.0)\r\n",
      "Requirement already satisfied: antlr4-python3-runtime==4.9.* in /Users/rouzbeh.farahmand/PycharmProjects/redis-recommender/.venv/financial-vss/lib/python3.11/site-packages (from omegaconf>=2.0->effdet->layoutparser[layoutmodels,tesseract]->unstructured-inference==0.7.31->unstructured[pdf]->-r /Users/rouzbeh.farahmand/PycharmProjects/commit/financial-vss/requirements.txt (line 5)) (4.9.3)\r\n",
      "Requirement already satisfied: matplotlib>=2.1.0 in /Users/rouzbeh.farahmand/PycharmProjects/redis-recommender/.venv/financial-vss/lib/python3.11/site-packages (from pycocotools>=2.0.2->effdet->layoutparser[layoutmodels,tesseract]->unstructured-inference==0.7.31->unstructured[pdf]->-r /Users/rouzbeh.farahmand/PycharmProjects/commit/financial-vss/requirements.txt (line 5)) (3.9.0)\r\n",
      "Requirement already satisfied: contourpy>=1.0.1 in /Users/rouzbeh.farahmand/PycharmProjects/redis-recommender/.venv/financial-vss/lib/python3.11/site-packages (from matplotlib>=2.1.0->pycocotools>=2.0.2->effdet->layoutparser[layoutmodels,tesseract]->unstructured-inference==0.7.31->unstructured[pdf]->-r /Users/rouzbeh.farahmand/PycharmProjects/commit/financial-vss/requirements.txt (line 5)) (1.2.1)\r\n",
      "Requirement already satisfied: cycler>=0.10 in /Users/rouzbeh.farahmand/PycharmProjects/redis-recommender/.venv/financial-vss/lib/python3.11/site-packages (from matplotlib>=2.1.0->pycocotools>=2.0.2->effdet->layoutparser[layoutmodels,tesseract]->unstructured-inference==0.7.31->unstructured[pdf]->-r /Users/rouzbeh.farahmand/PycharmProjects/commit/financial-vss/requirements.txt (line 5)) (0.12.1)\r\n",
      "Requirement already satisfied: fonttools>=4.22.0 in /Users/rouzbeh.farahmand/PycharmProjects/redis-recommender/.venv/financial-vss/lib/python3.11/site-packages (from matplotlib>=2.1.0->pycocotools>=2.0.2->effdet->layoutparser[layoutmodels,tesseract]->unstructured-inference==0.7.31->unstructured[pdf]->-r /Users/rouzbeh.farahmand/PycharmProjects/commit/financial-vss/requirements.txt (line 5)) (4.51.0)\r\n",
      "Requirement already satisfied: kiwisolver>=1.3.1 in /Users/rouzbeh.farahmand/PycharmProjects/redis-recommender/.venv/financial-vss/lib/python3.11/site-packages (from matplotlib>=2.1.0->pycocotools>=2.0.2->effdet->layoutparser[layoutmodels,tesseract]->unstructured-inference==0.7.31->unstructured[pdf]->-r /Users/rouzbeh.farahmand/PycharmProjects/commit/financial-vss/requirements.txt (line 5)) (1.4.5)\r\n",
      "Requirement already satisfied: pyparsing>=2.3.1 in /Users/rouzbeh.farahmand/PycharmProjects/redis-recommender/.venv/financial-vss/lib/python3.11/site-packages (from matplotlib>=2.1.0->pycocotools>=2.0.2->effdet->layoutparser[layoutmodels,tesseract]->unstructured-inference==0.7.31->unstructured[pdf]->-r /Users/rouzbeh.farahmand/PycharmProjects/commit/financial-vss/requirements.txt (line 5)) (3.1.2)\r\n",
      "\r\n",
      "\u001B[1m[\u001B[0m\u001B[34;49mnotice\u001B[0m\u001B[1;39;49m]\u001B[0m\u001B[39;49m A new release of pip is available: \u001B[0m\u001B[31;49m23.2.1\u001B[0m\u001B[39;49m -> \u001B[0m\u001B[32;49m24.0\u001B[0m\r\n",
      "\u001B[1m[\u001B[0m\u001B[34;49mnotice\u001B[0m\u001B[1;39;49m]\u001B[0m\u001B[39;49m To update, run: \u001B[0m\u001B[32;49mpip install --upgrade pip\u001B[0m\r\n"
     ]
    }
   ],
   "execution_count": 33
  },
  {
   "cell_type": "code",
   "metadata": {
    "id": "dyPfCO3pkB7M",
    "ExecuteTime": {
     "end_time": "2024-05-23T00:32:34.392860Z",
     "start_time": "2024-05-23T00:32:34.390438Z"
    }
   },
   "source": [
    "import os\n",
    "dir_path = os.getcwd()\n",
    "parent_directory = os.path.dirname(dir_path)\n",
    "# Replace values below with your own if using Redis Cloud instance\n",
    "REDIS_HOST = os.getenv(\"REDIS_HOST\", \"localhost\")\n",
    "REDIS_PORT = os.getenv(\"REDIS_PORT\", \"6379\")\n",
    "REDIS_PASSWORD = os.getenv(\"REDIS_PASSWORD\", \"\")\n",
    "\n",
    "# If SSL is enabled on the endpoint, use rediss:// as the URL prefix\n",
    "REDIS_URL = f\"redis://:{REDIS_PASSWORD}@{REDIS_HOST}:{REDIS_PORT}\""
   ],
   "outputs": [],
   "execution_count": 34
  },
  {
   "cell_type": "markdown",
   "metadata": {},
   "source": [
    "## Hello World Redis\n",
    "\n",
    "Now let's connect to the Redis db and get a basic feel for the most common\n",
    "commands and data structures."
   ]
  },
  {
   "cell_type": "code",
   "metadata": {
    "ExecuteTime": {
     "end_time": "2024-05-23T00:32:34.397597Z",
     "start_time": "2024-05-23T00:32:34.393408Z"
    }
   },
   "source": [
    "import redis\n",
    "import json\n",
    "import numpy as np\n",
    "\n",
    "from time import sleep\n",
    "\n",
    "# Connect with the Redis Python Client\n",
    "client = redis.Redis.from_url(REDIS_URL)\n",
    "\n",
    "client.ping()"
   ],
   "outputs": [
    {
     "data": {
      "text/plain": [
       "True"
      ]
     },
     "execution_count": 35,
     "metadata": {},
     "output_type": "execute_result"
    }
   ],
   "execution_count": 35
  },
  {
   "cell_type": "code",
   "metadata": {
    "ExecuteTime": {
     "end_time": "2024-05-23T00:32:34.401041Z",
     "start_time": "2024-05-23T00:32:34.398723Z"
    }
   },
   "source": [
    "client.dbsize() # should be empty"
   ],
   "outputs": [
    {
     "data": {
      "text/plain": [
       "0"
      ]
     },
     "execution_count": 36,
     "metadata": {},
     "output_type": "execute_result"
    }
   ],
   "execution_count": 36
  },
  {
   "cell_type": "markdown",
   "metadata": {},
   "source": [
    "Redis, at it's core, is a simple key/value store. It supports a number of interesting\n",
    "and flexible data structures that can solve a variatey of business and operational\n",
    "problems."
   ]
  },
  {
   "cell_type": "markdown",
   "metadata": {},
   "source": [
    "### Strings\n",
    "\n",
    "The basic string data type can be accessed using set/get methods. You can also place a\n",
    "TTL policy (expiration) on any key in Redis."
   ]
  },
  {
   "cell_type": "code",
   "metadata": {
    "ExecuteTime": {
     "end_time": "2024-05-23T00:32:34.403792Z",
     "start_time": "2024-05-23T00:32:34.401521Z"
    }
   },
   "source": [
    "client.set(\"hello\", \"world\")"
   ],
   "outputs": [
    {
     "data": {
      "text/plain": [
       "True"
      ]
     },
     "execution_count": 37,
     "metadata": {},
     "output_type": "execute_result"
    }
   ],
   "execution_count": 37
  },
  {
   "cell_type": "code",
   "metadata": {
    "ExecuteTime": {
     "end_time": "2024-05-23T00:32:34.406029Z",
     "start_time": "2024-05-23T00:32:34.404232Z"
    }
   },
   "source": [
    "client.get(\"hello\")"
   ],
   "outputs": [
    {
     "data": {
      "text/plain": [
       "b'world'"
      ]
     },
     "execution_count": 38,
     "metadata": {},
     "output_type": "execute_result"
    }
   ],
   "execution_count": 38
  },
  {
   "cell_type": "code",
   "metadata": {
    "ExecuteTime": {
     "end_time": "2024-05-23T00:32:34.408790Z",
     "start_time": "2024-05-23T00:32:34.406568Z"
    }
   },
   "source": [
    "client.delete(\"hello\")"
   ],
   "outputs": [
    {
     "data": {
      "text/plain": [
       "1"
      ]
     },
     "execution_count": 39,
     "metadata": {},
     "output_type": "execute_result"
    }
   ],
   "execution_count": 39
  },
  {
   "cell_type": "code",
   "metadata": {
    "ExecuteTime": {
     "end_time": "2024-05-23T00:32:38.419852Z",
     "start_time": "2024-05-23T00:32:34.409200Z"
    }
   },
   "source": [
    "client.set(\"hello\", \"world\")\n",
    "client.expire(\"hello\", time=3)\n",
    "\n",
    "sleep(4)\n",
    "\n",
    "# should be EMPTY\n",
    "client.get(\"hello\")"
   ],
   "outputs": [],
   "execution_count": 40
  },
  {
   "cell_type": "markdown",
   "metadata": {},
   "source": [
    "### Hashes\n",
    "Hashes are collections of key/value pairs that are grouped together. It gets\n",
    "serialized as a string in Redis, but can hold a variety of data in each field.\n",
    "\n",
    "You can think of a Hash as a one-level deep Python dictionary.\n"
   ]
  },
  {
   "cell_type": "code",
   "metadata": {
    "ExecuteTime": {
     "end_time": "2024-05-23T00:32:38.427086Z",
     "start_time": "2024-05-23T00:32:38.422679Z"
    }
   },
   "source": [
    "obj = {\n",
    "    \"user\": \"john\",\n",
    "    \"age\": 45,\n",
    "    \"job\": \"dentist\",\n",
    "    \"bio\": \"long form text of john's bio\",\n",
    "    \"user_embedding\": np.array([0.3, 0.4, -0.8], dtype=np.float32).tobytes() # cast vectors to bytes string\n",
    "}"
   ],
   "outputs": [],
   "execution_count": 41
  },
  {
   "cell_type": "code",
   "metadata": {
    "ExecuteTime": {
     "end_time": "2024-05-23T00:32:38.439697Z",
     "start_time": "2024-05-23T00:32:38.433465Z"
    }
   },
   "source": [
    "client.hset(\"user:john\", mapping=obj)"
   ],
   "outputs": [
    {
     "data": {
      "text/plain": [
       "5"
      ]
     },
     "execution_count": 42,
     "metadata": {},
     "output_type": "execute_result"
    }
   ],
   "execution_count": 42
  },
  {
   "cell_type": "code",
   "metadata": {
    "ExecuteTime": {
     "end_time": "2024-05-23T00:32:38.445184Z",
     "start_time": "2024-05-23T00:32:38.440807Z"
    }
   },
   "source": [
    "client.hgetall(\"user:john\")"
   ],
   "outputs": [
    {
     "data": {
      "text/plain": [
       "{b'user': b'john',\n",
       " b'age': b'45',\n",
       " b'job': b'dentist',\n",
       " b'bio': b\"long form text of john's bio\",\n",
       " b'user_embedding': b'\\x9a\\x99\\x99>\\xcd\\xcc\\xcc>\\xcd\\xccL\\xbf'}"
      ]
     },
     "execution_count": 43,
     "metadata": {},
     "output_type": "execute_result"
    }
   ],
   "execution_count": 43
  },
  {
   "cell_type": "code",
   "metadata": {
    "ExecuteTime": {
     "end_time": "2024-05-23T00:32:38.449074Z",
     "start_time": "2024-05-23T00:32:38.446031Z"
    }
   },
   "source": [
    "client.delete(\"user:john\")"
   ],
   "outputs": [
    {
     "data": {
      "text/plain": [
       "1"
      ]
     },
     "execution_count": 44,
     "metadata": {},
     "output_type": "execute_result"
    }
   ],
   "execution_count": 44
  },
  {
   "cell_type": "markdown",
   "metadata": {},
   "source": [
    "### JSON\n",
    "With the JSON capabilitie enabled, Redis can be a drop-in replacement for MongoDB\n",
    "or other slower document databases. You can store nested and structured JSON data\n",
    "directly in Redis."
   ]
  },
  {
   "cell_type": "code",
   "metadata": {
    "ExecuteTime": {
     "end_time": "2024-05-23T00:32:38.453067Z",
     "start_time": "2024-05-23T00:32:38.449681Z"
    }
   },
   "source": [
    "# set a JSON obj\n",
    "obj = {\n",
    "    \"user\": \"john\",\n",
    "    \"metadata\": {\n",
    "        \"age\": 45,\n",
    "        \"job\": \"dentist\",\n",
    "    },\n",
    "    \"user_embedding\": [0.3, 0.4, -0.8]\n",
    "}\n",
    "\n",
    "client.json().set(\"user:john\", \"$\", obj)"
   ],
   "outputs": [
    {
     "data": {
      "text/plain": [
       "True"
      ]
     },
     "execution_count": 45,
     "metadata": {},
     "output_type": "execute_result"
    }
   ],
   "execution_count": 45
  },
  {
   "cell_type": "code",
   "metadata": {
    "ExecuteTime": {
     "end_time": "2024-05-23T00:32:38.456072Z",
     "start_time": "2024-05-23T00:32:38.453634Z"
    }
   },
   "source": [
    "# get user JSON obj\n",
    "client.json().get(\"user:john\")"
   ],
   "outputs": [
    {
     "data": {
      "text/plain": [
       "{'user': 'john',\n",
       " 'metadata': {'age': 45, 'job': 'dentist'},\n",
       " 'user_embedding': [0.3, 0.4, -0.8]}"
      ]
     },
     "execution_count": 46,
     "metadata": {},
     "output_type": "execute_result"
    }
   ],
   "execution_count": 46
  },
  {
   "cell_type": "code",
   "metadata": {
    "ExecuteTime": {
     "end_time": "2024-05-23T00:32:38.459178Z",
     "start_time": "2024-05-23T00:32:38.456717Z"
    }
   },
   "source": [
    "# grab array length for embedding field\n",
    "client.json().arrlen(\"user:john\", \"$.user_embedding\")"
   ],
   "outputs": [
    {
     "data": {
      "text/plain": [
       "[3]"
      ]
     },
     "execution_count": 47,
     "metadata": {},
     "output_type": "execute_result"
    }
   ],
   "execution_count": 47
  },
  {
   "cell_type": "code",
   "metadata": {
    "ExecuteTime": {
     "end_time": "2024-05-23T00:32:38.462185Z",
     "start_time": "2024-05-23T00:32:38.459782Z"
    }
   },
   "source": [
    "# grab obj keys\n",
    "client.json().objkeys(\"user:john\", \"$\")"
   ],
   "outputs": [
    {
     "data": {
      "text/plain": [
       "[[b'user', b'metadata', b'user_embedding']]"
      ]
     },
     "execution_count": 48,
     "metadata": {},
     "output_type": "execute_result"
    }
   ],
   "execution_count": 48
  },
  {
   "cell_type": "code",
   "metadata": {
    "ExecuteTime": {
     "end_time": "2024-05-23T00:32:38.464556Z",
     "start_time": "2024-05-23T00:32:38.462653Z"
    }
   },
   "source": [
    "# delete user JSON\n",
    "client.delete(\"user:john\")"
   ],
   "outputs": [
    {
     "data": {
      "text/plain": [
       "1"
      ]
     },
     "execution_count": 49,
     "metadata": {},
     "output_type": "execute_result"
    }
   ],
   "execution_count": 49
  },
  {
   "cell_type": "markdown",
   "metadata": {},
   "source": [
    "### Lists\n",
    "Lists store sequences of information... potentially list of messages in an LLM\n",
    "converstion flow, or really any list of items in a queue."
   ]
  },
  {
   "cell_type": "code",
   "metadata": {
    "ExecuteTime": {
     "end_time": "2024-05-23T00:32:38.467789Z",
     "start_time": "2024-05-23T00:32:38.465078Z"
    }
   },
   "source": [
    "# add items to a list\n",
    "client.rpush(\"messages:john\", *[\n",
    "    json.dumps({\"role\": \"user\", \"content\": \"Hello what can you do for me?\"}),\n",
    "    json.dumps({\"role\": \"assistant\", \"content\": \"Hi, I am a helpful virtual assistant.\"})\n",
    "])"
   ],
   "outputs": [
    {
     "data": {
      "text/plain": [
       "2"
      ]
     },
     "execution_count": 50,
     "metadata": {},
     "output_type": "execute_result"
    }
   ],
   "execution_count": 50
  },
  {
   "cell_type": "code",
   "metadata": {
    "ExecuteTime": {
     "end_time": "2024-05-23T00:32:38.470719Z",
     "start_time": "2024-05-23T00:32:38.468331Z"
    }
   },
   "source": [
    "# list all items in the list using indices\n",
    "[json.loads(msg) for msg in client.lrange(\"messages:john\", 0, -1)]"
   ],
   "outputs": [
    {
     "data": {
      "text/plain": [
       "[{'role': 'user', 'content': 'Hello what can you do for me?'},\n",
       " {'role': 'assistant', 'content': 'Hi, I am a helpful virtual assistant.'}]"
      ]
     },
     "execution_count": 51,
     "metadata": {},
     "output_type": "execute_result"
    }
   ],
   "execution_count": 51
  },
  {
   "cell_type": "code",
   "metadata": {
    "ExecuteTime": {
     "end_time": "2024-05-23T00:32:38.473248Z",
     "start_time": "2024-05-23T00:32:38.471226Z"
    }
   },
   "source": [
    "# count items in the list\n",
    "client.llen(\"messages:john\")"
   ],
   "outputs": [
    {
     "data": {
      "text/plain": [
       "2"
      ]
     },
     "execution_count": 52,
     "metadata": {},
     "output_type": "execute_result"
    }
   ],
   "execution_count": 52
  },
  {
   "cell_type": "code",
   "metadata": {
    "ExecuteTime": {
     "end_time": "2024-05-23T00:32:38.475728Z",
     "start_time": "2024-05-23T00:32:38.473665Z"
    }
   },
   "source": [
    "# pop the first item from the list and push to another list\n",
    "client.rpoplpush(\"messages:john\", \"read_messages:john\")"
   ],
   "outputs": [
    {
     "data": {
      "text/plain": [
       "b'{\"role\": \"assistant\", \"content\": \"Hi, I am a helpful virtual assistant.\"}'"
      ]
     },
     "execution_count": 53,
     "metadata": {},
     "output_type": "execute_result"
    }
   ],
   "execution_count": 53
  },
  {
   "cell_type": "code",
   "metadata": {
    "ExecuteTime": {
     "end_time": "2024-05-23T00:32:38.478009Z",
     "start_time": "2024-05-23T00:32:38.476148Z"
    }
   },
   "source": [
    "client.lrange(\"read_messages:john\", 0, -1)"
   ],
   "outputs": [
    {
     "data": {
      "text/plain": [
       "[b'{\"role\": \"assistant\", \"content\": \"Hi, I am a helpful virtual assistant.\"}']"
      ]
     },
     "execution_count": 54,
     "metadata": {},
     "output_type": "execute_result"
    }
   ],
   "execution_count": 54
  },
  {
   "cell_type": "code",
   "metadata": {
    "ExecuteTime": {
     "end_time": "2024-05-23T00:32:38.480423Z",
     "start_time": "2024-05-23T00:32:38.478486Z"
    }
   },
   "source": [
    "# list cleanup\n",
    "client.delete(\"messages:john\", \"read_messages:john\")"
   ],
   "outputs": [
    {
     "data": {
      "text/plain": [
       "2"
      ]
     },
     "execution_count": 55,
     "metadata": {},
     "output_type": "execute_result"
    }
   ],
   "execution_count": 55
  },
  {
   "cell_type": "markdown",
   "metadata": {},
   "source": [
    "### Pipelines\n",
    "All Redis commands can be pipelined to gain some round trip latency improvements."
   ]
  },
  {
   "cell_type": "code",
   "metadata": {
    "ExecuteTime": {
     "end_time": "2024-05-23T00:32:38.483944Z",
     "start_time": "2024-05-23T00:32:38.480832Z"
    }
   },
   "source": [
    "with client.pipeline(transaction=False) as pipe:\n",
    "    for i in range(50):\n",
    "        pipe.json().set(f\"user:{i}\", \"$\", obj)\n",
    "    # execute batch\n",
    "    pipe.execute()"
   ],
   "outputs": [],
   "execution_count": 56
  },
  {
   "cell_type": "code",
   "metadata": {
    "ExecuteTime": {
     "end_time": "2024-05-23T00:32:38.486937Z",
     "start_time": "2024-05-23T00:32:38.484577Z"
    }
   },
   "source": [
    "client.dbsize()"
   ],
   "outputs": [
    {
     "data": {
      "text/plain": [
       "50"
      ]
     },
     "execution_count": 57,
     "metadata": {},
     "output_type": "execute_result"
    }
   ],
   "execution_count": 57
  },
  {
   "cell_type": "code",
   "metadata": {
    "ExecuteTime": {
     "end_time": "2024-05-23T00:32:38.496421Z",
     "start_time": "2024-05-23T00:32:38.487405Z"
    }
   },
   "source": [
    "# clean up!\n",
    "client.flushall()"
   ],
   "outputs": [
    {
     "data": {
      "text/plain": [
       "True"
      ]
     },
     "execution_count": 58,
     "metadata": {},
     "output_type": "execute_result"
    }
   ],
   "execution_count": 58
  },
  {
   "cell_type": "markdown",
   "metadata": {},
   "source": [
    "## Intro to Vector Search in Redis\n",
    "\n",
    "Now that we have the basics down, we will dive into the fundamentals of vector\n",
    "search in Redis using the base Python client."
   ]
  },
  {
   "cell_type": "markdown",
   "metadata": {
    "id": "XVMewycguPps"
   },
   "source": [
    "### Dataset Preparation (PDF Documents)\n",
    "\n",
    "To best demonstrate Redis as a vector database layer, we will load a single\n",
    "financial (10k filings) doc and preprocess it using some helpers from LangChain:\n",
    "\n",
    "- `UnstructuredFileLoader` is not the only document loader type that LangChain provides. Docs: https://python.langchain.com/docs/integrations/document_loaders/unstructured_file\n",
    "- `RecursiveCharacterTextSplitter` is what we use to create smaller chunks of text from the doc. Docs: https://python.langchain.com/docs/modules/data_connection/document_transformers/text_splitters/recursive_text_splitter\n"
   ]
  },
  {
   "cell_type": "code",
   "metadata": {
    "colab": {
     "base_uri": "https://localhost:8080/"
    },
    "id": "8MetibQiuPpt",
    "outputId": "191df44e-074b-4482-84fc-ceabc0d98f52",
    "ExecuteTime": {
     "end_time": "2024-05-23T00:32:38.499561Z",
     "start_time": "2024-05-23T00:32:38.497145Z"
    }
   },
   "source": [
    "from langchain.text_splitter import RecursiveCharacterTextSplitter\n",
    "from langchain.document_loaders import UnstructuredFileLoader\n",
    "\n",
    "# Load list of pdfs from a folder\n",
    "data_path = f\"{parent_directory}/resources/10K\"\n",
    "docs = [os.path.join(data_path, file) for file in os.listdir(data_path)]\n",
    "\n",
    "print(\"Listing available documents ...\", docs)"
   ],
   "outputs": [
    {
     "name": "stdout",
     "output_type": "stream",
     "text": [
      "Listing available documents ... ['/Users/rouzbeh.farahmand/PycharmProjects/commit/financial-vss/resources/10K/nke-10k-2023.pdf', '/Users/rouzbeh.farahmand/PycharmProjects/commit/financial-vss/resources/10K/mu-10K-2019.pdf', '/Users/rouzbeh.farahmand/PycharmProjects/commit/financial-vss/resources/10K/amzn-10k-2023.pdf', '/Users/rouzbeh.farahmand/PycharmProjects/commit/financial-vss/resources/10K/jnj-10k-2023.pdf', '/Users/rouzbeh.farahmand/PycharmProjects/commit/financial-vss/resources/10K/amzn-10K-2019.pdf', '/Users/rouzbeh.farahmand/PycharmProjects/commit/financial-vss/resources/10K/aapl-10k-2023.pdf', '/Users/rouzbeh.farahmand/PycharmProjects/commit/financial-vss/resources/10K/aapl-10K-2019.pdf', '/Users/rouzbeh.farahmand/PycharmProjects/commit/financial-vss/resources/10K/nvd-10k-2023.pdf', '/Users/rouzbeh.farahmand/PycharmProjects/commit/financial-vss/resources/10K/msft-10k-2023.pdf']\n"
     ]
    }
   ],
   "execution_count": 59
  },
  {
   "cell_type": "code",
   "metadata": {
    "ExecuteTime": {
     "end_time": "2024-05-23T00:32:47.043683Z",
     "start_time": "2024-05-23T00:32:38.502631Z"
    }
   },
   "source": [
    "# fetch the Nike PDF\n",
    "doc = [doc for doc in docs if \"nke\" in doc][0]\n",
    "\n",
    "# set up the file loader/extractor and text splitter to create chunks\n",
    "loader = UnstructuredFileLoader(doc, mode=\"single\", strategy=\"fast\")\n",
    "text_splitter = RecursiveCharacterTextSplitter(chunk_size=2500, chunk_overlap=0)\n",
    "\n",
    "# extract, load, and make chunks\n",
    "chunks = loader.load_and_split(text_splitter)\n",
    "\n",
    "print(\"Done preprocessing. Created\", len(chunks), \"chunks of the original pdf\", doc)"
   ],
   "outputs": [
    {
     "name": "stdout",
     "output_type": "stream",
     "text": [
      "Done preprocessing. Created 180 chunks of the original pdf /Users/rouzbeh.farahmand/PycharmProjects/commit/financial-vss/resources/10K/nke-10k-2023.pdf\n"
     ]
    }
   ],
   "execution_count": 60
  },
  {
   "cell_type": "code",
   "metadata": {
    "colab": {
     "base_uri": "https://localhost:8080/"
    },
    "id": "CHBpJGlruPpu",
    "outputId": "5f159641-856b-4d4f-87d7-ee3b0f17fb84",
    "ExecuteTime": {
     "end_time": "2024-05-23T00:32:47.045555Z",
     "start_time": "2024-05-23T00:32:47.044220Z"
    }
   },
   "source": [
    "# Take a look at content from a chunk\n",
    "print(chunks[25].page_content)"
   ],
   "outputs": [
    {
     "name": "stdout",
     "output_type": "stream",
     "text": [
      "NIKE is a consumer products company and the relative popularity of various sports and fitness activities and changing design trends affect the demand for our products, services and experiences. The athletic footwear, apparel and equipment industry is highly competitive both in the United States and worldwide. We compete internationally with a significant number of athletic and leisure footwear companies, athletic and leisure apparel companies, sports equipment companies, private labels and large companies that have diversified lines of athletic and leisure footwear, apparel and equipment. We also compete with other companies for the production capacity of contract manufacturers that produce our products. In addition, we and our contract manufacturers compete with other companies and industries for raw materials used in our products. Our NIKE Direct operations, both through our digital commerce operations and retail stores, also compete with multi-brand retailers, which sell our products through their digital platforms and physical stores, and with digital commerce platforms. In addition, we compete with respect to the digital services and experiences we are able to offer our consumers, including fitness and activity apps; sport, fitness and wellness content and services; and digital services and features in retail stores that enhance the consumer experience.\n",
      "\n",
      "Product offerings, technologies, marketing expenditures (including expenditures for advertising and endorsements), pricing, costs of production, customer service, digital commerce platforms, digital services and experiences and social media presence are areas of intense competition. These, in addition to ongoing rapid changes in technology, a reduction in barriers to the creation of new footwear and apparel companies and consumer preferences in the markets for athletic and leisure footwear, apparel, and equipment, services and experiences, constitute significant risk factors in our operations. In addition, the competitive nature of retail, including shifts in the ways in which consumers shop, and the continued proliferation of digital commerce, constitutes a risk factor implicating our NIKE Direct and wholesale operations. If we do not adequately and timely anticipate and respond to our competitors, our costs may increase, demand for our products may decline, possibly significantly, or we may need to reduce wholesale or suggested retail prices for our products.\n",
      "\n",
      "2023 FORM 10-K 10\n",
      "\n",
      "Table of Contents\n"
     ]
    }
   ],
   "execution_count": 61
  },
  {
   "cell_type": "markdown",
   "metadata": {
    "id": "W8X2VgYUuPpv"
   },
   "source": [
    "### Text embedding generation with SentenceTransformers"
   ]
  },
  {
   "metadata": {},
   "cell_type": "markdown",
   "source": [
    "#### SentenceTransformer Models Cache folder\n",
    "We are using `SentenceTransformer` in this demo and here we specify the cache folder. If you already downloaded the models in a local file system, set this folder here, otherwise the library tries to download the models in this folder if not available locally.\n",
    "\n",
    "In particular, these models will be downloaded if not present in the cache folder:\n",
    "\n",
    "models/models--sentence-transformers--all-MiniLM-L6-v2\n"
   ]
  },
  {
   "metadata": {
    "ExecuteTime": {
     "end_time": "2024-05-23T00:32:47.047292Z",
     "start_time": "2024-05-23T00:32:47.046080Z"
    }
   },
   "cell_type": "code",
   "source": [
    "#setting the local downloaded sentence transformer models f\n",
    "os.environ[\"TRANSFORMERS_CACHE\"] = f\"{parent_directory}/models\""
   ],
   "outputs": [],
   "execution_count": 62
  },
  {
   "cell_type": "code",
   "metadata": {
    "colab": {
     "base_uri": "https://localhost:8080/",
     "height": 465,
     "referenced_widgets": [
      "d92b0de158f94030b6c9156b8f12cc6c",
      "3ca3c6a4716d4096b6913c5ac5c15500",
      "bb75843d0f6840dc90513ebc6857da6e",
      "249e853a0b05429491c2d3147d3667e0",
      "50077d692b3c463fa2922e07832f2229",
      "63f94704cfcf4662839aa460b42e9c0a",
      "707cd800f65a4e43a9969f6ac4322629",
      "6429283e79f34a5fbce86dc173424615",
      "4e98fb057e8d40f7b3a2cdb34c7e8ae7",
      "5cfa9c97f882461a8c7dd2bb267639c0",
      "ffcc3e9520a04ff3b656c9a1c570b857",
      "d24c7bce8290487094150146b518ad87",
      "417c738d291e484db654ffbff81d230e",
      "c3e9746ac3ad43b683813a09bb11a400",
      "f283f45e6dd244738e67cd573e46c500",
      "50d9a22918c8458ead7e4bcbd4bb0e14",
      "58b8500439ff4d9fa34c6b6d7f64e7f0",
      "d1bc2447ef6141719ead7a8b572e93a6",
      "829c6a0adb514d47b6e20dfddbd84f28",
      "5c5c93b19d1841c28624fc6906e8aec2",
      "1908379cd85c43eb85e8a919c81dcb27",
      "1392e6f30c4847429b5e0a88a2a89712",
      "0c98c0118de5446bad5416179a029591",
      "70a03a03e501462089b2229944cab6e4",
      "92033f24500a4534bf9aa0db1b66afd2",
      "f411421ea73647a6b71242128ae4314d",
      "2d905e45162448c3b08c8b18359db4e1",
      "b3e2d9559f9a4425af9a3e654a15a45c",
      "af8fb1374f674db0acd1848426651457",
      "f610967e35834f8aa163f9b858ad100d",
      "e36d84f0201e4b13966902c7816276ec",
      "e5ae0decccca4e72bd565df0e6bdd75a",
      "2f65048f27ee4fc5bc932eb9c4eedb19",
      "e778621a3492447bac297fa98b9ae8b2",
      "7bf512fb78554f1fa31d2390d481cffe",
      "e5cd47efc6e84d2ab694ba8fb9dbad10",
      "23b59a446f6a48239ada51ec328ef829",
      "4758ae87506a4d20b6e970ab0183a568",
      "b0e7149f5d634fe798c026ead2024c9d",
      "803c0dd4496541d58887c6881478d736",
      "fe39155c447d4911be8e525d2b816449",
      "b56688ab060448e98799919ab645c3b2",
      "2e4f2048a01a411d8c4fd685c1132cb5",
      "f73152264e3e4a488de0ed086d09389f",
      "31dbb4b8dc3c4029a52ce8f60f5d786e",
      "92945b3344354095ae42da4107e0ca85",
      "72a087953d41453598ada25ea308d758",
      "aedf119b99944d4bb3c1cb146396c068",
      "409427b1277147d3a7bfb63b83776bb9",
      "71519aa859b84f6d9905dd587b329cc1",
      "1e8e79d2c3514055afe3dca4eeffb196",
      "847b3bc8c13642e899fc20aaf92cce17",
      "0905de0daac840b888fbea85f5a53424",
      "8917cc859c2a403c9340f30c85ae92d8",
      "d4d97043d2e64de582a6c1005a7c5461",
      "4792d0d390004e099baf04421c8991ff",
      "a727471800a84574aa11066d3a668bbd",
      "7f82dfde4b6742daaa698fb92947962d",
      "941ef72b4dfa45e5b62518c50f5c1b41",
      "a6f68aaebec44588b13d84535a3a21b2",
      "bf2566d86a8446118eba25b73f1e0e6c",
      "f3a7f25383564258b7026f770db41889",
      "6ccdac3c8f074cef88abd0e422fca83d",
      "9df5561964194fa1b5d23dc0534e486f",
      "ff4953b5869c4b538fe009c212c51905",
      "7dd4d505670048be8316419ef146a35a",
      "f5bf93a1ef854aecac757f852d7c12f4",
      "8e0a1196dd1b43a481f37f3aafb0dcdc",
      "4860d0495030446c8781cf8e735a92f3",
      "0ea6b24eab7c438badf5e7cc8930fc4d",
      "bec3dac114434db08e0cbe0a11b73738",
      "605c7298ca2d43798d651ab58bcaf760",
      "0c2b0dba9da14550883ee45ef314a475",
      "804bad2b87c043d3888948dec90d48b8",
      "c362b07fa96148e79ba31da66bea32d2",
      "f411cceeafc4456bab39da08262bf250",
      "799d273eb7c94d90948596c9e6435d47",
      "9ac987b105a547649f5c18383b45e033",
      "11c97ec49ef1411791a8a2d044e85deb",
      "7b27a4f09d8f458cae81163a98d3db0b",
      "9aa8da964e4147ebb6003bbe8d42288d",
      "cdd620a175eb4b44b04510e8002bcdd0",
      "4fc19dba35b04216bf99f14148161c9b",
      "a23a1591fb30487ea049e16c2008a1a2",
      "cfc987412c034e80a0e75d2ddc44c66f",
      "bb8258cf34154aec906ac6d7d674f8a5",
      "9db5b30c2c4240cd899f53008b075165",
      "99bd49982e4c47ada8b58a5964de166e",
      "9576acc791bc423f90f46e778aebeae5",
      "c5ad2f6f319f4c8ca3157a12d3fdab55",
      "0b30591dac104e61b84e0ed989015c20",
      "c4937d854e8443ce98fbb67e98e8823c",
      "a516a26232be4d189388bda9deea5913",
      "3bbfe30620674561a9c11d3a0237c78a",
      "ee9c7709465b47d896b44a58621b3c11",
      "7cb17e544d8e4a1a82d25999a12303fe",
      "42b6cafdab5a40608bf1a826b069238a",
      "347a421a7b7b4458b6daf99f624f740c",
      "a4f01ac0a49640c6a94b4e6727c180be",
      "368d4b4baa784ccc995b398e8fb86d47",
      "e2e3fecad67b43d8a999d8e0b9d6af6a",
      "910947a07b1142f989be614e663cd4d1",
      "b42a1a2ff4d647088a74e4323b2bce6d",
      "002b4d0804e94c45bb022d0b62cc7115",
      "88a0d0aee31c4c9ea08cc07faf580fb9",
      "09f3adba65fe44fab16fe53eda6ffad1",
      "c04f9160ec0c4a21b54dad2f0675adbe",
      "ea28d1c947f84a9cac89190b7d2af401",
      "dd8e39dfff9c40328391a0bdf16fe2dc",
      "2ee00a6c54674af296ac554e3d7beaf7",
      "ad2e309cdc4d4af1920ea645528ce914",
      "e29cf73eac724dd0b1490662040f93c4",
      "5cf9cce671654d828a5cb15297e4dc77",
      "1ff3e1f9eb344118a4588feaa8171734",
      "9e9bc5bec01e44d9be7070f2942eaa09",
      "3640f29317474438a728b6f8beaff4a6",
      "17ec418a815c4fc8b52acb1e86b32990",
      "483526c227044456a80d27400714bd4c",
      "efc5fe5a030f4f8d966ea9cbdb255497",
      "a956abc114b44dbf9a348ce881a73315",
      "193d12bc2d53460e818d150116015a22",
      "25109429cf0449e08ac53e9e4e2b334b",
      "d30345e01c40452eaefa5977baac9202",
      "ac8a7a2ec5ac4763bd1c701fd5c01351",
      "962288b7e4ba4d83977a49dff22f4fe7",
      "b2e5f218d4f24356b670dd5a660315f4",
      "aed506f8091049df82d2b4a2d7f45372",
      "be6d7de5c7e440cead1ae5f54d38dc55",
      "78cb60cd425040369d61f5d96d32da8e",
      "d92d39e85cb6452d965221cedf0b6571",
      "2cea07322293454db6ef622cca36a339",
      "e4a99a6df6984fe088ed74b2f83e390d",
      "c78868d8e7594c9eb91ed3b703ac8a85",
      "def9a840c1de4667a889133941a58ca9",
      "d101d1ce87ab4ebf85ac055dc003c836",
      "f78fbc1390024ed3aba9fc2c5849cdbf",
      "29fb964e708a4f168c3b871fa3630448",
      "705d0311fbf44605abdd55e68f33fdb0",
      "898fd091cbea4af0a483d6020840ef4b",
      "adf3eba20c4f483a82150f0438bf8e19",
      "0ecd8059efdb462fa9a5589013b389c2",
      "83da3627c45f4a828dc410f2850ca1e5",
      "508018ecc7b645fe931e5ba634f50cc7",
      "91a9488f85ec470a9b60fc851a535196",
      "e3fd696a0a3649f9847fb60c4316f078",
      "f8e5eb701ca74528a87cfb3ed68ff068",
      "833d08d4182d45f78ab83f88cac6cad8",
      "2285c1f10ba249cdb642cf80b2bad70c",
      "190f9c85da4545d0bfb044f10c6909a7",
      "f5a6df5771af4312a4b462ffada36e54",
      "1773989923ce4c59bd0069bc9a21ecf5",
      "04fb2906d0884dcb9d75912556313ffa",
      "2742a2516d1d4fb8ace292cd1481e4c3",
      "95e3a1b5872247b98f922e1e57736bfb"
     ]
    },
    "id": "LnNBNI4-PA3Y",
    "outputId": "32581b2a-93c7-4191-f8a2-ad1efc83b81b",
    "ExecuteTime": {
     "end_time": "2024-05-23T00:32:59.211792Z",
     "start_time": "2024-05-23T00:32:47.047752Z"
    }
   },
   "source": [
    "from sentence_transformers import SentenceTransformer\n",
    "\n",
    "# load model - may take a minute or two to download the first time\n",
    "model = SentenceTransformer('sentence-transformers/all-MiniLM-L6-v2', cache_folder=os.getenv(\"TRANSFORMERS_CACHE\", f\"{parent_directory}/models\"))"
   ],
   "outputs": [
    {
     "data": {
      "text/plain": [
       "modules.json:   0%|          | 0.00/349 [00:00<?, ?B/s]"
      ],
      "application/vnd.jupyter.widget-view+json": {
       "version_major": 2,
       "version_minor": 0,
       "model_id": "f903cf62fc4d41dda909b04e603db485"
      }
     },
     "metadata": {},
     "output_type": "display_data"
    },
    {
     "data": {
      "text/plain": [
       "config_sentence_transformers.json:   0%|          | 0.00/116 [00:00<?, ?B/s]"
      ],
      "application/vnd.jupyter.widget-view+json": {
       "version_major": 2,
       "version_minor": 0,
       "model_id": "7c3b9ae6d70e45b889c9208661c236b2"
      }
     },
     "metadata": {},
     "output_type": "display_data"
    },
    {
     "data": {
      "text/plain": [
       "README.md:   0%|          | 0.00/10.7k [00:00<?, ?B/s]"
      ],
      "application/vnd.jupyter.widget-view+json": {
       "version_major": 2,
       "version_minor": 0,
       "model_id": "b3e55f5e414b4e4cbfa963c538b4cfbc"
      }
     },
     "metadata": {},
     "output_type": "display_data"
    },
    {
     "data": {
      "text/plain": [
       "sentence_bert_config.json:   0%|          | 0.00/53.0 [00:00<?, ?B/s]"
      ],
      "application/vnd.jupyter.widget-view+json": {
       "version_major": 2,
       "version_minor": 0,
       "model_id": "a7caf3d541264ce192a708caf88dc959"
      }
     },
     "metadata": {},
     "output_type": "display_data"
    },
    {
     "data": {
      "text/plain": [
       "config.json:   0%|          | 0.00/612 [00:00<?, ?B/s]"
      ],
      "application/vnd.jupyter.widget-view+json": {
       "version_major": 2,
       "version_minor": 0,
       "model_id": "1b44fd99c30e4efdb3720b5776a7a1e9"
      }
     },
     "metadata": {},
     "output_type": "display_data"
    },
    {
     "data": {
      "text/plain": [
       "model.safetensors:   0%|          | 0.00/90.9M [00:00<?, ?B/s]"
      ],
      "application/vnd.jupyter.widget-view+json": {
       "version_major": 2,
       "version_minor": 0,
       "model_id": "b996cecf1e794945944461abb9417920"
      }
     },
     "metadata": {},
     "output_type": "display_data"
    },
    {
     "data": {
      "text/plain": [
       "tokenizer_config.json:   0%|          | 0.00/350 [00:00<?, ?B/s]"
      ],
      "application/vnd.jupyter.widget-view+json": {
       "version_major": 2,
       "version_minor": 0,
       "model_id": "0c4fa3883ff14b9fa1dc8b470440d209"
      }
     },
     "metadata": {},
     "output_type": "display_data"
    },
    {
     "data": {
      "text/plain": [
       "vocab.txt:   0%|          | 0.00/232k [00:00<?, ?B/s]"
      ],
      "application/vnd.jupyter.widget-view+json": {
       "version_major": 2,
       "version_minor": 0,
       "model_id": "e096262136494fb5af8d60020551aba5"
      }
     },
     "metadata": {},
     "output_type": "display_data"
    },
    {
     "data": {
      "text/plain": [
       "tokenizer.json:   0%|          | 0.00/466k [00:00<?, ?B/s]"
      ],
      "application/vnd.jupyter.widget-view+json": {
       "version_major": 2,
       "version_minor": 0,
       "model_id": "dedf4037600d4c848b7e4b9d10fac45e"
      }
     },
     "metadata": {},
     "output_type": "display_data"
    },
    {
     "data": {
      "text/plain": [
       "special_tokens_map.json:   0%|          | 0.00/112 [00:00<?, ?B/s]"
      ],
      "application/vnd.jupyter.widget-view+json": {
       "version_major": 2,
       "version_minor": 0,
       "model_id": "1cf62893bd7547a487403870d5046ccc"
      }
     },
     "metadata": {},
     "output_type": "display_data"
    },
    {
     "data": {
      "text/plain": [
       "1_Pooling/config.json:   0%|          | 0.00/190 [00:00<?, ?B/s]"
      ],
      "application/vnd.jupyter.widget-view+json": {
       "version_major": 2,
       "version_minor": 0,
       "model_id": "5a70c76154244368acc6b3bc2e56cb9e"
      }
     },
     "metadata": {},
     "output_type": "display_data"
    }
   ],
   "execution_count": 63
  },
  {
   "cell_type": "code",
   "metadata": {
    "colab": {
     "base_uri": "https://localhost:8080/"
    },
    "id": "-41dOyVpOgDI",
    "outputId": "b6675ce3-b17b-4cb9-b4ee-11309172e95a",
    "ExecuteTime": {
     "end_time": "2024-05-23T00:33:00.802413Z",
     "start_time": "2024-05-23T00:32:59.212921Z"
    }
   },
   "source": [
    "%%time\n",
    "\n",
    "# create embeddings\n",
    "chunk_embeddings = model.encode([chunk.page_content for chunk in chunks])\n",
    "len(chunk_embeddings) == len(chunks)"
   ],
   "outputs": [
    {
     "name": "stdout",
     "output_type": "stream",
     "text": [
      "CPU times: user 586 ms, sys: 115 ms, total: 701 ms\n",
      "Wall time: 1.59 s\n"
     ]
    },
    {
     "data": {
      "text/plain": [
       "True"
      ]
     },
     "execution_count": 64,
     "metadata": {},
     "output_type": "execute_result"
    }
   ],
   "execution_count": 64
  },
  {
   "metadata": {
    "ExecuteTime": {
     "end_time": "2024-05-23T00:33:00.804625Z",
     "start_time": "2024-05-23T00:33:00.802940Z"
    }
   },
   "cell_type": "code",
   "source": "print(f\"embedding dim should be {len(chunk_embeddings[0])}\")",
   "outputs": [
    {
     "name": "stdout",
     "output_type": "stream",
     "text": [
      "embedding dim should be 384\n"
     ]
    }
   ],
   "execution_count": 65
  },
  {
   "cell_type": "markdown",
   "metadata": {
    "id": "3A6PexJgVDGB"
   },
   "source": [
    "### Set up some helper functions\n",
    "\n",
    "Helper functions to encode the single query vector and display redis search results"
   ]
  },
  {
   "cell_type": "code",
   "metadata": {
    "id": "9y0Xc4jVVCCI",
    "ExecuteTime": {
     "end_time": "2024-05-23T00:33:00.806851Z",
     "start_time": "2024-05-23T00:33:00.805054Z"
    }
   },
   "source": [
    "import pandas as pd\n",
    "\n",
    "\n",
    "def encode_one(input):\n",
    "    return model.encode(input).astype(np.float32).tobytes()\n",
    "\n",
    "\n",
    "def table_view(res):\n",
    "    if res.total == 0:\n",
    "        print(\"No documents found.\")\n",
    "        return None\n",
    "    \n",
    "    res_df = pd.DataFrame([t.__dict__ for t in res.docs ]).drop(columns=[\"payload\"])\n",
    "    return res_df\n"
   ],
   "outputs": [],
   "execution_count": 66
  },
  {
   "cell_type": "markdown",
   "metadata": {
    "id": "ylykfqxeuPpy"
   },
   "source": [
    "### Define a schema and create an index\n",
    "Below we connect to Redis and create an index for vector search that contains a single text field and vector field."
   ]
  },
  {
   "cell_type": "code",
   "metadata": {
    "id": "xufdXgR6uPpy",
    "ExecuteTime": {
     "end_time": "2024-05-23T00:33:00.812751Z",
     "start_time": "2024-05-23T00:33:00.807335Z"
    }
   },
   "source": [
    "from redis.commands.search.field import TagField, TextField, VectorField\n",
    "from redis.commands.search.indexDefinition import IndexDefinition, IndexType\n",
    "from redis.commands.search.query import Query\n",
    "\n",
    "\n",
    "index_name = \"redispy\"\n",
    "key_prefix = f\"doc:{index_name}\"\n",
    "\n",
    "\n",
    "def create_index(index_type: str = \"FLAT\"):       # Creates a FLAT index by default\n",
    "    try:\n",
    "        # check to see if index exists\n",
    "        client.ft(index_name).info()\n",
    "        print(\"Index already exists!\")\n",
    "    except:\n",
    "        # define schema\n",
    "        schema = (\n",
    "            TagField(\"doc_id\"),                    # Tag Field - synthetic ID\n",
    "            TextField(\"content\"),                  # Text Field\n",
    "            VectorField(\"chunk_vector\",            # Vector Field\n",
    "                index_type, {                      # Vector Index Type: FLAT or HNSW\n",
    "                    \"TYPE\": \"FLOAT32\",\n",
    "                    \"DIM\": 384,                    # Number of Vector Dimensions\n",
    "                    \"DISTANCE_METRIC\": \"COSINE\",   # Vector Search Distance Metric\n",
    "                }\n",
    "            ),\n",
    "        )\n",
    "\n",
    "        # index Definition\n",
    "        definition = IndexDefinition(prefix=[key_prefix], index_type=IndexType.HASH)\n",
    "\n",
    "        # create Index\n",
    "        client.ft(index_name).create_index(fields=schema, definition=definition)"
   ],
   "outputs": [],
   "execution_count": 67
  },
  {
   "cell_type": "code",
   "metadata": {
    "id": "CMMYwKXPuPpz",
    "ExecuteTime": {
     "end_time": "2024-05-23T00:33:00.817512Z",
     "start_time": "2024-05-23T00:33:00.813265Z"
    }
   },
   "source": [
    "# Create the index\n",
    "create_index()"
   ],
   "outputs": [],
   "execution_count": 68
  },
  {
   "cell_type": "code",
   "metadata": {
    "colab": {
     "base_uri": "https://localhost:8080/"
    },
    "id": "YmIoE7MZuPpz",
    "outputId": "c514624d-2767-409b-e946-0294279f8d91",
    "ExecuteTime": {
     "end_time": "2024-05-23T00:33:00.821294Z",
     "start_time": "2024-05-23T00:33:00.817996Z"
    }
   },
   "source": [
    "# Check the info related to the newly created index\n",
    "client.ft(index_name).info()"
   ],
   "outputs": [
    {
     "data": {
      "text/plain": [
       "{'index_name': 'redispy',\n",
       " 'index_options': [],\n",
       " 'index_definition': [b'key_type',\n",
       "  b'HASH',\n",
       "  b'prefixes',\n",
       "  [b'doc:redispy'],\n",
       "  b'default_score',\n",
       "  b'1'],\n",
       " 'attributes': [[b'identifier',\n",
       "   b'doc_id',\n",
       "   b'attribute',\n",
       "   b'doc_id',\n",
       "   b'type',\n",
       "   b'TAG',\n",
       "   b'SEPARATOR',\n",
       "   b','],\n",
       "  [b'identifier',\n",
       "   b'content',\n",
       "   b'attribute',\n",
       "   b'content',\n",
       "   b'type',\n",
       "   b'TEXT',\n",
       "   b'WEIGHT',\n",
       "   b'1'],\n",
       "  [b'identifier',\n",
       "   b'chunk_vector',\n",
       "   b'attribute',\n",
       "   b'chunk_vector',\n",
       "   b'type',\n",
       "   b'VECTOR',\n",
       "   b'algorithm',\n",
       "   b'FLAT',\n",
       "   b'data_type',\n",
       "   b'FLOAT32',\n",
       "   b'dim',\n",
       "   384,\n",
       "   b'distance_metric',\n",
       "   b'COSINE']],\n",
       " 'num_docs': '0',\n",
       " 'max_doc_id': '0',\n",
       " 'num_terms': '0',\n",
       " 'num_records': '0',\n",
       " 'inverted_sz_mb': '0',\n",
       " 'vector_index_sz_mb': '0.00818634033203125',\n",
       " 'total_inverted_index_blocks': '0',\n",
       " 'offset_vectors_sz_mb': '0',\n",
       " 'doc_table_size_mb': '0',\n",
       " 'sortable_values_size_mb': '0',\n",
       " 'key_table_size_mb': '0',\n",
       " 'geoshapes_sz_mb': '0',\n",
       " 'records_per_doc_avg': 'nan',\n",
       " 'bytes_per_record_avg': 'nan',\n",
       " 'offsets_per_term_avg': 'nan',\n",
       " 'offset_bits_per_record_avg': 'nan',\n",
       " 'hash_indexing_failures': '0',\n",
       " 'total_indexing_time': '0',\n",
       " 'indexing': '0',\n",
       " 'percent_indexed': '1',\n",
       " 'number_of_uses': 1,\n",
       " 'cleaning': 0,\n",
       " 'gc_stats': [b'bytes_collected',\n",
       "  b'0',\n",
       "  b'total_ms_run',\n",
       "  b'0',\n",
       "  b'total_cycles',\n",
       "  b'0',\n",
       "  b'average_cycle_time_ms',\n",
       "  b'nan',\n",
       "  b'last_run_time_ms',\n",
       "  b'0',\n",
       "  b'gc_numeric_trees_missed',\n",
       "  b'0',\n",
       "  b'gc_blocks_denied',\n",
       "  b'0'],\n",
       " 'cursor_stats': [b'global_idle',\n",
       "  0,\n",
       "  b'global_total',\n",
       "  0,\n",
       "  b'index_capacity',\n",
       "  128,\n",
       "  b'index_total',\n",
       "  0],\n",
       " 'dialect_stats': [b'dialect_1',\n",
       "  0,\n",
       "  b'dialect_2',\n",
       "  0,\n",
       "  b'dialect_3',\n",
       "  0,\n",
       "  b'dialect_4',\n",
       "  0],\n",
       " 'Index Errors': [b'indexing failures',\n",
       "  0,\n",
       "  b'last indexing error',\n",
       "  b'N/A',\n",
       "  b'last indexing error key',\n",
       "  b'N/A'],\n",
       " 'field statistics': [[b'identifier',\n",
       "   b'doc_id',\n",
       "   b'attribute',\n",
       "   b'doc_id',\n",
       "   b'Index Errors',\n",
       "   [b'indexing failures',\n",
       "    0,\n",
       "    b'last indexing error',\n",
       "    b'N/A',\n",
       "    b'last indexing error key',\n",
       "    b'N/A']],\n",
       "  [b'identifier',\n",
       "   b'content',\n",
       "   b'attribute',\n",
       "   b'content',\n",
       "   b'Index Errors',\n",
       "   [b'indexing failures',\n",
       "    0,\n",
       "    b'last indexing error',\n",
       "    b'N/A',\n",
       "    b'last indexing error key',\n",
       "    b'N/A']],\n",
       "  [b'identifier',\n",
       "   b'chunk_vector',\n",
       "   b'attribute',\n",
       "   b'chunk_vector',\n",
       "   b'Index Errors',\n",
       "   [b'indexing failures',\n",
       "    0,\n",
       "    b'last indexing error',\n",
       "    b'N/A',\n",
       "    b'last indexing error key',\n",
       "    b'N/A']]]}"
      ]
     },
     "execution_count": 69,
     "metadata": {},
     "output_type": "execute_result"
    }
   ],
   "execution_count": 69
  },
  {
   "cell_type": "markdown",
   "metadata": {
    "id": "Qrj-jeGmBRTL"
   },
   "source": [
    "### Process and load data using Redis\n",
    "Below we use a Redis pipeline (not a transaction) to batch send writes to Redis. This method helps with throughput significantly. The batch_size param can be customized and benchmarked on your hardware and with your data. We typically recommend starting small (100-200) and increasing as needed."
   ]
  },
  {
   "cell_type": "code",
   "metadata": {
    "id": "XHsODPikuPp1",
    "ExecuteTime": {
     "end_time": "2024-05-23T00:33:00.868997Z",
     "start_time": "2024-05-23T00:33:00.821745Z"
    }
   },
   "source": [
    "# load expects an iterable of dictionaries\n",
    "\n",
    "batch_size = 200\n",
    "\n",
    "with client.pipeline(transaction=False) as pipe:\n",
    "    for i, chunk in enumerate(chunks):\n",
    "        data = {\n",
    "            'doc_id': f\"{i}\",\n",
    "            'content': chunk.page_content,\n",
    "            # For HASH -- must convert embeddings to bytes\n",
    "            'chunk_vector': np.array(chunk_embeddings[i]).astype(np.float32).tobytes()\n",
    "        }\n",
    "        pipe.hset(f\"{key_prefix}:{i}\", mapping=data)\n",
    "        # execute in \"mini batches\"\n",
    "        if i % batch_size == 0:\n",
    "            res = pipe.execute()\n",
    "\n",
    "    # cleanup final batch execution\n",
    "    res = pipe.execute()"
   ],
   "outputs": [],
   "execution_count": 70
  },
  {
   "cell_type": "code",
   "metadata": {
    "colab": {
     "base_uri": "https://localhost:8080/"
    },
    "id": "pY9Ja6VduPp1",
    "outputId": "9b4e46e9-1771-45bc-83c5-a2a943da411e",
    "ExecuteTime": {
     "end_time": "2024-05-23T00:33:00.872046Z",
     "start_time": "2024-05-23T00:33:00.869646Z"
    }
   },
   "source": [
    "# check the data size in Redis\n",
    "len(chunks) == client.dbsize()"
   ],
   "outputs": [
    {
     "data": {
      "text/plain": [
       "True"
      ]
     },
     "execution_count": 71,
     "metadata": {},
     "output_type": "execute_result"
    }
   ],
   "execution_count": 71
  },
  {
   "cell_type": "code",
   "metadata": {
    "colab": {
     "base_uri": "https://localhost:8080/"
    },
    "id": "xa5zeoZ1uPp7",
    "outputId": "7322de1c-1367-46ff-dcd4-25a721c096a3",
    "ExecuteTime": {
     "end_time": "2024-05-23T00:33:00.874683Z",
     "start_time": "2024-05-23T00:33:00.872489Z"
    }
   },
   "source": [
    "client.hgetall(f\"{key_prefix}:0\")"
   ],
   "outputs": [
    {
     "data": {
      "text/plain": [
       "{b'chunk_vector': b'\\x06t\\xb3\\xbc\\x95\\xe0\\xf9\\xbd\\xdf@\\xdb;K\\x1b\\x8c\\xbb;7J<\\xcb(\\xb1=\\xf8\\xa6\\xe3<3\\xcfP\\xbc\\xf9\\xf0J<`ys\\xbd\\xc2\\xfd$=P\\xad\\xc8=TB\\xad\\xbd\\x1d\\xd9\\xa3\\xbd\\x95\\xb4\\x9b<G\\xccU=\\xa6B\\xee\\xbcm~\\x08\\xbd\\xd7\\xd3i\\xbd\\x17\\xf9X\\xbc\\x06\\xb1C=m\\x85\\xa3\\xbd\\x1aC\\x80<\\n\\xc5\\x13=>x\\x12\\xbd@}\\x80\\xbc\\x16\\xe9\\x81;D=\\xb0=\\x0b\\x8c\\xa7;,\\t\\xf5\\xbcxo,\\xbd\\xcf\\xcb\\xaa\\xbc\\xc7\\x17\\xec=\\xd8\\xc3\\xc0=t^\\xc4=\\x13,\\xf29\\x03\\x96j=\\x07\\xd7\\xd5\\xbc\\xfa\\x04*\\xbcz\\x0f\\x0e=\\\\\\x1e\\xe0<\\x97N\\xc3\\xbd\\xbcD\\xb0\\xbd5;>=\\xad\\xb3\\xd8\\xbc\\xcauH=\\xe3\\x1e\\x08\\xbdB`\\x03=B],=\\xb7v\\xb7=S\\xdbb\\xbc\\xd0$\\xd3\\xbc86\\x85=\\xf1\\xe5\\x1b\\xbd\\xce\\xdez\\xbc\\x87\\x11\\xe3;a\\xd9$\\xbb\\xf1\\xaa\\xa3=Xs\\xa9<\\x06j\\x8e<\\xc6\\x82\\xe9=\\xbb\\x1e\\x91\\xbd^\\xc5)\\xbd\\xe3\\x0b\\xca<\\xac\\xb7\\x8c;\\x9f\\xe4k<6=Y\\xbcE-A\\xbcW\\xd4\\xfb<\\x0c9\\xe8\\xbd\\xaa\\xbf-=[\\xcc8\\xbc\\xf9\\xba9\\xbdK\\xca\\xb9=\\xc3\\xees\\xbd\\xc4\\xff\\xd1<7\\x87\\xbb\\xbcT\\x9c\\xaa=,\\xed}<\\x96I\\xbd\\xbcq3_\\xbd\\x9b\\xd3\\x84<9?>\\xb9H\\xc3/=hWe<\\x9a\\x89\\x0e<\\xbcx\\xca\\xbc\\x12sH=\\xc3\\x91\\x03=\\x88\\x9d\\x05=\\x05P\\x0c\\xbe\\xa3\\xef\\xd9\\xbd\\x80\\x066\\xbb\\xc8\\x15\\x0f\\xbd\\xb6:n\\xbd^\\x1cP=j\\xa7\\x91<\\xf0\\xb1\\x9a\\xbb\\r>\\xa8\\xbc\\x86g8=\\xc1:@\\xbdqH\\x8c=\\xfe\\x90\\xa3\\xbd\\xfdB\\xb0;\\x1a3-\\xbd\\x84\\xa4\\xc4\\xbc\\xa31\\xd5\\xbd\\xbe?\\xd2=\\x19lM<\\xb8Q\\x92=\\xba\\xc5\\xca\\xbc\\xf0\\x91\\x8c\\xbbu\\xfd\\xf5\\xbc\\xab\\x8a)=\\xc5\\x7f\\x06\\xbdP\\xfa\\xbc<\\xd7\\xfe\\xd3\\xbc\\xde>a=\\xc3\\xaa\\x7f=\\xad\\xd0\\x80\\xbc: 3<s\\xf3k=\\xd2\\x13>:\\x1er\\xf3\\xbc7\\xc8\\xda\\xbd6\\xc1G\\xbd\\xb5.E\\xbd\\xd3\\xf3\\x9e\\x08\\xf4\\xba\\xe7\\xbb\\x1f\\xabV=Y\\x84\\x0f=oS9=v\\n\\x95\\xbc|\"\\x9b<\\xa0\\x7f\\xfc<x\\x12D<\\xf5~\\xa8\\xbdTE\\xaf=\\xcef\\xdf\\xbcW\\x04\\xd1:l\\x93\\x8f=\\x1cl\\x0c\\xbd5\\x8b\\x0f=3\\xf4\\x89<\\xbeY\\xa3\\xbc\\x83\\x9d|\\xbbqY<=\\x8c\\xe3\\x0b;\\x84g7=\\xb1\\xd9\\xf3<\\xa7\\xc6\\x1a\\xbd\\xf4L\\x8c\\xbc\\xe8\\xe6\\xa3\\xbd\\xed4)=O3\\x84\\xbdf\\xd7\\xa8\\xbb_<\\x80<\\x9fhM=#\\x8a\\x90=$J\\x81\\xbdg+\\x16;\\xbfG*\\xbdz&\\xa4<.\\x9e\\x1d\\xbcB`\\x02\\xbd(\\x9d\\x15\\xbd\\x8e0\\x08\\xbbs\\xfbl\\xbd\\xd0\\xc9Z=\\xcfq\\xdf\\xbc7`\\x01\\xbd\\xce\\xb1\\x90<P\\x06\\xad\\xbcL\\xf3(<\\xcb\\xd4A<\\x9cD\\x95;n\\x81\\x00>\\x9c\\x0ev\\xbdI\\x19\\xa5\\xbd\\x86\\xb1\\x8e=}\\x11F=\\xff@\\xbe\\xbd\\xc6\\xc6\\xfc<:`\\x12\\xbe\\xa0\\xd0\\x9e;m;\\x8c<s\\xd2\\xbd\\xbd\\xa1$;\\xbdWG\\xc5=o\\x02\\xc6=\\x8d\\x11\\x1b\\xbd\\xb0\\xd8\\x11=\\xdd\\x1d\\xa7\\xbd\\x90\\xc8\\x8d\\xbd<p\\x83\\xbc\\xb0\\x9d\\x8d\\xbcyJ\\xcd<\\x1c\\x99\\x80\\xbb\\x05aW=\\x06\\x9d\\t=q\\xbb\\x06<f\\xdeb=\\x80\\x10$\\xbd)\\xb3w\\xbde\\xe1\\xa6<\\x97RK=\\xb6\\xd9\\xba\\xbc\\x18\\xb4\\xbd\\xba\\xc8V\\x02<\\xea\\x10>\\xbd\\x89\\xf6\\x9e<\\x8e\\xa2\\x8a=\\xed\\x05\\xc3\\xbd\\xc4\\xc9\\x1c;,\\xddf=\\xcc\\xadd\\xbc\\x14\\x9c{\\xbd3\\xe1\\x98\\xbc\\xe9\\xe8\\x89\\xbd\\x0f\\xc1b\\xbb\\xcf\\xa6\\x03\\xbeB\\x18\\x1c=*\\xc5\\x94\\xbc\\xdb\\x15\\xcd\\x89/\\xa9&<\\xd4O\\xf7\\xbc\\xe0\\xaf\\x90<;\\xd2r\\xbd\\x19u\\xe3\\xbdILP=\\x99\\xbc9=\\x084(\\xbd0E\\x1c\\xbd\\xae0\\xa2=\\xda;\\x18=\\xff\\x82\\xde\\xbc\\xd4p\\xc8\\xbb@\\x9bj\\xbc\\x04\\x98\\x1e;N\\x80U<\\xa8\\xf1\\t\\xbcs\\xae\\xf9\\xbcz\\x85\\x98<*\\xf5\\x1d\\xbd\\xc0\\xfd\\x95;G0?=\\xc6Z\\xf3<j\\x05O=\\xda\\xe9\\x98\\xbd\\xb0\\x1d6\\xbd\\xd9\\xcf\\xb2\\xbb\\x9a\\xb6\\xa1=\\xa2\\xe9\\xf4\\xbc:\\x98)=\\xf0\\xa0\\x93=\\x99\\x18\\xc4\\xbc\\x90`T<\\xad\\x02@=\\t\\x97\\xc6\\xbd-\\x92\\xc6\\xbd\\x91v\\xb0\\xbc`#\\xef\\xba\\xbf\\xee\\x1e=hl\\x92\\xbd\\xb3\\x87\\x83=\\xe1\\xa9\\x0c\\xbd\\x8e\\x8d\\x86\\xbc6\\x84\\x8b=\\xf39\\xac<\\xc7R\\xa7\\xbd\\xf7\\x9d\\xef\\xbb\\x96\\x8a%\\xbd\\x93\\x95\\xf9<\\xe2\\xce\\x08\\xbd<a\\xec\\xbc\\xa3\\xa0\\x9f<\\t7p\\xbc\\x90\\x8b\\xcd<\\xd3\\x9d\\xa79p\\xc3\\xad=u\\xb9-\\xbd\\xec\\xfcG:\\xbb\\xf6R\\xbd\\x89\\x08*<%G\\x90<t7\\xbb=2`\\x07<\\x9c\\x82\\xd2=\\x98\\x8e\\x0f=\\x11_r\\xbd\\x16\"a\\xbd\\xfc\\x8d\\xf0<\\xcaq\\r\\xbd0\\xf7\\x87\\xbd#\\xfd\\x88<\\x14}\\x92\\xbdZ\\x9dk=\\xb8(\\x9b;\\x81\\xd8\\xa4\\xbd\\x96\\x99a\\xbc\\xf8CI=\\x1d:\\xaa=HC\\xb1\\xbd\\xac\\xa3\\x1b<#\\x91\\xa5<n\\x91\\x82\\xbb;\\xe0\\x08\\xbd\\x00\\xf9i=YK:=\\xe2\\x9f{=\\x90=\\x9b=\\xb7\\xff\\xab=\\x17\\xd7\\x9b<\\n\\xef\\x95<\\xad\"9=\\xcbS7=\\xb0<\\xec\\xbc\\x86\\xcb(;\\x16%\\xd5\\xbdR\\xe8N\\xb3%\\xbaV=\\xd9\\xb4\\xec<\\x9d)\\x12=\\xe5Zo=\\xf8\\xa4\\xec\\xbbj\\xbfI\\xbcEZ\\xff\\xbcs\\xfa<\\xbdr4\\x8e\\xbd7{S=\\x8d\\x98I\\xbd\\xf0\\x0c,<-\\xd0\\xd5\\xbdS\\xd2\\xcc<:p\\xc8\\xbc \\xd9;\\xbd\\xa0\\xad\\x86\\xbd\\xc6\\xf6\\x93=-O\\xe4\\xbb\\xc3\\xc1\\x99=\\x07\\x07\\xaf\\xbd\\xa1v\\xcb\\xbc\\xe8\\xed\\xad=\\xd3w\\xc2\\xbc\\xdf\\xb4\\x14\\xbd\\xe4\\x7f\\x1b\\xbd\\xcaX\\xc6<\\xd3\\xe8\\x16\\xbdO\\x0c\\xa5=g\\x04C;\\xe6\\x95n\\xbd\\xa4\\x85/=\\xb1\\xa4\\xe2<\\xbeU\\x18\\xbd\\x80j\\xc5\\xbdTKs=&\\xb5\\x02\\xbdd\\x9f\\xe8;\\r\\xe0\\xa2\\xbd,\\xa8\\x00<2\\xea\\x8e\\xbd@b>\\xbd?G\\xf5\\xba\\x18\\x8a\\x83<}\\xd5\\xa4=\\x1dV\\x90<\\xcf`.\\xbd\\x96\\x85_\\xbd|EV=\\x95\\xcb\\x01=\\xedv6\\xbd\\x13\\xbc\\xa3<{\\x9e\\xe8<\\xbf:\\'=\\xe91D\\xbd\\x9f\\n\\xbf<s\\xe4\\xf3\\xbd\\nC\\x89\\xbdPW\\xf8\\xbbN\\\\G\\xbd \"\\xa0<\\xec\\xfd\\xcf\\xbd\\xd4\\x92\\x8f:\\x9a\\xf5e<',\n",
       " b'content': b\"NIKE, Inc.(Exact name of Registrant as specified in its charter)Oregon93-0584541(State or other jurisdiction of incorporation)(IRS Employer Identification No.)One Bowerman Drive, Beaverton, Oregon 97005-6453(Address of principal executive offices and zip code)(503) 671-6453(Registrant's telephone number, including area code)SECURITIES REGISTERED PURSUANT TO SECTION 12(B) OF THE ACT:Class B Common StockNKENew York Stock Exchange(Title of each class)(Trading symbol)(Name of each exchange on which registered)SECURITIES REGISTERED PURSUANT TO SECTION 12(G) OF THE ACT:NONE\",\n",
       " b'doc_id': b'0'}"
      ]
     },
     "execution_count": 72,
     "metadata": {},
     "output_type": "execute_result"
    }
   ],
   "execution_count": 72
  },
  {
   "cell_type": "markdown",
   "metadata": {
    "id": "oBMVO9RQuPp7"
   },
   "source": [
    "### Query the database\n",
    "Now we can use the Redis search index to perform vector similarity search operations.\n",
    "\n",
    "The code below takes a user input, converts to embeddings, and fetches the top 2 most semantically similar chunks from Redis."
   ]
  },
  {
   "cell_type": "code",
   "metadata": {
    "colab": {
     "base_uri": "https://localhost:8080/",
     "height": 112
    },
    "id": "fp3I3jo4uPp8",
    "outputId": "2d32fa64-a010-4f8c-9b3c-191b44c8e66e",
    "ExecuteTime": {
     "end_time": "2024-05-23T00:33:00.967067Z",
     "start_time": "2024-05-23T00:33:00.875162Z"
    }
   },
   "source": [
    "# Grab user input\n",
    "_input = \"Nike profit margins and company performance\"\n",
    "\n",
    "query = (\n",
    "    Query(\"*=>[KNN 2 @chunk_vector $vector as vector_distance]\")\n",
    "     .sort_by(\"vector_distance\")\n",
    "     .return_fields(\"content\", \"vector_distance\")\n",
    "     .paging(0, 2)\n",
    "     .dialect(2)\n",
    ")\n",
    "\n",
    "query_params = {\n",
    "    \"vector\": np.array(model.encode(_input), dtype=np.float32).tobytes()\n",
    "}\n",
    "\n",
    "res = client.ft(index_name).search(query, query_params)\n",
    "\n",
    "table_view(res)"
   ],
   "outputs": [
    {
     "data": {
      "text/plain": [
       "               id vector_distance  \\\n",
       "0  doc:redispy:85  0.321347296238   \n",
       "1  doc:redispy:84  0.328033983707   \n",
       "\n",
       "                                             content  \n",
       "0  TOTAL NIKE BRAND Converse\\n\\n$\\n\\n1,932 (4,841...  \n",
       "1  As discussed in Note 15 — Operating Segments a...  "
      ],
      "text/html": [
       "<div>\n",
       "<style scoped>\n",
       "    .dataframe tbody tr th:only-of-type {\n",
       "        vertical-align: middle;\n",
       "    }\n",
       "\n",
       "    .dataframe tbody tr th {\n",
       "        vertical-align: top;\n",
       "    }\n",
       "\n",
       "    .dataframe thead th {\n",
       "        text-align: right;\n",
       "    }\n",
       "</style>\n",
       "<table border=\"1\" class=\"dataframe\">\n",
       "  <thead>\n",
       "    <tr style=\"text-align: right;\">\n",
       "      <th></th>\n",
       "      <th>id</th>\n",
       "      <th>vector_distance</th>\n",
       "      <th>content</th>\n",
       "    </tr>\n",
       "  </thead>\n",
       "  <tbody>\n",
       "    <tr>\n",
       "      <th>0</th>\n",
       "      <td>doc:redispy:85</td>\n",
       "      <td>0.321347296238</td>\n",
       "      <td>TOTAL NIKE BRAND Converse\\n\\n$\\n\\n1,932 (4,841...</td>\n",
       "    </tr>\n",
       "    <tr>\n",
       "      <th>1</th>\n",
       "      <td>doc:redispy:84</td>\n",
       "      <td>0.328033983707</td>\n",
       "      <td>As discussed in Note 15 — Operating Segments a...</td>\n",
       "    </tr>\n",
       "  </tbody>\n",
       "</table>\n",
       "</div>"
      ]
     },
     "execution_count": 73,
     "metadata": {},
     "output_type": "execute_result"
    }
   ],
   "execution_count": 73
  },
  {
   "cell_type": "code",
   "metadata": {
    "colab": {
     "base_uri": "https://localhost:8080/",
     "height": 175
    },
    "id": "VH2tTqYWCgpM",
    "outputId": "e3cf413e-1ccc-4922-e155-92fc6fe64fa3",
    "ExecuteTime": {
     "end_time": "2024-05-23T00:33:00.982775Z",
     "start_time": "2024-05-23T00:33:00.967554Z"
    }
   },
   "source": [
    "# Example of sorting by a field other than vector_distance\n",
    "query = (\n",
    "    Query(\"*=>[KNN 4 @chunk_vector $vector as vector_distance]\")\n",
    "     .sort_by(\"doc_id\")\n",
    "     .return_fields(\"doc_id\", \"content\", \"vector_distance\")\n",
    "     .paging(0, 4)\n",
    "     .dialect(2)\n",
    ")\n",
    "\n",
    "query_params = {\n",
    "    \"vector\": encode_one(_input)\n",
    "}\n",
    "\n",
    "res = client.ft(index_name).search(query, query_params)\n",
    "\n",
    "table_view(res)"
   ],
   "outputs": [
    {
     "data": {
      "text/plain": [
       "                id vector_distance doc_id  \\\n",
       "0  doc:redispy:118  0.358749687672    118   \n",
       "1  doc:redispy:158  0.360825479031    158   \n",
       "2   doc:redispy:84  0.328033983707     84   \n",
       "3   doc:redispy:85  0.321347296238     85   \n",
       "\n",
       "                                             content  \n",
       "0  NIKE, INC. CONSOLIDATED STATEMENTS OF INCOME\\n...  \n",
       "1  Tax (expense) benefit Gain (loss) net of tax\\n...  \n",
       "2  As discussed in Note 15 — Operating Segments a...  \n",
       "3  TOTAL NIKE BRAND Converse\\n\\n$\\n\\n1,932 (4,841...  "
      ],
      "text/html": [
       "<div>\n",
       "<style scoped>\n",
       "    .dataframe tbody tr th:only-of-type {\n",
       "        vertical-align: middle;\n",
       "    }\n",
       "\n",
       "    .dataframe tbody tr th {\n",
       "        vertical-align: top;\n",
       "    }\n",
       "\n",
       "    .dataframe thead th {\n",
       "        text-align: right;\n",
       "    }\n",
       "</style>\n",
       "<table border=\"1\" class=\"dataframe\">\n",
       "  <thead>\n",
       "    <tr style=\"text-align: right;\">\n",
       "      <th></th>\n",
       "      <th>id</th>\n",
       "      <th>vector_distance</th>\n",
       "      <th>doc_id</th>\n",
       "      <th>content</th>\n",
       "    </tr>\n",
       "  </thead>\n",
       "  <tbody>\n",
       "    <tr>\n",
       "      <th>0</th>\n",
       "      <td>doc:redispy:118</td>\n",
       "      <td>0.358749687672</td>\n",
       "      <td>118</td>\n",
       "      <td>NIKE, INC. CONSOLIDATED STATEMENTS OF INCOME\\n...</td>\n",
       "    </tr>\n",
       "    <tr>\n",
       "      <th>1</th>\n",
       "      <td>doc:redispy:158</td>\n",
       "      <td>0.360825479031</td>\n",
       "      <td>158</td>\n",
       "      <td>Tax (expense) benefit Gain (loss) net of tax\\n...</td>\n",
       "    </tr>\n",
       "    <tr>\n",
       "      <th>2</th>\n",
       "      <td>doc:redispy:84</td>\n",
       "      <td>0.328033983707</td>\n",
       "      <td>84</td>\n",
       "      <td>As discussed in Note 15 — Operating Segments a...</td>\n",
       "    </tr>\n",
       "    <tr>\n",
       "      <th>3</th>\n",
       "      <td>doc:redispy:85</td>\n",
       "      <td>0.321347296238</td>\n",
       "      <td>85</td>\n",
       "      <td>TOTAL NIKE BRAND Converse\\n\\n$\\n\\n1,932 (4,841...</td>\n",
       "    </tr>\n",
       "  </tbody>\n",
       "</table>\n",
       "</div>"
      ]
     },
     "execution_count": 74,
     "metadata": {},
     "output_type": "execute_result"
    }
   ],
   "execution_count": 74
  },
  {
   "cell_type": "markdown",
   "metadata": {
    "id": "i5SCvkAvuPp8"
   },
   "source": [
    "### Range Queries\n",
    "Range queries allow you to set a pre defined \"threshold\" for which we want to return documents"
   ]
  },
  {
   "cell_type": "code",
   "metadata": {
    "colab": {
     "base_uri": "https://localhost:8080/",
     "height": 363
    },
    "id": "HTrphv_NuPp8",
    "outputId": "45632bde-d94e-4244-d62c-594c4334026e",
    "ExecuteTime": {
     "end_time": "2024-05-23T00:33:01.000596Z",
     "start_time": "2024-05-23T00:33:00.983401Z"
    }
   },
   "source": [
    "query = (\n",
    "    Query(\"@chunk_vector:[VECTOR_RANGE $radius $vector]=>{$YIELD_DISTANCE_AS: vector_distance}\")\n",
    "     .sort_by(\"vector_distance\")\n",
    "     .return_fields(\"content\", \"vector_distance\")\n",
    "     .dialect(2)\n",
    ")\n",
    "\n",
    "# Find all vectors within 0.8 of the query vector\n",
    "query_params = {\n",
    "    \"radius\": 0.8,\n",
    "    \"vector\": encode_one(_input)\n",
    "}\n",
    "\n",
    "res = client.ft(index_name).search(query, query_params)\n",
    "table_view(res)"
   ],
   "outputs": [
    {
     "data": {
      "text/plain": [
       "                id vector_distance  \\\n",
       "0   doc:redispy:85  0.321347296238   \n",
       "1   doc:redispy:84  0.328033983707   \n",
       "2  doc:redispy:118  0.358749687672   \n",
       "3  doc:redispy:158  0.360825479031   \n",
       "4   doc:redispy:81  0.363789796829   \n",
       "5   doc:redispy:82  0.370122373104   \n",
       "6   doc:redispy:80  0.386211693287   \n",
       "7   doc:redispy:86  0.393618762493   \n",
       "8   doc:redispy:89   0.39476788044   \n",
       "9  doc:redispy:159  0.395310223103   \n",
       "\n",
       "                                             content  \n",
       "0  TOTAL NIKE BRAND Converse\\n\\n$\\n\\n1,932 (4,841...  \n",
       "1  As discussed in Note 15 — Operating Segments a...  \n",
       "2  NIKE, INC. CONSOLIDATED STATEMENTS OF INCOME\\n...  \n",
       "3  Tax (expense) benefit Gain (loss) net of tax\\n...  \n",
       "4  NIKE Brand revenues, which represented over 90...  \n",
       "5  Lower margin in our NIKE Direct business, driv...  \n",
       "6  4,780 (508)\\n\\n7 % -80 %\\n\\nTOTAL NIKE BRAND W...  \n",
       "7  Apparel revenues increased 9% on a currency-ne...  \n",
       "8  3 % -4 %\\n\\n13 % 4 %\\n\\n1,494 190\\n\\n8 % 23 %\\...  \n",
       "9  ASIA PACIFIC & LATIN AMERICA\\n\\n(1)\\n\\nGLOBAL ...  "
      ],
      "text/html": [
       "<div>\n",
       "<style scoped>\n",
       "    .dataframe tbody tr th:only-of-type {\n",
       "        vertical-align: middle;\n",
       "    }\n",
       "\n",
       "    .dataframe tbody tr th {\n",
       "        vertical-align: top;\n",
       "    }\n",
       "\n",
       "    .dataframe thead th {\n",
       "        text-align: right;\n",
       "    }\n",
       "</style>\n",
       "<table border=\"1\" class=\"dataframe\">\n",
       "  <thead>\n",
       "    <tr style=\"text-align: right;\">\n",
       "      <th></th>\n",
       "      <th>id</th>\n",
       "      <th>vector_distance</th>\n",
       "      <th>content</th>\n",
       "    </tr>\n",
       "  </thead>\n",
       "  <tbody>\n",
       "    <tr>\n",
       "      <th>0</th>\n",
       "      <td>doc:redispy:85</td>\n",
       "      <td>0.321347296238</td>\n",
       "      <td>TOTAL NIKE BRAND Converse\\n\\n$\\n\\n1,932 (4,841...</td>\n",
       "    </tr>\n",
       "    <tr>\n",
       "      <th>1</th>\n",
       "      <td>doc:redispy:84</td>\n",
       "      <td>0.328033983707</td>\n",
       "      <td>As discussed in Note 15 — Operating Segments a...</td>\n",
       "    </tr>\n",
       "    <tr>\n",
       "      <th>2</th>\n",
       "      <td>doc:redispy:118</td>\n",
       "      <td>0.358749687672</td>\n",
       "      <td>NIKE, INC. CONSOLIDATED STATEMENTS OF INCOME\\n...</td>\n",
       "    </tr>\n",
       "    <tr>\n",
       "      <th>3</th>\n",
       "      <td>doc:redispy:158</td>\n",
       "      <td>0.360825479031</td>\n",
       "      <td>Tax (expense) benefit Gain (loss) net of tax\\n...</td>\n",
       "    </tr>\n",
       "    <tr>\n",
       "      <th>4</th>\n",
       "      <td>doc:redispy:81</td>\n",
       "      <td>0.363789796829</td>\n",
       "      <td>NIKE Brand revenues, which represented over 90...</td>\n",
       "    </tr>\n",
       "    <tr>\n",
       "      <th>5</th>\n",
       "      <td>doc:redispy:82</td>\n",
       "      <td>0.370122373104</td>\n",
       "      <td>Lower margin in our NIKE Direct business, driv...</td>\n",
       "    </tr>\n",
       "    <tr>\n",
       "      <th>6</th>\n",
       "      <td>doc:redispy:80</td>\n",
       "      <td>0.386211693287</td>\n",
       "      <td>4,780 (508)\\n\\n7 % -80 %\\n\\nTOTAL NIKE BRAND W...</td>\n",
       "    </tr>\n",
       "    <tr>\n",
       "      <th>7</th>\n",
       "      <td>doc:redispy:86</td>\n",
       "      <td>0.393618762493</td>\n",
       "      <td>Apparel revenues increased 9% on a currency-ne...</td>\n",
       "    </tr>\n",
       "    <tr>\n",
       "      <th>8</th>\n",
       "      <td>doc:redispy:89</td>\n",
       "      <td>0.39476788044</td>\n",
       "      <td>3 % -4 %\\n\\n13 % 4 %\\n\\n1,494 190\\n\\n8 % 23 %\\...</td>\n",
       "    </tr>\n",
       "    <tr>\n",
       "      <th>9</th>\n",
       "      <td>doc:redispy:159</td>\n",
       "      <td>0.395310223103</td>\n",
       "      <td>ASIA PACIFIC &amp; LATIN AMERICA\\n\\n(1)\\n\\nGLOBAL ...</td>\n",
       "    </tr>\n",
       "  </tbody>\n",
       "</table>\n",
       "</div>"
      ]
     },
     "execution_count": 75,
     "metadata": {},
     "output_type": "execute_result"
    }
   ],
   "execution_count": 75
  },
  {
   "cell_type": "markdown",
   "metadata": {
    "id": "IELiO9e4uPp9"
   },
   "source": [
    "### Add filter statements\n",
    "Redis queries can contain both vector search and traditional filters (numeric, tags, text, geo) in one single command."
   ]
  },
  {
   "cell_type": "code",
   "metadata": {
    "colab": {
     "base_uri": "https://localhost:8080/",
     "height": 112
    },
    "id": "qkzGPmMnuPp-",
    "outputId": "92068e8f-689c-4fae-ca3d-046315ac53b4",
    "ExecuteTime": {
     "end_time": "2024-05-23T00:33:01.016691Z",
     "start_time": "2024-05-23T00:33:01.001106Z"
    }
   },
   "source": [
    "# filter for docs that contain \"profit\" in the content field and do KNN vector search\n",
    "query = (\n",
    "    Query(\"@content:profit=>[KNN 2 @chunk_vector $vector as vector_distance]\")\n",
    "     .sort_by(\"vector_distance\")\n",
    "     .return_fields(\"content\", \"vector_distance\")\n",
    "     .paging(0, 2)\n",
    "     .dialect(2)\n",
    ")\n",
    "\n",
    "query_params = {\n",
    "    \"vector\": encode_one(_input)\n",
    "}\n",
    "\n",
    "res = client.ft(index_name).search(query, query_params)\n",
    "table_view(res)"
   ],
   "outputs": [
    {
     "data": {
      "text/plain": [
       "               id vector_distance  \\\n",
       "0  doc:redispy:81  0.363789796829   \n",
       "1  doc:redispy:79  0.616193056107   \n",
       "\n",
       "                                             content  \n",
       "0  NIKE Brand revenues, which represented over 90...  \n",
       "1  (Dollars in millions, except per share data)\\n...  "
      ],
      "text/html": [
       "<div>\n",
       "<style scoped>\n",
       "    .dataframe tbody tr th:only-of-type {\n",
       "        vertical-align: middle;\n",
       "    }\n",
       "\n",
       "    .dataframe tbody tr th {\n",
       "        vertical-align: top;\n",
       "    }\n",
       "\n",
       "    .dataframe thead th {\n",
       "        text-align: right;\n",
       "    }\n",
       "</style>\n",
       "<table border=\"1\" class=\"dataframe\">\n",
       "  <thead>\n",
       "    <tr style=\"text-align: right;\">\n",
       "      <th></th>\n",
       "      <th>id</th>\n",
       "      <th>vector_distance</th>\n",
       "      <th>content</th>\n",
       "    </tr>\n",
       "  </thead>\n",
       "  <tbody>\n",
       "    <tr>\n",
       "      <th>0</th>\n",
       "      <td>doc:redispy:81</td>\n",
       "      <td>0.363789796829</td>\n",
       "      <td>NIKE Brand revenues, which represented over 90...</td>\n",
       "    </tr>\n",
       "    <tr>\n",
       "      <th>1</th>\n",
       "      <td>doc:redispy:79</td>\n",
       "      <td>0.616193056107</td>\n",
       "      <td>(Dollars in millions, except per share data)\\n...</td>\n",
       "    </tr>\n",
       "  </tbody>\n",
       "</table>\n",
       "</div>"
      ]
     },
     "execution_count": 76,
     "metadata": {},
     "output_type": "execute_result"
    }
   ],
   "execution_count": 76
  },
  {
   "cell_type": "code",
   "metadata": {
    "id": "XpL7r3tquPp-",
    "ExecuteTime": {
     "end_time": "2024-05-23T00:33:01.021868Z",
     "start_time": "2024-05-23T00:33:01.017366Z"
    }
   },
   "source": [
    "# lets clean up our index\n",
    "client.ft(index_name).dropindex(True)"
   ],
   "outputs": [
    {
     "data": {
      "text/plain": [
       "b'OK'"
      ]
     },
     "execution_count": 77,
     "metadata": {},
     "output_type": "execute_result"
    }
   ],
   "execution_count": 77
  },
  {
   "cell_type": "markdown",
   "metadata": {
    "id": "BeJA5u14uPp-"
   },
   "source": [
    "### What about JSON Support?\n",
    "\n",
    "Redis also allows you to store data in JSON objects. The JSON fields can contain metadata and vectors. Below is a simple example of indexing JSON data."
   ]
  },
  {
   "cell_type": "code",
   "metadata": {
    "colab": {
     "base_uri": "https://localhost:8080/"
    },
    "id": "-V_gPbmguPp-",
    "outputId": "45f4ec9e-90cf-4390-aee7-a0bc16633489",
    "ExecuteTime": {
     "end_time": "2024-05-23T00:33:01.029230Z",
     "start_time": "2024-05-23T00:33:01.022464Z"
    }
   },
   "source": [
    "# schema\n",
    "schema = (\n",
    "    TextField(\"$.content\",                     # Text Field (JSON path)\n",
    "        as_name=\"content\"                      # Text Field Alias -- required for JSON\n",
    "    ),\n",
    "    VectorField(\"$.chunk_vector\",              # Vector Field (JSON path)\n",
    "        \"FLAT\", {                              # Vector Index Type: FLAT or HNSW\n",
    "            \"TYPE\": \"FLOAT32\",\n",
    "            \"DIM\": 384,                        # Number of Vector Dimensions\n",
    "            \"DISTANCE_METRIC\": \"COSINE\",       # Vector Search Distance Metric\n",
    "        },\n",
    "        as_name=\"chunk_vector\"                 # Vector Field Alias -- required for JSON\n",
    "    ),\n",
    ")\n",
    "\n",
    "# index Definition\n",
    "definition = IndexDefinition(prefix=[key_prefix], index_type=IndexType.JSON) # select JSON here\n",
    "\n",
    "# create Index\n",
    "client.ft(index_name).create_index(fields=schema, definition=definition)"
   ],
   "outputs": [
    {
     "data": {
      "text/plain": [
       "b'OK'"
      ]
     },
     "execution_count": 78,
     "metadata": {},
     "output_type": "execute_result"
    }
   ],
   "execution_count": 78
  },
  {
   "cell_type": "code",
   "metadata": {
    "colab": {
     "base_uri": "https://localhost:8080/"
    },
    "id": "rh7NKirOuPp_",
    "outputId": "94681570-d8d4-40f9-a37e-10f129d9b9fb",
    "ExecuteTime": {
     "end_time": "2024-05-23T00:33:01.032818Z",
     "start_time": "2024-05-23T00:33:01.029807Z"
    }
   },
   "source": [
    "client.ft(index_name).info()"
   ],
   "outputs": [
    {
     "data": {
      "text/plain": [
       "{'index_name': 'redispy',\n",
       " 'index_options': [],\n",
       " 'index_definition': [b'key_type',\n",
       "  b'JSON',\n",
       "  b'prefixes',\n",
       "  [b'doc:redispy'],\n",
       "  b'default_score',\n",
       "  b'1'],\n",
       " 'attributes': [[b'identifier',\n",
       "   b'$.content',\n",
       "   b'attribute',\n",
       "   b'content',\n",
       "   b'type',\n",
       "   b'TEXT',\n",
       "   b'WEIGHT',\n",
       "   b'1'],\n",
       "  [b'identifier',\n",
       "   b'$.chunk_vector',\n",
       "   b'attribute',\n",
       "   b'chunk_vector',\n",
       "   b'type',\n",
       "   b'VECTOR',\n",
       "   b'algorithm',\n",
       "   b'FLAT',\n",
       "   b'data_type',\n",
       "   b'FLOAT32',\n",
       "   b'dim',\n",
       "   384,\n",
       "   b'distance_metric',\n",
       "   b'COSINE']],\n",
       " 'num_docs': '0',\n",
       " 'max_doc_id': '0',\n",
       " 'num_terms': '0',\n",
       " 'num_records': '0',\n",
       " 'inverted_sz_mb': '0',\n",
       " 'vector_index_sz_mb': '0.00818634033203125',\n",
       " 'total_inverted_index_blocks': '0',\n",
       " 'offset_vectors_sz_mb': '0',\n",
       " 'doc_table_size_mb': '0',\n",
       " 'sortable_values_size_mb': '0',\n",
       " 'key_table_size_mb': '0',\n",
       " 'geoshapes_sz_mb': '0',\n",
       " 'records_per_doc_avg': 'nan',\n",
       " 'bytes_per_record_avg': 'nan',\n",
       " 'offsets_per_term_avg': 'nan',\n",
       " 'offset_bits_per_record_avg': 'nan',\n",
       " 'hash_indexing_failures': '0',\n",
       " 'total_indexing_time': '0',\n",
       " 'indexing': '0',\n",
       " 'percent_indexed': '1',\n",
       " 'number_of_uses': 1,\n",
       " 'cleaning': 0,\n",
       " 'gc_stats': [b'bytes_collected',\n",
       "  b'0',\n",
       "  b'total_ms_run',\n",
       "  b'0',\n",
       "  b'total_cycles',\n",
       "  b'0',\n",
       "  b'average_cycle_time_ms',\n",
       "  b'nan',\n",
       "  b'last_run_time_ms',\n",
       "  b'0',\n",
       "  b'gc_numeric_trees_missed',\n",
       "  b'0',\n",
       "  b'gc_blocks_denied',\n",
       "  b'0'],\n",
       " 'cursor_stats': [b'global_idle',\n",
       "  0,\n",
       "  b'global_total',\n",
       "  0,\n",
       "  b'index_capacity',\n",
       "  128,\n",
       "  b'index_total',\n",
       "  0],\n",
       " 'dialect_stats': [b'dialect_1',\n",
       "  0,\n",
       "  b'dialect_2',\n",
       "  0,\n",
       "  b'dialect_3',\n",
       "  0,\n",
       "  b'dialect_4',\n",
       "  0],\n",
       " 'Index Errors': [b'indexing failures',\n",
       "  0,\n",
       "  b'last indexing error',\n",
       "  b'N/A',\n",
       "  b'last indexing error key',\n",
       "  b'N/A'],\n",
       " 'field statistics': [[b'identifier',\n",
       "   b'$.content',\n",
       "   b'attribute',\n",
       "   b'content',\n",
       "   b'Index Errors',\n",
       "   [b'indexing failures',\n",
       "    0,\n",
       "    b'last indexing error',\n",
       "    b'N/A',\n",
       "    b'last indexing error key',\n",
       "    b'N/A']],\n",
       "  [b'identifier',\n",
       "   b'$.chunk_vector',\n",
       "   b'attribute',\n",
       "   b'chunk_vector',\n",
       "   b'Index Errors',\n",
       "   [b'indexing failures',\n",
       "    0,\n",
       "    b'last indexing error',\n",
       "    b'N/A',\n",
       "    b'last indexing error key',\n",
       "    b'N/A']]]}"
      ]
     },
     "execution_count": 79,
     "metadata": {},
     "output_type": "execute_result"
    }
   ],
   "execution_count": 79
  },
  {
   "cell_type": "code",
   "metadata": {
    "id": "UawMtBgSuPp_",
    "ExecuteTime": {
     "end_time": "2024-05-23T00:33:01.110976Z",
     "start_time": "2024-05-23T00:33:01.033354Z"
    }
   },
   "source": [
    "# Write JSON data to the index\n",
    "\n",
    "batch_size = 200\n",
    "\n",
    "with client.pipeline(transaction=False) as pipe:\n",
    "    for i, chunk in enumerate(chunks):\n",
    "        redis_key = f\"{key_prefix}:{i}\"\n",
    "        data = {\n",
    "            'content': chunk.page_content,\n",
    "            'chunk_vector': chunk_embeddings[i].tolist() # notice that we don't need to convert JSON embeddings to bytes\n",
    "        }\n",
    "        #print(data)\n",
    "        pipe.json().set(redis_key, \"$\", data)\n",
    "        # mini batch\n",
    "        if i % batch_size == 0:\n",
    "            res = pipe.execute()\n",
    "\n",
    "    res = pipe.execute() # make sure to use mini batches if working with larger datasets"
   ],
   "outputs": [],
   "execution_count": 80
  },
  {
   "cell_type": "code",
   "metadata": {
    "colab": {
     "base_uri": "https://localhost:8080/"
    },
    "id": "aoJljsrAuPp_",
    "outputId": "5a5cf3f8-a12c-46ca-82cd-86cadb330c6a",
    "ExecuteTime": {
     "end_time": "2024-05-23T00:33:01.116813Z",
     "start_time": "2024-05-23T00:33:01.111847Z"
    }
   },
   "source": [
    "# Fetch the JSON doc\n",
    "client.json().get(f\"{key_prefix}:0\", \"$\")"
   ],
   "outputs": [
    {
     "data": {
      "text/plain": [
       "[{'content': \"NIKE, Inc.(Exact name of Registrant as specified in its charter)Oregon93-0584541(State or other jurisdiction of incorporation)(IRS Employer Identification No.)One Bowerman Drive, Beaverton, Oregon 97005-6453(Address of principal executive offices and zip code)(503) 671-6453(Registrant's telephone number, including area code)SECURITIES REGISTERED PURSUANT TO SECTION 12(B) OF THE ACT:Class B Common StockNKENew York Stock Exchange(Title of each class)(Trading symbol)(Name of each exchange on which registered)SECURITIES REGISTERED PURSUANT TO SECTION 12(G) OF THE ACT:NONE\",\n",
       "  'chunk_vector': [-0.021905910223722454,\n",
       "   -0.12201038748025894,\n",
       "   0.00669108284637332,\n",
       "   -0.004275714512914419,\n",
       "   0.012342269532382488,\n",
       "   0.08650358766317368,\n",
       "   0.027789577841758728,\n",
       "   -0.012744712643325329,\n",
       "   0.012386553920805454,\n",
       "   -0.05944192409515381,\n",
       "   0.04028106480836868,\n",
       "   0.09798681735992432,\n",
       "   -0.08459916710853577,\n",
       "   -0.08000395447015762,\n",
       "   0.0190070066601038,\n",
       "   0.052196767181158066,\n",
       "   -0.02908451482653618,\n",
       "   -0.03332369402050972,\n",
       "   -0.05708679184317589,\n",
       "   -0.013242981396615503,\n",
       "   0.0477762445807457,\n",
       "   -0.07984433323144913,\n",
       "   0.01565699651837349,\n",
       "   0.036076582968235016,\n",
       "   -0.035759203135967255,\n",
       "   -0.01568472385406494,\n",
       "   0.003964553587138653,\n",
       "   0.08605435490608215,\n",
       "   0.00511312996968627,\n",
       "   -0.02991160005331039,\n",
       "   -0.04209849238395691,\n",
       "   -0.020849136635661125,\n",
       "   0.11527972668409348,\n",
       "   0.09412354230880736,\n",
       "   0.09588328003883362,\n",
       "   0.0004619067476596683,\n",
       "   0.05727196857333183,\n",
       "   -0.026103509590029716,\n",
       "   -0.01037716306746006,\n",
       "   0.034682728350162506,\n",
       "   0.027358226478099823,\n",
       "   -0.09536474198102952,\n",
       "   -0.08606860041618347,\n",
       "   0.04644318297505379,\n",
       "   -0.026452863588929176,\n",
       "   0.04894045740365982,\n",
       "   -0.03323258087038994,\n",
       "   0.0320742204785347,\n",
       "   0.04208112508058548,\n",
       "   0.08958189934492111,\n",
       "   -0.013846236281096935,\n",
       "   -0.025774389505386353,\n",
       "   0.0650448203086853,\n",
       "   -0.03806108608841896,\n",
       "   -0.015311909839510918,\n",
       "   0.00692957965657115,\n",
       "   -0.002515398198738694,\n",
       "   0.07991588860750198,\n",
       "   0.02068488299846649,\n",
       "   0.017384540289640427,\n",
       "   0.11401896178722382,\n",
       "   -0.070859394967556,\n",
       "   -0.04144798964262009,\n",
       "   0.02466387115418911,\n",
       "   0.00429435633122921,\n",
       "   0.01439776923507452,\n",
       "   -0.013259222730994225,\n",
       "   -0.01179057825356722,\n",
       "   0.03074089996516705,\n",
       "   -0.11339005827903748,\n",
       "   0.04241911321878433,\n",
       "   -0.011279190890491009,\n",
       "   -0.04534432664513588,\n",
       "   0.0907178744673729,\n",
       "   -0.05955387279391289,\n",
       "   0.02563465386629105,\n",
       "   -0.02289162389934063,\n",
       "   0.08330598473548889,\n",
       "   0.015498440712690352,\n",
       "   -0.023106377571821213,\n",
       "   -0.054492417722940445,\n",
       "   0.01621418260037899,\n",
       "   -0.00018143364286515864,\n",
       "   0.04291084408760071,\n",
       "   0.013997890055179596,\n",
       "   0.008699798956513405,\n",
       "   -0.02471577376127243,\n",
       "   0.04893786460161209,\n",
       "   0.032121431082487106,\n",
       "   0.03262093663215637,\n",
       "   -0.13702400028705597,\n",
       "   -0.10641410201787949,\n",
       "   -0.00277748703956604,\n",
       "   -0.034932881593704224,\n",
       "   -0.05816145986318588,\n",
       "   0.05080830305814743,\n",
       "   0.01778002455830574,\n",
       "   -0.004720918834209442,\n",
       "   -0.020537400618195537,\n",
       "   0.04502060264348984,\n",
       "   -0.046931032091379166,\n",
       "   0.06849754601716995,\n",
       "   -0.07986639440059662,\n",
       "   0.00537907937541604,\n",
       "   -0.04228506237268448,\n",
       "   -0.02400422841310501,\n",
       "   -0.10409858077764512,\n",
       "   0.1026606410741806,\n",
       "   0.012537979520857334,\n",
       "   0.07144492864608765,\n",
       "   -0.024752486497163773,\n",
       "   -0.004289858043193817,\n",
       "   -0.03002808429300785,\n",
       "   0.0413920097053051,\n",
       "   -0.03283669427037239,\n",
       "   0.02306857705116272,\n",
       "   -0.02587835304439068,\n",
       "   0.054991595447063446,\n",
       "   0.06241871044039726,\n",
       "   -0.015724504366517067,\n",
       "   0.010932976379990578,\n",
       "   0.05760521814227104,\n",
       "   0.0007250878261402249,\n",
       "   -0.029717501252889633,\n",
       "   -0.10682719200849532,\n",
       "   -0.04876824468374252,\n",
       "   -0.04814024642109871,\n",
       "   9.566601898758835e-34,\n",
       "   -0.007071847096085548,\n",
       "   0.05240928754210472,\n",
       "   0.03503832593560219,\n",
       "   0.04524558410048485,\n",
       "   -0.01819346472620964,\n",
       "   0.01893734186887741,\n",
       "   0.03082257509231567,\n",
       "   0.011967293918132782,\n",
       "   -0.08227340131998062,\n",
       "   0.0855814516544342,\n",
       "   -0.02727070078253746,\n",
       "   0.0015946727944537995,\n",
       "   0.0701054036617279,\n",
       "   -0.03428278863430023,\n",
       "   0.03504486754536629,\n",
       "   0.016840076074004173,\n",
       "   -0.019940253347158432,\n",
       "   -0.003854603273794055,\n",
       "   0.04598373547196388,\n",
       "   0.002134534530341625,\n",
       "   0.04477645456790924,\n",
       "   0.029766889289021492,\n",
       "   -0.03778710588812828,\n",
       "   -0.01712653785943985,\n",
       "   -0.08003026247024536,\n",
       "   0.04131023958325386,\n",
       "   -0.0645509883761406,\n",
       "   -0.005152630619704723,\n",
       "   0.015653787180781364,\n",
       "   0.050148602575063705,\n",
       "   0.07057597488164902,\n",
       "   -0.06312969326972961,\n",
       "   0.002291405340656638,\n",
       "   -0.04157232865691185,\n",
       "   0.020037878304719925,\n",
       "   -0.00962023250758648,\n",
       "   -0.0318300798535347,\n",
       "   -0.03652682900428772,\n",
       "   -0.0020780893974006176,\n",
       "   -0.05785698816180229,\n",
       "   0.053415119647979736,\n",
       "   -0.027275947853922844,\n",
       "   -0.031585898250341415,\n",
       "   0.017662908881902695,\n",
       "   -0.021121174097061157,\n",
       "   0.01031191274523735,\n",
       "   0.011830518953502178,\n",
       "   0.004555298015475273,\n",
       "   0.12549373507499695,\n",
       "   -0.06007252633571625,\n",
       "   -0.08061463385820389,\n",
       "   0.0696745365858078,\n",
       "   0.048356521874666214,\n",
       "   -0.09289740771055222,\n",
       "   0.030856501311063766,\n",
       "   -0.14294520020484924,\n",
       "   0.004846647381782532,\n",
       "   0.01711818017065525,\n",
       "   -0.09268655627965929,\n",
       "   -0.04568922892212868,\n",
       "   0.09632747620344162,\n",
       "   0.09668432921171188,\n",
       "   -0.03785853460431099,\n",
       "   0.03560703992843628,\n",
       "   -0.08159992843866348,\n",
       "   -0.06923019886016846,\n",
       "   -0.016044728457927704,\n",
       "   -0.017287105321884155,\n",
       "   0.025059925392270088,\n",
       "   -0.003924502059817314,\n",
       "   0.0525827594101429,\n",
       "   0.03359701484441757,\n",
       "   0.008223400451242924,\n",
       "   0.05538787692785263,\n",
       "   -0.0400547981262207,\n",
       "   -0.06047359481453896,\n",
       "   0.020371148362755775,\n",
       "   0.04963931068778038,\n",
       "   -0.02280889078974724,\n",
       "   -0.001447322778403759,\n",
       "   0.007955260574817657,\n",
       "   -0.04640284925699234,\n",
       "   0.019404666498303413,\n",
       "   0.06769286096096039,\n",
       "   -0.09522614628076552,\n",
       "   0.0023923972621560097,\n",
       "   0.056363269686698914,\n",
       "   -0.013957452028989792,\n",
       "   -0.061428144574165344,\n",
       "   -0.01866207085549831,\n",
       "   -0.06733877211809158,\n",
       "   -0.003459993517026305,\n",
       "   -0.12856601178646088,\n",
       "   0.03810907155275345,\n",
       "   -0.018160421401262283,\n",
       "   -4.937250760896308e-33,\n",
       "   0.010172172449529173,\n",
       "   -0.030189432203769684,\n",
       "   0.017661988735198975,\n",
       "   -0.05928252264857292,\n",
       "   -0.111063189804554,\n",
       "   0.05085400119423866,\n",
       "   0.04534587636590004,\n",
       "   -0.04106524586677551,\n",
       "   -0.03815191984176636,\n",
       "   0.07919441163539886,\n",
       "   0.03716645389795303,\n",
       "   -0.02716207318007946,\n",
       "   -0.006116965785622597,\n",
       "   -0.014319241046905518,\n",
       "   0.002419949509203434,\n",
       "   0.01303107850253582,\n",
       "   -0.008419431746006012,\n",
       "   -0.030478691682219505,\n",
       "   0.018618334084749225,\n",
       "   -0.03856388479471207,\n",
       "   0.004577368497848511,\n",
       "   0.04667690023779869,\n",
       "   0.02970637008547783,\n",
       "   0.05054227262735367,\n",
       "   -0.07466478645801544,\n",
       "   -0.04446190595626831,\n",
       "   -0.0054569062776863575,\n",
       "   0.0789615660905838,\n",
       "   -0.029896561056375504,\n",
       "   0.04140494018793106,\n",
       "   0.07208430767059326,\n",
       "   -0.023937510326504707,\n",
       "   0.012962475419044496,\n",
       "   0.046877551823854446,\n",
       "   -0.09696776419878006,\n",
       "   -0.09695849567651749,\n",
       "   -0.021540911868214607,\n",
       "   -0.0018244795501232147,\n",
       "   0.038801904767751694,\n",
       "   -0.07149583101272583,\n",
       "   0.06422366946935654,\n",
       "   -0.03434169664978981,\n",
       "   -0.01642492040991783,\n",
       "   0.06812326610088348,\n",
       "   0.02102372609078884,\n",
       "   -0.08170085400342941,\n",
       "   -0.007312532048672438,\n",
       "   -0.04041536897420883,\n",
       "   0.030466830357909203,\n",
       "   -0.03340042382478714,\n",
       "   -0.028854958713054657,\n",
       "   0.019485777243971825,\n",
       "   -0.014661558903753756,\n",
       "   0.025090962648391724,\n",
       "   0.0003197031037416309,\n",
       "   0.08484542369842529,\n",
       "   -0.04241319373250008,\n",
       "   0.0007628935854882002,\n",
       "   -0.05150483176112175,\n",
       "   0.010378011502325537,\n",
       "   0.017612049356102943,\n",
       "   0.09141436219215392,\n",
       "   0.00826268084347248,\n",
       "   0.10278818011283876,\n",
       "   0.035048097372055054,\n",
       "   -0.05917269363999367,\n",
       "   -0.05496414750814438,\n",
       "   0.029364578425884247,\n",
       "   -0.034532345831394196,\n",
       "   -0.06638944149017334,\n",
       "   0.016722267493605614,\n",
       "   -0.0715276300907135,\n",
       "   0.05752310901880264,\n",
       "   0.004735078662633896,\n",
       "   -0.0804910734295845,\n",
       "   -0.013769527897238731,\n",
       "   0.04913708567619324,\n",
       "   0.08311865478754044,\n",
       "   -0.08655411005020142,\n",
       "   0.009499471634626389,\n",
       "   0.020210808143019676,\n",
       "   -0.003984621725976467,\n",
       "   -0.03341696783900261,\n",
       "   0.05712223052978515,\n",
       "   0.04548201337456703,\n",
       "   0.061431773006916046,\n",
       "   0.07580101490020752,\n",
       "   0.08398383110761642,\n",
       "   0.019023461267352104,\n",
       "   0.01830245926976204,\n",
       "   0.045199085026979446,\n",
       "   0.044757645577192307,\n",
       "   -0.028837531805038452,\n",
       "   0.002575607504695654,\n",
       "   -0.1040746420621872,\n",
       "   -4.817440668603013e-08,\n",
       "   0.052423615008592606,\n",
       "   0.028894828632473946,\n",
       "   0.035684216767549515,\n",
       "   0.05843629315495491,\n",
       "   -0.0072218142449855804,\n",
       "   -0.012313703075051308,\n",
       "   -0.031170973554253575,\n",
       "   -0.046137284487485886,\n",
       "   -0.0694359689950943,\n",
       "   0.051631178706884384,\n",
       "   -0.04921774938702583,\n",
       "   0.010501131415367126,\n",
       "   -0.10440097004175186,\n",
       "   0.02500263415277004,\n",
       "   -0.024467576295137405,\n",
       "   -0.04586136341094971,\n",
       "   -0.06576085090637207,\n",
       "   0.07224802672863007,\n",
       "   -0.006967446301132441,\n",
       "   0.07507660239934921,\n",
       "   -0.08546262234449387,\n",
       "   -0.024836840108036995,\n",
       "   0.08492642641067505,\n",
       "   -0.02373877726495266,\n",
       "   -0.03630530461668968,\n",
       "   -0.03796376287937164,\n",
       "   0.02421225979924202,\n",
       "   -0.036843132227659225,\n",
       "   0.08058988302946091,\n",
       "   0.002975726267322898,\n",
       "   -0.05824842303991318,\n",
       "   0.04285205900669098,\n",
       "   0.027666421607136726,\n",
       "   -0.03719114512205124,\n",
       "   -0.09639453887939452,\n",
       "   0.05939801037311554,\n",
       "   -0.03191103786230087,\n",
       "   0.007099078968167305,\n",
       "   -0.07952890545129776,\n",
       "   0.007852595299482346,\n",
       "   -0.06978262960910797,\n",
       "   -0.046480417251586914,\n",
       "   -0.0018713249592110517,\n",
       "   0.016057059168815613,\n",
       "   0.08048532158136368,\n",
       "   0.017619187012314796,\n",
       "   -0.04257279261946678,\n",
       "   -0.0545707568526268,\n",
       "   0.05231235921382904,\n",
       "   0.03168829157948494,\n",
       "   -0.04454701021313667,\n",
       "   0.019987141713500023,\n",
       "   0.02839588187634945,\n",
       "   0.04082750901579857,\n",
       "   -0.04789916053414345,\n",
       "   0.02332049421966076,\n",
       "   -0.1190880760550499,\n",
       "   -0.0670223981142044,\n",
       "   -0.007578767836093903,\n",
       "   -0.048672012984752655,\n",
       "   0.01954752206802368,\n",
       "   -0.10155853629112244,\n",
       "   0.0010953792370855808,\n",
       "   0.014035606756806374]}]"
      ]
     },
     "execution_count": 81,
     "metadata": {},
     "output_type": "execute_result"
    }
   ],
   "execution_count": 81
  },
  {
   "cell_type": "code",
   "metadata": {
    "colab": {
     "base_uri": "https://localhost:8080/",
     "height": 112
    },
    "id": "m5yxhMciuPp_",
    "outputId": "9eb4b5cc-3ca7-4651-8a01-05549a8c51ee",
    "ExecuteTime": {
     "end_time": "2024-05-23T00:33:01.134687Z",
     "start_time": "2024-05-23T00:33:01.117739Z"
    }
   },
   "source": [
    "# And now you can perform the same kinds of queries\n",
    "query = (\n",
    "    Query(\"@content:profit=>[KNN 2 @chunk_vector $vector as vector_distance]\")\n",
    "     .sort_by(\"vector_distance\")\n",
    "     .return_fields(\"content\", \"vector_distance\")\n",
    "     .paging(0, 2)\n",
    "     .dialect(2)\n",
    ")\n",
    "\n",
    "query_params = {\n",
    "    \"vector\": encode_one(_input)\n",
    "\n",
    "}\n",
    "res = client.ft(index_name).search(query, query_params)\n",
    "\n",
    "table_view(res)"
   ],
   "outputs": [
    {
     "data": {
      "text/plain": [
       "               id vector_distance  \\\n",
       "0  doc:redispy:81  0.363789796829   \n",
       "1  doc:redispy:79  0.616193056107   \n",
       "\n",
       "                                             content  \n",
       "0  NIKE Brand revenues, which represented over 90...  \n",
       "1  (Dollars in millions, except per share data)\\n...  "
      ],
      "text/html": [
       "<div>\n",
       "<style scoped>\n",
       "    .dataframe tbody tr th:only-of-type {\n",
       "        vertical-align: middle;\n",
       "    }\n",
       "\n",
       "    .dataframe tbody tr th {\n",
       "        vertical-align: top;\n",
       "    }\n",
       "\n",
       "    .dataframe thead th {\n",
       "        text-align: right;\n",
       "    }\n",
       "</style>\n",
       "<table border=\"1\" class=\"dataframe\">\n",
       "  <thead>\n",
       "    <tr style=\"text-align: right;\">\n",
       "      <th></th>\n",
       "      <th>id</th>\n",
       "      <th>vector_distance</th>\n",
       "      <th>content</th>\n",
       "    </tr>\n",
       "  </thead>\n",
       "  <tbody>\n",
       "    <tr>\n",
       "      <th>0</th>\n",
       "      <td>doc:redispy:81</td>\n",
       "      <td>0.363789796829</td>\n",
       "      <td>NIKE Brand revenues, which represented over 90...</td>\n",
       "    </tr>\n",
       "    <tr>\n",
       "      <th>1</th>\n",
       "      <td>doc:redispy:79</td>\n",
       "      <td>0.616193056107</td>\n",
       "      <td>(Dollars in millions, except per share data)\\n...</td>\n",
       "    </tr>\n",
       "  </tbody>\n",
       "</table>\n",
       "</div>"
      ]
     },
     "execution_count": 82,
     "metadata": {},
     "output_type": "execute_result"
    }
   ],
   "execution_count": 82
  },
  {
   "cell_type": "markdown",
   "metadata": {
    "id": "5QKo9u3euPqA"
   },
   "source": [
    "## Cleanup\n",
    "Clean up the index and data."
   ]
  },
  {
   "cell_type": "code",
   "metadata": {
    "id": "xgACLAd0uPqA",
    "ExecuteTime": {
     "end_time": "2024-05-23T00:33:01.146461Z",
     "start_time": "2024-05-23T00:33:01.135750Z"
    }
   },
   "source": [
    "client.ft(index_name).dropindex(True)"
   ],
   "outputs": [
    {
     "data": {
      "text/plain": [
       "b'OK'"
      ]
     },
     "execution_count": 83,
     "metadata": {},
     "output_type": "execute_result"
    }
   ],
   "execution_count": 83
  },
  {
   "metadata": {
    "ExecuteTime": {
     "end_time": "2024-05-23T00:33:01.150348Z",
     "start_time": "2024-05-23T00:33:01.147619Z"
    }
   },
   "cell_type": "code",
   "source": "",
   "outputs": [],
   "execution_count": 83
  }
 ],
 "metadata": {
  "accelerator": "GPU",
  "colab": {
   "gpuType": "T4",
   "provenance": []
  },
  "kernelspec": {
   "display_name": "Python 3 (ipykernel)",
   "name": "python3",
   "language": "python"
  },
  "language_info": {
   "codemirror_mode": {
    "name": "ipython",
    "version": 3
   },
   "file_extension": ".py",
   "mimetype": "text/x-python",
   "name": "python",
   "nbconvert_exporter": "python",
   "pygments_lexer": "ipython3",
   "version": "3.11.4"
  },
  "widgets": {
   "application/vnd.jupyter.widget-state+json": {
    "002b4d0804e94c45bb022d0b62cc7115": {
     "model_module": "@jupyter-widgets/base",
     "model_module_version": "1.2.0",
     "model_name": "LayoutModel",
     "state": {
      "_model_module": "@jupyter-widgets/base",
      "_model_module_version": "1.2.0",
      "_model_name": "LayoutModel",
      "_view_count": null,
      "_view_module": "@jupyter-widgets/base",
      "_view_module_version": "1.2.0",
      "_view_name": "LayoutView",
      "align_content": null,
      "align_items": null,
      "align_self": null,
      "border": null,
      "bottom": null,
      "display": null,
      "flex": null,
      "flex_flow": null,
      "grid_area": null,
      "grid_auto_columns": null,
      "grid_auto_flow": null,
      "grid_auto_rows": null,
      "grid_column": null,
      "grid_gap": null,
      "grid_row": null,
      "grid_template_areas": null,
      "grid_template_columns": null,
      "grid_template_rows": null,
      "height": null,
      "justify_content": null,
      "justify_items": null,
      "left": null,
      "margin": null,
      "max_height": null,
      "max_width": null,
      "min_height": null,
      "min_width": null,
      "object_fit": null,
      "object_position": null,
      "order": null,
      "overflow": null,
      "overflow_x": null,
      "overflow_y": null,
      "padding": null,
      "right": null,
      "top": null,
      "visibility": null,
      "width": null
     }
    },
    "04fb2906d0884dcb9d75912556313ffa": {
     "model_module": "@jupyter-widgets/controls",
     "model_module_version": "1.5.0",
     "model_name": "ProgressStyleModel",
     "state": {
      "_model_module": "@jupyter-widgets/controls",
      "_model_module_version": "1.5.0",
      "_model_name": "ProgressStyleModel",
      "_view_count": null,
      "_view_module": "@jupyter-widgets/base",
      "_view_module_version": "1.2.0",
      "_view_name": "StyleView",
      "bar_color": null,
      "description_width": ""
     }
    },
    "0905de0daac840b888fbea85f5a53424": {
     "model_module": "@jupyter-widgets/controls",
     "model_module_version": "1.5.0",
     "model_name": "ProgressStyleModel",
     "state": {
      "_model_module": "@jupyter-widgets/controls",
      "_model_module_version": "1.5.0",
      "_model_name": "ProgressStyleModel",
      "_view_count": null,
      "_view_module": "@jupyter-widgets/base",
      "_view_module_version": "1.2.0",
      "_view_name": "StyleView",
      "bar_color": null,
      "description_width": ""
     }
    },
    "09f3adba65fe44fab16fe53eda6ffad1": {
     "model_module": "@jupyter-widgets/controls",
     "model_module_version": "1.5.0",
     "model_name": "DescriptionStyleModel",
     "state": {
      "_model_module": "@jupyter-widgets/controls",
      "_model_module_version": "1.5.0",
      "_model_name": "DescriptionStyleModel",
      "_view_count": null,
      "_view_module": "@jupyter-widgets/base",
      "_view_module_version": "1.2.0",
      "_view_name": "StyleView",
      "description_width": ""
     }
    },
    "0b30591dac104e61b84e0ed989015c20": {
     "model_module": "@jupyter-widgets/controls",
     "model_module_version": "1.5.0",
     "model_name": "FloatProgressModel",
     "state": {
      "_dom_classes": [],
      "_model_module": "@jupyter-widgets/controls",
      "_model_module_version": "1.5.0",
      "_model_name": "FloatProgressModel",
      "_view_count": null,
      "_view_module": "@jupyter-widgets/controls",
      "_view_module_version": "1.5.0",
      "_view_name": "ProgressView",
      "bar_style": "success",
      "description": "",
      "description_tooltip": null,
      "layout": "IPY_MODEL_7cb17e544d8e4a1a82d25999a12303fe",
      "max": 112,
      "min": 0,
      "orientation": "horizontal",
      "style": "IPY_MODEL_42b6cafdab5a40608bf1a826b069238a",
      "value": 112
     }
    },
    "0c2b0dba9da14550883ee45ef314a475": {
     "model_module": "@jupyter-widgets/controls",
     "model_module_version": "1.5.0",
     "model_name": "DescriptionStyleModel",
     "state": {
      "_model_module": "@jupyter-widgets/controls",
      "_model_module_version": "1.5.0",
      "_model_name": "DescriptionStyleModel",
      "_view_count": null,
      "_view_module": "@jupyter-widgets/base",
      "_view_module_version": "1.2.0",
      "_view_name": "StyleView",
      "description_width": ""
     }
    },
    "0c98c0118de5446bad5416179a029591": {
     "model_module": "@jupyter-widgets/controls",
     "model_module_version": "1.5.0",
     "model_name": "HBoxModel",
     "state": {
      "_dom_classes": [],
      "_model_module": "@jupyter-widgets/controls",
      "_model_module_version": "1.5.0",
      "_model_name": "HBoxModel",
      "_view_count": null,
      "_view_module": "@jupyter-widgets/controls",
      "_view_module_version": "1.5.0",
      "_view_name": "HBoxView",
      "box_style": "",
      "children": [
       "IPY_MODEL_70a03a03e501462089b2229944cab6e4",
       "IPY_MODEL_92033f24500a4534bf9aa0db1b66afd2",
       "IPY_MODEL_f411421ea73647a6b71242128ae4314d"
      ],
      "layout": "IPY_MODEL_2d905e45162448c3b08c8b18359db4e1"
     }
    },
    "0ea6b24eab7c438badf5e7cc8930fc4d": {
     "model_module": "@jupyter-widgets/controls",
     "model_module_version": "1.5.0",
     "model_name": "HTMLModel",
     "state": {
      "_dom_classes": [],
      "_model_module": "@jupyter-widgets/controls",
      "_model_module_version": "1.5.0",
      "_model_name": "HTMLModel",
      "_view_count": null,
      "_view_module": "@jupyter-widgets/controls",
      "_view_module_version": "1.5.0",
      "_view_name": "HTMLView",
      "description": "",
      "description_tooltip": null,
      "layout": "IPY_MODEL_f411cceeafc4456bab39da08262bf250",
      "placeholder": "​",
      "style": "IPY_MODEL_799d273eb7c94d90948596c9e6435d47",
      "value": " 90.9M/90.9M [00:00&lt;00:00, 155MB/s]"
     }
    },
    "0ecd8059efdb462fa9a5589013b389c2": {
     "model_module": "@jupyter-widgets/controls",
     "model_module_version": "1.5.0",
     "model_name": "ProgressStyleModel",
     "state": {
      "_model_module": "@jupyter-widgets/controls",
      "_model_module_version": "1.5.0",
      "_model_name": "ProgressStyleModel",
      "_view_count": null,
      "_view_module": "@jupyter-widgets/base",
      "_view_module_version": "1.2.0",
      "_view_name": "StyleView",
      "bar_color": null,
      "description_width": ""
     }
    },
    "11c97ec49ef1411791a8a2d044e85deb": {
     "model_module": "@jupyter-widgets/controls",
     "model_module_version": "1.5.0",
     "model_name": "HTMLModel",
     "state": {
      "_dom_classes": [],
      "_model_module": "@jupyter-widgets/controls",
      "_model_module_version": "1.5.0",
      "_model_name": "HTMLModel",
      "_view_count": null,
      "_view_module": "@jupyter-widgets/controls",
      "_view_module_version": "1.5.0",
      "_view_name": "HTMLView",
      "description": "",
      "description_tooltip": null,
      "layout": "IPY_MODEL_4fc19dba35b04216bf99f14148161c9b",
      "placeholder": "​",
      "style": "IPY_MODEL_a23a1591fb30487ea049e16c2008a1a2",
      "value": "sentence_bert_config.json: 100%"
     }
    },
    "1392e6f30c4847429b5e0a88a2a89712": {
     "model_module": "@jupyter-widgets/controls",
     "model_module_version": "1.5.0",
     "model_name": "DescriptionStyleModel",
     "state": {
      "_model_module": "@jupyter-widgets/controls",
      "_model_module_version": "1.5.0",
      "_model_name": "DescriptionStyleModel",
      "_view_count": null,
      "_view_module": "@jupyter-widgets/base",
      "_view_module_version": "1.2.0",
      "_view_name": "StyleView",
      "description_width": ""
     }
    },
    "1773989923ce4c59bd0069bc9a21ecf5": {
     "model_module": "@jupyter-widgets/base",
     "model_module_version": "1.2.0",
     "model_name": "LayoutModel",
     "state": {
      "_model_module": "@jupyter-widgets/base",
      "_model_module_version": "1.2.0",
      "_model_name": "LayoutModel",
      "_view_count": null,
      "_view_module": "@jupyter-widgets/base",
      "_view_module_version": "1.2.0",
      "_view_name": "LayoutView",
      "align_content": null,
      "align_items": null,
      "align_self": null,
      "border": null,
      "bottom": null,
      "display": null,
      "flex": null,
      "flex_flow": null,
      "grid_area": null,
      "grid_auto_columns": null,
      "grid_auto_flow": null,
      "grid_auto_rows": null,
      "grid_column": null,
      "grid_gap": null,
      "grid_row": null,
      "grid_template_areas": null,
      "grid_template_columns": null,
      "grid_template_rows": null,
      "height": null,
      "justify_content": null,
      "justify_items": null,
      "left": null,
      "margin": null,
      "max_height": null,
      "max_width": null,
      "min_height": null,
      "min_width": null,
      "object_fit": null,
      "object_position": null,
      "order": null,
      "overflow": null,
      "overflow_x": null,
      "overflow_y": null,
      "padding": null,
      "right": null,
      "top": null,
      "visibility": null,
      "width": null
     }
    },
    "17ec418a815c4fc8b52acb1e86b32990": {
     "model_module": "@jupyter-widgets/controls",
     "model_module_version": "1.5.0",
     "model_name": "DescriptionStyleModel",
     "state": {
      "_model_module": "@jupyter-widgets/controls",
      "_model_module_version": "1.5.0",
      "_model_name": "DescriptionStyleModel",
      "_view_count": null,
      "_view_module": "@jupyter-widgets/base",
      "_view_module_version": "1.2.0",
      "_view_name": "StyleView",
      "description_width": ""
     }
    },
    "1908379cd85c43eb85e8a919c81dcb27": {
     "model_module": "@jupyter-widgets/base",
     "model_module_version": "1.2.0",
     "model_name": "LayoutModel",
     "state": {
      "_model_module": "@jupyter-widgets/base",
      "_model_module_version": "1.2.0",
      "_model_name": "LayoutModel",
      "_view_count": null,
      "_view_module": "@jupyter-widgets/base",
      "_view_module_version": "1.2.0",
      "_view_name": "LayoutView",
      "align_content": null,
      "align_items": null,
      "align_self": null,
      "border": null,
      "bottom": null,
      "display": null,
      "flex": null,
      "flex_flow": null,
      "grid_area": null,
      "grid_auto_columns": null,
      "grid_auto_flow": null,
      "grid_auto_rows": null,
      "grid_column": null,
      "grid_gap": null,
      "grid_row": null,
      "grid_template_areas": null,
      "grid_template_columns": null,
      "grid_template_rows": null,
      "height": null,
      "justify_content": null,
      "justify_items": null,
      "left": null,
      "margin": null,
      "max_height": null,
      "max_width": null,
      "min_height": null,
      "min_width": null,
      "object_fit": null,
      "object_position": null,
      "order": null,
      "overflow": null,
      "overflow_x": null,
      "overflow_y": null,
      "padding": null,
      "right": null,
      "top": null,
      "visibility": null,
      "width": null
     }
    },
    "190f9c85da4545d0bfb044f10c6909a7": {
     "model_module": "@jupyter-widgets/base",
     "model_module_version": "1.2.0",
     "model_name": "LayoutModel",
     "state": {
      "_model_module": "@jupyter-widgets/base",
      "_model_module_version": "1.2.0",
      "_model_name": "LayoutModel",
      "_view_count": null,
      "_view_module": "@jupyter-widgets/base",
      "_view_module_version": "1.2.0",
      "_view_name": "LayoutView",
      "align_content": null,
      "align_items": null,
      "align_self": null,
      "border": null,
      "bottom": null,
      "display": null,
      "flex": null,
      "flex_flow": null,
      "grid_area": null,
      "grid_auto_columns": null,
      "grid_auto_flow": null,
      "grid_auto_rows": null,
      "grid_column": null,
      "grid_gap": null,
      "grid_row": null,
      "grid_template_areas": null,
      "grid_template_columns": null,
      "grid_template_rows": null,
      "height": null,
      "justify_content": null,
      "justify_items": null,
      "left": null,
      "margin": null,
      "max_height": null,
      "max_width": null,
      "min_height": null,
      "min_width": null,
      "object_fit": null,
      "object_position": null,
      "order": null,
      "overflow": null,
      "overflow_x": null,
      "overflow_y": null,
      "padding": null,
      "right": null,
      "top": null,
      "visibility": null,
      "width": null
     }
    },
    "193d12bc2d53460e818d150116015a22": {
     "model_module": "@jupyter-widgets/controls",
     "model_module_version": "1.5.0",
     "model_name": "DescriptionStyleModel",
     "state": {
      "_model_module": "@jupyter-widgets/controls",
      "_model_module_version": "1.5.0",
      "_model_name": "DescriptionStyleModel",
      "_view_count": null,
      "_view_module": "@jupyter-widgets/base",
      "_view_module_version": "1.2.0",
      "_view_name": "StyleView",
      "description_width": ""
     }
    },
    "1e8e79d2c3514055afe3dca4eeffb196": {
     "model_module": "@jupyter-widgets/controls",
     "model_module_version": "1.5.0",
     "model_name": "DescriptionStyleModel",
     "state": {
      "_model_module": "@jupyter-widgets/controls",
      "_model_module_version": "1.5.0",
      "_model_name": "DescriptionStyleModel",
      "_view_count": null,
      "_view_module": "@jupyter-widgets/base",
      "_view_module_version": "1.2.0",
      "_view_name": "StyleView",
      "description_width": ""
     }
    },
    "1ff3e1f9eb344118a4588feaa8171734": {
     "model_module": "@jupyter-widgets/controls",
     "model_module_version": "1.5.0",
     "model_name": "HTMLModel",
     "state": {
      "_dom_classes": [],
      "_model_module": "@jupyter-widgets/controls",
      "_model_module_version": "1.5.0",
      "_model_name": "HTMLModel",
      "_view_count": null,
      "_view_module": "@jupyter-widgets/controls",
      "_view_module_version": "1.5.0",
      "_view_name": "HTMLView",
      "description": "",
      "description_tooltip": null,
      "layout": "IPY_MODEL_a956abc114b44dbf9a348ce881a73315",
      "placeholder": "​",
      "style": "IPY_MODEL_193d12bc2d53460e818d150116015a22",
      "value": " 350/350 [00:00&lt;00:00, 20.6kB/s]"
     }
    },
    "2285c1f10ba249cdb642cf80b2bad70c": {
     "model_module": "@jupyter-widgets/base",
     "model_module_version": "1.2.0",
     "model_name": "LayoutModel",
     "state": {
      "_model_module": "@jupyter-widgets/base",
      "_model_module_version": "1.2.0",
      "_model_name": "LayoutModel",
      "_view_count": null,
      "_view_module": "@jupyter-widgets/base",
      "_view_module_version": "1.2.0",
      "_view_name": "LayoutView",
      "align_content": null,
      "align_items": null,
      "align_self": null,
      "border": null,
      "bottom": null,
      "display": null,
      "flex": null,
      "flex_flow": null,
      "grid_area": null,
      "grid_auto_columns": null,
      "grid_auto_flow": null,
      "grid_auto_rows": null,
      "grid_column": null,
      "grid_gap": null,
      "grid_row": null,
      "grid_template_areas": null,
      "grid_template_columns": null,
      "grid_template_rows": null,
      "height": null,
      "justify_content": null,
      "justify_items": null,
      "left": null,
      "margin": null,
      "max_height": null,
      "max_width": null,
      "min_height": null,
      "min_width": null,
      "object_fit": null,
      "object_position": null,
      "order": null,
      "overflow": null,
      "overflow_x": null,
      "overflow_y": null,
      "padding": null,
      "right": null,
      "top": null,
      "visibility": null,
      "width": null
     }
    },
    "23b59a446f6a48239ada51ec328ef829": {
     "model_module": "@jupyter-widgets/controls",
     "model_module_version": "1.5.0",
     "model_name": "HTMLModel",
     "state": {
      "_dom_classes": [],
      "_model_module": "@jupyter-widgets/controls",
      "_model_module_version": "1.5.0",
      "_model_name": "HTMLModel",
      "_view_count": null,
      "_view_module": "@jupyter-widgets/controls",
      "_view_module_version": "1.5.0",
      "_view_name": "HTMLView",
      "description": "",
      "description_tooltip": null,
      "layout": "IPY_MODEL_2e4f2048a01a411d8c4fd685c1132cb5",
      "placeholder": "​",
      "style": "IPY_MODEL_f73152264e3e4a488de0ed086d09389f",
      "value": " 612/612 [00:00&lt;00:00, 46.8kB/s]"
     }
    },
    "249e853a0b05429491c2d3147d3667e0": {
     "model_module": "@jupyter-widgets/controls",
     "model_module_version": "1.5.0",
     "model_name": "HTMLModel",
     "state": {
      "_dom_classes": [],
      "_model_module": "@jupyter-widgets/controls",
      "_model_module_version": "1.5.0",
      "_model_name": "HTMLModel",
      "_view_count": null,
      "_view_module": "@jupyter-widgets/controls",
      "_view_module_version": "1.5.0",
      "_view_name": "HTMLView",
      "description": "",
      "description_tooltip": null,
      "layout": "IPY_MODEL_5cfa9c97f882461a8c7dd2bb267639c0",
      "placeholder": "​",
      "style": "IPY_MODEL_ffcc3e9520a04ff3b656c9a1c570b857",
      "value": " 1.18k/1.18k [00:00&lt;00:00, 73.2kB/s]"
     }
    },
    "25109429cf0449e08ac53e9e4e2b334b": {
     "model_module": "@jupyter-widgets/controls",
     "model_module_version": "1.5.0",
     "model_name": "HBoxModel",
     "state": {
      "_dom_classes": [],
      "_model_module": "@jupyter-widgets/controls",
      "_model_module_version": "1.5.0",
      "_model_name": "HBoxModel",
      "_view_count": null,
      "_view_module": "@jupyter-widgets/controls",
      "_view_module_version": "1.5.0",
      "_view_name": "HBoxView",
      "box_style": "",
      "children": [
       "IPY_MODEL_d30345e01c40452eaefa5977baac9202",
       "IPY_MODEL_ac8a7a2ec5ac4763bd1c701fd5c01351",
       "IPY_MODEL_962288b7e4ba4d83977a49dff22f4fe7"
      ],
      "layout": "IPY_MODEL_b2e5f218d4f24356b670dd5a660315f4"
     }
    },
    "2742a2516d1d4fb8ace292cd1481e4c3": {
     "model_module": "@jupyter-widgets/base",
     "model_module_version": "1.2.0",
     "model_name": "LayoutModel",
     "state": {
      "_model_module": "@jupyter-widgets/base",
      "_model_module_version": "1.2.0",
      "_model_name": "LayoutModel",
      "_view_count": null,
      "_view_module": "@jupyter-widgets/base",
      "_view_module_version": "1.2.0",
      "_view_name": "LayoutView",
      "align_content": null,
      "align_items": null,
      "align_self": null,
      "border": null,
      "bottom": null,
      "display": null,
      "flex": null,
      "flex_flow": null,
      "grid_area": null,
      "grid_auto_columns": null,
      "grid_auto_flow": null,
      "grid_auto_rows": null,
      "grid_column": null,
      "grid_gap": null,
      "grid_row": null,
      "grid_template_areas": null,
      "grid_template_columns": null,
      "grid_template_rows": null,
      "height": null,
      "justify_content": null,
      "justify_items": null,
      "left": null,
      "margin": null,
      "max_height": null,
      "max_width": null,
      "min_height": null,
      "min_width": null,
      "object_fit": null,
      "object_position": null,
      "order": null,
      "overflow": null,
      "overflow_x": null,
      "overflow_y": null,
      "padding": null,
      "right": null,
      "top": null,
      "visibility": null,
      "width": null
     }
    },
    "29fb964e708a4f168c3b871fa3630448": {
     "model_module": "@jupyter-widgets/base",
     "model_module_version": "1.2.0",
     "model_name": "LayoutModel",
     "state": {
      "_model_module": "@jupyter-widgets/base",
      "_model_module_version": "1.2.0",
      "_model_name": "LayoutModel",
      "_view_count": null,
      "_view_module": "@jupyter-widgets/base",
      "_view_module_version": "1.2.0",
      "_view_name": "LayoutView",
      "align_content": null,
      "align_items": null,
      "align_self": null,
      "border": null,
      "bottom": null,
      "display": null,
      "flex": null,
      "flex_flow": null,
      "grid_area": null,
      "grid_auto_columns": null,
      "grid_auto_flow": null,
      "grid_auto_rows": null,
      "grid_column": null,
      "grid_gap": null,
      "grid_row": null,
      "grid_template_areas": null,
      "grid_template_columns": null,
      "grid_template_rows": null,
      "height": null,
      "justify_content": null,
      "justify_items": null,
      "left": null,
      "margin": null,
      "max_height": null,
      "max_width": null,
      "min_height": null,
      "min_width": null,
      "object_fit": null,
      "object_position": null,
      "order": null,
      "overflow": null,
      "overflow_x": null,
      "overflow_y": null,
      "padding": null,
      "right": null,
      "top": null,
      "visibility": null,
      "width": null
     }
    },
    "2cea07322293454db6ef622cca36a339": {
     "model_module": "@jupyter-widgets/base",
     "model_module_version": "1.2.0",
     "model_name": "LayoutModel",
     "state": {
      "_model_module": "@jupyter-widgets/base",
      "_model_module_version": "1.2.0",
      "_model_name": "LayoutModel",
      "_view_count": null,
      "_view_module": "@jupyter-widgets/base",
      "_view_module_version": "1.2.0",
      "_view_name": "LayoutView",
      "align_content": null,
      "align_items": null,
      "align_self": null,
      "border": null,
      "bottom": null,
      "display": null,
      "flex": null,
      "flex_flow": null,
      "grid_area": null,
      "grid_auto_columns": null,
      "grid_auto_flow": null,
      "grid_auto_rows": null,
      "grid_column": null,
      "grid_gap": null,
      "grid_row": null,
      "grid_template_areas": null,
      "grid_template_columns": null,
      "grid_template_rows": null,
      "height": null,
      "justify_content": null,
      "justify_items": null,
      "left": null,
      "margin": null,
      "max_height": null,
      "max_width": null,
      "min_height": null,
      "min_width": null,
      "object_fit": null,
      "object_position": null,
      "order": null,
      "overflow": null,
      "overflow_x": null,
      "overflow_y": null,
      "padding": null,
      "right": null,
      "top": null,
      "visibility": null,
      "width": null
     }
    },
    "2d905e45162448c3b08c8b18359db4e1": {
     "model_module": "@jupyter-widgets/base",
     "model_module_version": "1.2.0",
     "model_name": "LayoutModel",
     "state": {
      "_model_module": "@jupyter-widgets/base",
      "_model_module_version": "1.2.0",
      "_model_name": "LayoutModel",
      "_view_count": null,
      "_view_module": "@jupyter-widgets/base",
      "_view_module_version": "1.2.0",
      "_view_name": "LayoutView",
      "align_content": null,
      "align_items": null,
      "align_self": null,
      "border": null,
      "bottom": null,
      "display": null,
      "flex": null,
      "flex_flow": null,
      "grid_area": null,
      "grid_auto_columns": null,
      "grid_auto_flow": null,
      "grid_auto_rows": null,
      "grid_column": null,
      "grid_gap": null,
      "grid_row": null,
      "grid_template_areas": null,
      "grid_template_columns": null,
      "grid_template_rows": null,
      "height": null,
      "justify_content": null,
      "justify_items": null,
      "left": null,
      "margin": null,
      "max_height": null,
      "max_width": null,
      "min_height": null,
      "min_width": null,
      "object_fit": null,
      "object_position": null,
      "order": null,
      "overflow": null,
      "overflow_x": null,
      "overflow_y": null,
      "padding": null,
      "right": null,
      "top": null,
      "visibility": null,
      "width": null
     }
    },
    "2e4f2048a01a411d8c4fd685c1132cb5": {
     "model_module": "@jupyter-widgets/base",
     "model_module_version": "1.2.0",
     "model_name": "LayoutModel",
     "state": {
      "_model_module": "@jupyter-widgets/base",
      "_model_module_version": "1.2.0",
      "_model_name": "LayoutModel",
      "_view_count": null,
      "_view_module": "@jupyter-widgets/base",
      "_view_module_version": "1.2.0",
      "_view_name": "LayoutView",
      "align_content": null,
      "align_items": null,
      "align_self": null,
      "border": null,
      "bottom": null,
      "display": null,
      "flex": null,
      "flex_flow": null,
      "grid_area": null,
      "grid_auto_columns": null,
      "grid_auto_flow": null,
      "grid_auto_rows": null,
      "grid_column": null,
      "grid_gap": null,
      "grid_row": null,
      "grid_template_areas": null,
      "grid_template_columns": null,
      "grid_template_rows": null,
      "height": null,
      "justify_content": null,
      "justify_items": null,
      "left": null,
      "margin": null,
      "max_height": null,
      "max_width": null,
      "min_height": null,
      "min_width": null,
      "object_fit": null,
      "object_position": null,
      "order": null,
      "overflow": null,
      "overflow_x": null,
      "overflow_y": null,
      "padding": null,
      "right": null,
      "top": null,
      "visibility": null,
      "width": null
     }
    },
    "2ee00a6c54674af296ac554e3d7beaf7": {
     "model_module": "@jupyter-widgets/controls",
     "model_module_version": "1.5.0",
     "model_name": "DescriptionStyleModel",
     "state": {
      "_model_module": "@jupyter-widgets/controls",
      "_model_module_version": "1.5.0",
      "_model_name": "DescriptionStyleModel",
      "_view_count": null,
      "_view_module": "@jupyter-widgets/base",
      "_view_module_version": "1.2.0",
      "_view_name": "StyleView",
      "description_width": ""
     }
    },
    "2f65048f27ee4fc5bc932eb9c4eedb19": {
     "model_module": "@jupyter-widgets/controls",
     "model_module_version": "1.5.0",
     "model_name": "DescriptionStyleModel",
     "state": {
      "_model_module": "@jupyter-widgets/controls",
      "_model_module_version": "1.5.0",
      "_model_name": "DescriptionStyleModel",
      "_view_count": null,
      "_view_module": "@jupyter-widgets/base",
      "_view_module_version": "1.2.0",
      "_view_name": "StyleView",
      "description_width": ""
     }
    },
    "31dbb4b8dc3c4029a52ce8f60f5d786e": {
     "model_module": "@jupyter-widgets/controls",
     "model_module_version": "1.5.0",
     "model_name": "HBoxModel",
     "state": {
      "_dom_classes": [],
      "_model_module": "@jupyter-widgets/controls",
      "_model_module_version": "1.5.0",
      "_model_name": "HBoxModel",
      "_view_count": null,
      "_view_module": "@jupyter-widgets/controls",
      "_view_module_version": "1.5.0",
      "_view_name": "HBoxView",
      "box_style": "",
      "children": [
       "IPY_MODEL_92945b3344354095ae42da4107e0ca85",
       "IPY_MODEL_72a087953d41453598ada25ea308d758",
       "IPY_MODEL_aedf119b99944d4bb3c1cb146396c068"
      ],
      "layout": "IPY_MODEL_409427b1277147d3a7bfb63b83776bb9"
     }
    },
    "347a421a7b7b4458b6daf99f624f740c": {
     "model_module": "@jupyter-widgets/base",
     "model_module_version": "1.2.0",
     "model_name": "LayoutModel",
     "state": {
      "_model_module": "@jupyter-widgets/base",
      "_model_module_version": "1.2.0",
      "_model_name": "LayoutModel",
      "_view_count": null,
      "_view_module": "@jupyter-widgets/base",
      "_view_module_version": "1.2.0",
      "_view_name": "LayoutView",
      "align_content": null,
      "align_items": null,
      "align_self": null,
      "border": null,
      "bottom": null,
      "display": null,
      "flex": null,
      "flex_flow": null,
      "grid_area": null,
      "grid_auto_columns": null,
      "grid_auto_flow": null,
      "grid_auto_rows": null,
      "grid_column": null,
      "grid_gap": null,
      "grid_row": null,
      "grid_template_areas": null,
      "grid_template_columns": null,
      "grid_template_rows": null,
      "height": null,
      "justify_content": null,
      "justify_items": null,
      "left": null,
      "margin": null,
      "max_height": null,
      "max_width": null,
      "min_height": null,
      "min_width": null,
      "object_fit": null,
      "object_position": null,
      "order": null,
      "overflow": null,
      "overflow_x": null,
      "overflow_y": null,
      "padding": null,
      "right": null,
      "top": null,
      "visibility": null,
      "width": null
     }
    },
    "3640f29317474438a728b6f8beaff4a6": {
     "model_module": "@jupyter-widgets/base",
     "model_module_version": "1.2.0",
     "model_name": "LayoutModel",
     "state": {
      "_model_module": "@jupyter-widgets/base",
      "_model_module_version": "1.2.0",
      "_model_name": "LayoutModel",
      "_view_count": null,
      "_view_module": "@jupyter-widgets/base",
      "_view_module_version": "1.2.0",
      "_view_name": "LayoutView",
      "align_content": null,
      "align_items": null,
      "align_self": null,
      "border": null,
      "bottom": null,
      "display": null,
      "flex": null,
      "flex_flow": null,
      "grid_area": null,
      "grid_auto_columns": null,
      "grid_auto_flow": null,
      "grid_auto_rows": null,
      "grid_column": null,
      "grid_gap": null,
      "grid_row": null,
      "grid_template_areas": null,
      "grid_template_columns": null,
      "grid_template_rows": null,
      "height": null,
      "justify_content": null,
      "justify_items": null,
      "left": null,
      "margin": null,
      "max_height": null,
      "max_width": null,
      "min_height": null,
      "min_width": null,
      "object_fit": null,
      "object_position": null,
      "order": null,
      "overflow": null,
      "overflow_x": null,
      "overflow_y": null,
      "padding": null,
      "right": null,
      "top": null,
      "visibility": null,
      "width": null
     }
    },
    "368d4b4baa784ccc995b398e8fb86d47": {
     "model_module": "@jupyter-widgets/controls",
     "model_module_version": "1.5.0",
     "model_name": "HBoxModel",
     "state": {
      "_dom_classes": [],
      "_model_module": "@jupyter-widgets/controls",
      "_model_module_version": "1.5.0",
      "_model_name": "HBoxModel",
      "_view_count": null,
      "_view_module": "@jupyter-widgets/controls",
      "_view_module_version": "1.5.0",
      "_view_name": "HBoxView",
      "box_style": "",
      "children": [
       "IPY_MODEL_e2e3fecad67b43d8a999d8e0b9d6af6a",
       "IPY_MODEL_910947a07b1142f989be614e663cd4d1",
       "IPY_MODEL_b42a1a2ff4d647088a74e4323b2bce6d"
      ],
      "layout": "IPY_MODEL_002b4d0804e94c45bb022d0b62cc7115"
     }
    },
    "3bbfe30620674561a9c11d3a0237c78a": {
     "model_module": "@jupyter-widgets/base",
     "model_module_version": "1.2.0",
     "model_name": "LayoutModel",
     "state": {
      "_model_module": "@jupyter-widgets/base",
      "_model_module_version": "1.2.0",
      "_model_name": "LayoutModel",
      "_view_count": null,
      "_view_module": "@jupyter-widgets/base",
      "_view_module_version": "1.2.0",
      "_view_name": "LayoutView",
      "align_content": null,
      "align_items": null,
      "align_self": null,
      "border": null,
      "bottom": null,
      "display": null,
      "flex": null,
      "flex_flow": null,
      "grid_area": null,
      "grid_auto_columns": null,
      "grid_auto_flow": null,
      "grid_auto_rows": null,
      "grid_column": null,
      "grid_gap": null,
      "grid_row": null,
      "grid_template_areas": null,
      "grid_template_columns": null,
      "grid_template_rows": null,
      "height": null,
      "justify_content": null,
      "justify_items": null,
      "left": null,
      "margin": null,
      "max_height": null,
      "max_width": null,
      "min_height": null,
      "min_width": null,
      "object_fit": null,
      "object_position": null,
      "order": null,
      "overflow": null,
      "overflow_x": null,
      "overflow_y": null,
      "padding": null,
      "right": null,
      "top": null,
      "visibility": null,
      "width": null
     }
    },
    "3ca3c6a4716d4096b6913c5ac5c15500": {
     "model_module": "@jupyter-widgets/controls",
     "model_module_version": "1.5.0",
     "model_name": "HTMLModel",
     "state": {
      "_dom_classes": [],
      "_model_module": "@jupyter-widgets/controls",
      "_model_module_version": "1.5.0",
      "_model_name": "HTMLModel",
      "_view_count": null,
      "_view_module": "@jupyter-widgets/controls",
      "_view_module_version": "1.5.0",
      "_view_name": "HTMLView",
      "description": "",
      "description_tooltip": null,
      "layout": "IPY_MODEL_63f94704cfcf4662839aa460b42e9c0a",
      "placeholder": "​",
      "style": "IPY_MODEL_707cd800f65a4e43a9969f6ac4322629",
      "value": ".gitattributes: 100%"
     }
    },
    "409427b1277147d3a7bfb63b83776bb9": {
     "model_module": "@jupyter-widgets/base",
     "model_module_version": "1.2.0",
     "model_name": "LayoutModel",
     "state": {
      "_model_module": "@jupyter-widgets/base",
      "_model_module_version": "1.2.0",
      "_model_name": "LayoutModel",
      "_view_count": null,
      "_view_module": "@jupyter-widgets/base",
      "_view_module_version": "1.2.0",
      "_view_name": "LayoutView",
      "align_content": null,
      "align_items": null,
      "align_self": null,
      "border": null,
      "bottom": null,
      "display": null,
      "flex": null,
      "flex_flow": null,
      "grid_area": null,
      "grid_auto_columns": null,
      "grid_auto_flow": null,
      "grid_auto_rows": null,
      "grid_column": null,
      "grid_gap": null,
      "grid_row": null,
      "grid_template_areas": null,
      "grid_template_columns": null,
      "grid_template_rows": null,
      "height": null,
      "justify_content": null,
      "justify_items": null,
      "left": null,
      "margin": null,
      "max_height": null,
      "max_width": null,
      "min_height": null,
      "min_width": null,
      "object_fit": null,
      "object_position": null,
      "order": null,
      "overflow": null,
      "overflow_x": null,
      "overflow_y": null,
      "padding": null,
      "right": null,
      "top": null,
      "visibility": null,
      "width": null
     }
    },
    "417c738d291e484db654ffbff81d230e": {
     "model_module": "@jupyter-widgets/controls",
     "model_module_version": "1.5.0",
     "model_name": "HTMLModel",
     "state": {
      "_dom_classes": [],
      "_model_module": "@jupyter-widgets/controls",
      "_model_module_version": "1.5.0",
      "_model_name": "HTMLModel",
      "_view_count": null,
      "_view_module": "@jupyter-widgets/controls",
      "_view_module_version": "1.5.0",
      "_view_name": "HTMLView",
      "description": "",
      "description_tooltip": null,
      "layout": "IPY_MODEL_58b8500439ff4d9fa34c6b6d7f64e7f0",
      "placeholder": "​",
      "style": "IPY_MODEL_d1bc2447ef6141719ead7a8b572e93a6",
      "value": "1_Pooling/config.json: 100%"
     }
    },
    "42b6cafdab5a40608bf1a826b069238a": {
     "model_module": "@jupyter-widgets/controls",
     "model_module_version": "1.5.0",
     "model_name": "ProgressStyleModel",
     "state": {
      "_model_module": "@jupyter-widgets/controls",
      "_model_module_version": "1.5.0",
      "_model_name": "ProgressStyleModel",
      "_view_count": null,
      "_view_module": "@jupyter-widgets/base",
      "_view_module_version": "1.2.0",
      "_view_name": "StyleView",
      "bar_color": null,
      "description_width": ""
     }
    },
    "4758ae87506a4d20b6e970ab0183a568": {
     "model_module": "@jupyter-widgets/base",
     "model_module_version": "1.2.0",
     "model_name": "LayoutModel",
     "state": {
      "_model_module": "@jupyter-widgets/base",
      "_model_module_version": "1.2.0",
      "_model_name": "LayoutModel",
      "_view_count": null,
      "_view_module": "@jupyter-widgets/base",
      "_view_module_version": "1.2.0",
      "_view_name": "LayoutView",
      "align_content": null,
      "align_items": null,
      "align_self": null,
      "border": null,
      "bottom": null,
      "display": null,
      "flex": null,
      "flex_flow": null,
      "grid_area": null,
      "grid_auto_columns": null,
      "grid_auto_flow": null,
      "grid_auto_rows": null,
      "grid_column": null,
      "grid_gap": null,
      "grid_row": null,
      "grid_template_areas": null,
      "grid_template_columns": null,
      "grid_template_rows": null,
      "height": null,
      "justify_content": null,
      "justify_items": null,
      "left": null,
      "margin": null,
      "max_height": null,
      "max_width": null,
      "min_height": null,
      "min_width": null,
      "object_fit": null,
      "object_position": null,
      "order": null,
      "overflow": null,
      "overflow_x": null,
      "overflow_y": null,
      "padding": null,
      "right": null,
      "top": null,
      "visibility": null,
      "width": null
     }
    },
    "4792d0d390004e099baf04421c8991ff": {
     "model_module": "@jupyter-widgets/controls",
     "model_module_version": "1.5.0",
     "model_name": "HBoxModel",
     "state": {
      "_dom_classes": [],
      "_model_module": "@jupyter-widgets/controls",
      "_model_module_version": "1.5.0",
      "_model_name": "HBoxModel",
      "_view_count": null,
      "_view_module": "@jupyter-widgets/controls",
      "_view_module_version": "1.5.0",
      "_view_name": "HBoxView",
      "box_style": "",
      "children": [
       "IPY_MODEL_a727471800a84574aa11066d3a668bbd",
       "IPY_MODEL_7f82dfde4b6742daaa698fb92947962d",
       "IPY_MODEL_941ef72b4dfa45e5b62518c50f5c1b41"
      ],
      "layout": "IPY_MODEL_a6f68aaebec44588b13d84535a3a21b2"
     }
    },
    "483526c227044456a80d27400714bd4c": {
     "model_module": "@jupyter-widgets/base",
     "model_module_version": "1.2.0",
     "model_name": "LayoutModel",
     "state": {
      "_model_module": "@jupyter-widgets/base",
      "_model_module_version": "1.2.0",
      "_model_name": "LayoutModel",
      "_view_count": null,
      "_view_module": "@jupyter-widgets/base",
      "_view_module_version": "1.2.0",
      "_view_name": "LayoutView",
      "align_content": null,
      "align_items": null,
      "align_self": null,
      "border": null,
      "bottom": null,
      "display": null,
      "flex": null,
      "flex_flow": null,
      "grid_area": null,
      "grid_auto_columns": null,
      "grid_auto_flow": null,
      "grid_auto_rows": null,
      "grid_column": null,
      "grid_gap": null,
      "grid_row": null,
      "grid_template_areas": null,
      "grid_template_columns": null,
      "grid_template_rows": null,
      "height": null,
      "justify_content": null,
      "justify_items": null,
      "left": null,
      "margin": null,
      "max_height": null,
      "max_width": null,
      "min_height": null,
      "min_width": null,
      "object_fit": null,
      "object_position": null,
      "order": null,
      "overflow": null,
      "overflow_x": null,
      "overflow_y": null,
      "padding": null,
      "right": null,
      "top": null,
      "visibility": null,
      "width": null
     }
    },
    "4860d0495030446c8781cf8e735a92f3": {
     "model_module": "@jupyter-widgets/controls",
     "model_module_version": "1.5.0",
     "model_name": "FloatProgressModel",
     "state": {
      "_dom_classes": [],
      "_model_module": "@jupyter-widgets/controls",
      "_model_module_version": "1.5.0",
      "_model_name": "FloatProgressModel",
      "_view_count": null,
      "_view_module": "@jupyter-widgets/controls",
      "_view_module_version": "1.5.0",
      "_view_name": "ProgressView",
      "bar_style": "success",
      "description": "",
      "description_tooltip": null,
      "layout": "IPY_MODEL_804bad2b87c043d3888948dec90d48b8",
      "max": 90888945,
      "min": 0,
      "orientation": "horizontal",
      "style": "IPY_MODEL_c362b07fa96148e79ba31da66bea32d2",
      "value": 90888945
     }
    },
    "4e98fb057e8d40f7b3a2cdb34c7e8ae7": {
     "model_module": "@jupyter-widgets/controls",
     "model_module_version": "1.5.0",
     "model_name": "ProgressStyleModel",
     "state": {
      "_model_module": "@jupyter-widgets/controls",
      "_model_module_version": "1.5.0",
      "_model_name": "ProgressStyleModel",
      "_view_count": null,
      "_view_module": "@jupyter-widgets/base",
      "_view_module_version": "1.2.0",
      "_view_name": "StyleView",
      "bar_color": null,
      "description_width": ""
     }
    },
    "4fc19dba35b04216bf99f14148161c9b": {
     "model_module": "@jupyter-widgets/base",
     "model_module_version": "1.2.0",
     "model_name": "LayoutModel",
     "state": {
      "_model_module": "@jupyter-widgets/base",
      "_model_module_version": "1.2.0",
      "_model_name": "LayoutModel",
      "_view_count": null,
      "_view_module": "@jupyter-widgets/base",
      "_view_module_version": "1.2.0",
      "_view_name": "LayoutView",
      "align_content": null,
      "align_items": null,
      "align_self": null,
      "border": null,
      "bottom": null,
      "display": null,
      "flex": null,
      "flex_flow": null,
      "grid_area": null,
      "grid_auto_columns": null,
      "grid_auto_flow": null,
      "grid_auto_rows": null,
      "grid_column": null,
      "grid_gap": null,
      "grid_row": null,
      "grid_template_areas": null,
      "grid_template_columns": null,
      "grid_template_rows": null,
      "height": null,
      "justify_content": null,
      "justify_items": null,
      "left": null,
      "margin": null,
      "max_height": null,
      "max_width": null,
      "min_height": null,
      "min_width": null,
      "object_fit": null,
      "object_position": null,
      "order": null,
      "overflow": null,
      "overflow_x": null,
      "overflow_y": null,
      "padding": null,
      "right": null,
      "top": null,
      "visibility": null,
      "width": null
     }
    },
    "50077d692b3c463fa2922e07832f2229": {
     "model_module": "@jupyter-widgets/base",
     "model_module_version": "1.2.0",
     "model_name": "LayoutModel",
     "state": {
      "_model_module": "@jupyter-widgets/base",
      "_model_module_version": "1.2.0",
      "_model_name": "LayoutModel",
      "_view_count": null,
      "_view_module": "@jupyter-widgets/base",
      "_view_module_version": "1.2.0",
      "_view_name": "LayoutView",
      "align_content": null,
      "align_items": null,
      "align_self": null,
      "border": null,
      "bottom": null,
      "display": null,
      "flex": null,
      "flex_flow": null,
      "grid_area": null,
      "grid_auto_columns": null,
      "grid_auto_flow": null,
      "grid_auto_rows": null,
      "grid_column": null,
      "grid_gap": null,
      "grid_row": null,
      "grid_template_areas": null,
      "grid_template_columns": null,
      "grid_template_rows": null,
      "height": null,
      "justify_content": null,
      "justify_items": null,
      "left": null,
      "margin": null,
      "max_height": null,
      "max_width": null,
      "min_height": null,
      "min_width": null,
      "object_fit": null,
      "object_position": null,
      "order": null,
      "overflow": null,
      "overflow_x": null,
      "overflow_y": null,
      "padding": null,
      "right": null,
      "top": null,
      "visibility": null,
      "width": null
     }
    },
    "508018ecc7b645fe931e5ba634f50cc7": {
     "model_module": "@jupyter-widgets/controls",
     "model_module_version": "1.5.0",
     "model_name": "DescriptionStyleModel",
     "state": {
      "_model_module": "@jupyter-widgets/controls",
      "_model_module_version": "1.5.0",
      "_model_name": "DescriptionStyleModel",
      "_view_count": null,
      "_view_module": "@jupyter-widgets/base",
      "_view_module_version": "1.2.0",
      "_view_name": "StyleView",
      "description_width": ""
     }
    },
    "50d9a22918c8458ead7e4bcbd4bb0e14": {
     "model_module": "@jupyter-widgets/base",
     "model_module_version": "1.2.0",
     "model_name": "LayoutModel",
     "state": {
      "_model_module": "@jupyter-widgets/base",
      "_model_module_version": "1.2.0",
      "_model_name": "LayoutModel",
      "_view_count": null,
      "_view_module": "@jupyter-widgets/base",
      "_view_module_version": "1.2.0",
      "_view_name": "LayoutView",
      "align_content": null,
      "align_items": null,
      "align_self": null,
      "border": null,
      "bottom": null,
      "display": null,
      "flex": null,
      "flex_flow": null,
      "grid_area": null,
      "grid_auto_columns": null,
      "grid_auto_flow": null,
      "grid_auto_rows": null,
      "grid_column": null,
      "grid_gap": null,
      "grid_row": null,
      "grid_template_areas": null,
      "grid_template_columns": null,
      "grid_template_rows": null,
      "height": null,
      "justify_content": null,
      "justify_items": null,
      "left": null,
      "margin": null,
      "max_height": null,
      "max_width": null,
      "min_height": null,
      "min_width": null,
      "object_fit": null,
      "object_position": null,
      "order": null,
      "overflow": null,
      "overflow_x": null,
      "overflow_y": null,
      "padding": null,
      "right": null,
      "top": null,
      "visibility": null,
      "width": null
     }
    },
    "58b8500439ff4d9fa34c6b6d7f64e7f0": {
     "model_module": "@jupyter-widgets/base",
     "model_module_version": "1.2.0",
     "model_name": "LayoutModel",
     "state": {
      "_model_module": "@jupyter-widgets/base",
      "_model_module_version": "1.2.0",
      "_model_name": "LayoutModel",
      "_view_count": null,
      "_view_module": "@jupyter-widgets/base",
      "_view_module_version": "1.2.0",
      "_view_name": "LayoutView",
      "align_content": null,
      "align_items": null,
      "align_self": null,
      "border": null,
      "bottom": null,
      "display": null,
      "flex": null,
      "flex_flow": null,
      "grid_area": null,
      "grid_auto_columns": null,
      "grid_auto_flow": null,
      "grid_auto_rows": null,
      "grid_column": null,
      "grid_gap": null,
      "grid_row": null,
      "grid_template_areas": null,
      "grid_template_columns": null,
      "grid_template_rows": null,
      "height": null,
      "justify_content": null,
      "justify_items": null,
      "left": null,
      "margin": null,
      "max_height": null,
      "max_width": null,
      "min_height": null,
      "min_width": null,
      "object_fit": null,
      "object_position": null,
      "order": null,
      "overflow": null,
      "overflow_x": null,
      "overflow_y": null,
      "padding": null,
      "right": null,
      "top": null,
      "visibility": null,
      "width": null
     }
    },
    "5c5c93b19d1841c28624fc6906e8aec2": {
     "model_module": "@jupyter-widgets/controls",
     "model_module_version": "1.5.0",
     "model_name": "ProgressStyleModel",
     "state": {
      "_model_module": "@jupyter-widgets/controls",
      "_model_module_version": "1.5.0",
      "_model_name": "ProgressStyleModel",
      "_view_count": null,
      "_view_module": "@jupyter-widgets/base",
      "_view_module_version": "1.2.0",
      "_view_name": "StyleView",
      "bar_color": null,
      "description_width": ""
     }
    },
    "5cf9cce671654d828a5cb15297e4dc77": {
     "model_module": "@jupyter-widgets/controls",
     "model_module_version": "1.5.0",
     "model_name": "FloatProgressModel",
     "state": {
      "_dom_classes": [],
      "_model_module": "@jupyter-widgets/controls",
      "_model_module_version": "1.5.0",
      "_model_name": "FloatProgressModel",
      "_view_count": null,
      "_view_module": "@jupyter-widgets/controls",
      "_view_module_version": "1.5.0",
      "_view_name": "ProgressView",
      "bar_style": "success",
      "description": "",
      "description_tooltip": null,
      "layout": "IPY_MODEL_483526c227044456a80d27400714bd4c",
      "max": 350,
      "min": 0,
      "orientation": "horizontal",
      "style": "IPY_MODEL_efc5fe5a030f4f8d966ea9cbdb255497",
      "value": 350
     }
    },
    "5cfa9c97f882461a8c7dd2bb267639c0": {
     "model_module": "@jupyter-widgets/base",
     "model_module_version": "1.2.0",
     "model_name": "LayoutModel",
     "state": {
      "_model_module": "@jupyter-widgets/base",
      "_model_module_version": "1.2.0",
      "_model_name": "LayoutModel",
      "_view_count": null,
      "_view_module": "@jupyter-widgets/base",
      "_view_module_version": "1.2.0",
      "_view_name": "LayoutView",
      "align_content": null,
      "align_items": null,
      "align_self": null,
      "border": null,
      "bottom": null,
      "display": null,
      "flex": null,
      "flex_flow": null,
      "grid_area": null,
      "grid_auto_columns": null,
      "grid_auto_flow": null,
      "grid_auto_rows": null,
      "grid_column": null,
      "grid_gap": null,
      "grid_row": null,
      "grid_template_areas": null,
      "grid_template_columns": null,
      "grid_template_rows": null,
      "height": null,
      "justify_content": null,
      "justify_items": null,
      "left": null,
      "margin": null,
      "max_height": null,
      "max_width": null,
      "min_height": null,
      "min_width": null,
      "object_fit": null,
      "object_position": null,
      "order": null,
      "overflow": null,
      "overflow_x": null,
      "overflow_y": null,
      "padding": null,
      "right": null,
      "top": null,
      "visibility": null,
      "width": null
     }
    },
    "605c7298ca2d43798d651ab58bcaf760": {
     "model_module": "@jupyter-widgets/base",
     "model_module_version": "1.2.0",
     "model_name": "LayoutModel",
     "state": {
      "_model_module": "@jupyter-widgets/base",
      "_model_module_version": "1.2.0",
      "_model_name": "LayoutModel",
      "_view_count": null,
      "_view_module": "@jupyter-widgets/base",
      "_view_module_version": "1.2.0",
      "_view_name": "LayoutView",
      "align_content": null,
      "align_items": null,
      "align_self": null,
      "border": null,
      "bottom": null,
      "display": null,
      "flex": null,
      "flex_flow": null,
      "grid_area": null,
      "grid_auto_columns": null,
      "grid_auto_flow": null,
      "grid_auto_rows": null,
      "grid_column": null,
      "grid_gap": null,
      "grid_row": null,
      "grid_template_areas": null,
      "grid_template_columns": null,
      "grid_template_rows": null,
      "height": null,
      "justify_content": null,
      "justify_items": null,
      "left": null,
      "margin": null,
      "max_height": null,
      "max_width": null,
      "min_height": null,
      "min_width": null,
      "object_fit": null,
      "object_position": null,
      "order": null,
      "overflow": null,
      "overflow_x": null,
      "overflow_y": null,
      "padding": null,
      "right": null,
      "top": null,
      "visibility": null,
      "width": null
     }
    },
    "63f94704cfcf4662839aa460b42e9c0a": {
     "model_module": "@jupyter-widgets/base",
     "model_module_version": "1.2.0",
     "model_name": "LayoutModel",
     "state": {
      "_model_module": "@jupyter-widgets/base",
      "_model_module_version": "1.2.0",
      "_model_name": "LayoutModel",
      "_view_count": null,
      "_view_module": "@jupyter-widgets/base",
      "_view_module_version": "1.2.0",
      "_view_name": "LayoutView",
      "align_content": null,
      "align_items": null,
      "align_self": null,
      "border": null,
      "bottom": null,
      "display": null,
      "flex": null,
      "flex_flow": null,
      "grid_area": null,
      "grid_auto_columns": null,
      "grid_auto_flow": null,
      "grid_auto_rows": null,
      "grid_column": null,
      "grid_gap": null,
      "grid_row": null,
      "grid_template_areas": null,
      "grid_template_columns": null,
      "grid_template_rows": null,
      "height": null,
      "justify_content": null,
      "justify_items": null,
      "left": null,
      "margin": null,
      "max_height": null,
      "max_width": null,
      "min_height": null,
      "min_width": null,
      "object_fit": null,
      "object_position": null,
      "order": null,
      "overflow": null,
      "overflow_x": null,
      "overflow_y": null,
      "padding": null,
      "right": null,
      "top": null,
      "visibility": null,
      "width": null
     }
    },
    "6429283e79f34a5fbce86dc173424615": {
     "model_module": "@jupyter-widgets/base",
     "model_module_version": "1.2.0",
     "model_name": "LayoutModel",
     "state": {
      "_model_module": "@jupyter-widgets/base",
      "_model_module_version": "1.2.0",
      "_model_name": "LayoutModel",
      "_view_count": null,
      "_view_module": "@jupyter-widgets/base",
      "_view_module_version": "1.2.0",
      "_view_name": "LayoutView",
      "align_content": null,
      "align_items": null,
      "align_self": null,
      "border": null,
      "bottom": null,
      "display": null,
      "flex": null,
      "flex_flow": null,
      "grid_area": null,
      "grid_auto_columns": null,
      "grid_auto_flow": null,
      "grid_auto_rows": null,
      "grid_column": null,
      "grid_gap": null,
      "grid_row": null,
      "grid_template_areas": null,
      "grid_template_columns": null,
      "grid_template_rows": null,
      "height": null,
      "justify_content": null,
      "justify_items": null,
      "left": null,
      "margin": null,
      "max_height": null,
      "max_width": null,
      "min_height": null,
      "min_width": null,
      "object_fit": null,
      "object_position": null,
      "order": null,
      "overflow": null,
      "overflow_x": null,
      "overflow_y": null,
      "padding": null,
      "right": null,
      "top": null,
      "visibility": null,
      "width": null
     }
    },
    "6ccdac3c8f074cef88abd0e422fca83d": {
     "model_module": "@jupyter-widgets/base",
     "model_module_version": "1.2.0",
     "model_name": "LayoutModel",
     "state": {
      "_model_module": "@jupyter-widgets/base",
      "_model_module_version": "1.2.0",
      "_model_name": "LayoutModel",
      "_view_count": null,
      "_view_module": "@jupyter-widgets/base",
      "_view_module_version": "1.2.0",
      "_view_name": "LayoutView",
      "align_content": null,
      "align_items": null,
      "align_self": null,
      "border": null,
      "bottom": null,
      "display": null,
      "flex": null,
      "flex_flow": null,
      "grid_area": null,
      "grid_auto_columns": null,
      "grid_auto_flow": null,
      "grid_auto_rows": null,
      "grid_column": null,
      "grid_gap": null,
      "grid_row": null,
      "grid_template_areas": null,
      "grid_template_columns": null,
      "grid_template_rows": null,
      "height": null,
      "justify_content": null,
      "justify_items": null,
      "left": null,
      "margin": null,
      "max_height": null,
      "max_width": null,
      "min_height": null,
      "min_width": null,
      "object_fit": null,
      "object_position": null,
      "order": null,
      "overflow": null,
      "overflow_x": null,
      "overflow_y": null,
      "padding": null,
      "right": null,
      "top": null,
      "visibility": null,
      "width": null
     }
    },
    "705d0311fbf44605abdd55e68f33fdb0": {
     "model_module": "@jupyter-widgets/base",
     "model_module_version": "1.2.0",
     "model_name": "LayoutModel",
     "state": {
      "_model_module": "@jupyter-widgets/base",
      "_model_module_version": "1.2.0",
      "_model_name": "LayoutModel",
      "_view_count": null,
      "_view_module": "@jupyter-widgets/base",
      "_view_module_version": "1.2.0",
      "_view_name": "LayoutView",
      "align_content": null,
      "align_items": null,
      "align_self": null,
      "border": null,
      "bottom": null,
      "display": null,
      "flex": null,
      "flex_flow": null,
      "grid_area": null,
      "grid_auto_columns": null,
      "grid_auto_flow": null,
      "grid_auto_rows": null,
      "grid_column": null,
      "grid_gap": null,
      "grid_row": null,
      "grid_template_areas": null,
      "grid_template_columns": null,
      "grid_template_rows": null,
      "height": null,
      "justify_content": null,
      "justify_items": null,
      "left": null,
      "margin": null,
      "max_height": null,
      "max_width": null,
      "min_height": null,
      "min_width": null,
      "object_fit": null,
      "object_position": null,
      "order": null,
      "overflow": null,
      "overflow_x": null,
      "overflow_y": null,
      "padding": null,
      "right": null,
      "top": null,
      "visibility": null,
      "width": null
     }
    },
    "707cd800f65a4e43a9969f6ac4322629": {
     "model_module": "@jupyter-widgets/controls",
     "model_module_version": "1.5.0",
     "model_name": "DescriptionStyleModel",
     "state": {
      "_model_module": "@jupyter-widgets/controls",
      "_model_module_version": "1.5.0",
      "_model_name": "DescriptionStyleModel",
      "_view_count": null,
      "_view_module": "@jupyter-widgets/base",
      "_view_module_version": "1.2.0",
      "_view_name": "StyleView",
      "description_width": ""
     }
    },
    "70a03a03e501462089b2229944cab6e4": {
     "model_module": "@jupyter-widgets/controls",
     "model_module_version": "1.5.0",
     "model_name": "HTMLModel",
     "state": {
      "_dom_classes": [],
      "_model_module": "@jupyter-widgets/controls",
      "_model_module_version": "1.5.0",
      "_model_name": "HTMLModel",
      "_view_count": null,
      "_view_module": "@jupyter-widgets/controls",
      "_view_module_version": "1.5.0",
      "_view_name": "HTMLView",
      "description": "",
      "description_tooltip": null,
      "layout": "IPY_MODEL_b3e2d9559f9a4425af9a3e654a15a45c",
      "placeholder": "​",
      "style": "IPY_MODEL_af8fb1374f674db0acd1848426651457",
      "value": "README.md: 100%"
     }
    },
    "71519aa859b84f6d9905dd587b329cc1": {
     "model_module": "@jupyter-widgets/base",
     "model_module_version": "1.2.0",
     "model_name": "LayoutModel",
     "state": {
      "_model_module": "@jupyter-widgets/base",
      "_model_module_version": "1.2.0",
      "_model_name": "LayoutModel",
      "_view_count": null,
      "_view_module": "@jupyter-widgets/base",
      "_view_module_version": "1.2.0",
      "_view_name": "LayoutView",
      "align_content": null,
      "align_items": null,
      "align_self": null,
      "border": null,
      "bottom": null,
      "display": null,
      "flex": null,
      "flex_flow": null,
      "grid_area": null,
      "grid_auto_columns": null,
      "grid_auto_flow": null,
      "grid_auto_rows": null,
      "grid_column": null,
      "grid_gap": null,
      "grid_row": null,
      "grid_template_areas": null,
      "grid_template_columns": null,
      "grid_template_rows": null,
      "height": null,
      "justify_content": null,
      "justify_items": null,
      "left": null,
      "margin": null,
      "max_height": null,
      "max_width": null,
      "min_height": null,
      "min_width": null,
      "object_fit": null,
      "object_position": null,
      "order": null,
      "overflow": null,
      "overflow_x": null,
      "overflow_y": null,
      "padding": null,
      "right": null,
      "top": null,
      "visibility": null,
      "width": null
     }
    },
    "72a087953d41453598ada25ea308d758": {
     "model_module": "@jupyter-widgets/controls",
     "model_module_version": "1.5.0",
     "model_name": "FloatProgressModel",
     "state": {
      "_dom_classes": [],
      "_model_module": "@jupyter-widgets/controls",
      "_model_module_version": "1.5.0",
      "_model_name": "FloatProgressModel",
      "_view_count": null,
      "_view_module": "@jupyter-widgets/controls",
      "_view_module_version": "1.5.0",
      "_view_name": "ProgressView",
      "bar_style": "success",
      "description": "",
      "description_tooltip": null,
      "layout": "IPY_MODEL_847b3bc8c13642e899fc20aaf92cce17",
      "max": 116,
      "min": 0,
      "orientation": "horizontal",
      "style": "IPY_MODEL_0905de0daac840b888fbea85f5a53424",
      "value": 116
     }
    },
    "78cb60cd425040369d61f5d96d32da8e": {
     "model_module": "@jupyter-widgets/base",
     "model_module_version": "1.2.0",
     "model_name": "LayoutModel",
     "state": {
      "_model_module": "@jupyter-widgets/base",
      "_model_module_version": "1.2.0",
      "_model_name": "LayoutModel",
      "_view_count": null,
      "_view_module": "@jupyter-widgets/base",
      "_view_module_version": "1.2.0",
      "_view_name": "LayoutView",
      "align_content": null,
      "align_items": null,
      "align_self": null,
      "border": null,
      "bottom": null,
      "display": null,
      "flex": null,
      "flex_flow": null,
      "grid_area": null,
      "grid_auto_columns": null,
      "grid_auto_flow": null,
      "grid_auto_rows": null,
      "grid_column": null,
      "grid_gap": null,
      "grid_row": null,
      "grid_template_areas": null,
      "grid_template_columns": null,
      "grid_template_rows": null,
      "height": null,
      "justify_content": null,
      "justify_items": null,
      "left": null,
      "margin": null,
      "max_height": null,
      "max_width": null,
      "min_height": null,
      "min_width": null,
      "object_fit": null,
      "object_position": null,
      "order": null,
      "overflow": null,
      "overflow_x": null,
      "overflow_y": null,
      "padding": null,
      "right": null,
      "top": null,
      "visibility": null,
      "width": null
     }
    },
    "799d273eb7c94d90948596c9e6435d47": {
     "model_module": "@jupyter-widgets/controls",
     "model_module_version": "1.5.0",
     "model_name": "DescriptionStyleModel",
     "state": {
      "_model_module": "@jupyter-widgets/controls",
      "_model_module_version": "1.5.0",
      "_model_name": "DescriptionStyleModel",
      "_view_count": null,
      "_view_module": "@jupyter-widgets/base",
      "_view_module_version": "1.2.0",
      "_view_name": "StyleView",
      "description_width": ""
     }
    },
    "7b27a4f09d8f458cae81163a98d3db0b": {
     "model_module": "@jupyter-widgets/controls",
     "model_module_version": "1.5.0",
     "model_name": "FloatProgressModel",
     "state": {
      "_dom_classes": [],
      "_model_module": "@jupyter-widgets/controls",
      "_model_module_version": "1.5.0",
      "_model_name": "FloatProgressModel",
      "_view_count": null,
      "_view_module": "@jupyter-widgets/controls",
      "_view_module_version": "1.5.0",
      "_view_name": "ProgressView",
      "bar_style": "success",
      "description": "",
      "description_tooltip": null,
      "layout": "IPY_MODEL_cfc987412c034e80a0e75d2ddc44c66f",
      "max": 53,
      "min": 0,
      "orientation": "horizontal",
      "style": "IPY_MODEL_bb8258cf34154aec906ac6d7d674f8a5",
      "value": 53
     }
    },
    "7bf512fb78554f1fa31d2390d481cffe": {
     "model_module": "@jupyter-widgets/controls",
     "model_module_version": "1.5.0",
     "model_name": "HTMLModel",
     "state": {
      "_dom_classes": [],
      "_model_module": "@jupyter-widgets/controls",
      "_model_module_version": "1.5.0",
      "_model_name": "HTMLModel",
      "_view_count": null,
      "_view_module": "@jupyter-widgets/controls",
      "_view_module_version": "1.5.0",
      "_view_name": "HTMLView",
      "description": "",
      "description_tooltip": null,
      "layout": "IPY_MODEL_b0e7149f5d634fe798c026ead2024c9d",
      "placeholder": "​",
      "style": "IPY_MODEL_803c0dd4496541d58887c6881478d736",
      "value": "config.json: 100%"
     }
    },
    "7cb17e544d8e4a1a82d25999a12303fe": {
     "model_module": "@jupyter-widgets/base",
     "model_module_version": "1.2.0",
     "model_name": "LayoutModel",
     "state": {
      "_model_module": "@jupyter-widgets/base",
      "_model_module_version": "1.2.0",
      "_model_name": "LayoutModel",
      "_view_count": null,
      "_view_module": "@jupyter-widgets/base",
      "_view_module_version": "1.2.0",
      "_view_name": "LayoutView",
      "align_content": null,
      "align_items": null,
      "align_self": null,
      "border": null,
      "bottom": null,
      "display": null,
      "flex": null,
      "flex_flow": null,
      "grid_area": null,
      "grid_auto_columns": null,
      "grid_auto_flow": null,
      "grid_auto_rows": null,
      "grid_column": null,
      "grid_gap": null,
      "grid_row": null,
      "grid_template_areas": null,
      "grid_template_columns": null,
      "grid_template_rows": null,
      "height": null,
      "justify_content": null,
      "justify_items": null,
      "left": null,
      "margin": null,
      "max_height": null,
      "max_width": null,
      "min_height": null,
      "min_width": null,
      "object_fit": null,
      "object_position": null,
      "order": null,
      "overflow": null,
      "overflow_x": null,
      "overflow_y": null,
      "padding": null,
      "right": null,
      "top": null,
      "visibility": null,
      "width": null
     }
    },
    "7dd4d505670048be8316419ef146a35a": {
     "model_module": "@jupyter-widgets/controls",
     "model_module_version": "1.5.0",
     "model_name": "DescriptionStyleModel",
     "state": {
      "_model_module": "@jupyter-widgets/controls",
      "_model_module_version": "1.5.0",
      "_model_name": "DescriptionStyleModel",
      "_view_count": null,
      "_view_module": "@jupyter-widgets/base",
      "_view_module_version": "1.2.0",
      "_view_name": "StyleView",
      "description_width": ""
     }
    },
    "7f82dfde4b6742daaa698fb92947962d": {
     "model_module": "@jupyter-widgets/controls",
     "model_module_version": "1.5.0",
     "model_name": "FloatProgressModel",
     "state": {
      "_dom_classes": [],
      "_model_module": "@jupyter-widgets/controls",
      "_model_module_version": "1.5.0",
      "_model_name": "FloatProgressModel",
      "_view_count": null,
      "_view_module": "@jupyter-widgets/controls",
      "_view_module_version": "1.5.0",
      "_view_name": "ProgressView",
      "bar_style": "success",
      "description": "",
      "description_tooltip": null,
      "layout": "IPY_MODEL_6ccdac3c8f074cef88abd0e422fca83d",
      "max": 39265,
      "min": 0,
      "orientation": "horizontal",
      "style": "IPY_MODEL_9df5561964194fa1b5d23dc0534e486f",
      "value": 39265
     }
    },
    "803c0dd4496541d58887c6881478d736": {
     "model_module": "@jupyter-widgets/controls",
     "model_module_version": "1.5.0",
     "model_name": "DescriptionStyleModel",
     "state": {
      "_model_module": "@jupyter-widgets/controls",
      "_model_module_version": "1.5.0",
      "_model_name": "DescriptionStyleModel",
      "_view_count": null,
      "_view_module": "@jupyter-widgets/base",
      "_view_module_version": "1.2.0",
      "_view_name": "StyleView",
      "description_width": ""
     }
    },
    "804bad2b87c043d3888948dec90d48b8": {
     "model_module": "@jupyter-widgets/base",
     "model_module_version": "1.2.0",
     "model_name": "LayoutModel",
     "state": {
      "_model_module": "@jupyter-widgets/base",
      "_model_module_version": "1.2.0",
      "_model_name": "LayoutModel",
      "_view_count": null,
      "_view_module": "@jupyter-widgets/base",
      "_view_module_version": "1.2.0",
      "_view_name": "LayoutView",
      "align_content": null,
      "align_items": null,
      "align_self": null,
      "border": null,
      "bottom": null,
      "display": null,
      "flex": null,
      "flex_flow": null,
      "grid_area": null,
      "grid_auto_columns": null,
      "grid_auto_flow": null,
      "grid_auto_rows": null,
      "grid_column": null,
      "grid_gap": null,
      "grid_row": null,
      "grid_template_areas": null,
      "grid_template_columns": null,
      "grid_template_rows": null,
      "height": null,
      "justify_content": null,
      "justify_items": null,
      "left": null,
      "margin": null,
      "max_height": null,
      "max_width": null,
      "min_height": null,
      "min_width": null,
      "object_fit": null,
      "object_position": null,
      "order": null,
      "overflow": null,
      "overflow_x": null,
      "overflow_y": null,
      "padding": null,
      "right": null,
      "top": null,
      "visibility": null,
      "width": null
     }
    },
    "829c6a0adb514d47b6e20dfddbd84f28": {
     "model_module": "@jupyter-widgets/base",
     "model_module_version": "1.2.0",
     "model_name": "LayoutModel",
     "state": {
      "_model_module": "@jupyter-widgets/base",
      "_model_module_version": "1.2.0",
      "_model_name": "LayoutModel",
      "_view_count": null,
      "_view_module": "@jupyter-widgets/base",
      "_view_module_version": "1.2.0",
      "_view_name": "LayoutView",
      "align_content": null,
      "align_items": null,
      "align_self": null,
      "border": null,
      "bottom": null,
      "display": null,
      "flex": null,
      "flex_flow": null,
      "grid_area": null,
      "grid_auto_columns": null,
      "grid_auto_flow": null,
      "grid_auto_rows": null,
      "grid_column": null,
      "grid_gap": null,
      "grid_row": null,
      "grid_template_areas": null,
      "grid_template_columns": null,
      "grid_template_rows": null,
      "height": null,
      "justify_content": null,
      "justify_items": null,
      "left": null,
      "margin": null,
      "max_height": null,
      "max_width": null,
      "min_height": null,
      "min_width": null,
      "object_fit": null,
      "object_position": null,
      "order": null,
      "overflow": null,
      "overflow_x": null,
      "overflow_y": null,
      "padding": null,
      "right": null,
      "top": null,
      "visibility": null,
      "width": null
     }
    },
    "833d08d4182d45f78ab83f88cac6cad8": {
     "model_module": "@jupyter-widgets/controls",
     "model_module_version": "1.5.0",
     "model_name": "HTMLModel",
     "state": {
      "_dom_classes": [],
      "_model_module": "@jupyter-widgets/controls",
      "_model_module_version": "1.5.0",
      "_model_name": "HTMLModel",
      "_view_count": null,
      "_view_module": "@jupyter-widgets/controls",
      "_view_module_version": "1.5.0",
      "_view_name": "HTMLView",
      "description": "",
      "description_tooltip": null,
      "layout": "IPY_MODEL_2742a2516d1d4fb8ace292cd1481e4c3",
      "placeholder": "​",
      "style": "IPY_MODEL_95e3a1b5872247b98f922e1e57736bfb",
      "value": " 349/349 [00:00&lt;00:00, 25.8kB/s]"
     }
    },
    "83da3627c45f4a828dc410f2850ca1e5": {
     "model_module": "@jupyter-widgets/base",
     "model_module_version": "1.2.0",
     "model_name": "LayoutModel",
     "state": {
      "_model_module": "@jupyter-widgets/base",
      "_model_module_version": "1.2.0",
      "_model_name": "LayoutModel",
      "_view_count": null,
      "_view_module": "@jupyter-widgets/base",
      "_view_module_version": "1.2.0",
      "_view_name": "LayoutView",
      "align_content": null,
      "align_items": null,
      "align_self": null,
      "border": null,
      "bottom": null,
      "display": null,
      "flex": null,
      "flex_flow": null,
      "grid_area": null,
      "grid_auto_columns": null,
      "grid_auto_flow": null,
      "grid_auto_rows": null,
      "grid_column": null,
      "grid_gap": null,
      "grid_row": null,
      "grid_template_areas": null,
      "grid_template_columns": null,
      "grid_template_rows": null,
      "height": null,
      "justify_content": null,
      "justify_items": null,
      "left": null,
      "margin": null,
      "max_height": null,
      "max_width": null,
      "min_height": null,
      "min_width": null,
      "object_fit": null,
      "object_position": null,
      "order": null,
      "overflow": null,
      "overflow_x": null,
      "overflow_y": null,
      "padding": null,
      "right": null,
      "top": null,
      "visibility": null,
      "width": null
     }
    },
    "847b3bc8c13642e899fc20aaf92cce17": {
     "model_module": "@jupyter-widgets/base",
     "model_module_version": "1.2.0",
     "model_name": "LayoutModel",
     "state": {
      "_model_module": "@jupyter-widgets/base",
      "_model_module_version": "1.2.0",
      "_model_name": "LayoutModel",
      "_view_count": null,
      "_view_module": "@jupyter-widgets/base",
      "_view_module_version": "1.2.0",
      "_view_name": "LayoutView",
      "align_content": null,
      "align_items": null,
      "align_self": null,
      "border": null,
      "bottom": null,
      "display": null,
      "flex": null,
      "flex_flow": null,
      "grid_area": null,
      "grid_auto_columns": null,
      "grid_auto_flow": null,
      "grid_auto_rows": null,
      "grid_column": null,
      "grid_gap": null,
      "grid_row": null,
      "grid_template_areas": null,
      "grid_template_columns": null,
      "grid_template_rows": null,
      "height": null,
      "justify_content": null,
      "justify_items": null,
      "left": null,
      "margin": null,
      "max_height": null,
      "max_width": null,
      "min_height": null,
      "min_width": null,
      "object_fit": null,
      "object_position": null,
      "order": null,
      "overflow": null,
      "overflow_x": null,
      "overflow_y": null,
      "padding": null,
      "right": null,
      "top": null,
      "visibility": null,
      "width": null
     }
    },
    "88a0d0aee31c4c9ea08cc07faf580fb9": {
     "model_module": "@jupyter-widgets/base",
     "model_module_version": "1.2.0",
     "model_name": "LayoutModel",
     "state": {
      "_model_module": "@jupyter-widgets/base",
      "_model_module_version": "1.2.0",
      "_model_name": "LayoutModel",
      "_view_count": null,
      "_view_module": "@jupyter-widgets/base",
      "_view_module_version": "1.2.0",
      "_view_name": "LayoutView",
      "align_content": null,
      "align_items": null,
      "align_self": null,
      "border": null,
      "bottom": null,
      "display": null,
      "flex": null,
      "flex_flow": null,
      "grid_area": null,
      "grid_auto_columns": null,
      "grid_auto_flow": null,
      "grid_auto_rows": null,
      "grid_column": null,
      "grid_gap": null,
      "grid_row": null,
      "grid_template_areas": null,
      "grid_template_columns": null,
      "grid_template_rows": null,
      "height": null,
      "justify_content": null,
      "justify_items": null,
      "left": null,
      "margin": null,
      "max_height": null,
      "max_width": null,
      "min_height": null,
      "min_width": null,
      "object_fit": null,
      "object_position": null,
      "order": null,
      "overflow": null,
      "overflow_x": null,
      "overflow_y": null,
      "padding": null,
      "right": null,
      "top": null,
      "visibility": null,
      "width": null
     }
    },
    "8917cc859c2a403c9340f30c85ae92d8": {
     "model_module": "@jupyter-widgets/base",
     "model_module_version": "1.2.0",
     "model_name": "LayoutModel",
     "state": {
      "_model_module": "@jupyter-widgets/base",
      "_model_module_version": "1.2.0",
      "_model_name": "LayoutModel",
      "_view_count": null,
      "_view_module": "@jupyter-widgets/base",
      "_view_module_version": "1.2.0",
      "_view_name": "LayoutView",
      "align_content": null,
      "align_items": null,
      "align_self": null,
      "border": null,
      "bottom": null,
      "display": null,
      "flex": null,
      "flex_flow": null,
      "grid_area": null,
      "grid_auto_columns": null,
      "grid_auto_flow": null,
      "grid_auto_rows": null,
      "grid_column": null,
      "grid_gap": null,
      "grid_row": null,
      "grid_template_areas": null,
      "grid_template_columns": null,
      "grid_template_rows": null,
      "height": null,
      "justify_content": null,
      "justify_items": null,
      "left": null,
      "margin": null,
      "max_height": null,
      "max_width": null,
      "min_height": null,
      "min_width": null,
      "object_fit": null,
      "object_position": null,
      "order": null,
      "overflow": null,
      "overflow_x": null,
      "overflow_y": null,
      "padding": null,
      "right": null,
      "top": null,
      "visibility": null,
      "width": null
     }
    },
    "898fd091cbea4af0a483d6020840ef4b": {
     "model_module": "@jupyter-widgets/controls",
     "model_module_version": "1.5.0",
     "model_name": "DescriptionStyleModel",
     "state": {
      "_model_module": "@jupyter-widgets/controls",
      "_model_module_version": "1.5.0",
      "_model_name": "DescriptionStyleModel",
      "_view_count": null,
      "_view_module": "@jupyter-widgets/base",
      "_view_module_version": "1.2.0",
      "_view_name": "StyleView",
      "description_width": ""
     }
    },
    "8e0a1196dd1b43a481f37f3aafb0dcdc": {
     "model_module": "@jupyter-widgets/controls",
     "model_module_version": "1.5.0",
     "model_name": "HTMLModel",
     "state": {
      "_dom_classes": [],
      "_model_module": "@jupyter-widgets/controls",
      "_model_module_version": "1.5.0",
      "_model_name": "HTMLModel",
      "_view_count": null,
      "_view_module": "@jupyter-widgets/controls",
      "_view_module_version": "1.5.0",
      "_view_name": "HTMLView",
      "description": "",
      "description_tooltip": null,
      "layout": "IPY_MODEL_605c7298ca2d43798d651ab58bcaf760",
      "placeholder": "​",
      "style": "IPY_MODEL_0c2b0dba9da14550883ee45ef314a475",
      "value": "pytorch_model.bin: 100%"
     }
    },
    "910947a07b1142f989be614e663cd4d1": {
     "model_module": "@jupyter-widgets/controls",
     "model_module_version": "1.5.0",
     "model_name": "FloatProgressModel",
     "state": {
      "_dom_classes": [],
      "_model_module": "@jupyter-widgets/controls",
      "_model_module_version": "1.5.0",
      "_model_name": "FloatProgressModel",
      "_view_count": null,
      "_view_module": "@jupyter-widgets/controls",
      "_view_module_version": "1.5.0",
      "_view_name": "ProgressView",
      "bar_style": "success",
      "description": "",
      "description_tooltip": null,
      "layout": "IPY_MODEL_c04f9160ec0c4a21b54dad2f0675adbe",
      "max": 466247,
      "min": 0,
      "orientation": "horizontal",
      "style": "IPY_MODEL_ea28d1c947f84a9cac89190b7d2af401",
      "value": 466247
     }
    },
    "91a9488f85ec470a9b60fc851a535196": {
     "model_module": "@jupyter-widgets/controls",
     "model_module_version": "1.5.0",
     "model_name": "HBoxModel",
     "state": {
      "_dom_classes": [],
      "_model_module": "@jupyter-widgets/controls",
      "_model_module_version": "1.5.0",
      "_model_name": "HBoxModel",
      "_view_count": null,
      "_view_module": "@jupyter-widgets/controls",
      "_view_module_version": "1.5.0",
      "_view_name": "HBoxView",
      "box_style": "",
      "children": [
       "IPY_MODEL_e3fd696a0a3649f9847fb60c4316f078",
       "IPY_MODEL_f8e5eb701ca74528a87cfb3ed68ff068",
       "IPY_MODEL_833d08d4182d45f78ab83f88cac6cad8"
      ],
      "layout": "IPY_MODEL_2285c1f10ba249cdb642cf80b2bad70c"
     }
    },
    "92033f24500a4534bf9aa0db1b66afd2": {
     "model_module": "@jupyter-widgets/controls",
     "model_module_version": "1.5.0",
     "model_name": "FloatProgressModel",
     "state": {
      "_dom_classes": [],
      "_model_module": "@jupyter-widgets/controls",
      "_model_module_version": "1.5.0",
      "_model_name": "FloatProgressModel",
      "_view_count": null,
      "_view_module": "@jupyter-widgets/controls",
      "_view_module_version": "1.5.0",
      "_view_name": "ProgressView",
      "bar_style": "success",
      "description": "",
      "description_tooltip": null,
      "layout": "IPY_MODEL_f610967e35834f8aa163f9b858ad100d",
      "max": 10610,
      "min": 0,
      "orientation": "horizontal",
      "style": "IPY_MODEL_e36d84f0201e4b13966902c7816276ec",
      "value": 10610
     }
    },
    "92945b3344354095ae42da4107e0ca85": {
     "model_module": "@jupyter-widgets/controls",
     "model_module_version": "1.5.0",
     "model_name": "HTMLModel",
     "state": {
      "_dom_classes": [],
      "_model_module": "@jupyter-widgets/controls",
      "_model_module_version": "1.5.0",
      "_model_name": "HTMLModel",
      "_view_count": null,
      "_view_module": "@jupyter-widgets/controls",
      "_view_module_version": "1.5.0",
      "_view_name": "HTMLView",
      "description": "",
      "description_tooltip": null,
      "layout": "IPY_MODEL_71519aa859b84f6d9905dd587b329cc1",
      "placeholder": "​",
      "style": "IPY_MODEL_1e8e79d2c3514055afe3dca4eeffb196",
      "value": "config_sentence_transformers.json: 100%"
     }
    },
    "941ef72b4dfa45e5b62518c50f5c1b41": {
     "model_module": "@jupyter-widgets/controls",
     "model_module_version": "1.5.0",
     "model_name": "HTMLModel",
     "state": {
      "_dom_classes": [],
      "_model_module": "@jupyter-widgets/controls",
      "_model_module_version": "1.5.0",
      "_model_name": "HTMLModel",
      "_view_count": null,
      "_view_module": "@jupyter-widgets/controls",
      "_view_module_version": "1.5.0",
      "_view_name": "HTMLView",
      "description": "",
      "description_tooltip": null,
      "layout": "IPY_MODEL_ff4953b5869c4b538fe009c212c51905",
      "placeholder": "​",
      "style": "IPY_MODEL_7dd4d505670048be8316419ef146a35a",
      "value": " 39.3k/39.3k [00:00&lt;00:00, 3.07MB/s]"
     }
    },
    "9576acc791bc423f90f46e778aebeae5": {
     "model_module": "@jupyter-widgets/controls",
     "model_module_version": "1.5.0",
     "model_name": "HBoxModel",
     "state": {
      "_dom_classes": [],
      "_model_module": "@jupyter-widgets/controls",
      "_model_module_version": "1.5.0",
      "_model_name": "HBoxModel",
      "_view_count": null,
      "_view_module": "@jupyter-widgets/controls",
      "_view_module_version": "1.5.0",
      "_view_name": "HBoxView",
      "box_style": "",
      "children": [
       "IPY_MODEL_c5ad2f6f319f4c8ca3157a12d3fdab55",
       "IPY_MODEL_0b30591dac104e61b84e0ed989015c20",
       "IPY_MODEL_c4937d854e8443ce98fbb67e98e8823c"
      ],
      "layout": "IPY_MODEL_a516a26232be4d189388bda9deea5913"
     }
    },
    "95e3a1b5872247b98f922e1e57736bfb": {
     "model_module": "@jupyter-widgets/controls",
     "model_module_version": "1.5.0",
     "model_name": "DescriptionStyleModel",
     "state": {
      "_model_module": "@jupyter-widgets/controls",
      "_model_module_version": "1.5.0",
      "_model_name": "DescriptionStyleModel",
      "_view_count": null,
      "_view_module": "@jupyter-widgets/base",
      "_view_module_version": "1.2.0",
      "_view_name": "StyleView",
      "description_width": ""
     }
    },
    "962288b7e4ba4d83977a49dff22f4fe7": {
     "model_module": "@jupyter-widgets/controls",
     "model_module_version": "1.5.0",
     "model_name": "HTMLModel",
     "state": {
      "_dom_classes": [],
      "_model_module": "@jupyter-widgets/controls",
      "_model_module_version": "1.5.0",
      "_model_name": "HTMLModel",
      "_view_count": null,
      "_view_module": "@jupyter-widgets/controls",
      "_view_module_version": "1.5.0",
      "_view_name": "HTMLView",
      "description": "",
      "description_tooltip": null,
      "layout": "IPY_MODEL_2cea07322293454db6ef622cca36a339",
      "placeholder": "​",
      "style": "IPY_MODEL_e4a99a6df6984fe088ed74b2f83e390d",
      "value": " 13.2k/13.2k [00:00&lt;00:00, 937kB/s]"
     }
    },
    "99bd49982e4c47ada8b58a5964de166e": {
     "model_module": "@jupyter-widgets/controls",
     "model_module_version": "1.5.0",
     "model_name": "DescriptionStyleModel",
     "state": {
      "_model_module": "@jupyter-widgets/controls",
      "_model_module_version": "1.5.0",
      "_model_name": "DescriptionStyleModel",
      "_view_count": null,
      "_view_module": "@jupyter-widgets/base",
      "_view_module_version": "1.2.0",
      "_view_name": "StyleView",
      "description_width": ""
     }
    },
    "9aa8da964e4147ebb6003bbe8d42288d": {
     "model_module": "@jupyter-widgets/controls",
     "model_module_version": "1.5.0",
     "model_name": "HTMLModel",
     "state": {
      "_dom_classes": [],
      "_model_module": "@jupyter-widgets/controls",
      "_model_module_version": "1.5.0",
      "_model_name": "HTMLModel",
      "_view_count": null,
      "_view_module": "@jupyter-widgets/controls",
      "_view_module_version": "1.5.0",
      "_view_name": "HTMLView",
      "description": "",
      "description_tooltip": null,
      "layout": "IPY_MODEL_9db5b30c2c4240cd899f53008b075165",
      "placeholder": "​",
      "style": "IPY_MODEL_99bd49982e4c47ada8b58a5964de166e",
      "value": " 53.0/53.0 [00:00&lt;00:00, 2.70kB/s]"
     }
    },
    "9ac987b105a547649f5c18383b45e033": {
     "model_module": "@jupyter-widgets/controls",
     "model_module_version": "1.5.0",
     "model_name": "HBoxModel",
     "state": {
      "_dom_classes": [],
      "_model_module": "@jupyter-widgets/controls",
      "_model_module_version": "1.5.0",
      "_model_name": "HBoxModel",
      "_view_count": null,
      "_view_module": "@jupyter-widgets/controls",
      "_view_module_version": "1.5.0",
      "_view_name": "HBoxView",
      "box_style": "",
      "children": [
       "IPY_MODEL_11c97ec49ef1411791a8a2d044e85deb",
       "IPY_MODEL_7b27a4f09d8f458cae81163a98d3db0b",
       "IPY_MODEL_9aa8da964e4147ebb6003bbe8d42288d"
      ],
      "layout": "IPY_MODEL_cdd620a175eb4b44b04510e8002bcdd0"
     }
    },
    "9db5b30c2c4240cd899f53008b075165": {
     "model_module": "@jupyter-widgets/base",
     "model_module_version": "1.2.0",
     "model_name": "LayoutModel",
     "state": {
      "_model_module": "@jupyter-widgets/base",
      "_model_module_version": "1.2.0",
      "_model_name": "LayoutModel",
      "_view_count": null,
      "_view_module": "@jupyter-widgets/base",
      "_view_module_version": "1.2.0",
      "_view_name": "LayoutView",
      "align_content": null,
      "align_items": null,
      "align_self": null,
      "border": null,
      "bottom": null,
      "display": null,
      "flex": null,
      "flex_flow": null,
      "grid_area": null,
      "grid_auto_columns": null,
      "grid_auto_flow": null,
      "grid_auto_rows": null,
      "grid_column": null,
      "grid_gap": null,
      "grid_row": null,
      "grid_template_areas": null,
      "grid_template_columns": null,
      "grid_template_rows": null,
      "height": null,
      "justify_content": null,
      "justify_items": null,
      "left": null,
      "margin": null,
      "max_height": null,
      "max_width": null,
      "min_height": null,
      "min_width": null,
      "object_fit": null,
      "object_position": null,
      "order": null,
      "overflow": null,
      "overflow_x": null,
      "overflow_y": null,
      "padding": null,
      "right": null,
      "top": null,
      "visibility": null,
      "width": null
     }
    },
    "9df5561964194fa1b5d23dc0534e486f": {
     "model_module": "@jupyter-widgets/controls",
     "model_module_version": "1.5.0",
     "model_name": "ProgressStyleModel",
     "state": {
      "_model_module": "@jupyter-widgets/controls",
      "_model_module_version": "1.5.0",
      "_model_name": "ProgressStyleModel",
      "_view_count": null,
      "_view_module": "@jupyter-widgets/base",
      "_view_module_version": "1.2.0",
      "_view_name": "StyleView",
      "bar_color": null,
      "description_width": ""
     }
    },
    "9e9bc5bec01e44d9be7070f2942eaa09": {
     "model_module": "@jupyter-widgets/base",
     "model_module_version": "1.2.0",
     "model_name": "LayoutModel",
     "state": {
      "_model_module": "@jupyter-widgets/base",
      "_model_module_version": "1.2.0",
      "_model_name": "LayoutModel",
      "_view_count": null,
      "_view_module": "@jupyter-widgets/base",
      "_view_module_version": "1.2.0",
      "_view_name": "LayoutView",
      "align_content": null,
      "align_items": null,
      "align_self": null,
      "border": null,
      "bottom": null,
      "display": null,
      "flex": null,
      "flex_flow": null,
      "grid_area": null,
      "grid_auto_columns": null,
      "grid_auto_flow": null,
      "grid_auto_rows": null,
      "grid_column": null,
      "grid_gap": null,
      "grid_row": null,
      "grid_template_areas": null,
      "grid_template_columns": null,
      "grid_template_rows": null,
      "height": null,
      "justify_content": null,
      "justify_items": null,
      "left": null,
      "margin": null,
      "max_height": null,
      "max_width": null,
      "min_height": null,
      "min_width": null,
      "object_fit": null,
      "object_position": null,
      "order": null,
      "overflow": null,
      "overflow_x": null,
      "overflow_y": null,
      "padding": null,
      "right": null,
      "top": null,
      "visibility": null,
      "width": null
     }
    },
    "a23a1591fb30487ea049e16c2008a1a2": {
     "model_module": "@jupyter-widgets/controls",
     "model_module_version": "1.5.0",
     "model_name": "DescriptionStyleModel",
     "state": {
      "_model_module": "@jupyter-widgets/controls",
      "_model_module_version": "1.5.0",
      "_model_name": "DescriptionStyleModel",
      "_view_count": null,
      "_view_module": "@jupyter-widgets/base",
      "_view_module_version": "1.2.0",
      "_view_name": "StyleView",
      "description_width": ""
     }
    },
    "a4f01ac0a49640c6a94b4e6727c180be": {
     "model_module": "@jupyter-widgets/controls",
     "model_module_version": "1.5.0",
     "model_name": "DescriptionStyleModel",
     "state": {
      "_model_module": "@jupyter-widgets/controls",
      "_model_module_version": "1.5.0",
      "_model_name": "DescriptionStyleModel",
      "_view_count": null,
      "_view_module": "@jupyter-widgets/base",
      "_view_module_version": "1.2.0",
      "_view_name": "StyleView",
      "description_width": ""
     }
    },
    "a516a26232be4d189388bda9deea5913": {
     "model_module": "@jupyter-widgets/base",
     "model_module_version": "1.2.0",
     "model_name": "LayoutModel",
     "state": {
      "_model_module": "@jupyter-widgets/base",
      "_model_module_version": "1.2.0",
      "_model_name": "LayoutModel",
      "_view_count": null,
      "_view_module": "@jupyter-widgets/base",
      "_view_module_version": "1.2.0",
      "_view_name": "LayoutView",
      "align_content": null,
      "align_items": null,
      "align_self": null,
      "border": null,
      "bottom": null,
      "display": null,
      "flex": null,
      "flex_flow": null,
      "grid_area": null,
      "grid_auto_columns": null,
      "grid_auto_flow": null,
      "grid_auto_rows": null,
      "grid_column": null,
      "grid_gap": null,
      "grid_row": null,
      "grid_template_areas": null,
      "grid_template_columns": null,
      "grid_template_rows": null,
      "height": null,
      "justify_content": null,
      "justify_items": null,
      "left": null,
      "margin": null,
      "max_height": null,
      "max_width": null,
      "min_height": null,
      "min_width": null,
      "object_fit": null,
      "object_position": null,
      "order": null,
      "overflow": null,
      "overflow_x": null,
      "overflow_y": null,
      "padding": null,
      "right": null,
      "top": null,
      "visibility": null,
      "width": null
     }
    },
    "a6f68aaebec44588b13d84535a3a21b2": {
     "model_module": "@jupyter-widgets/base",
     "model_module_version": "1.2.0",
     "model_name": "LayoutModel",
     "state": {
      "_model_module": "@jupyter-widgets/base",
      "_model_module_version": "1.2.0",
      "_model_name": "LayoutModel",
      "_view_count": null,
      "_view_module": "@jupyter-widgets/base",
      "_view_module_version": "1.2.0",
      "_view_name": "LayoutView",
      "align_content": null,
      "align_items": null,
      "align_self": null,
      "border": null,
      "bottom": null,
      "display": null,
      "flex": null,
      "flex_flow": null,
      "grid_area": null,
      "grid_auto_columns": null,
      "grid_auto_flow": null,
      "grid_auto_rows": null,
      "grid_column": null,
      "grid_gap": null,
      "grid_row": null,
      "grid_template_areas": null,
      "grid_template_columns": null,
      "grid_template_rows": null,
      "height": null,
      "justify_content": null,
      "justify_items": null,
      "left": null,
      "margin": null,
      "max_height": null,
      "max_width": null,
      "min_height": null,
      "min_width": null,
      "object_fit": null,
      "object_position": null,
      "order": null,
      "overflow": null,
      "overflow_x": null,
      "overflow_y": null,
      "padding": null,
      "right": null,
      "top": null,
      "visibility": null,
      "width": null
     }
    },
    "a727471800a84574aa11066d3a668bbd": {
     "model_module": "@jupyter-widgets/controls",
     "model_module_version": "1.5.0",
     "model_name": "HTMLModel",
     "state": {
      "_dom_classes": [],
      "_model_module": "@jupyter-widgets/controls",
      "_model_module_version": "1.5.0",
      "_model_name": "HTMLModel",
      "_view_count": null,
      "_view_module": "@jupyter-widgets/controls",
      "_view_module_version": "1.5.0",
      "_view_name": "HTMLView",
      "description": "",
      "description_tooltip": null,
      "layout": "IPY_MODEL_bf2566d86a8446118eba25b73f1e0e6c",
      "placeholder": "​",
      "style": "IPY_MODEL_f3a7f25383564258b7026f770db41889",
      "value": "data_config.json: 100%"
     }
    },
    "a956abc114b44dbf9a348ce881a73315": {
     "model_module": "@jupyter-widgets/base",
     "model_module_version": "1.2.0",
     "model_name": "LayoutModel",
     "state": {
      "_model_module": "@jupyter-widgets/base",
      "_model_module_version": "1.2.0",
      "_model_name": "LayoutModel",
      "_view_count": null,
      "_view_module": "@jupyter-widgets/base",
      "_view_module_version": "1.2.0",
      "_view_name": "LayoutView",
      "align_content": null,
      "align_items": null,
      "align_self": null,
      "border": null,
      "bottom": null,
      "display": null,
      "flex": null,
      "flex_flow": null,
      "grid_area": null,
      "grid_auto_columns": null,
      "grid_auto_flow": null,
      "grid_auto_rows": null,
      "grid_column": null,
      "grid_gap": null,
      "grid_row": null,
      "grid_template_areas": null,
      "grid_template_columns": null,
      "grid_template_rows": null,
      "height": null,
      "justify_content": null,
      "justify_items": null,
      "left": null,
      "margin": null,
      "max_height": null,
      "max_width": null,
      "min_height": null,
      "min_width": null,
      "object_fit": null,
      "object_position": null,
      "order": null,
      "overflow": null,
      "overflow_x": null,
      "overflow_y": null,
      "padding": null,
      "right": null,
      "top": null,
      "visibility": null,
      "width": null
     }
    },
    "ac8a7a2ec5ac4763bd1c701fd5c01351": {
     "model_module": "@jupyter-widgets/controls",
     "model_module_version": "1.5.0",
     "model_name": "FloatProgressModel",
     "state": {
      "_dom_classes": [],
      "_model_module": "@jupyter-widgets/controls",
      "_model_module_version": "1.5.0",
      "_model_name": "FloatProgressModel",
      "_view_count": null,
      "_view_module": "@jupyter-widgets/controls",
      "_view_module_version": "1.5.0",
      "_view_name": "ProgressView",
      "bar_style": "success",
      "description": "",
      "description_tooltip": null,
      "layout": "IPY_MODEL_78cb60cd425040369d61f5d96d32da8e",
      "max": 13156,
      "min": 0,
      "orientation": "horizontal",
      "style": "IPY_MODEL_d92d39e85cb6452d965221cedf0b6571",
      "value": 13156
     }
    },
    "ad2e309cdc4d4af1920ea645528ce914": {
     "model_module": "@jupyter-widgets/controls",
     "model_module_version": "1.5.0",
     "model_name": "HBoxModel",
     "state": {
      "_dom_classes": [],
      "_model_module": "@jupyter-widgets/controls",
      "_model_module_version": "1.5.0",
      "_model_name": "HBoxModel",
      "_view_count": null,
      "_view_module": "@jupyter-widgets/controls",
      "_view_module_version": "1.5.0",
      "_view_name": "HBoxView",
      "box_style": "",
      "children": [
       "IPY_MODEL_e29cf73eac724dd0b1490662040f93c4",
       "IPY_MODEL_5cf9cce671654d828a5cb15297e4dc77",
       "IPY_MODEL_1ff3e1f9eb344118a4588feaa8171734"
      ],
      "layout": "IPY_MODEL_9e9bc5bec01e44d9be7070f2942eaa09"
     }
    },
    "adf3eba20c4f483a82150f0438bf8e19": {
     "model_module": "@jupyter-widgets/base",
     "model_module_version": "1.2.0",
     "model_name": "LayoutModel",
     "state": {
      "_model_module": "@jupyter-widgets/base",
      "_model_module_version": "1.2.0",
      "_model_name": "LayoutModel",
      "_view_count": null,
      "_view_module": "@jupyter-widgets/base",
      "_view_module_version": "1.2.0",
      "_view_name": "LayoutView",
      "align_content": null,
      "align_items": null,
      "align_self": null,
      "border": null,
      "bottom": null,
      "display": null,
      "flex": null,
      "flex_flow": null,
      "grid_area": null,
      "grid_auto_columns": null,
      "grid_auto_flow": null,
      "grid_auto_rows": null,
      "grid_column": null,
      "grid_gap": null,
      "grid_row": null,
      "grid_template_areas": null,
      "grid_template_columns": null,
      "grid_template_rows": null,
      "height": null,
      "justify_content": null,
      "justify_items": null,
      "left": null,
      "margin": null,
      "max_height": null,
      "max_width": null,
      "min_height": null,
      "min_width": null,
      "object_fit": null,
      "object_position": null,
      "order": null,
      "overflow": null,
      "overflow_x": null,
      "overflow_y": null,
      "padding": null,
      "right": null,
      "top": null,
      "visibility": null,
      "width": null
     }
    },
    "aed506f8091049df82d2b4a2d7f45372": {
     "model_module": "@jupyter-widgets/base",
     "model_module_version": "1.2.0",
     "model_name": "LayoutModel",
     "state": {
      "_model_module": "@jupyter-widgets/base",
      "_model_module_version": "1.2.0",
      "_model_name": "LayoutModel",
      "_view_count": null,
      "_view_module": "@jupyter-widgets/base",
      "_view_module_version": "1.2.0",
      "_view_name": "LayoutView",
      "align_content": null,
      "align_items": null,
      "align_self": null,
      "border": null,
      "bottom": null,
      "display": null,
      "flex": null,
      "flex_flow": null,
      "grid_area": null,
      "grid_auto_columns": null,
      "grid_auto_flow": null,
      "grid_auto_rows": null,
      "grid_column": null,
      "grid_gap": null,
      "grid_row": null,
      "grid_template_areas": null,
      "grid_template_columns": null,
      "grid_template_rows": null,
      "height": null,
      "justify_content": null,
      "justify_items": null,
      "left": null,
      "margin": null,
      "max_height": null,
      "max_width": null,
      "min_height": null,
      "min_width": null,
      "object_fit": null,
      "object_position": null,
      "order": null,
      "overflow": null,
      "overflow_x": null,
      "overflow_y": null,
      "padding": null,
      "right": null,
      "top": null,
      "visibility": null,
      "width": null
     }
    },
    "aedf119b99944d4bb3c1cb146396c068": {
     "model_module": "@jupyter-widgets/controls",
     "model_module_version": "1.5.0",
     "model_name": "HTMLModel",
     "state": {
      "_dom_classes": [],
      "_model_module": "@jupyter-widgets/controls",
      "_model_module_version": "1.5.0",
      "_model_name": "HTMLModel",
      "_view_count": null,
      "_view_module": "@jupyter-widgets/controls",
      "_view_module_version": "1.5.0",
      "_view_name": "HTMLView",
      "description": "",
      "description_tooltip": null,
      "layout": "IPY_MODEL_8917cc859c2a403c9340f30c85ae92d8",
      "placeholder": "​",
      "style": "IPY_MODEL_d4d97043d2e64de582a6c1005a7c5461",
      "value": " 116/116 [00:00&lt;00:00, 9.16kB/s]"
     }
    },
    "af8fb1374f674db0acd1848426651457": {
     "model_module": "@jupyter-widgets/controls",
     "model_module_version": "1.5.0",
     "model_name": "DescriptionStyleModel",
     "state": {
      "_model_module": "@jupyter-widgets/controls",
      "_model_module_version": "1.5.0",
      "_model_name": "DescriptionStyleModel",
      "_view_count": null,
      "_view_module": "@jupyter-widgets/base",
      "_view_module_version": "1.2.0",
      "_view_name": "StyleView",
      "description_width": ""
     }
    },
    "b0e7149f5d634fe798c026ead2024c9d": {
     "model_module": "@jupyter-widgets/base",
     "model_module_version": "1.2.0",
     "model_name": "LayoutModel",
     "state": {
      "_model_module": "@jupyter-widgets/base",
      "_model_module_version": "1.2.0",
      "_model_name": "LayoutModel",
      "_view_count": null,
      "_view_module": "@jupyter-widgets/base",
      "_view_module_version": "1.2.0",
      "_view_name": "LayoutView",
      "align_content": null,
      "align_items": null,
      "align_self": null,
      "border": null,
      "bottom": null,
      "display": null,
      "flex": null,
      "flex_flow": null,
      "grid_area": null,
      "grid_auto_columns": null,
      "grid_auto_flow": null,
      "grid_auto_rows": null,
      "grid_column": null,
      "grid_gap": null,
      "grid_row": null,
      "grid_template_areas": null,
      "grid_template_columns": null,
      "grid_template_rows": null,
      "height": null,
      "justify_content": null,
      "justify_items": null,
      "left": null,
      "margin": null,
      "max_height": null,
      "max_width": null,
      "min_height": null,
      "min_width": null,
      "object_fit": null,
      "object_position": null,
      "order": null,
      "overflow": null,
      "overflow_x": null,
      "overflow_y": null,
      "padding": null,
      "right": null,
      "top": null,
      "visibility": null,
      "width": null
     }
    },
    "b2e5f218d4f24356b670dd5a660315f4": {
     "model_module": "@jupyter-widgets/base",
     "model_module_version": "1.2.0",
     "model_name": "LayoutModel",
     "state": {
      "_model_module": "@jupyter-widgets/base",
      "_model_module_version": "1.2.0",
      "_model_name": "LayoutModel",
      "_view_count": null,
      "_view_module": "@jupyter-widgets/base",
      "_view_module_version": "1.2.0",
      "_view_name": "LayoutView",
      "align_content": null,
      "align_items": null,
      "align_self": null,
      "border": null,
      "bottom": null,
      "display": null,
      "flex": null,
      "flex_flow": null,
      "grid_area": null,
      "grid_auto_columns": null,
      "grid_auto_flow": null,
      "grid_auto_rows": null,
      "grid_column": null,
      "grid_gap": null,
      "grid_row": null,
      "grid_template_areas": null,
      "grid_template_columns": null,
      "grid_template_rows": null,
      "height": null,
      "justify_content": null,
      "justify_items": null,
      "left": null,
      "margin": null,
      "max_height": null,
      "max_width": null,
      "min_height": null,
      "min_width": null,
      "object_fit": null,
      "object_position": null,
      "order": null,
      "overflow": null,
      "overflow_x": null,
      "overflow_y": null,
      "padding": null,
      "right": null,
      "top": null,
      "visibility": null,
      "width": null
     }
    },
    "b3e2d9559f9a4425af9a3e654a15a45c": {
     "model_module": "@jupyter-widgets/base",
     "model_module_version": "1.2.0",
     "model_name": "LayoutModel",
     "state": {
      "_model_module": "@jupyter-widgets/base",
      "_model_module_version": "1.2.0",
      "_model_name": "LayoutModel",
      "_view_count": null,
      "_view_module": "@jupyter-widgets/base",
      "_view_module_version": "1.2.0",
      "_view_name": "LayoutView",
      "align_content": null,
      "align_items": null,
      "align_self": null,
      "border": null,
      "bottom": null,
      "display": null,
      "flex": null,
      "flex_flow": null,
      "grid_area": null,
      "grid_auto_columns": null,
      "grid_auto_flow": null,
      "grid_auto_rows": null,
      "grid_column": null,
      "grid_gap": null,
      "grid_row": null,
      "grid_template_areas": null,
      "grid_template_columns": null,
      "grid_template_rows": null,
      "height": null,
      "justify_content": null,
      "justify_items": null,
      "left": null,
      "margin": null,
      "max_height": null,
      "max_width": null,
      "min_height": null,
      "min_width": null,
      "object_fit": null,
      "object_position": null,
      "order": null,
      "overflow": null,
      "overflow_x": null,
      "overflow_y": null,
      "padding": null,
      "right": null,
      "top": null,
      "visibility": null,
      "width": null
     }
    },
    "b42a1a2ff4d647088a74e4323b2bce6d": {
     "model_module": "@jupyter-widgets/controls",
     "model_module_version": "1.5.0",
     "model_name": "HTMLModel",
     "state": {
      "_dom_classes": [],
      "_model_module": "@jupyter-widgets/controls",
      "_model_module_version": "1.5.0",
      "_model_name": "HTMLModel",
      "_view_count": null,
      "_view_module": "@jupyter-widgets/controls",
      "_view_module_version": "1.5.0",
      "_view_name": "HTMLView",
      "description": "",
      "description_tooltip": null,
      "layout": "IPY_MODEL_dd8e39dfff9c40328391a0bdf16fe2dc",
      "placeholder": "​",
      "style": "IPY_MODEL_2ee00a6c54674af296ac554e3d7beaf7",
      "value": " 466k/466k [00:00&lt;00:00, 3.55MB/s]"
     }
    },
    "b56688ab060448e98799919ab645c3b2": {
     "model_module": "@jupyter-widgets/controls",
     "model_module_version": "1.5.0",
     "model_name": "ProgressStyleModel",
     "state": {
      "_model_module": "@jupyter-widgets/controls",
      "_model_module_version": "1.5.0",
      "_model_name": "ProgressStyleModel",
      "_view_count": null,
      "_view_module": "@jupyter-widgets/base",
      "_view_module_version": "1.2.0",
      "_view_name": "StyleView",
      "bar_color": null,
      "description_width": ""
     }
    },
    "bb75843d0f6840dc90513ebc6857da6e": {
     "model_module": "@jupyter-widgets/controls",
     "model_module_version": "1.5.0",
     "model_name": "FloatProgressModel",
     "state": {
      "_dom_classes": [],
      "_model_module": "@jupyter-widgets/controls",
      "_model_module_version": "1.5.0",
      "_model_name": "FloatProgressModel",
      "_view_count": null,
      "_view_module": "@jupyter-widgets/controls",
      "_view_module_version": "1.5.0",
      "_view_name": "ProgressView",
      "bar_style": "success",
      "description": "",
      "description_tooltip": null,
      "layout": "IPY_MODEL_6429283e79f34a5fbce86dc173424615",
      "max": 1175,
      "min": 0,
      "orientation": "horizontal",
      "style": "IPY_MODEL_4e98fb057e8d40f7b3a2cdb34c7e8ae7",
      "value": 1175
     }
    },
    "bb8258cf34154aec906ac6d7d674f8a5": {
     "model_module": "@jupyter-widgets/controls",
     "model_module_version": "1.5.0",
     "model_name": "ProgressStyleModel",
     "state": {
      "_model_module": "@jupyter-widgets/controls",
      "_model_module_version": "1.5.0",
      "_model_name": "ProgressStyleModel",
      "_view_count": null,
      "_view_module": "@jupyter-widgets/base",
      "_view_module_version": "1.2.0",
      "_view_name": "StyleView",
      "bar_color": null,
      "description_width": ""
     }
    },
    "be6d7de5c7e440cead1ae5f54d38dc55": {
     "model_module": "@jupyter-widgets/controls",
     "model_module_version": "1.5.0",
     "model_name": "DescriptionStyleModel",
     "state": {
      "_model_module": "@jupyter-widgets/controls",
      "_model_module_version": "1.5.0",
      "_model_name": "DescriptionStyleModel",
      "_view_count": null,
      "_view_module": "@jupyter-widgets/base",
      "_view_module_version": "1.2.0",
      "_view_name": "StyleView",
      "description_width": ""
     }
    },
    "bec3dac114434db08e0cbe0a11b73738": {
     "model_module": "@jupyter-widgets/base",
     "model_module_version": "1.2.0",
     "model_name": "LayoutModel",
     "state": {
      "_model_module": "@jupyter-widgets/base",
      "_model_module_version": "1.2.0",
      "_model_name": "LayoutModel",
      "_view_count": null,
      "_view_module": "@jupyter-widgets/base",
      "_view_module_version": "1.2.0",
      "_view_name": "LayoutView",
      "align_content": null,
      "align_items": null,
      "align_self": null,
      "border": null,
      "bottom": null,
      "display": null,
      "flex": null,
      "flex_flow": null,
      "grid_area": null,
      "grid_auto_columns": null,
      "grid_auto_flow": null,
      "grid_auto_rows": null,
      "grid_column": null,
      "grid_gap": null,
      "grid_row": null,
      "grid_template_areas": null,
      "grid_template_columns": null,
      "grid_template_rows": null,
      "height": null,
      "justify_content": null,
      "justify_items": null,
      "left": null,
      "margin": null,
      "max_height": null,
      "max_width": null,
      "min_height": null,
      "min_width": null,
      "object_fit": null,
      "object_position": null,
      "order": null,
      "overflow": null,
      "overflow_x": null,
      "overflow_y": null,
      "padding": null,
      "right": null,
      "top": null,
      "visibility": null,
      "width": null
     }
    },
    "bf2566d86a8446118eba25b73f1e0e6c": {
     "model_module": "@jupyter-widgets/base",
     "model_module_version": "1.2.0",
     "model_name": "LayoutModel",
     "state": {
      "_model_module": "@jupyter-widgets/base",
      "_model_module_version": "1.2.0",
      "_model_name": "LayoutModel",
      "_view_count": null,
      "_view_module": "@jupyter-widgets/base",
      "_view_module_version": "1.2.0",
      "_view_name": "LayoutView",
      "align_content": null,
      "align_items": null,
      "align_self": null,
      "border": null,
      "bottom": null,
      "display": null,
      "flex": null,
      "flex_flow": null,
      "grid_area": null,
      "grid_auto_columns": null,
      "grid_auto_flow": null,
      "grid_auto_rows": null,
      "grid_column": null,
      "grid_gap": null,
      "grid_row": null,
      "grid_template_areas": null,
      "grid_template_columns": null,
      "grid_template_rows": null,
      "height": null,
      "justify_content": null,
      "justify_items": null,
      "left": null,
      "margin": null,
      "max_height": null,
      "max_width": null,
      "min_height": null,
      "min_width": null,
      "object_fit": null,
      "object_position": null,
      "order": null,
      "overflow": null,
      "overflow_x": null,
      "overflow_y": null,
      "padding": null,
      "right": null,
      "top": null,
      "visibility": null,
      "width": null
     }
    },
    "c04f9160ec0c4a21b54dad2f0675adbe": {
     "model_module": "@jupyter-widgets/base",
     "model_module_version": "1.2.0",
     "model_name": "LayoutModel",
     "state": {
      "_model_module": "@jupyter-widgets/base",
      "_model_module_version": "1.2.0",
      "_model_name": "LayoutModel",
      "_view_count": null,
      "_view_module": "@jupyter-widgets/base",
      "_view_module_version": "1.2.0",
      "_view_name": "LayoutView",
      "align_content": null,
      "align_items": null,
      "align_self": null,
      "border": null,
      "bottom": null,
      "display": null,
      "flex": null,
      "flex_flow": null,
      "grid_area": null,
      "grid_auto_columns": null,
      "grid_auto_flow": null,
      "grid_auto_rows": null,
      "grid_column": null,
      "grid_gap": null,
      "grid_row": null,
      "grid_template_areas": null,
      "grid_template_columns": null,
      "grid_template_rows": null,
      "height": null,
      "justify_content": null,
      "justify_items": null,
      "left": null,
      "margin": null,
      "max_height": null,
      "max_width": null,
      "min_height": null,
      "min_width": null,
      "object_fit": null,
      "object_position": null,
      "order": null,
      "overflow": null,
      "overflow_x": null,
      "overflow_y": null,
      "padding": null,
      "right": null,
      "top": null,
      "visibility": null,
      "width": null
     }
    },
    "c362b07fa96148e79ba31da66bea32d2": {
     "model_module": "@jupyter-widgets/controls",
     "model_module_version": "1.5.0",
     "model_name": "ProgressStyleModel",
     "state": {
      "_model_module": "@jupyter-widgets/controls",
      "_model_module_version": "1.5.0",
      "_model_name": "ProgressStyleModel",
      "_view_count": null,
      "_view_module": "@jupyter-widgets/base",
      "_view_module_version": "1.2.0",
      "_view_name": "StyleView",
      "bar_color": null,
      "description_width": ""
     }
    },
    "c3e9746ac3ad43b683813a09bb11a400": {
     "model_module": "@jupyter-widgets/controls",
     "model_module_version": "1.5.0",
     "model_name": "FloatProgressModel",
     "state": {
      "_dom_classes": [],
      "_model_module": "@jupyter-widgets/controls",
      "_model_module_version": "1.5.0",
      "_model_name": "FloatProgressModel",
      "_view_count": null,
      "_view_module": "@jupyter-widgets/controls",
      "_view_module_version": "1.5.0",
      "_view_name": "ProgressView",
      "bar_style": "success",
      "description": "",
      "description_tooltip": null,
      "layout": "IPY_MODEL_829c6a0adb514d47b6e20dfddbd84f28",
      "max": 190,
      "min": 0,
      "orientation": "horizontal",
      "style": "IPY_MODEL_5c5c93b19d1841c28624fc6906e8aec2",
      "value": 190
     }
    },
    "c4937d854e8443ce98fbb67e98e8823c": {
     "model_module": "@jupyter-widgets/controls",
     "model_module_version": "1.5.0",
     "model_name": "HTMLModel",
     "state": {
      "_dom_classes": [],
      "_model_module": "@jupyter-widgets/controls",
      "_model_module_version": "1.5.0",
      "_model_name": "HTMLModel",
      "_view_count": null,
      "_view_module": "@jupyter-widgets/controls",
      "_view_module_version": "1.5.0",
      "_view_name": "HTMLView",
      "description": "",
      "description_tooltip": null,
      "layout": "IPY_MODEL_347a421a7b7b4458b6daf99f624f740c",
      "placeholder": "​",
      "style": "IPY_MODEL_a4f01ac0a49640c6a94b4e6727c180be",
      "value": " 112/112 [00:00&lt;00:00, 7.33kB/s]"
     }
    },
    "c5ad2f6f319f4c8ca3157a12d3fdab55": {
     "model_module": "@jupyter-widgets/controls",
     "model_module_version": "1.5.0",
     "model_name": "HTMLModel",
     "state": {
      "_dom_classes": [],
      "_model_module": "@jupyter-widgets/controls",
      "_model_module_version": "1.5.0",
      "_model_name": "HTMLModel",
      "_view_count": null,
      "_view_module": "@jupyter-widgets/controls",
      "_view_module_version": "1.5.0",
      "_view_name": "HTMLView",
      "description": "",
      "description_tooltip": null,
      "layout": "IPY_MODEL_3bbfe30620674561a9c11d3a0237c78a",
      "placeholder": "​",
      "style": "IPY_MODEL_ee9c7709465b47d896b44a58621b3c11",
      "value": "special_tokens_map.json: 100%"
     }
    },
    "c78868d8e7594c9eb91ed3b703ac8a85": {
     "model_module": "@jupyter-widgets/controls",
     "model_module_version": "1.5.0",
     "model_name": "HBoxModel",
     "state": {
      "_dom_classes": [],
      "_model_module": "@jupyter-widgets/controls",
      "_model_module_version": "1.5.0",
      "_model_name": "HBoxModel",
      "_view_count": null,
      "_view_module": "@jupyter-widgets/controls",
      "_view_module_version": "1.5.0",
      "_view_name": "HBoxView",
      "box_style": "",
      "children": [
       "IPY_MODEL_def9a840c1de4667a889133941a58ca9",
       "IPY_MODEL_d101d1ce87ab4ebf85ac055dc003c836",
       "IPY_MODEL_f78fbc1390024ed3aba9fc2c5849cdbf"
      ],
      "layout": "IPY_MODEL_29fb964e708a4f168c3b871fa3630448"
     }
    },
    "cdd620a175eb4b44b04510e8002bcdd0": {
     "model_module": "@jupyter-widgets/base",
     "model_module_version": "1.2.0",
     "model_name": "LayoutModel",
     "state": {
      "_model_module": "@jupyter-widgets/base",
      "_model_module_version": "1.2.0",
      "_model_name": "LayoutModel",
      "_view_count": null,
      "_view_module": "@jupyter-widgets/base",
      "_view_module_version": "1.2.0",
      "_view_name": "LayoutView",
      "align_content": null,
      "align_items": null,
      "align_self": null,
      "border": null,
      "bottom": null,
      "display": null,
      "flex": null,
      "flex_flow": null,
      "grid_area": null,
      "grid_auto_columns": null,
      "grid_auto_flow": null,
      "grid_auto_rows": null,
      "grid_column": null,
      "grid_gap": null,
      "grid_row": null,
      "grid_template_areas": null,
      "grid_template_columns": null,
      "grid_template_rows": null,
      "height": null,
      "justify_content": null,
      "justify_items": null,
      "left": null,
      "margin": null,
      "max_height": null,
      "max_width": null,
      "min_height": null,
      "min_width": null,
      "object_fit": null,
      "object_position": null,
      "order": null,
      "overflow": null,
      "overflow_x": null,
      "overflow_y": null,
      "padding": null,
      "right": null,
      "top": null,
      "visibility": null,
      "width": null
     }
    },
    "cfc987412c034e80a0e75d2ddc44c66f": {
     "model_module": "@jupyter-widgets/base",
     "model_module_version": "1.2.0",
     "model_name": "LayoutModel",
     "state": {
      "_model_module": "@jupyter-widgets/base",
      "_model_module_version": "1.2.0",
      "_model_name": "LayoutModel",
      "_view_count": null,
      "_view_module": "@jupyter-widgets/base",
      "_view_module_version": "1.2.0",
      "_view_name": "LayoutView",
      "align_content": null,
      "align_items": null,
      "align_self": null,
      "border": null,
      "bottom": null,
      "display": null,
      "flex": null,
      "flex_flow": null,
      "grid_area": null,
      "grid_auto_columns": null,
      "grid_auto_flow": null,
      "grid_auto_rows": null,
      "grid_column": null,
      "grid_gap": null,
      "grid_row": null,
      "grid_template_areas": null,
      "grid_template_columns": null,
      "grid_template_rows": null,
      "height": null,
      "justify_content": null,
      "justify_items": null,
      "left": null,
      "margin": null,
      "max_height": null,
      "max_width": null,
      "min_height": null,
      "min_width": null,
      "object_fit": null,
      "object_position": null,
      "order": null,
      "overflow": null,
      "overflow_x": null,
      "overflow_y": null,
      "padding": null,
      "right": null,
      "top": null,
      "visibility": null,
      "width": null
     }
    },
    "d101d1ce87ab4ebf85ac055dc003c836": {
     "model_module": "@jupyter-widgets/controls",
     "model_module_version": "1.5.0",
     "model_name": "FloatProgressModel",
     "state": {
      "_dom_classes": [],
      "_model_module": "@jupyter-widgets/controls",
      "_model_module_version": "1.5.0",
      "_model_name": "FloatProgressModel",
      "_view_count": null,
      "_view_module": "@jupyter-widgets/controls",
      "_view_module_version": "1.5.0",
      "_view_name": "ProgressView",
      "bar_style": "success",
      "description": "",
      "description_tooltip": null,
      "layout": "IPY_MODEL_adf3eba20c4f483a82150f0438bf8e19",
      "max": 231508,
      "min": 0,
      "orientation": "horizontal",
      "style": "IPY_MODEL_0ecd8059efdb462fa9a5589013b389c2",
      "value": 231508
     }
    },
    "d1bc2447ef6141719ead7a8b572e93a6": {
     "model_module": "@jupyter-widgets/controls",
     "model_module_version": "1.5.0",
     "model_name": "DescriptionStyleModel",
     "state": {
      "_model_module": "@jupyter-widgets/controls",
      "_model_module_version": "1.5.0",
      "_model_name": "DescriptionStyleModel",
      "_view_count": null,
      "_view_module": "@jupyter-widgets/base",
      "_view_module_version": "1.2.0",
      "_view_name": "StyleView",
      "description_width": ""
     }
    },
    "d24c7bce8290487094150146b518ad87": {
     "model_module": "@jupyter-widgets/controls",
     "model_module_version": "1.5.0",
     "model_name": "HBoxModel",
     "state": {
      "_dom_classes": [],
      "_model_module": "@jupyter-widgets/controls",
      "_model_module_version": "1.5.0",
      "_model_name": "HBoxModel",
      "_view_count": null,
      "_view_module": "@jupyter-widgets/controls",
      "_view_module_version": "1.5.0",
      "_view_name": "HBoxView",
      "box_style": "",
      "children": [
       "IPY_MODEL_417c738d291e484db654ffbff81d230e",
       "IPY_MODEL_c3e9746ac3ad43b683813a09bb11a400",
       "IPY_MODEL_f283f45e6dd244738e67cd573e46c500"
      ],
      "layout": "IPY_MODEL_50d9a22918c8458ead7e4bcbd4bb0e14"
     }
    },
    "d30345e01c40452eaefa5977baac9202": {
     "model_module": "@jupyter-widgets/controls",
     "model_module_version": "1.5.0",
     "model_name": "HTMLModel",
     "state": {
      "_dom_classes": [],
      "_model_module": "@jupyter-widgets/controls",
      "_model_module_version": "1.5.0",
      "_model_name": "HTMLModel",
      "_view_count": null,
      "_view_module": "@jupyter-widgets/controls",
      "_view_module_version": "1.5.0",
      "_view_name": "HTMLView",
      "description": "",
      "description_tooltip": null,
      "layout": "IPY_MODEL_aed506f8091049df82d2b4a2d7f45372",
      "placeholder": "​",
      "style": "IPY_MODEL_be6d7de5c7e440cead1ae5f54d38dc55",
      "value": "train_script.py: 100%"
     }
    },
    "d4d97043d2e64de582a6c1005a7c5461": {
     "model_module": "@jupyter-widgets/controls",
     "model_module_version": "1.5.0",
     "model_name": "DescriptionStyleModel",
     "state": {
      "_model_module": "@jupyter-widgets/controls",
      "_model_module_version": "1.5.0",
      "_model_name": "DescriptionStyleModel",
      "_view_count": null,
      "_view_module": "@jupyter-widgets/base",
      "_view_module_version": "1.2.0",
      "_view_name": "StyleView",
      "description_width": ""
     }
    },
    "d92b0de158f94030b6c9156b8f12cc6c": {
     "model_module": "@jupyter-widgets/controls",
     "model_module_version": "1.5.0",
     "model_name": "HBoxModel",
     "state": {
      "_dom_classes": [],
      "_model_module": "@jupyter-widgets/controls",
      "_model_module_version": "1.5.0",
      "_model_name": "HBoxModel",
      "_view_count": null,
      "_view_module": "@jupyter-widgets/controls",
      "_view_module_version": "1.5.0",
      "_view_name": "HBoxView",
      "box_style": "",
      "children": [
       "IPY_MODEL_3ca3c6a4716d4096b6913c5ac5c15500",
       "IPY_MODEL_bb75843d0f6840dc90513ebc6857da6e",
       "IPY_MODEL_249e853a0b05429491c2d3147d3667e0"
      ],
      "layout": "IPY_MODEL_50077d692b3c463fa2922e07832f2229"
     }
    },
    "d92d39e85cb6452d965221cedf0b6571": {
     "model_module": "@jupyter-widgets/controls",
     "model_module_version": "1.5.0",
     "model_name": "ProgressStyleModel",
     "state": {
      "_model_module": "@jupyter-widgets/controls",
      "_model_module_version": "1.5.0",
      "_model_name": "ProgressStyleModel",
      "_view_count": null,
      "_view_module": "@jupyter-widgets/base",
      "_view_module_version": "1.2.0",
      "_view_name": "StyleView",
      "bar_color": null,
      "description_width": ""
     }
    },
    "dd8e39dfff9c40328391a0bdf16fe2dc": {
     "model_module": "@jupyter-widgets/base",
     "model_module_version": "1.2.0",
     "model_name": "LayoutModel",
     "state": {
      "_model_module": "@jupyter-widgets/base",
      "_model_module_version": "1.2.0",
      "_model_name": "LayoutModel",
      "_view_count": null,
      "_view_module": "@jupyter-widgets/base",
      "_view_module_version": "1.2.0",
      "_view_name": "LayoutView",
      "align_content": null,
      "align_items": null,
      "align_self": null,
      "border": null,
      "bottom": null,
      "display": null,
      "flex": null,
      "flex_flow": null,
      "grid_area": null,
      "grid_auto_columns": null,
      "grid_auto_flow": null,
      "grid_auto_rows": null,
      "grid_column": null,
      "grid_gap": null,
      "grid_row": null,
      "grid_template_areas": null,
      "grid_template_columns": null,
      "grid_template_rows": null,
      "height": null,
      "justify_content": null,
      "justify_items": null,
      "left": null,
      "margin": null,
      "max_height": null,
      "max_width": null,
      "min_height": null,
      "min_width": null,
      "object_fit": null,
      "object_position": null,
      "order": null,
      "overflow": null,
      "overflow_x": null,
      "overflow_y": null,
      "padding": null,
      "right": null,
      "top": null,
      "visibility": null,
      "width": null
     }
    },
    "def9a840c1de4667a889133941a58ca9": {
     "model_module": "@jupyter-widgets/controls",
     "model_module_version": "1.5.0",
     "model_name": "HTMLModel",
     "state": {
      "_dom_classes": [],
      "_model_module": "@jupyter-widgets/controls",
      "_model_module_version": "1.5.0",
      "_model_name": "HTMLModel",
      "_view_count": null,
      "_view_module": "@jupyter-widgets/controls",
      "_view_module_version": "1.5.0",
      "_view_name": "HTMLView",
      "description": "",
      "description_tooltip": null,
      "layout": "IPY_MODEL_705d0311fbf44605abdd55e68f33fdb0",
      "placeholder": "​",
      "style": "IPY_MODEL_898fd091cbea4af0a483d6020840ef4b",
      "value": "vocab.txt: 100%"
     }
    },
    "e29cf73eac724dd0b1490662040f93c4": {
     "model_module": "@jupyter-widgets/controls",
     "model_module_version": "1.5.0",
     "model_name": "HTMLModel",
     "state": {
      "_dom_classes": [],
      "_model_module": "@jupyter-widgets/controls",
      "_model_module_version": "1.5.0",
      "_model_name": "HTMLModel",
      "_view_count": null,
      "_view_module": "@jupyter-widgets/controls",
      "_view_module_version": "1.5.0",
      "_view_name": "HTMLView",
      "description": "",
      "description_tooltip": null,
      "layout": "IPY_MODEL_3640f29317474438a728b6f8beaff4a6",
      "placeholder": "​",
      "style": "IPY_MODEL_17ec418a815c4fc8b52acb1e86b32990",
      "value": "tokenizer_config.json: 100%"
     }
    },
    "e2e3fecad67b43d8a999d8e0b9d6af6a": {
     "model_module": "@jupyter-widgets/controls",
     "model_module_version": "1.5.0",
     "model_name": "HTMLModel",
     "state": {
      "_dom_classes": [],
      "_model_module": "@jupyter-widgets/controls",
      "_model_module_version": "1.5.0",
      "_model_name": "HTMLModel",
      "_view_count": null,
      "_view_module": "@jupyter-widgets/controls",
      "_view_module_version": "1.5.0",
      "_view_name": "HTMLView",
      "description": "",
      "description_tooltip": null,
      "layout": "IPY_MODEL_88a0d0aee31c4c9ea08cc07faf580fb9",
      "placeholder": "​",
      "style": "IPY_MODEL_09f3adba65fe44fab16fe53eda6ffad1",
      "value": "tokenizer.json: 100%"
     }
    },
    "e36d84f0201e4b13966902c7816276ec": {
     "model_module": "@jupyter-widgets/controls",
     "model_module_version": "1.5.0",
     "model_name": "ProgressStyleModel",
     "state": {
      "_model_module": "@jupyter-widgets/controls",
      "_model_module_version": "1.5.0",
      "_model_name": "ProgressStyleModel",
      "_view_count": null,
      "_view_module": "@jupyter-widgets/base",
      "_view_module_version": "1.2.0",
      "_view_name": "StyleView",
      "bar_color": null,
      "description_width": ""
     }
    },
    "e3fd696a0a3649f9847fb60c4316f078": {
     "model_module": "@jupyter-widgets/controls",
     "model_module_version": "1.5.0",
     "model_name": "HTMLModel",
     "state": {
      "_dom_classes": [],
      "_model_module": "@jupyter-widgets/controls",
      "_model_module_version": "1.5.0",
      "_model_name": "HTMLModel",
      "_view_count": null,
      "_view_module": "@jupyter-widgets/controls",
      "_view_module_version": "1.5.0",
      "_view_name": "HTMLView",
      "description": "",
      "description_tooltip": null,
      "layout": "IPY_MODEL_190f9c85da4545d0bfb044f10c6909a7",
      "placeholder": "​",
      "style": "IPY_MODEL_f5a6df5771af4312a4b462ffada36e54",
      "value": "modules.json: 100%"
     }
    },
    "e4a99a6df6984fe088ed74b2f83e390d": {
     "model_module": "@jupyter-widgets/controls",
     "model_module_version": "1.5.0",
     "model_name": "DescriptionStyleModel",
     "state": {
      "_model_module": "@jupyter-widgets/controls",
      "_model_module_version": "1.5.0",
      "_model_name": "DescriptionStyleModel",
      "_view_count": null,
      "_view_module": "@jupyter-widgets/base",
      "_view_module_version": "1.2.0",
      "_view_name": "StyleView",
      "description_width": ""
     }
    },
    "e5ae0decccca4e72bd565df0e6bdd75a": {
     "model_module": "@jupyter-widgets/base",
     "model_module_version": "1.2.0",
     "model_name": "LayoutModel",
     "state": {
      "_model_module": "@jupyter-widgets/base",
      "_model_module_version": "1.2.0",
      "_model_name": "LayoutModel",
      "_view_count": null,
      "_view_module": "@jupyter-widgets/base",
      "_view_module_version": "1.2.0",
      "_view_name": "LayoutView",
      "align_content": null,
      "align_items": null,
      "align_self": null,
      "border": null,
      "bottom": null,
      "display": null,
      "flex": null,
      "flex_flow": null,
      "grid_area": null,
      "grid_auto_columns": null,
      "grid_auto_flow": null,
      "grid_auto_rows": null,
      "grid_column": null,
      "grid_gap": null,
      "grid_row": null,
      "grid_template_areas": null,
      "grid_template_columns": null,
      "grid_template_rows": null,
      "height": null,
      "justify_content": null,
      "justify_items": null,
      "left": null,
      "margin": null,
      "max_height": null,
      "max_width": null,
      "min_height": null,
      "min_width": null,
      "object_fit": null,
      "object_position": null,
      "order": null,
      "overflow": null,
      "overflow_x": null,
      "overflow_y": null,
      "padding": null,
      "right": null,
      "top": null,
      "visibility": null,
      "width": null
     }
    },
    "e5cd47efc6e84d2ab694ba8fb9dbad10": {
     "model_module": "@jupyter-widgets/controls",
     "model_module_version": "1.5.0",
     "model_name": "FloatProgressModel",
     "state": {
      "_dom_classes": [],
      "_model_module": "@jupyter-widgets/controls",
      "_model_module_version": "1.5.0",
      "_model_name": "FloatProgressModel",
      "_view_count": null,
      "_view_module": "@jupyter-widgets/controls",
      "_view_module_version": "1.5.0",
      "_view_name": "ProgressView",
      "bar_style": "success",
      "description": "",
      "description_tooltip": null,
      "layout": "IPY_MODEL_fe39155c447d4911be8e525d2b816449",
      "max": 612,
      "min": 0,
      "orientation": "horizontal",
      "style": "IPY_MODEL_b56688ab060448e98799919ab645c3b2",
      "value": 612
     }
    },
    "e778621a3492447bac297fa98b9ae8b2": {
     "model_module": "@jupyter-widgets/controls",
     "model_module_version": "1.5.0",
     "model_name": "HBoxModel",
     "state": {
      "_dom_classes": [],
      "_model_module": "@jupyter-widgets/controls",
      "_model_module_version": "1.5.0",
      "_model_name": "HBoxModel",
      "_view_count": null,
      "_view_module": "@jupyter-widgets/controls",
      "_view_module_version": "1.5.0",
      "_view_name": "HBoxView",
      "box_style": "",
      "children": [
       "IPY_MODEL_7bf512fb78554f1fa31d2390d481cffe",
       "IPY_MODEL_e5cd47efc6e84d2ab694ba8fb9dbad10",
       "IPY_MODEL_23b59a446f6a48239ada51ec328ef829"
      ],
      "layout": "IPY_MODEL_4758ae87506a4d20b6e970ab0183a568"
     }
    },
    "ea28d1c947f84a9cac89190b7d2af401": {
     "model_module": "@jupyter-widgets/controls",
     "model_module_version": "1.5.0",
     "model_name": "ProgressStyleModel",
     "state": {
      "_model_module": "@jupyter-widgets/controls",
      "_model_module_version": "1.5.0",
      "_model_name": "ProgressStyleModel",
      "_view_count": null,
      "_view_module": "@jupyter-widgets/base",
      "_view_module_version": "1.2.0",
      "_view_name": "StyleView",
      "bar_color": null,
      "description_width": ""
     }
    },
    "ee9c7709465b47d896b44a58621b3c11": {
     "model_module": "@jupyter-widgets/controls",
     "model_module_version": "1.5.0",
     "model_name": "DescriptionStyleModel",
     "state": {
      "_model_module": "@jupyter-widgets/controls",
      "_model_module_version": "1.5.0",
      "_model_name": "DescriptionStyleModel",
      "_view_count": null,
      "_view_module": "@jupyter-widgets/base",
      "_view_module_version": "1.2.0",
      "_view_name": "StyleView",
      "description_width": ""
     }
    },
    "efc5fe5a030f4f8d966ea9cbdb255497": {
     "model_module": "@jupyter-widgets/controls",
     "model_module_version": "1.5.0",
     "model_name": "ProgressStyleModel",
     "state": {
      "_model_module": "@jupyter-widgets/controls",
      "_model_module_version": "1.5.0",
      "_model_name": "ProgressStyleModel",
      "_view_count": null,
      "_view_module": "@jupyter-widgets/base",
      "_view_module_version": "1.2.0",
      "_view_name": "StyleView",
      "bar_color": null,
      "description_width": ""
     }
    },
    "f283f45e6dd244738e67cd573e46c500": {
     "model_module": "@jupyter-widgets/controls",
     "model_module_version": "1.5.0",
     "model_name": "HTMLModel",
     "state": {
      "_dom_classes": [],
      "_model_module": "@jupyter-widgets/controls",
      "_model_module_version": "1.5.0",
      "_model_name": "HTMLModel",
      "_view_count": null,
      "_view_module": "@jupyter-widgets/controls",
      "_view_module_version": "1.5.0",
      "_view_name": "HTMLView",
      "description": "",
      "description_tooltip": null,
      "layout": "IPY_MODEL_1908379cd85c43eb85e8a919c81dcb27",
      "placeholder": "​",
      "style": "IPY_MODEL_1392e6f30c4847429b5e0a88a2a89712",
      "value": " 190/190 [00:00&lt;00:00, 15.0kB/s]"
     }
    },
    "f3a7f25383564258b7026f770db41889": {
     "model_module": "@jupyter-widgets/controls",
     "model_module_version": "1.5.0",
     "model_name": "DescriptionStyleModel",
     "state": {
      "_model_module": "@jupyter-widgets/controls",
      "_model_module_version": "1.5.0",
      "_model_name": "DescriptionStyleModel",
      "_view_count": null,
      "_view_module": "@jupyter-widgets/base",
      "_view_module_version": "1.2.0",
      "_view_name": "StyleView",
      "description_width": ""
     }
    },
    "f411421ea73647a6b71242128ae4314d": {
     "model_module": "@jupyter-widgets/controls",
     "model_module_version": "1.5.0",
     "model_name": "HTMLModel",
     "state": {
      "_dom_classes": [],
      "_model_module": "@jupyter-widgets/controls",
      "_model_module_version": "1.5.0",
      "_model_name": "HTMLModel",
      "_view_count": null,
      "_view_module": "@jupyter-widgets/controls",
      "_view_module_version": "1.5.0",
      "_view_name": "HTMLView",
      "description": "",
      "description_tooltip": null,
      "layout": "IPY_MODEL_e5ae0decccca4e72bd565df0e6bdd75a",
      "placeholder": "​",
      "style": "IPY_MODEL_2f65048f27ee4fc5bc932eb9c4eedb19",
      "value": " 10.6k/10.6k [00:00&lt;00:00, 646kB/s]"
     }
    },
    "f411cceeafc4456bab39da08262bf250": {
     "model_module": "@jupyter-widgets/base",
     "model_module_version": "1.2.0",
     "model_name": "LayoutModel",
     "state": {
      "_model_module": "@jupyter-widgets/base",
      "_model_module_version": "1.2.0",
      "_model_name": "LayoutModel",
      "_view_count": null,
      "_view_module": "@jupyter-widgets/base",
      "_view_module_version": "1.2.0",
      "_view_name": "LayoutView",
      "align_content": null,
      "align_items": null,
      "align_self": null,
      "border": null,
      "bottom": null,
      "display": null,
      "flex": null,
      "flex_flow": null,
      "grid_area": null,
      "grid_auto_columns": null,
      "grid_auto_flow": null,
      "grid_auto_rows": null,
      "grid_column": null,
      "grid_gap": null,
      "grid_row": null,
      "grid_template_areas": null,
      "grid_template_columns": null,
      "grid_template_rows": null,
      "height": null,
      "justify_content": null,
      "justify_items": null,
      "left": null,
      "margin": null,
      "max_height": null,
      "max_width": null,
      "min_height": null,
      "min_width": null,
      "object_fit": null,
      "object_position": null,
      "order": null,
      "overflow": null,
      "overflow_x": null,
      "overflow_y": null,
      "padding": null,
      "right": null,
      "top": null,
      "visibility": null,
      "width": null
     }
    },
    "f5a6df5771af4312a4b462ffada36e54": {
     "model_module": "@jupyter-widgets/controls",
     "model_module_version": "1.5.0",
     "model_name": "DescriptionStyleModel",
     "state": {
      "_model_module": "@jupyter-widgets/controls",
      "_model_module_version": "1.5.0",
      "_model_name": "DescriptionStyleModel",
      "_view_count": null,
      "_view_module": "@jupyter-widgets/base",
      "_view_module_version": "1.2.0",
      "_view_name": "StyleView",
      "description_width": ""
     }
    },
    "f5bf93a1ef854aecac757f852d7c12f4": {
     "model_module": "@jupyter-widgets/controls",
     "model_module_version": "1.5.0",
     "model_name": "HBoxModel",
     "state": {
      "_dom_classes": [],
      "_model_module": "@jupyter-widgets/controls",
      "_model_module_version": "1.5.0",
      "_model_name": "HBoxModel",
      "_view_count": null,
      "_view_module": "@jupyter-widgets/controls",
      "_view_module_version": "1.5.0",
      "_view_name": "HBoxView",
      "box_style": "",
      "children": [
       "IPY_MODEL_8e0a1196dd1b43a481f37f3aafb0dcdc",
       "IPY_MODEL_4860d0495030446c8781cf8e735a92f3",
       "IPY_MODEL_0ea6b24eab7c438badf5e7cc8930fc4d"
      ],
      "layout": "IPY_MODEL_bec3dac114434db08e0cbe0a11b73738"
     }
    },
    "f610967e35834f8aa163f9b858ad100d": {
     "model_module": "@jupyter-widgets/base",
     "model_module_version": "1.2.0",
     "model_name": "LayoutModel",
     "state": {
      "_model_module": "@jupyter-widgets/base",
      "_model_module_version": "1.2.0",
      "_model_name": "LayoutModel",
      "_view_count": null,
      "_view_module": "@jupyter-widgets/base",
      "_view_module_version": "1.2.0",
      "_view_name": "LayoutView",
      "align_content": null,
      "align_items": null,
      "align_self": null,
      "border": null,
      "bottom": null,
      "display": null,
      "flex": null,
      "flex_flow": null,
      "grid_area": null,
      "grid_auto_columns": null,
      "grid_auto_flow": null,
      "grid_auto_rows": null,
      "grid_column": null,
      "grid_gap": null,
      "grid_row": null,
      "grid_template_areas": null,
      "grid_template_columns": null,
      "grid_template_rows": null,
      "height": null,
      "justify_content": null,
      "justify_items": null,
      "left": null,
      "margin": null,
      "max_height": null,
      "max_width": null,
      "min_height": null,
      "min_width": null,
      "object_fit": null,
      "object_position": null,
      "order": null,
      "overflow": null,
      "overflow_x": null,
      "overflow_y": null,
      "padding": null,
      "right": null,
      "top": null,
      "visibility": null,
      "width": null
     }
    },
    "f73152264e3e4a488de0ed086d09389f": {
     "model_module": "@jupyter-widgets/controls",
     "model_module_version": "1.5.0",
     "model_name": "DescriptionStyleModel",
     "state": {
      "_model_module": "@jupyter-widgets/controls",
      "_model_module_version": "1.5.0",
      "_model_name": "DescriptionStyleModel",
      "_view_count": null,
      "_view_module": "@jupyter-widgets/base",
      "_view_module_version": "1.2.0",
      "_view_name": "StyleView",
      "description_width": ""
     }
    },
    "f78fbc1390024ed3aba9fc2c5849cdbf": {
     "model_module": "@jupyter-widgets/controls",
     "model_module_version": "1.5.0",
     "model_name": "HTMLModel",
     "state": {
      "_dom_classes": [],
      "_model_module": "@jupyter-widgets/controls",
      "_model_module_version": "1.5.0",
      "_model_name": "HTMLModel",
      "_view_count": null,
      "_view_module": "@jupyter-widgets/controls",
      "_view_module_version": "1.5.0",
      "_view_name": "HTMLView",
      "description": "",
      "description_tooltip": null,
      "layout": "IPY_MODEL_83da3627c45f4a828dc410f2850ca1e5",
      "placeholder": "​",
      "style": "IPY_MODEL_508018ecc7b645fe931e5ba634f50cc7",
      "value": " 232k/232k [00:00&lt;00:00, 14.8MB/s]"
     }
    },
    "f8e5eb701ca74528a87cfb3ed68ff068": {
     "model_module": "@jupyter-widgets/controls",
     "model_module_version": "1.5.0",
     "model_name": "FloatProgressModel",
     "state": {
      "_dom_classes": [],
      "_model_module": "@jupyter-widgets/controls",
      "_model_module_version": "1.5.0",
      "_model_name": "FloatProgressModel",
      "_view_count": null,
      "_view_module": "@jupyter-widgets/controls",
      "_view_module_version": "1.5.0",
      "_view_name": "ProgressView",
      "bar_style": "success",
      "description": "",
      "description_tooltip": null,
      "layout": "IPY_MODEL_1773989923ce4c59bd0069bc9a21ecf5",
      "max": 349,
      "min": 0,
      "orientation": "horizontal",
      "style": "IPY_MODEL_04fb2906d0884dcb9d75912556313ffa",
      "value": 349
     }
    },
    "fe39155c447d4911be8e525d2b816449": {
     "model_module": "@jupyter-widgets/base",
     "model_module_version": "1.2.0",
     "model_name": "LayoutModel",
     "state": {
      "_model_module": "@jupyter-widgets/base",
      "_model_module_version": "1.2.0",
      "_model_name": "LayoutModel",
      "_view_count": null,
      "_view_module": "@jupyter-widgets/base",
      "_view_module_version": "1.2.0",
      "_view_name": "LayoutView",
      "align_content": null,
      "align_items": null,
      "align_self": null,
      "border": null,
      "bottom": null,
      "display": null,
      "flex": null,
      "flex_flow": null,
      "grid_area": null,
      "grid_auto_columns": null,
      "grid_auto_flow": null,
      "grid_auto_rows": null,
      "grid_column": null,
      "grid_gap": null,
      "grid_row": null,
      "grid_template_areas": null,
      "grid_template_columns": null,
      "grid_template_rows": null,
      "height": null,
      "justify_content": null,
      "justify_items": null,
      "left": null,
      "margin": null,
      "max_height": null,
      "max_width": null,
      "min_height": null,
      "min_width": null,
      "object_fit": null,
      "object_position": null,
      "order": null,
      "overflow": null,
      "overflow_x": null,
      "overflow_y": null,
      "padding": null,
      "right": null,
      "top": null,
      "visibility": null,
      "width": null
     }
    },
    "ff4953b5869c4b538fe009c212c51905": {
     "model_module": "@jupyter-widgets/base",
     "model_module_version": "1.2.0",
     "model_name": "LayoutModel",
     "state": {
      "_model_module": "@jupyter-widgets/base",
      "_model_module_version": "1.2.0",
      "_model_name": "LayoutModel",
      "_view_count": null,
      "_view_module": "@jupyter-widgets/base",
      "_view_module_version": "1.2.0",
      "_view_name": "LayoutView",
      "align_content": null,
      "align_items": null,
      "align_self": null,
      "border": null,
      "bottom": null,
      "display": null,
      "flex": null,
      "flex_flow": null,
      "grid_area": null,
      "grid_auto_columns": null,
      "grid_auto_flow": null,
      "grid_auto_rows": null,
      "grid_column": null,
      "grid_gap": null,
      "grid_row": null,
      "grid_template_areas": null,
      "grid_template_columns": null,
      "grid_template_rows": null,
      "height": null,
      "justify_content": null,
      "justify_items": null,
      "left": null,
      "margin": null,
      "max_height": null,
      "max_width": null,
      "min_height": null,
      "min_width": null,
      "object_fit": null,
      "object_position": null,
      "order": null,
      "overflow": null,
      "overflow_x": null,
      "overflow_y": null,
      "padding": null,
      "right": null,
      "top": null,
      "visibility": null,
      "width": null
     }
    },
    "ffcc3e9520a04ff3b656c9a1c570b857": {
     "model_module": "@jupyter-widgets/controls",
     "model_module_version": "1.5.0",
     "model_name": "DescriptionStyleModel",
     "state": {
      "_model_module": "@jupyter-widgets/controls",
      "_model_module_version": "1.5.0",
      "_model_name": "DescriptionStyleModel",
      "_view_count": null,
      "_view_module": "@jupyter-widgets/base",
      "_view_module_version": "1.2.0",
      "_view_name": "StyleView",
      "description_width": ""
     }
    }
   }
  }
 },
 "nbformat": 4,
 "nbformat_minor": 0
}
