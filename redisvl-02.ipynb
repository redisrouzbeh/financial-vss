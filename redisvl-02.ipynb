{
  "cells": [
    {
      "cell_type": "markdown",
      "metadata": {
        "id": "R2-i8jBl9GRH"
      },
      "source": [
        "![Redis](https://redis.com/wp-content/themes/wpx/assets/images/logo-redis.svg?auto=webp&quality=85,75&width=120)\n",
        "\n",
        "# RAG from scratch with the Redis Vector Library\n",
        "\n",
        "\n",
        "Now that you have a good foundation in Redis data structures and basic search capabilities, this notebook builds on that path. It introduces [redisvl](https://redisvl.com), a dedicated Python client library for streamline GenAI application development.\n",
        "\n",
        "We will go through the same initial setup and data prep stage, then dive into building an **end-to-end RAG system from scratch**, including a few special topics/techniques:\n",
        "- Dense content representation\n",
        "- Query rewriting / expansion\n",
        "- Semantic caching\n",
        "- Conversational memory persistence\n",
        "\n",
        "\n",
        "## Let's Begin!\n",
        "<a href=\"https://colab.research.google.com/github/Redislabs-Solution-Architects/financial-vss/blob/main/redisvl-02.ipynb\" target=\"_parent\"><img src=\"https://colab.research.google.com/assets/colab-badge.svg\" alt=\"Open In Colab\"/></a>\n"
      ]
    },
    {
      "cell_type": "markdown",
      "metadata": {
        "id": "rT9HzsnQ1uiz"
      },
      "source": [
        "## Environment Setup\n",
        "\n",
        "### Pull Github Materials\n",
        "Because you are likely running this notebook in **Google Colab**, we need to first\n",
        "pull the necessary dataset and materials directly from GitHub.\n",
        "\n",
        "**If you are running this notebook locally**, FYI you may not need to perform this\n",
        "step at all."
      ]
    },
    {
      "cell_type": "code",
      "execution_count": null,
      "metadata": {
        "id": "AJJ2UW6M1ui0"
      },
      "outputs": [],
      "source": [
        "# This clones the supporting git repository into a directory named 'temp_repo'.\n",
        "!git clone https://github.com/redis-developer/financial-vss.git temp_repo\n",
        "\n",
        "# This command moves the 'resources' directory from 'temp_repo' to your current directory.\n",
        "!mv temp_repo/resources .\n",
        "!mv temp_repo/requirements.txt .\n",
        "\n",
        "# This deletes the 'temp_repo' directory, cleaning up the unwanted files.\n",
        "!rm -rf temp_repo"
      ]
    },
    {
      "cell_type": "markdown",
      "metadata": {
        "id": "Z67mf6T91ui2"
      },
      "source": [
        "### Install Python Dependencies"
      ]
    },
    {
      "cell_type": "code",
      "execution_count": 1,
      "metadata": {
        "id": "DgxBQFXQ1ui2"
      },
      "outputs": [
        {
          "name": "stdout",
          "output_type": "stream",
          "text": [
            "Requirement already satisfied: openai in ./.venv/lib/python3.11/site-packages (from -r requirements.txt (line 1)) (1.12.0)\n",
            "Requirement already satisfied: tiktoken in ./.venv/lib/python3.11/site-packages (from -r requirements.txt (line 2)) (0.6.0)\n",
            "Requirement already satisfied: langchain in ./.venv/lib/python3.11/site-packages (from -r requirements.txt (line 3)) (0.1.8)\n",
            "Requirement already satisfied: sentence-transformers in ./.venv/lib/python3.11/site-packages (from -r requirements.txt (line 5)) (2.3.1)\n",
            "Requirement already satisfied: pandas in ./.venv/lib/python3.11/site-packages (from -r requirements.txt (line 6)) (2.2.0)\n",
            "Requirement already satisfied: pdf2image in ./.venv/lib/python3.11/site-packages (from -r requirements.txt (line 7)) (1.17.0)\n",
            "Requirement already satisfied: redisvl>=0.1.0 in ./.venv/lib/python3.11/site-packages (from -r requirements.txt (line 8)) (0.1.1)\n",
            "Requirement already satisfied: unstructured[pdf] in ./.venv/lib/python3.11/site-packages (from -r requirements.txt (line 4)) (0.12.4)\n",
            "Requirement already satisfied: anyio<5,>=3.5.0 in ./.venv/lib/python3.11/site-packages (from openai->-r requirements.txt (line 1)) (4.3.0)\n",
            "Requirement already satisfied: distro<2,>=1.7.0 in ./.venv/lib/python3.11/site-packages (from openai->-r requirements.txt (line 1)) (1.9.0)\n",
            "Requirement already satisfied: httpx<1,>=0.23.0 in ./.venv/lib/python3.11/site-packages (from openai->-r requirements.txt (line 1)) (0.27.0)\n",
            "Requirement already satisfied: pydantic<3,>=1.9.0 in ./.venv/lib/python3.11/site-packages (from openai->-r requirements.txt (line 1)) (2.6.1)\n",
            "Requirement already satisfied: sniffio in ./.venv/lib/python3.11/site-packages (from openai->-r requirements.txt (line 1)) (1.3.0)\n",
            "Requirement already satisfied: tqdm>4 in ./.venv/lib/python3.11/site-packages (from openai->-r requirements.txt (line 1)) (4.66.2)\n",
            "Requirement already satisfied: typing-extensions<5,>=4.7 in ./.venv/lib/python3.11/site-packages (from openai->-r requirements.txt (line 1)) (4.9.0)\n",
            "Requirement already satisfied: regex>=2022.1.18 in ./.venv/lib/python3.11/site-packages (from tiktoken->-r requirements.txt (line 2)) (2023.12.25)\n",
            "Requirement already satisfied: requests>=2.26.0 in ./.venv/lib/python3.11/site-packages (from tiktoken->-r requirements.txt (line 2)) (2.31.0)\n",
            "Requirement already satisfied: PyYAML>=5.3 in ./.venv/lib/python3.11/site-packages (from langchain->-r requirements.txt (line 3)) (6.0.1)\n",
            "Requirement already satisfied: SQLAlchemy<3,>=1.4 in ./.venv/lib/python3.11/site-packages (from langchain->-r requirements.txt (line 3)) (2.0.27)\n",
            "Requirement already satisfied: aiohttp<4.0.0,>=3.8.3 in ./.venv/lib/python3.11/site-packages (from langchain->-r requirements.txt (line 3)) (3.9.3)\n",
            "Requirement already satisfied: dataclasses-json<0.7,>=0.5.7 in ./.venv/lib/python3.11/site-packages (from langchain->-r requirements.txt (line 3)) (0.6.4)\n",
            "Requirement already satisfied: jsonpatch<2.0,>=1.33 in ./.venv/lib/python3.11/site-packages (from langchain->-r requirements.txt (line 3)) (1.33)\n",
            "Requirement already satisfied: langchain-community<0.1,>=0.0.21 in ./.venv/lib/python3.11/site-packages (from langchain->-r requirements.txt (line 3)) (0.0.21)\n",
            "Requirement already satisfied: langchain-core<0.2,>=0.1.24 in ./.venv/lib/python3.11/site-packages (from langchain->-r requirements.txt (line 3)) (0.1.25)\n",
            "Requirement already satisfied: langsmith<0.2.0,>=0.1.0 in ./.venv/lib/python3.11/site-packages (from langchain->-r requirements.txt (line 3)) (0.1.5)\n",
            "Requirement already satisfied: numpy<2,>=1 in ./.venv/lib/python3.11/site-packages (from langchain->-r requirements.txt (line 3)) (1.26.4)\n",
            "Requirement already satisfied: tenacity<9.0.0,>=8.1.0 in ./.venv/lib/python3.11/site-packages (from langchain->-r requirements.txt (line 3)) (8.2.3)\n",
            "Requirement already satisfied: chardet in ./.venv/lib/python3.11/site-packages (from unstructured[pdf]->-r requirements.txt (line 4)) (5.2.0)\n",
            "Requirement already satisfied: filetype in ./.venv/lib/python3.11/site-packages (from unstructured[pdf]->-r requirements.txt (line 4)) (1.2.0)\n",
            "Requirement already satisfied: python-magic in ./.venv/lib/python3.11/site-packages (from unstructured[pdf]->-r requirements.txt (line 4)) (0.4.27)\n",
            "Requirement already satisfied: lxml in ./.venv/lib/python3.11/site-packages (from unstructured[pdf]->-r requirements.txt (line 4)) (5.1.0)\n",
            "Requirement already satisfied: nltk in ./.venv/lib/python3.11/site-packages (from unstructured[pdf]->-r requirements.txt (line 4)) (3.8.1)\n",
            "Requirement already satisfied: tabulate in ./.venv/lib/python3.11/site-packages (from unstructured[pdf]->-r requirements.txt (line 4)) (0.9.0)\n",
            "Requirement already satisfied: beautifulsoup4 in ./.venv/lib/python3.11/site-packages (from unstructured[pdf]->-r requirements.txt (line 4)) (4.12.3)\n",
            "Requirement already satisfied: emoji in ./.venv/lib/python3.11/site-packages (from unstructured[pdf]->-r requirements.txt (line 4)) (2.10.1)\n",
            "Requirement already satisfied: python-iso639 in ./.venv/lib/python3.11/site-packages (from unstructured[pdf]->-r requirements.txt (line 4)) (2024.2.7)\n",
            "Requirement already satisfied: langdetect in ./.venv/lib/python3.11/site-packages (from unstructured[pdf]->-r requirements.txt (line 4)) (1.0.9)\n",
            "Requirement already satisfied: rapidfuzz in ./.venv/lib/python3.11/site-packages (from unstructured[pdf]->-r requirements.txt (line 4)) (3.6.1)\n",
            "Requirement already satisfied: backoff in ./.venv/lib/python3.11/site-packages (from unstructured[pdf]->-r requirements.txt (line 4)) (2.2.1)\n",
            "Requirement already satisfied: unstructured-client>=0.15.1 in ./.venv/lib/python3.11/site-packages (from unstructured[pdf]->-r requirements.txt (line 4)) (0.18.0)\n",
            "Requirement already satisfied: wrapt in ./.venv/lib/python3.11/site-packages (from unstructured[pdf]->-r requirements.txt (line 4)) (1.16.0)\n",
            "Requirement already satisfied: onnx in ./.venv/lib/python3.11/site-packages (from unstructured[pdf]->-r requirements.txt (line 4)) (1.15.0)\n",
            "Requirement already satisfied: pdfminer.six in ./.venv/lib/python3.11/site-packages (from unstructured[pdf]->-r requirements.txt (line 4)) (20221105)\n",
            "Requirement already satisfied: pikepdf in ./.venv/lib/python3.11/site-packages (from unstructured[pdf]->-r requirements.txt (line 4)) (8.13.0)\n",
            "Requirement already satisfied: pillow-heif in ./.venv/lib/python3.11/site-packages (from unstructured[pdf]->-r requirements.txt (line 4)) (0.15.0)\n",
            "Requirement already satisfied: pypdf in ./.venv/lib/python3.11/site-packages (from unstructured[pdf]->-r requirements.txt (line 4)) (4.0.2)\n",
            "Requirement already satisfied: unstructured-inference==0.7.23 in ./.venv/lib/python3.11/site-packages (from unstructured[pdf]->-r requirements.txt (line 4)) (0.7.23)\n",
            "Requirement already satisfied: unstructured.pytesseract>=0.3.12 in ./.venv/lib/python3.11/site-packages (from unstructured[pdf]->-r requirements.txt (line 4)) (0.3.12)\n",
            "Requirement already satisfied: layoutparser[layoutmodels,tesseract] in ./.venv/lib/python3.11/site-packages (from unstructured-inference==0.7.23->unstructured[pdf]->-r requirements.txt (line 4)) (0.3.4)\n",
            "Requirement already satisfied: python-multipart in ./.venv/lib/python3.11/site-packages (from unstructured-inference==0.7.23->unstructured[pdf]->-r requirements.txt (line 4)) (0.0.9)\n",
            "Requirement already satisfied: huggingface-hub in ./.venv/lib/python3.11/site-packages (from unstructured-inference==0.7.23->unstructured[pdf]->-r requirements.txt (line 4)) (0.20.3)\n",
            "Requirement already satisfied: opencv-python!=4.7.0.68 in ./.venv/lib/python3.11/site-packages (from unstructured-inference==0.7.23->unstructured[pdf]->-r requirements.txt (line 4)) (4.9.0.80)\n",
            "Requirement already satisfied: onnxruntime<1.16 in ./.venv/lib/python3.11/site-packages (from unstructured-inference==0.7.23->unstructured[pdf]->-r requirements.txt (line 4)) (1.15.1)\n",
            "Requirement already satisfied: transformers>=4.25.1 in ./.venv/lib/python3.11/site-packages (from unstructured-inference==0.7.23->unstructured[pdf]->-r requirements.txt (line 4)) (4.38.1)\n",
            "Requirement already satisfied: torch>=1.11.0 in ./.venv/lib/python3.11/site-packages (from sentence-transformers->-r requirements.txt (line 5)) (2.2.0)\n",
            "Requirement already satisfied: scikit-learn in ./.venv/lib/python3.11/site-packages (from sentence-transformers->-r requirements.txt (line 5)) (1.4.1.post1)\n",
            "Requirement already satisfied: scipy in ./.venv/lib/python3.11/site-packages (from sentence-transformers->-r requirements.txt (line 5)) (1.12.0)\n",
            "Requirement already satisfied: sentencepiece in ./.venv/lib/python3.11/site-packages (from sentence-transformers->-r requirements.txt (line 5)) (0.2.0)\n",
            "Requirement already satisfied: Pillow in ./.venv/lib/python3.11/site-packages (from sentence-transformers->-r requirements.txt (line 5)) (10.2.0)\n",
            "Requirement already satisfied: python-dateutil>=2.8.2 in ./.venv/lib/python3.11/site-packages (from pandas->-r requirements.txt (line 6)) (2.8.2)\n",
            "Requirement already satisfied: pytz>=2020.1 in ./.venv/lib/python3.11/site-packages (from pandas->-r requirements.txt (line 6)) (2024.1)\n",
            "Requirement already satisfied: tzdata>=2022.7 in ./.venv/lib/python3.11/site-packages (from pandas->-r requirements.txt (line 6)) (2024.1)\n",
            "Requirement already satisfied: coloredlogs in ./.venv/lib/python3.11/site-packages (from redisvl>=0.1.0->-r requirements.txt (line 8)) (15.0.1)\n",
            "Requirement already satisfied: redis>=5.0.0 in ./.venv/lib/python3.11/site-packages (from redisvl>=0.1.0->-r requirements.txt (line 8)) (5.0.1)\n",
            "Requirement already satisfied: aiosignal>=1.1.2 in ./.venv/lib/python3.11/site-packages (from aiohttp<4.0.0,>=3.8.3->langchain->-r requirements.txt (line 3)) (1.3.1)\n",
            "Requirement already satisfied: attrs>=17.3.0 in ./.venv/lib/python3.11/site-packages (from aiohttp<4.0.0,>=3.8.3->langchain->-r requirements.txt (line 3)) (23.2.0)\n",
            "Requirement already satisfied: frozenlist>=1.1.1 in ./.venv/lib/python3.11/site-packages (from aiohttp<4.0.0,>=3.8.3->langchain->-r requirements.txt (line 3)) (1.4.1)\n",
            "Requirement already satisfied: multidict<7.0,>=4.5 in ./.venv/lib/python3.11/site-packages (from aiohttp<4.0.0,>=3.8.3->langchain->-r requirements.txt (line 3)) (6.0.5)\n",
            "Requirement already satisfied: yarl<2.0,>=1.0 in ./.venv/lib/python3.11/site-packages (from aiohttp<4.0.0,>=3.8.3->langchain->-r requirements.txt (line 3)) (1.9.4)\n",
            "Requirement already satisfied: idna>=2.8 in ./.venv/lib/python3.11/site-packages (from anyio<5,>=3.5.0->openai->-r requirements.txt (line 1)) (3.6)\n",
            "Requirement already satisfied: marshmallow<4.0.0,>=3.18.0 in ./.venv/lib/python3.11/site-packages (from dataclasses-json<0.7,>=0.5.7->langchain->-r requirements.txt (line 3)) (3.20.2)\n",
            "Requirement already satisfied: typing-inspect<1,>=0.4.0 in ./.venv/lib/python3.11/site-packages (from dataclasses-json<0.7,>=0.5.7->langchain->-r requirements.txt (line 3)) (0.9.0)\n",
            "Requirement already satisfied: certifi in ./.venv/lib/python3.11/site-packages (from httpx<1,>=0.23.0->openai->-r requirements.txt (line 1)) (2024.2.2)\n",
            "Requirement already satisfied: httpcore==1.* in ./.venv/lib/python3.11/site-packages (from httpx<1,>=0.23.0->openai->-r requirements.txt (line 1)) (1.0.4)\n",
            "Requirement already satisfied: h11<0.15,>=0.13 in ./.venv/lib/python3.11/site-packages (from httpcore==1.*->httpx<1,>=0.23.0->openai->-r requirements.txt (line 1)) (0.14.0)\n",
            "Requirement already satisfied: filelock in ./.venv/lib/python3.11/site-packages (from huggingface-hub->unstructured-inference==0.7.23->unstructured[pdf]->-r requirements.txt (line 4)) (3.13.1)\n",
            "Requirement already satisfied: fsspec>=2023.5.0 in ./.venv/lib/python3.11/site-packages (from huggingface-hub->unstructured-inference==0.7.23->unstructured[pdf]->-r requirements.txt (line 4)) (2024.2.0)\n",
            "Requirement already satisfied: packaging>=20.9 in ./.venv/lib/python3.11/site-packages (from huggingface-hub->unstructured-inference==0.7.23->unstructured[pdf]->-r requirements.txt (line 4)) (23.2)\n",
            "Requirement already satisfied: jsonpointer>=1.9 in ./.venv/lib/python3.11/site-packages (from jsonpatch<2.0,>=1.33->langchain->-r requirements.txt (line 3)) (2.4)\n",
            "Requirement already satisfied: annotated-types>=0.4.0 in ./.venv/lib/python3.11/site-packages (from pydantic<3,>=1.9.0->openai->-r requirements.txt (line 1)) (0.6.0)\n",
            "Requirement already satisfied: pydantic-core==2.16.2 in ./.venv/lib/python3.11/site-packages (from pydantic<3,>=1.9.0->openai->-r requirements.txt (line 1)) (2.16.2)\n",
            "Requirement already satisfied: six>=1.5 in ./.venv/lib/python3.11/site-packages (from python-dateutil>=2.8.2->pandas->-r requirements.txt (line 6)) (1.16.0)\n",
            "Requirement already satisfied: charset-normalizer<4,>=2 in ./.venv/lib/python3.11/site-packages (from requests>=2.26.0->tiktoken->-r requirements.txt (line 2)) (3.3.2)\n",
            "Requirement already satisfied: urllib3<3,>=1.21.1 in ./.venv/lib/python3.11/site-packages (from requests>=2.26.0->tiktoken->-r requirements.txt (line 2)) (2.2.1)\n",
            "Requirement already satisfied: sympy in ./.venv/lib/python3.11/site-packages (from torch>=1.11.0->sentence-transformers->-r requirements.txt (line 5)) (1.12)\n",
            "Requirement already satisfied: networkx in ./.venv/lib/python3.11/site-packages (from torch>=1.11.0->sentence-transformers->-r requirements.txt (line 5)) (3.2.1)\n",
            "Requirement already satisfied: jinja2 in ./.venv/lib/python3.11/site-packages (from torch>=1.11.0->sentence-transformers->-r requirements.txt (line 5)) (3.1.3)\n",
            "Requirement already satisfied: tokenizers<0.19,>=0.14 in ./.venv/lib/python3.11/site-packages (from transformers>=4.25.1->unstructured-inference==0.7.23->unstructured[pdf]->-r requirements.txt (line 4)) (0.15.2)\n",
            "Requirement already satisfied: safetensors>=0.4.1 in ./.venv/lib/python3.11/site-packages (from transformers>=4.25.1->unstructured-inference==0.7.23->unstructured[pdf]->-r requirements.txt (line 4)) (0.4.2)\n",
            "Requirement already satisfied: dataclasses-json-speakeasy>=0.5.11 in ./.venv/lib/python3.11/site-packages (from unstructured-client>=0.15.1->unstructured[pdf]->-r requirements.txt (line 4)) (0.5.11)\n",
            "Requirement already satisfied: jsonpath-python>=1.0.6 in ./.venv/lib/python3.11/site-packages (from unstructured-client>=0.15.1->unstructured[pdf]->-r requirements.txt (line 4)) (1.0.6)\n",
            "Requirement already satisfied: mypy-extensions>=1.0.0 in ./.venv/lib/python3.11/site-packages (from unstructured-client>=0.15.1->unstructured[pdf]->-r requirements.txt (line 4)) (1.0.0)\n",
            "Requirement already satisfied: soupsieve>1.2 in ./.venv/lib/python3.11/site-packages (from beautifulsoup4->unstructured[pdf]->-r requirements.txt (line 4)) (2.5)\n",
            "Requirement already satisfied: humanfriendly>=9.1 in ./.venv/lib/python3.11/site-packages (from coloredlogs->redisvl>=0.1.0->-r requirements.txt (line 8)) (10.0)\n",
            "Requirement already satisfied: click in ./.venv/lib/python3.11/site-packages (from nltk->unstructured[pdf]->-r requirements.txt (line 4)) (8.1.7)\n",
            "Requirement already satisfied: joblib in ./.venv/lib/python3.11/site-packages (from nltk->unstructured[pdf]->-r requirements.txt (line 4)) (1.3.2)\n",
            "Requirement already satisfied: protobuf>=3.20.2 in ./.venv/lib/python3.11/site-packages (from onnx->unstructured[pdf]->-r requirements.txt (line 4)) (4.25.3)\n",
            "Requirement already satisfied: cryptography>=36.0.0 in ./.venv/lib/python3.11/site-packages (from pdfminer.six->unstructured[pdf]->-r requirements.txt (line 4)) (42.0.4)\n",
            "Requirement already satisfied: Deprecated in ./.venv/lib/python3.11/site-packages (from pikepdf->unstructured[pdf]->-r requirements.txt (line 4)) (1.2.14)\n",
            "Requirement already satisfied: threadpoolctl>=2.0.0 in ./.venv/lib/python3.11/site-packages (from scikit-learn->sentence-transformers->-r requirements.txt (line 5)) (3.3.0)\n",
            "Requirement already satisfied: cffi>=1.12 in ./.venv/lib/python3.11/site-packages (from cryptography>=36.0.0->pdfminer.six->unstructured[pdf]->-r requirements.txt (line 4)) (1.16.0)\n",
            "Requirement already satisfied: flatbuffers in ./.venv/lib/python3.11/site-packages (from onnxruntime<1.16->unstructured-inference==0.7.23->unstructured[pdf]->-r requirements.txt (line 4)) (23.5.26)\n",
            "Requirement already satisfied: MarkupSafe>=2.0 in ./.venv/lib/python3.11/site-packages (from jinja2->torch>=1.11.0->sentence-transformers->-r requirements.txt (line 5)) (2.1.5)\n",
            "Requirement already satisfied: iopath in ./.venv/lib/python3.11/site-packages (from layoutparser[layoutmodels,tesseract]->unstructured-inference==0.7.23->unstructured[pdf]->-r requirements.txt (line 4)) (0.1.10)\n",
            "Requirement already satisfied: pdfplumber in ./.venv/lib/python3.11/site-packages (from layoutparser[layoutmodels,tesseract]->unstructured-inference==0.7.23->unstructured[pdf]->-r requirements.txt (line 4)) (0.10.4)\n",
            "Requirement already satisfied: torchvision in ./.venv/lib/python3.11/site-packages (from layoutparser[layoutmodels,tesseract]->unstructured-inference==0.7.23->unstructured[pdf]->-r requirements.txt (line 4)) (0.17.0)\n",
            "Requirement already satisfied: effdet in ./.venv/lib/python3.11/site-packages (from layoutparser[layoutmodels,tesseract]->unstructured-inference==0.7.23->unstructured[pdf]->-r requirements.txt (line 4)) (0.4.1)\n",
            "Requirement already satisfied: pytesseract in ./.venv/lib/python3.11/site-packages (from layoutparser[layoutmodels,tesseract]->unstructured-inference==0.7.23->unstructured[pdf]->-r requirements.txt (line 4)) (0.3.10)\n",
            "Requirement already satisfied: mpmath>=0.19 in ./.venv/lib/python3.11/site-packages (from sympy->torch>=1.11.0->sentence-transformers->-r requirements.txt (line 5)) (1.3.0)\n",
            "Requirement already satisfied: pycparser in ./.venv/lib/python3.11/site-packages (from cffi>=1.12->cryptography>=36.0.0->pdfminer.six->unstructured[pdf]->-r requirements.txt (line 4)) (2.21)\n",
            "Requirement already satisfied: timm>=0.9.2 in ./.venv/lib/python3.11/site-packages (from effdet->layoutparser[layoutmodels,tesseract]->unstructured-inference==0.7.23->unstructured[pdf]->-r requirements.txt (line 4)) (0.9.16)\n",
            "Requirement already satisfied: pycocotools>=2.0.2 in ./.venv/lib/python3.11/site-packages (from effdet->layoutparser[layoutmodels,tesseract]->unstructured-inference==0.7.23->unstructured[pdf]->-r requirements.txt (line 4)) (2.0.7)\n",
            "Requirement already satisfied: omegaconf>=2.0 in ./.venv/lib/python3.11/site-packages (from effdet->layoutparser[layoutmodels,tesseract]->unstructured-inference==0.7.23->unstructured[pdf]->-r requirements.txt (line 4)) (2.3.0)\n",
            "Requirement already satisfied: portalocker in ./.venv/lib/python3.11/site-packages (from iopath->layoutparser[layoutmodels,tesseract]->unstructured-inference==0.7.23->unstructured[pdf]->-r requirements.txt (line 4)) (2.8.2)\n",
            "Requirement already satisfied: pypdfium2>=4.18.0 in ./.venv/lib/python3.11/site-packages (from pdfplumber->layoutparser[layoutmodels,tesseract]->unstructured-inference==0.7.23->unstructured[pdf]->-r requirements.txt (line 4)) (4.27.0)\n",
            "Requirement already satisfied: antlr4-python3-runtime==4.9.* in ./.venv/lib/python3.11/site-packages (from omegaconf>=2.0->effdet->layoutparser[layoutmodels,tesseract]->unstructured-inference==0.7.23->unstructured[pdf]->-r requirements.txt (line 4)) (4.9.3)\n",
            "Requirement already satisfied: matplotlib>=2.1.0 in ./.venv/lib/python3.11/site-packages (from pycocotools>=2.0.2->effdet->layoutparser[layoutmodels,tesseract]->unstructured-inference==0.7.23->unstructured[pdf]->-r requirements.txt (line 4)) (3.8.3)\n",
            "Requirement already satisfied: contourpy>=1.0.1 in ./.venv/lib/python3.11/site-packages (from matplotlib>=2.1.0->pycocotools>=2.0.2->effdet->layoutparser[layoutmodels,tesseract]->unstructured-inference==0.7.23->unstructured[pdf]->-r requirements.txt (line 4)) (1.2.0)\n",
            "Requirement already satisfied: cycler>=0.10 in ./.venv/lib/python3.11/site-packages (from matplotlib>=2.1.0->pycocotools>=2.0.2->effdet->layoutparser[layoutmodels,tesseract]->unstructured-inference==0.7.23->unstructured[pdf]->-r requirements.txt (line 4)) (0.12.1)\n",
            "Requirement already satisfied: fonttools>=4.22.0 in ./.venv/lib/python3.11/site-packages (from matplotlib>=2.1.0->pycocotools>=2.0.2->effdet->layoutparser[layoutmodels,tesseract]->unstructured-inference==0.7.23->unstructured[pdf]->-r requirements.txt (line 4)) (4.49.0)\n",
            "Requirement already satisfied: kiwisolver>=1.3.1 in ./.venv/lib/python3.11/site-packages (from matplotlib>=2.1.0->pycocotools>=2.0.2->effdet->layoutparser[layoutmodels,tesseract]->unstructured-inference==0.7.23->unstructured[pdf]->-r requirements.txt (line 4)) (1.4.5)\n",
            "Requirement already satisfied: pyparsing>=2.3.1 in ./.venv/lib/python3.11/site-packages (from matplotlib>=2.1.0->pycocotools>=2.0.2->effdet->layoutparser[layoutmodels,tesseract]->unstructured-inference==0.7.23->unstructured[pdf]->-r requirements.txt (line 4)) (3.1.1)\n"
          ]
        }
      ],
      "source": [
        "!pip install -r requirements.txt"
      ]
    },
    {
      "cell_type": "code",
      "execution_count": 2,
      "metadata": {
        "id": "oTeBg4AvjdYs"
      },
      "outputs": [],
      "source": [
        "import warnings\n",
        "\n",
        "warnings.filterwarnings(\"ignore\")"
      ]
    },
    {
      "cell_type": "markdown",
      "metadata": {},
      "source": [
        "### Install Redis Stack\n",
        "\n",
        "Later in this tutorial, Redis will be used to store, index, and query vector\n",
        "embeddings created from PDF document chunks. **We need to make sure we have a Redis\n",
        "instance available.**"
      ]
    },
    {
      "cell_type": "markdown",
      "metadata": {},
      "source": [
        "#### Method 1: localized Redis Stack\n",
        "Use the shell script below to download, extract, and install [Redis Stack](https://redis.io/docs/getting-started/install-stack/) directly\n",
        "from the Redis package archive."
      ]
    },
    {
      "cell_type": "code",
      "execution_count": null,
      "metadata": {},
      "outputs": [
        {
          "name": "stdout",
          "output_type": "stream",
          "text": [
            "deb [signed-by=/usr/share/keyrings/redis-archive-keyring.gpg] https://packages.redis.io/deb jammy main\n",
            "Starting redis-stack-server, database path /var/lib/redis-stack\n"
          ]
        }
      ],
      "source": [
        "%%sh\n",
        "curl -fsSL https://packages.redis.io/gpg | sudo gpg --dearmor -o /usr/share/keyrings/redis-archive-keyring.gpg\n",
        "echo \"deb [signed-by=/usr/share/keyrings/redis-archive-keyring.gpg] https://packages.redis.io/deb $(lsb_release -cs) main\" | sudo tee /etc/apt/sources.list.d/redis.list\n",
        "sudo apt-get update  > /dev/null 2>&1\n",
        "sudo apt-get install redis-stack-server  > /dev/null 2>&1\n",
        "redis-stack-server --daemonize yes"
      ]
    },
    {
      "cell_type": "markdown",
      "metadata": {},
      "source": [
        "#### Method 2: Redis Cloud\n",
        "Instead of using the in-notebook, localized Redis Stack, you can quickly deploy a\n",
        "[FREE instance of Redis in the cloud](https://redis.com/try-free/). Or, if you have your\n",
        "own version of Redis Enterprise running, that works too!"
      ]
    },
    {
      "cell_type": "markdown",
      "metadata": {},
      "source": [
        "### Define the Redis Connection URL\n",
        "\n",
        "By default this notebook connects to the local instance of Redis Stack. **If you have your own Redis Enterprise instance** - replace REDIS_PASSWORD, REDIS_HOST and REDIS_PORT values with your own."
      ]
    },
    {
      "cell_type": "code",
      "execution_count": 55,
      "metadata": {},
      "outputs": [],
      "source": [
        "import os\n",
        "\n",
        "# Replace values below with your own if using Redis Cloud instance\n",
        "REDIS_HOST = os.getenv(\"REDIS_HOST\", \"localhost\")\n",
        "REDIS_PORT = os.getenv(\"REDIS_PORT\", \"6379\")\n",
        "REDIS_PASSWORD = os.getenv(\"REDIS_PASSWORD\", \"\")\n",
        "#REDIS_HOST=\"redis-18374.c253.us-central1-1.gce.cloud.redislabs.com\"\n",
        "#REDIS_PORT=18374\n",
        "#REDIS_PASSWORD=\"1TNxTEdYRDgIDKM2gDfasupCADXXXX\"\n",
        "\n",
        "# If SSL is enabled on the endpoint, use rediss:// as the URL prefix\n",
        "REDIS_URL = f\"redis://:{REDIS_PASSWORD}@{REDIS_HOST}:{REDIS_PORT}\""
      ]
    },
    {
      "cell_type": "markdown",
      "metadata": {},
      "source": [
        "## Simplified Vector Search with RedisVL"
      ]
    },
    {
      "cell_type": "markdown",
      "metadata": {
        "id": "KrtWWU4I1ui3"
      },
      "source": [
        "### Dataset Preparation (PDF Documents)\n",
        "\n",
        "To best demonstrate Redis as a vector database layer, we will load a single\n",
        "financial (10k filings) doc and preprocess it using some helpers from LangChain:\n",
        "\n",
        "- `UnstructuredFileLoader` is not the only document loader type that LangChain provides. Docs: https://python.langchain.com/docs/integrations/document_loaders/unstructured_file\n",
        "- `RecursiveCharacterTextSplitter` is what we use to create smaller chunks of text from the doc. Docs: https://python.langchain.com/docs/modules/data_connection/document_transformers/text_splitters/recursive_text_splitter"
      ]
    },
    {
      "cell_type": "code",
      "execution_count": 4,
      "metadata": {
        "id": "uijl2qFH1ui3"
      },
      "outputs": [
        {
          "name": "stdout",
          "output_type": "stream",
          "text": [
            "Listing available documents ... ['resources/nke-10k-2023.pdf', 'resources/amzn-10k-2023.pdf', 'resources/jnj-10k-2023.pdf', 'resources/aapl-10k-2023.pdf', 'resources/nvd-10k-2023.pdf', 'resources/msft-10k-2023.pdf']\n"
          ]
        }
      ],
      "source": [
        "from langchain.text_splitter import RecursiveCharacterTextSplitter\n",
        "from langchain.document_loaders import UnstructuredFileLoader\n",
        "\n",
        "# Load list of pdfs from a folder\n",
        "data_path = \"resources/\"\n",
        "docs = [os.path.join(data_path, file) for file in os.listdir(data_path)]\n",
        "\n",
        "print(\"Listing available documents ...\", docs)"
      ]
    },
    {
      "cell_type": "code",
      "execution_count": 5,
      "metadata": {
        "id": "anya8hVnT6K_"
      },
      "outputs": [
        {
          "name": "stdout",
          "output_type": "stream",
          "text": [
            "Done preprocessing. Created 179 chunks of the original pdf resources/nke-10k-2023.pdf\n"
          ]
        }
      ],
      "source": [
        "# pick out the Nike doc for this exercise\n",
        "doc = [doc for doc in docs if \"nke\" in doc][0]\n",
        "\n",
        "# set up the file loader/extractor and text splitter to create chunks\n",
        "text_splitter = RecursiveCharacterTextSplitter(\n",
        "    chunk_size=2500, chunk_overlap=0\n",
        ")\n",
        "loader = UnstructuredFileLoader(\n",
        "    doc, mode=\"single\", strategy=\"fast\"\n",
        ")\n",
        "\n",
        "# extract, load, and make chunks\n",
        "chunks = loader.load_and_split(text_splitter)\n",
        "\n",
        "print(\"Done preprocessing. Created\", len(chunks), \"chunks of the original pdf\", doc)"
      ]
    },
    {
      "cell_type": "markdown",
      "metadata": {},
      "source": [
        "### Text embedding generation with RedisVL\n",
        "RedisVL has built-in extensions and utilities to aid the GenAI development process."
      ]
    },
    {
      "cell_type": "code",
      "execution_count": 6,
      "metadata": {},
      "outputs": [
        {
          "data": {
            "text/plain": [
              "True"
            ]
          },
          "execution_count": 6,
          "metadata": {},
          "output_type": "execute_result"
        }
      ],
      "source": [
        "from redisvl.utils.vectorize import HFTextVectorizer\n",
        "\n",
        "hf = HFTextVectorizer(\"sentence-transformers/all-MiniLM-L6-v2\")\n",
        "os.environ[\"TOKENIZERS_PARALLELISM\"] = \"false\"\n",
        "\n",
        "# Embed each chunk content\n",
        "embeddings = hf.embed_many([chunk.page_content for chunk in chunks])\n",
        "\n",
        "# Check to make sure we've created enough embeddings, 1 per document chunk\n",
        "len(embeddings) == len(chunks)"
      ]
    },
    {
      "cell_type": "markdown",
      "metadata": {
        "id": "5baI0xDQ1ui-"
      },
      "source": [
        "### Define a schema and create an index\n",
        "\n",
        "Below we connect to Redis and create an index that contains a text field, tag field, and vector field."
      ]
    },
    {
      "cell_type": "code",
      "execution_count": 56,
      "metadata": {
        "id": "zB1EW_9n1ui-"
      },
      "outputs": [],
      "source": [
        "from redis import Redis\n",
        "from redisvl.schema import IndexSchema\n",
        "from redisvl.index import SearchIndex\n",
        "\n",
        "\n",
        "index_name = \"redisvl\"\n",
        "\n",
        "\n",
        "schema = IndexSchema.from_dict({\n",
        "  \"index\": {\n",
        "    \"name\": index_name,\n",
        "    \"prefix\": \"chunk\"\n",
        "  },\n",
        "  \"fields\": [\n",
        "    {\n",
        "        \"name\": \"doc_id\",\n",
        "        \"type\": \"tag\",\n",
        "        \"attrs\": {\n",
        "            \"sortable\": True\n",
        "        }\n",
        "    },\n",
        "    {\n",
        "        \"name\": \"content\",\n",
        "        \"type\": \"text\"\n",
        "    },\n",
        "    {\n",
        "        \"name\": \"text_embedding\",\n",
        "        \"type\": \"vector\",\n",
        "        \"attrs\": {\n",
        "            \"dims\": hf.dims,\n",
        "            \"distance_metric\": \"cosine\",\n",
        "            \"algorithm\": \"hnsw\",\n",
        "            \"datatype\": \"float32\"\n",
        "        }\n",
        "    }\n",
        "  ]\n",
        "})"
      ]
    },
    {
      "cell_type": "code",
      "execution_count": 57,
      "metadata": {},
      "outputs": [],
      "source": [
        "# connect to redis\n",
        "client = Redis.from_url(REDIS_URL)\n",
        "\n",
        "# create an index from schema and the client\n",
        "index = SearchIndex(schema, client)\n",
        "index.create(overwrite=True, drop=True)"
      ]
    },
    {
      "cell_type": "code",
      "execution_count": 58,
      "metadata": {
        "id": "L6GOqmeN1ui_"
      },
      "outputs": [
        {
          "name": "stderr",
          "output_type": "stream",
          "text": [
            "huggingface/tokenizers: The current process just got forked, after parallelism has already been used. Disabling parallelism to avoid deadlocks...\n",
            "To disable this warning, you can either:\n",
            "\t- Avoid using `tokenizers` before the fork if possible\n",
            "\t- Explicitly set the environment variable TOKENIZERS_PARALLELISM=(true | false)\n"
          ]
        },
        {
          "name": "stdout",
          "output_type": "stream",
          "text": [
            "\u001b[32m10:23:36\u001b[0m \u001b[34m[RedisVL]\u001b[0m \u001b[1;30mINFO\u001b[0m   Indices:\n",
            "\u001b[32m10:23:36\u001b[0m \u001b[34m[RedisVL]\u001b[0m \u001b[1;30mINFO\u001b[0m   1. redisvl\n"
          ]
        }
      ],
      "source": [
        "# use the RedisVL CLI tool to list all indices\n",
        "!rvl index listall"
      ]
    },
    {
      "cell_type": "code",
      "execution_count": 10,
      "metadata": {
        "id": "C70C-UWj1ujA"
      },
      "outputs": [
        {
          "name": "stderr",
          "output_type": "stream",
          "text": [
            "huggingface/tokenizers: The current process just got forked, after parallelism has already been used. Disabling parallelism to avoid deadlocks...\n",
            "To disable this warning, you can either:\n",
            "\t- Avoid using `tokenizers` before the fork if possible\n",
            "\t- Explicitly set the environment variable TOKENIZERS_PARALLELISM=(true | false)\n"
          ]
        },
        {
          "name": "stdout",
          "output_type": "stream",
          "text": [
            "\n",
            "\n",
            "Index Information:\n",
            "╭──────────────┬────────────────┬────────────┬─────────────────┬────────────╮\n",
            "│ Index Name   │ Storage Type   │ Prefixes   │ Index Options   │   Indexing │\n",
            "├──────────────┼────────────────┼────────────┼─────────────────┼────────────┤\n",
            "│ redisvl      │ HASH           │ ['chunk']  │ []              │          0 │\n",
            "╰──────────────┴────────────────┴────────────┴─────────────────┴────────────╯\n",
            "Index Fields:\n",
            "╭────────────────┬────────────────┬────────┬────────────────┬────────────────╮\n",
            "│ Name           │ Attribute      │ Type   │ Field Option   │ Option Value   │\n",
            "├────────────────┼────────────────┼────────┼────────────────┼────────────────┤\n",
            "│ doc_id         │ doc_id         │ TAG    │ SEPARATOR      │ ,              │\n",
            "│ content        │ content        │ TEXT   │ WEIGHT         │ 1              │\n",
            "│ text_embedding │ text_embedding │ VECTOR │                │                │\n",
            "╰────────────────┴────────────────┴────────┴────────────────┴────────────────╯\n"
          ]
        }
      ],
      "source": [
        "# get info about the index\n",
        "!rvl index info -i redisvl"
      ]
    },
    {
      "cell_type": "markdown",
      "metadata": {
        "id": "Qrj-jeGmBRTL"
      },
      "source": [
        "### Process and load dataset\n",
        "Below we use the RedisVL index to simply load the list of document chunks to Redis db."
      ]
    },
    {
      "cell_type": "code",
      "execution_count": 59,
      "metadata": {
        "id": "Zsg09Keg1ujA"
      },
      "outputs": [],
      "source": [
        "# load expects an iterable of dictionaries\n",
        "from redisvl.redis.utils import array_to_buffer\n",
        "\n",
        "data = [\n",
        "    {\n",
        "        'doc_id': f'{i}',\n",
        "        'content': chunk.page_content,\n",
        "        # For HASH -- must convert embeddings to bytes\n",
        "        'text_embedding': array_to_buffer(embeddings[i])\n",
        "    } for i, chunk in enumerate(chunks)\n",
        "]\n",
        "\n",
        "# RedisVL handles batching automatically\n",
        "keys = index.load(data, id_field=\"doc_id\")"
      ]
    },
    {
      "cell_type": "markdown",
      "metadata": {
        "id": "-ZsFB-6Z1ujB"
      },
      "source": [
        "### Query the database\n",
        "Now we can use the RedisVL index to perform similarity search operations with Redis"
      ]
    },
    {
      "cell_type": "code",
      "execution_count": 12,
      "metadata": {
        "id": "BkFv-_iC1ujB"
      },
      "outputs": [
        {
          "data": {
            "text/plain": [
              "'*=>[KNN 3 @text_embedding $vector AS vector_distance] RETURN 3 doc_id content vector_distance SORTBY vector_distance ASC DIALECT 2 LIMIT 0 3'"
            ]
          },
          "execution_count": 12,
          "metadata": {},
          "output_type": "execute_result"
        }
      ],
      "source": [
        "from redisvl.query import VectorQuery\n",
        "\n",
        "query = \"Nike profit margins and company performance\"\n",
        "\n",
        "query_embedding = hf.embed(query)\n",
        "\n",
        "vector_query = VectorQuery(\n",
        "    vector=query_embedding,\n",
        "    vector_field_name=\"text_embedding\",\n",
        "    num_results=3,\n",
        "    return_fields=[\"doc_id\", \"content\"],\n",
        "    return_score=True\n",
        ")\n",
        "\n",
        "# show the raw redis query\n",
        "str(vector_query)"
      ]
    },
    {
      "cell_type": "code",
      "execution_count": 13,
      "metadata": {
        "id": "5reL5qTW1ujC"
      },
      "outputs": [
        {
          "data": {
            "text/plain": [
              "[{'id': 'chunk:84',\n",
              "  'vector_distance': '0.321347296238',\n",
              "  'doc_id': '84',\n",
              "  'content': 'TOTAL NIKE BRAND Converse\\n\\n$\\n\\n1,932 (4,841)\\n\\n8,359 676\\n\\n$\\n\\n1,896 (4,262)\\n\\n8,406 669\\n\\n2 % -14 %\\n\\n1 % $ 1 %\\n\\n1,530 (3,656)\\n\\n8,641 543\\n\\nCorporate TOTAL NIKE, INC. EARNINGS BEFORE INTEREST AND TAXES\\n\\n(1)\\n\\n$\\n\\n(2,840)\\n\\n6,195\\n\\n$\\n\\n(2,219)\\n\\n6,856\\n\\n28 %\\n\\n10 % $\\n\\n(2,261)\\n\\n6,923\\n\\nEBIT margin\\n\\n(1)\\n\\n12.1 %\\n\\n14.7 %\\n\\n15.5 %\\n\\nInterest expense (income), net\\n\\n(6)\\n\\n205\\n\\n—\\n\\n262\\n\\nTOTAL NIKE, INC. INCOME BEFORE INCOME TAXES\\n\\n$\\n\\n6,201\\n\\n$\\n\\n6,651\\n\\n7 % $\\n\\n6,661\\n\\n(1) Total NIKE Brand EBIT, Total NIKE, Inc. EBIT and EBIT Margin represent non-GAAP financial measures. See \"Use of Non-GAAP Financial Measures\" for further information.\\n\\n2023 FORM 10-K 36\\n\\n% CHANGE EXCLUDING CURRENCY (1) CHANGES\\n\\n7 % 12 % -13 %\\n\\n16 % 302 %\\n\\n6 % 7 %\\n\\n— 6 %\\n\\n% CHANGE\\n\\n0 % 35 % -27 %\\n\\n24 % -17 %\\n\\n3 % 23 % 2 %\\n\\n1 %\\n\\n—\\n\\n0 %\\n\\nTable of Contents\\n\\nNORTH AMERICA\\n\\n(Dollars in millions)\\n\\nFISCAL 2023 FISCAL 2022\\n\\n% CHANGE\\n\\n% CHANGE EXCLUDING CURRENCY\\n\\nCHANGES FISCAL 2021\\n\\n% CHANGE\\n\\n% CHANGE EXCLUDING CURRENCY CHANGES\\n\\nRevenues by: Footwear Apparel\\n\\n$\\n\\n14,897 $ 5,947\\n\\n12,228 5,492\\n\\n22 % 8 %\\n\\n22 % $ 9 %\\n\\n11,644 5,028\\n\\n5 % 9 %\\n\\n5 % 9 %\\n\\nEquipment\\n\\nTOTAL REVENUES\\n\\n$\\n\\n764 21,608 $\\n\\n633 18,353\\n\\n21 % 18 %\\n\\n21 % 18 % $\\n\\n507 17,179\\n\\n25 % 7 %\\n\\n25 % 7 %\\n\\nRevenues by:\\n\\nSales to Wholesale Customers\\n\\n$\\n\\n11,273 $\\n\\n9,621\\n\\n17 %\\n\\n18 % $\\n\\n10,186\\n\\n6 %\\n\\n6 %\\n\\nSales through NIKE Direct\\n\\nTOTAL REVENUES\\n\\n$\\n\\n10,335 21,608 $\\n\\n8,732 18,353\\n\\n18 % 18 %\\n\\n18 % 18 % $\\n\\n6,993 17,179\\n\\n25 % 7 %\\n\\n25 % 7 %\\n\\nEARNINGS BEFORE INTEREST AND TAXES\\n\\n$\\n\\n5,454 $\\n\\n5,114\\n\\n7 %\\n\\n$\\n\\n5,089\\n\\n0 %\\n\\nFISCAL 2023 COMPARED TO FISCAL 2022\\n\\nNorth America revenues increased 18% on a currency-neutral basis, primarily due to higher revenues in Men\\'s and the Jordan Brand. NIKE Direct revenues\\n\\nincreased 18%, driven by strong digital sales growth of 23%, comparable store sales growth of 9% and the addition of new stores.\\n\\nFootwear revenues increased 22% on a currency-neutral basis, primarily due to higher revenues in Men\\'s and the Jordan Brand. Unit sales of footwear increased\\n\\n17%, while higher ASP per pair contributed approximately 5 percentage points of footwear revenue growth. Higher ASP per pair was primarily due to higher full-price ASP and growth in NIKE Direct, partially offset by lower NIKE Direct ASP, reflecting higher promotional activity as well as lower available inventory supply in the prior period and a lower mix of full-price sales.'},\n",
              " {'id': 'chunk:83',\n",
              "  'vector_distance': '0.328034043312',\n",
              "  'doc_id': '83',\n",
              "  'content': 'As discussed in Note 15 — Operating Segments and Related Information in the accompanying Notes to the Consolidated Financial Statements, our operating segments are evidence of the structure of the Company\\'s internal organization. The NIKE Brand segments are defined by geographic regions for operations participating in NIKE Brand sales activity.\\n\\nThe breakdown of Revenues is as follows:\\n\\n(Dollars in millions)\\n\\nFISCAL 2023 FISCAL 2022\\n\\n% CHANGE\\n\\n% CHANGE EXCLUDING CURRENCY (1) CHANGES FISCAL 2021\\n\\n% CHANGE\\n\\nNorth America Europe, Middle East & Africa Greater China\\n\\n$\\n\\n21,608 $ 13,418 7,248\\n\\n18,353 12,479 7,547\\n\\n18 % 8 % -4 %\\n\\n18 % $ 21 % 4 %\\n\\n17,179 11,456 8,290\\n\\n7 % 9 % -9 %\\n\\nAsia Pacific & Latin America Global Brand Divisions\\n\\n(3)\\n\\n(2)\\n\\n6,431 58\\n\\n5,955 102\\n\\n8 % -43 %\\n\\n17 % -43 %\\n\\n5,343 25\\n\\n11 % 308 %\\n\\nTOTAL NIKE BRAND Converse\\n\\n$\\n\\n48,763 $ 2,427\\n\\n44,436 2,346\\n\\n10 % 3 %\\n\\n16 % $ 8 %\\n\\n42,293 2,205\\n\\n5 % 6 %\\n\\n(4)\\n\\nCorporate TOTAL NIKE, INC. REVENUES\\n\\n$\\n\\n27\\n\\n51,217 $\\n\\n(72) 46,710\\n\\n— 10 %\\n\\n— 16 % $\\n\\n40 44,538\\n\\n— 5 %\\n\\n(1) The percent change excluding currency changes represents a non-GAAP financial measure. For further information, see \"Use of Non-GAAP Financial Measures\".\\n\\n(2) For additional information on the transition of our NIKE Brand businesses within our CASA territory to a third-party distributor, see Note 18 — Acquisitions and Divestitures of the Notes to Consolidated\\n\\nFinancial Statements contained in Item 8 of this Annual Report.\\n\\n(3) Global Brand Divisions revenues include NIKE Brand licensing and other miscellaneous revenues that are not part of a geographic operating segment.\\n\\n(4) Corporate revenues primarily consist of foreign currency hedge gains and losses related to revenues generated by entities within the NIKE Brand geographic operating segments and Converse, but\\n\\nmanaged through our central foreign exchange risk management program.\\n\\nThe primary financial measure used by the Company to evaluate performance is Earnings Before Interest and Taxes (\"EBIT\"). As discussed in Note 15 — Operating Segments and Related Information in the accompanying Notes to the Consolidated Financial Statements, certain corporate costs are not included in EBIT.\\n\\nThe breakdown of EBIT is as follows:\\n\\n(Dollars in millions)\\n\\nFISCAL 2023\\n\\nFISCAL 2022\\n\\n% CHANGE\\n\\nFISCAL 2021\\n\\nNorth America Europe, Middle East & Africa Greater China\\n\\n$\\n\\n5,454 3,531 2,283\\n\\n$\\n\\n5,114 3,293 2,365\\n\\n7 % $ 7 % -3 %\\n\\n5,089 2,435 3,243\\n\\nAsia Pacific & Latin America Global Brand Divisions (1)'},\n",
              " {'id': 'chunk:117',\n",
              "  'vector_distance': '0.358749747276',\n",
              "  'doc_id': '117',\n",
              "  'content': \"NIKE, INC. CONSOLIDATED STATEMENTS OF INCOME\\n\\n(In millions, except per share data)\\n\\nRevenues Cost of sales\\n\\nGross profit\\n\\nDemand creation expense Operating overhead expense\\n\\nTotal selling and administrative expense\\n\\nInterest expense (income), net\\n\\nOther (income) expense, net Income before income taxes\\n\\nIncome tax expense NET INCOME\\n\\nEarnings per common share:\\n\\nBasic Diluted\\n\\nWeighted average common shares outstanding:\\n\\nBasic Diluted\\n\\nThe accompanying Notes to the Consolidated Financial Statements are an integral part of this statement.\\n\\n$\\n\\n$\\n\\n$ $\\n\\nYEAR ENDED MAY 31,\\n\\n2023\\n\\n2022\\n\\n2021\\n\\n51,217 $ 28,925\\n\\n46,710 $ 25,231\\n\\n44,538 24,576\\n\\n22,292 4,060 12,317\\n\\n21,479 3,850 10,954\\n\\n19,962 3,114 9,911\\n\\n16,377 (6)\\n\\n14,804 205\\n\\n13,025 262\\n\\n(280) 6,201\\n\\n(181) 6,651\\n\\n14 6,661\\n\\n1,131 5,070 $\\n\\n605 6,046 $\\n\\n934 5,727\\n\\n3.27 $ 3.23 $\\n\\n3.83 $ 3.75 $\\n\\n3.64 3.56\\n\\n1,551.6 1,569.8\\n\\n1,578.8 1,610.8\\n\\n1,573.0 1,609.4\\n\\n2023 FORM 10-K 55\\n\\nTable of Contents\\n\\nNIKE, INC. CONSOLIDATED STATEMENTS OF COMPREHENSIVE INCOME\\n\\nYEAR ENDED MAY 31,\\n\\n(Dollars in millions)\\n\\n2023\\n\\n2022\\n\\nNet income Other comprehensive income (loss), net of tax:\\n\\n$\\n\\n5,070 $\\n\\n6,046 $\\n\\nChange in net foreign currency translation adjustment\\n\\n267\\n\\n(522)\\n\\nChange in net gains (losses) on cash flow hedges Change in net gains (losses) on other\\n\\n(348) (6)\\n\\n1,214 6\\n\\nTotal other comprehensive income (loss), net of tax TOTAL COMPREHENSIVE INCOME\\n\\n$\\n\\n(87) 4,983 $\\n\\n698 6,744 $\\n\\nThe accompanying Notes to the Consolidated Financial Statements are an integral part of this statement.\\n\\n2023 FORM 10-K 56\\n\\n2021\\n\\n5,727\\n\\n496\\n\\n(825) 5\\n\\n(324) 5,403\\n\\nTable of Contents\\n\\nNIKE, INC. CONSOLIDATED BALANCE SHEETS\\n\\n(In millions)\\n\\nASSETS\\n\\nCurrent assets:\\n\\nCash and equivalents Short-term investments\\n\\nAccounts receivable, net Inventories Prepaid expenses and other current assets\\n\\nTotal current assets\\n\\nProperty, plant and equipment, net\\n\\nOperating lease right-of-use assets, net Identifiable intangible assets, net Goodwill\\n\\nDeferred income taxes and other assets\\n\\nTOTAL ASSETS\\n\\nLIABILITIES AND SHAREHOLDERS' EQUITY Current liabilities:\\n\\nCurrent portion of long-term debt Notes payable Accounts payable\\n\\nCurrent portion of operating lease liabilities Accrued liabilities Income taxes payable\\n\\nTotal current liabilities\\n\\nLong-term debt\\n\\nOperating lease liabilities Deferred income taxes and other liabilities Commitments and contingencies (Note 16)\\n\\nRedeemable preferred stock Shareholders' equity: Common stock at stated value:\"}]"
            ]
          },
          "execution_count": 13,
          "metadata": {},
          "output_type": "execute_result"
        }
      ],
      "source": [
        "# execute the query with RedisVL\n",
        "index.query(vector_query)"
      ]
    },
    {
      "cell_type": "code",
      "execution_count": 14,
      "metadata": {
        "id": "rZrcd6n7T6LE"
      },
      "outputs": [
        {
          "name": "stdout",
          "output_type": "stream",
          "text": [
            "84 0.321347296238\n",
            "83 0.328034043312\n",
            "117 0.358749747276\n"
          ]
        }
      ],
      "source": [
        "# paginate through results\n",
        "for result in index.paginate(vector_query, page_size=1):\n",
        "    print(result[0][\"doc_id\"], result[0][\"vector_distance\"], flush=True)"
      ]
    },
    {
      "cell_type": "markdown",
      "metadata": {
        "id": "0Ap6WqPLT6LE"
      },
      "source": [
        "### Sort by alternative fields"
      ]
    },
    {
      "cell_type": "code",
      "execution_count": 15,
      "metadata": {
        "id": "daLVm6OkLn9T"
      },
      "outputs": [
        {
          "data": {
            "text/plain": [
              "[{'id': 'chunk:117',\n",
              "  'payload': None,\n",
              "  'vector_distance': '0.358749747276',\n",
              "  'doc_id': '117'},\n",
              " {'id': 'chunk:157',\n",
              "  'payload': None,\n",
              "  'vector_distance': '0.360825419426',\n",
              "  'doc_id': '157'},\n",
              " {'id': 'chunk:83',\n",
              "  'payload': None,\n",
              "  'vector_distance': '0.328034043312',\n",
              "  'doc_id': '83'},\n",
              " {'id': 'chunk:84',\n",
              "  'payload': None,\n",
              "  'vector_distance': '0.321347296238',\n",
              "  'doc_id': '84'}]"
            ]
          },
          "execution_count": 15,
          "metadata": {},
          "output_type": "execute_result"
        }
      ],
      "source": [
        "# Sort by doc_id field after vector search limits to topK\n",
        "vector_query = VectorQuery(\n",
        "    vector=query_embedding,\n",
        "    vector_field_name=\"text_embedding\",\n",
        "    num_results=4,\n",
        "    return_fields=[\"doc_id\"],\n",
        "    return_score=True\n",
        ")\n",
        "\n",
        "# Decompose vector_query into the core query and the params\n",
        "query = vector_query.query\n",
        "params = vector_query.params\n",
        "\n",
        "# Pass query and params direct to index.search()\n",
        "result = index.search(\n",
        "    query.sort_by(\"doc_id\", asc=True),\n",
        "    params\n",
        ")\n",
        "\n",
        "[doc.__dict__ for doc in result.docs]"
      ]
    },
    {
      "cell_type": "markdown",
      "metadata": {
        "id": "81PoXomtT6LF"
      },
      "source": [
        "### Add filters to vector queries"
      ]
    },
    {
      "cell_type": "code",
      "execution_count": 16,
      "metadata": {
        "id": "a11G3xXJ1ujC"
      },
      "outputs": [
        {
          "data": {
            "text/plain": [
              "[{'id': 'chunk:80',\n",
              "  'vector_distance': '0.36378967762',\n",
              "  'content': 'NIKE Brand revenues, which represented over 90% of NIKE, Inc. Revenues, increased 10% and 16% on a reported and currency-neutral basis, respectively. This increase was primarily due to higher revenues in Men\\'s, the Jordan Brand, Women\\'s and Kids\\' which grew 17%, 35%,11% and 10%, respectively, on a wholesale equivalent basis.\\n\\nNIKE Brand footwear revenues increased 20% on a currency-neutral basis, due to higher revenues in Men\\'s, the Jordan Brand, Women\\'s and Kids\\'. Unit sales of footwear increased 13%, while higher average selling price (\"ASP\") per pair contributed approximately 7 percentage points of footwear revenue growth. Higher ASP was primarily due to higher full-price ASP, net of discounts, on a wholesale equivalent basis, and growth in the size of our NIKE Direct business, partially offset by lower NIKE Direct ASP.\\n\\nNIKE Brand apparel revenues increased 8% on a currency-neutral basis, primarily due to higher revenues in Men\\'s. Unit sales of apparel increased 4%, while higher ASP per unit contributed approximately 4 percentage points of apparel revenue growth. Higher ASP was primarily due to higher full-price ASP and growth in the size of our NIKE Direct business, partially offset by lower NIKE Direct ASP, reflecting higher promotional activity.\\n\\nNIKE Direct revenues increased 14% from $18.7 billion in fiscal 2022 to $21.3 billion in fiscal 2023. On a currency-neutral basis, NIKE Direct revenues increased 20% primarily driven by NIKE Brand Digital sales growth of 24%, comparable store sales growth of 14% and the addition of new stores. For further information regarding comparable store sales, including the definition, see \"Comparable Store Sales\". NIKE Brand Digital sales were $12.6 billion for fiscal 2023 compared to $10.7 billion for fiscal 2022.\\n\\n2023 FORM 10-K 33\\n\\nTable of Contents\\n\\nGROSS MARGIN FISCAL 2023 COMPARED TO FISCAL 2022\\n\\nFor fiscal 2023, our consolidated gross profit increased 4% to $22,292 million compared to $21,479 million for fiscal 2022. Gross margin decreased 250 basis points to 43.5% for fiscal 2023 compared to 46.0% for fiscal 2022 due to the following:\\n\\nWholesale equivalent\\n\\nThe decrease in gross margin for fiscal 2023 was primarily due to:\\n\\nHigher NIKE Brand product costs, on a wholesale equivalent basis, primarily due to higher input costs and elevated inbound freight and logistics costs as well as\\n\\nproduct mix;'},\n",
              " {'id': 'chunk:78',\n",
              "  'vector_distance': '0.616193056107',\n",
              "  'content': \"(Dollars in millions, except per share data)\\n\\nRevenues Cost of sales\\n\\nGross profit Gross margin\\n\\nDemand creation expense Operating overhead expense\\n\\nTotal selling and administrative expense % of revenues\\n\\nInterest expense (income), net\\n\\nOther (income) expense, net Income before income taxes\\n\\nIncome tax expense Effective tax rate\\n\\nNET INCOME Diluted earnings per common share\\n\\n$\\n\\n$ $\\n\\nFISCAL 2023\\n\\n51,217 28,925\\n\\n22,292\\n\\n43.5 %\\n\\n4,060 12,317\\n\\n16,377\\n\\n32.0 % (6)\\n\\n(280) 6,201\\n\\n1,131\\n\\n18.2 %\\n\\n5,070 3.23\\n\\n$\\n\\n$ $\\n\\nFISCAL 2022\\n\\n46,710 25,231\\n\\n21,479\\n\\n46.0 %\\n\\n3,850 10,954\\n\\n14,804\\n\\n31.7 % 205\\n\\n(181) 6,651\\n\\n605 9.1 %\\n\\n6,046 3.75\\n\\n% CHANGE\\n\\n10 % $ 15 %\\n\\n4 %\\n\\n5 % 12 %\\n\\n11 %\\n\\n—\\n\\n— -7 %\\n\\n87 %\\n\\n16 % $ -14 % $\\n\\nFISCAL 2021\\n\\n% CHANGE\\n\\n44,538 24,576\\n\\n5 % 3 %\\n\\n19,962\\n\\n8 %\\n\\n44.8 %\\n\\n3,114 9,911\\n\\n24 % 11 %\\n\\n13,025\\n\\n14 %\\n\\n29.2 % 262\\n\\n—\\n\\n14 6,661\\n\\n— 0 %\\n\\n934 14.0 %\\n\\n35 %\\n\\n5,727 3.56\\n\\n6 % 5 %\\n\\n2023 FORM 10-K 31\\n\\nTable of Contents\\n\\nCONSOLIDATED OPERATING RESULTS REVENUES\\n\\n(Dollars in millions)\\n\\nFISCAL 2023\\n\\nFISCAL 2022\\n\\n% CHANGE\\n\\n% CHANGE EXCLUDING CURRENCY (1) CHANGES\\n\\nFISCAL 2021\\n\\n% CHANGE\\n\\nNIKE, Inc. Revenues:\\n\\nNIKE Brand Revenues by:\\n\\nFootwear Apparel\\n\\n$\\n\\n33,135 $ 13,843\\n\\n29,143 13,567\\n\\n14 % 2 %\\n\\n20 % $ 8 %\\n\\n28,021 12,865\\n\\n4 % 5 %\\n\\nEquipment Global Brand Divisions\\n\\n(2)\\n\\nTotal NIKE Brand Revenues\\n\\n$\\n\\n1,727 58\\n\\n48,763 $\\n\\n1,624 102 44,436\\n\\n6 % -43 % 10 %\\n\\n13 % -43 % 16 % $\\n\\n1,382 25 42,293\\n\\n18 % 308 % 5 %\\n\\nConverse Corporate\\n\\n(3)\\n\\n2,427 27\\n\\n2,346 (72)\\n\\n3 % —\\n\\n8 % —\\n\\n2,205 40\\n\\n6 % —\\n\\nTOTAL NIKE, INC. REVENUES\\n\\n$\\n\\n51,217 $\\n\\n46,710\\n\\n10 %\\n\\n16 % $\\n\\n44,538\\n\\n5 %\\n\\nSupplemental NIKE Brand Revenues Details: NIKE Brand Revenues by:\\n\\nSales to Wholesale Customers\\n\\n$\\n\\n27,397 $\\n\\n25,608\\n\\n7 %\\n\\n14 % $\\n\\n25,898\\n\\n1 %\\n\\nSales through NIKE Direct Global Brand Divisions\\n\\n(2)\\n\\n21,308 58\\n\\n18,726 102\\n\\n14 % -43 %\\n\\n20 % -43 %\\n\\n16,370 25\\n\\n14 % 308 %\\n\\nTOTAL NIKE BRAND REVENUES (1) NIKE Brand Revenues on a Wholesale Equivalent Basis :\\n\\n$\\n\\n48,763 $\\n\\n44,436\\n\\n10 %\\n\\n16 % $\\n\\n42,293\\n\\n5 %\\n\\nSales to Wholesale Customers Sales from our Wholesale Operations to NIKE Direct Operations\\n\\nTOTAL NIKE BRAND WHOLESALE EQUIVALENT REVENUES NIKE Brand Wholesale Equivalent Revenues by:\\n\\n(1),(4)\\n\\n$\\n\\n$\\n\\n27,397 $ 12,730\\n\\n40,127 $\\n\\n25,608 10,543\\n\\n36,151\\n\\n7 % 21 %\\n\\n11 %\\n\\n14 % $ 27 %\\n\\n18 % $\\n\\n25,898 9,872\\n\\n35,770\\n\\n1 % 7 % 1 %\\n\\nMen's Women's NIKE Kids'\\n\\n$\\n\\n20,733 $ 8,606 5,038\\n\\n18,797 8,273 4,874\\n\\n10 % 4 % 3 %\\n\\n17 % $ 11 % 10 %\\n\\n18,391 8,225 4,882\\n\\n2 % 1 % 0 %\\n\\nJordan Brand (5) Others\\n\\n6,589 (839)\\n\\n5,122 (915)\\n\\n29 % 8 %\\n\\n35 % -3 %\"},\n",
              " {'id': 'chunk:148',\n",
              "  'vector_distance': '0.703676879406',\n",
              "  'content': '131.10 115.56 126.97\\n\\n(1) Includes an immaterial amount of PSU transactions\\n\\nThe weighted average fair value per share of restricted stock and restricted stock units granted for the fiscal years ended May 31, 2023, 2022 and 2021, computed as of the grant date, was $115.56, $168.04 and $113.84, respectively. During the fiscal years ended May 31, 2023, 2022 and 2021, the aggregate fair value of vested restricted stock and restricted stock units was $250 million, $354 million and $310 million, respectively, computed as of the date of vesting.\\n\\nAs of May 31, 2023, the Company had $649 million of unrecognized compensation costs from restricted stock and restricted stock units, net of estimated forfeitures, to be recognized in Cost of sales or Operating overhead expense, as applicable, over a weighted average remaining period of 2.3 years.\\n\\n2023 FORM 10-K 76\\n\\nTable of Contents\\n\\nNOTE 10 — EARNINGS PER SHARE\\n\\nThe following is a reconciliation from basic earnings per common share to diluted earnings per common share. The computations of diluted earnings per common share excluded restricted stock, restricted stock units and options, including shares under ESPPs, to purchase an estimated additional 31.7 million, 9.4 million and 11.3 million shares of common stock outstanding for the fiscal years ended May 31, 2023, 2022 and 2021, respectively, because the awards were assumed to be anti-dilutive.\\n\\nYEAR ENDED MAY 31,\\n\\n(In millions, except per share data)\\n\\n2023\\n\\n2022\\n\\n2021\\n\\nNet income available to common stockholders\\n\\n$\\n\\n5,070 $\\n\\n6,046 $\\n\\n5,727\\n\\nDetermination of shares:\\n\\nWeighted average common shares outstanding Assumed conversion of dilutive stock options and awards\\n\\n1,551.6 18.2\\n\\n1,578.8 32.0\\n\\n1,573.0 36.4\\n\\nDILUTED WEIGHTED AVERAGE COMMON SHARES OUTSTANDING\\n\\n1,569.8\\n\\n1,610.8\\n\\n1,609.4\\n\\nEarnings per common share:\\n\\nBasic Diluted\\n\\n$ $\\n\\n3.27 $ 3.23 $\\n\\n3.83 $ 3.75 $\\n\\n3.64 3.56\\n\\nNOTE 11 — BENEFIT PLANS\\n\\nThe Company has a qualified 401(k) Savings and Profit Sharing Plan, in which all U.S. employees are able to participate. The Company matches a portion of employee contributions to the savings plan. Company contributions to the savings plan were $136 million, $126 million and $110 million and included in Cost of sales or Operating overhead expense, as applicable, for the fiscal years ended May 31, 2023, 2022 and 2021, respectively.'},\n",
              " {'id': 'chunk:36',\n",
              "  'vector_distance': '0.711834013462',\n",
              "  'content': 'Our success depends on our ability to identify, originate and define product trends as well as to anticipate, gauge and react to changing consumer demands in a timely manner. However, lead times for many of our products may make it more difficult for us to respond rapidly to new or changing product trends or consumer preferences. All of our products are subject to changing consumer preferences that cannot be predicted with certainty. Our new products may not receive consumer acceptance as consumer preferences could shift rapidly to different types of performance products or away from these types of products altogether, and our future success depends in part on our ability to anticipate and respond to these changes. If we fail to anticipate accurately and respond to trends and shifts in consumer preferences by adjusting the mix of existing product offerings, developing new products, designs, styles and categories, and influencing sports and fitness preferences through extensive marketing, we could experience lower sales, excess inventories or lower profit margins, any of which could have an adverse effect on our results of operations and financial condition. In addition, we market our products globally through a diverse spectrum of advertising and promotional programs and campaigns, including social media and other digital advertising networks. If we do not successfully market our products or if advertising and promotional costs increase, these factors could have an adverse effect on our business, financial condition and results of operations.\\n\\nWe rely on technical innovation and high-quality products to compete in the market for our products.'}]"
            ]
          },
          "execution_count": 16,
          "metadata": {},
          "output_type": "execute_result"
        }
      ],
      "source": [
        "from redisvl.query.filter import Text\n",
        "\n",
        "vector_query = VectorQuery(\n",
        "    vector=query_embedding,\n",
        "    vector_field_name=\"text_embedding\",\n",
        "    num_results=4,\n",
        "    return_fields=[\"content\"],\n",
        "    return_score=True\n",
        ")\n",
        "\n",
        "# Set a text filter\n",
        "text_filter = Text(\"content\") % \"profit\"\n",
        "\n",
        "vector_query.set_filter(text_filter)\n",
        "\n",
        "index.query(vector_query)"
      ]
    },
    {
      "cell_type": "markdown",
      "metadata": {
        "id": "5XvVv8zAT6LF"
      },
      "source": [
        "### Range queries in RedisVL"
      ]
    },
    {
      "cell_type": "code",
      "execution_count": 17,
      "metadata": {
        "id": "bCffoZRx1ujD"
      },
      "outputs": [],
      "source": [
        "from redisvl.query import RangeQuery\n",
        "\n",
        "range_query = RangeQuery(\n",
        "    vector=query_embedding,\n",
        "    vector_field_name=\"text_embedding\",\n",
        "    num_results=4,\n",
        "    return_fields=[\"content\"],\n",
        "    return_score=True,\n",
        "    distance_threshold=0.8  # find all items with a semantic distance of less than 0.8\n",
        ")"
      ]
    },
    {
      "cell_type": "code",
      "execution_count": 18,
      "metadata": {
        "id": "0gHmam1Q1ujD"
      },
      "outputs": [
        {
          "data": {
            "text/plain": [
              "[{'id': 'chunk:84',\n",
              "  'vector_distance': '0.321347296238',\n",
              "  'content': 'TOTAL NIKE BRAND Converse\\n\\n$\\n\\n1,932 (4,841)\\n\\n8,359 676\\n\\n$\\n\\n1,896 (4,262)\\n\\n8,406 669\\n\\n2 % -14 %\\n\\n1 % $ 1 %\\n\\n1,530 (3,656)\\n\\n8,641 543\\n\\nCorporate TOTAL NIKE, INC. EARNINGS BEFORE INTEREST AND TAXES\\n\\n(1)\\n\\n$\\n\\n(2,840)\\n\\n6,195\\n\\n$\\n\\n(2,219)\\n\\n6,856\\n\\n28 %\\n\\n10 % $\\n\\n(2,261)\\n\\n6,923\\n\\nEBIT margin\\n\\n(1)\\n\\n12.1 %\\n\\n14.7 %\\n\\n15.5 %\\n\\nInterest expense (income), net\\n\\n(6)\\n\\n205\\n\\n—\\n\\n262\\n\\nTOTAL NIKE, INC. INCOME BEFORE INCOME TAXES\\n\\n$\\n\\n6,201\\n\\n$\\n\\n6,651\\n\\n7 % $\\n\\n6,661\\n\\n(1) Total NIKE Brand EBIT, Total NIKE, Inc. EBIT and EBIT Margin represent non-GAAP financial measures. See \"Use of Non-GAAP Financial Measures\" for further information.\\n\\n2023 FORM 10-K 36\\n\\n% CHANGE EXCLUDING CURRENCY (1) CHANGES\\n\\n7 % 12 % -13 %\\n\\n16 % 302 %\\n\\n6 % 7 %\\n\\n— 6 %\\n\\n% CHANGE\\n\\n0 % 35 % -27 %\\n\\n24 % -17 %\\n\\n3 % 23 % 2 %\\n\\n1 %\\n\\n—\\n\\n0 %\\n\\nTable of Contents\\n\\nNORTH AMERICA\\n\\n(Dollars in millions)\\n\\nFISCAL 2023 FISCAL 2022\\n\\n% CHANGE\\n\\n% CHANGE EXCLUDING CURRENCY\\n\\nCHANGES FISCAL 2021\\n\\n% CHANGE\\n\\n% CHANGE EXCLUDING CURRENCY CHANGES\\n\\nRevenues by: Footwear Apparel\\n\\n$\\n\\n14,897 $ 5,947\\n\\n12,228 5,492\\n\\n22 % 8 %\\n\\n22 % $ 9 %\\n\\n11,644 5,028\\n\\n5 % 9 %\\n\\n5 % 9 %\\n\\nEquipment\\n\\nTOTAL REVENUES\\n\\n$\\n\\n764 21,608 $\\n\\n633 18,353\\n\\n21 % 18 %\\n\\n21 % 18 % $\\n\\n507 17,179\\n\\n25 % 7 %\\n\\n25 % 7 %\\n\\nRevenues by:\\n\\nSales to Wholesale Customers\\n\\n$\\n\\n11,273 $\\n\\n9,621\\n\\n17 %\\n\\n18 % $\\n\\n10,186\\n\\n6 %\\n\\n6 %\\n\\nSales through NIKE Direct\\n\\nTOTAL REVENUES\\n\\n$\\n\\n10,335 21,608 $\\n\\n8,732 18,353\\n\\n18 % 18 %\\n\\n18 % 18 % $\\n\\n6,993 17,179\\n\\n25 % 7 %\\n\\n25 % 7 %\\n\\nEARNINGS BEFORE INTEREST AND TAXES\\n\\n$\\n\\n5,454 $\\n\\n5,114\\n\\n7 %\\n\\n$\\n\\n5,089\\n\\n0 %\\n\\nFISCAL 2023 COMPARED TO FISCAL 2022\\n\\nNorth America revenues increased 18% on a currency-neutral basis, primarily due to higher revenues in Men\\'s and the Jordan Brand. NIKE Direct revenues\\n\\nincreased 18%, driven by strong digital sales growth of 23%, comparable store sales growth of 9% and the addition of new stores.\\n\\nFootwear revenues increased 22% on a currency-neutral basis, primarily due to higher revenues in Men\\'s and the Jordan Brand. Unit sales of footwear increased\\n\\n17%, while higher ASP per pair contributed approximately 5 percentage points of footwear revenue growth. Higher ASP per pair was primarily due to higher full-price ASP and growth in NIKE Direct, partially offset by lower NIKE Direct ASP, reflecting higher promotional activity as well as lower available inventory supply in the prior period and a lower mix of full-price sales.'},\n",
              " {'id': 'chunk:83',\n",
              "  'vector_distance': '0.328034043312',\n",
              "  'content': 'As discussed in Note 15 — Operating Segments and Related Information in the accompanying Notes to the Consolidated Financial Statements, our operating segments are evidence of the structure of the Company\\'s internal organization. The NIKE Brand segments are defined by geographic regions for operations participating in NIKE Brand sales activity.\\n\\nThe breakdown of Revenues is as follows:\\n\\n(Dollars in millions)\\n\\nFISCAL 2023 FISCAL 2022\\n\\n% CHANGE\\n\\n% CHANGE EXCLUDING CURRENCY (1) CHANGES FISCAL 2021\\n\\n% CHANGE\\n\\nNorth America Europe, Middle East & Africa Greater China\\n\\n$\\n\\n21,608 $ 13,418 7,248\\n\\n18,353 12,479 7,547\\n\\n18 % 8 % -4 %\\n\\n18 % $ 21 % 4 %\\n\\n17,179 11,456 8,290\\n\\n7 % 9 % -9 %\\n\\nAsia Pacific & Latin America Global Brand Divisions\\n\\n(3)\\n\\n(2)\\n\\n6,431 58\\n\\n5,955 102\\n\\n8 % -43 %\\n\\n17 % -43 %\\n\\n5,343 25\\n\\n11 % 308 %\\n\\nTOTAL NIKE BRAND Converse\\n\\n$\\n\\n48,763 $ 2,427\\n\\n44,436 2,346\\n\\n10 % 3 %\\n\\n16 % $ 8 %\\n\\n42,293 2,205\\n\\n5 % 6 %\\n\\n(4)\\n\\nCorporate TOTAL NIKE, INC. REVENUES\\n\\n$\\n\\n27\\n\\n51,217 $\\n\\n(72) 46,710\\n\\n— 10 %\\n\\n— 16 % $\\n\\n40 44,538\\n\\n— 5 %\\n\\n(1) The percent change excluding currency changes represents a non-GAAP financial measure. For further information, see \"Use of Non-GAAP Financial Measures\".\\n\\n(2) For additional information on the transition of our NIKE Brand businesses within our CASA territory to a third-party distributor, see Note 18 — Acquisitions and Divestitures of the Notes to Consolidated\\n\\nFinancial Statements contained in Item 8 of this Annual Report.\\n\\n(3) Global Brand Divisions revenues include NIKE Brand licensing and other miscellaneous revenues that are not part of a geographic operating segment.\\n\\n(4) Corporate revenues primarily consist of foreign currency hedge gains and losses related to revenues generated by entities within the NIKE Brand geographic operating segments and Converse, but\\n\\nmanaged through our central foreign exchange risk management program.\\n\\nThe primary financial measure used by the Company to evaluate performance is Earnings Before Interest and Taxes (\"EBIT\"). As discussed in Note 15 — Operating Segments and Related Information in the accompanying Notes to the Consolidated Financial Statements, certain corporate costs are not included in EBIT.\\n\\nThe breakdown of EBIT is as follows:\\n\\n(Dollars in millions)\\n\\nFISCAL 2023\\n\\nFISCAL 2022\\n\\n% CHANGE\\n\\nFISCAL 2021\\n\\nNorth America Europe, Middle East & Africa Greater China\\n\\n$\\n\\n5,454 3,531 2,283\\n\\n$\\n\\n5,114 3,293 2,365\\n\\n7 % $ 7 % -3 %\\n\\n5,089 2,435 3,243\\n\\nAsia Pacific & Latin America Global Brand Divisions (1)'},\n",
              " {'id': 'chunk:117',\n",
              "  'vector_distance': '0.358749747276',\n",
              "  'content': \"NIKE, INC. CONSOLIDATED STATEMENTS OF INCOME\\n\\n(In millions, except per share data)\\n\\nRevenues Cost of sales\\n\\nGross profit\\n\\nDemand creation expense Operating overhead expense\\n\\nTotal selling and administrative expense\\n\\nInterest expense (income), net\\n\\nOther (income) expense, net Income before income taxes\\n\\nIncome tax expense NET INCOME\\n\\nEarnings per common share:\\n\\nBasic Diluted\\n\\nWeighted average common shares outstanding:\\n\\nBasic Diluted\\n\\nThe accompanying Notes to the Consolidated Financial Statements are an integral part of this statement.\\n\\n$\\n\\n$\\n\\n$ $\\n\\nYEAR ENDED MAY 31,\\n\\n2023\\n\\n2022\\n\\n2021\\n\\n51,217 $ 28,925\\n\\n46,710 $ 25,231\\n\\n44,538 24,576\\n\\n22,292 4,060 12,317\\n\\n21,479 3,850 10,954\\n\\n19,962 3,114 9,911\\n\\n16,377 (6)\\n\\n14,804 205\\n\\n13,025 262\\n\\n(280) 6,201\\n\\n(181) 6,651\\n\\n14 6,661\\n\\n1,131 5,070 $\\n\\n605 6,046 $\\n\\n934 5,727\\n\\n3.27 $ 3.23 $\\n\\n3.83 $ 3.75 $\\n\\n3.64 3.56\\n\\n1,551.6 1,569.8\\n\\n1,578.8 1,610.8\\n\\n1,573.0 1,609.4\\n\\n2023 FORM 10-K 55\\n\\nTable of Contents\\n\\nNIKE, INC. CONSOLIDATED STATEMENTS OF COMPREHENSIVE INCOME\\n\\nYEAR ENDED MAY 31,\\n\\n(Dollars in millions)\\n\\n2023\\n\\n2022\\n\\nNet income Other comprehensive income (loss), net of tax:\\n\\n$\\n\\n5,070 $\\n\\n6,046 $\\n\\nChange in net foreign currency translation adjustment\\n\\n267\\n\\n(522)\\n\\nChange in net gains (losses) on cash flow hedges Change in net gains (losses) on other\\n\\n(348) (6)\\n\\n1,214 6\\n\\nTotal other comprehensive income (loss), net of tax TOTAL COMPREHENSIVE INCOME\\n\\n$\\n\\n(87) 4,983 $\\n\\n698 6,744 $\\n\\nThe accompanying Notes to the Consolidated Financial Statements are an integral part of this statement.\\n\\n2023 FORM 10-K 56\\n\\n2021\\n\\n5,727\\n\\n496\\n\\n(825) 5\\n\\n(324) 5,403\\n\\nTable of Contents\\n\\nNIKE, INC. CONSOLIDATED BALANCE SHEETS\\n\\n(In millions)\\n\\nASSETS\\n\\nCurrent assets:\\n\\nCash and equivalents Short-term investments\\n\\nAccounts receivable, net Inventories Prepaid expenses and other current assets\\n\\nTotal current assets\\n\\nProperty, plant and equipment, net\\n\\nOperating lease right-of-use assets, net Identifiable intangible assets, net Goodwill\\n\\nDeferred income taxes and other assets\\n\\nTOTAL ASSETS\\n\\nLIABILITIES AND SHAREHOLDERS' EQUITY Current liabilities:\\n\\nCurrent portion of long-term debt Notes payable Accounts payable\\n\\nCurrent portion of operating lease liabilities Accrued liabilities Income taxes payable\\n\\nTotal current liabilities\\n\\nLong-term debt\\n\\nOperating lease liabilities Deferred income taxes and other liabilities Commitments and contingencies (Note 16)\\n\\nRedeemable preferred stock Shareholders' equity: Common stock at stated value:\"},\n",
              " {'id': 'chunk:157',\n",
              "  'vector_distance': '0.360825419426',\n",
              "  'content': \"Tax (expense) benefit Gain (loss) net of tax\\n\\n5 (14)\\n\\n(9) 22\\n\\nTotal net gain (loss) reclassified for the period\\n\\n$\\n\\n463 $\\n\\n30\\n\\n2023 FORM 10-K 82\\n\\nTable of Contents\\n\\nNOTE 14 — REVENUES\\n\\nDISAGGREGATION OF REVENUES The following tables present the Company's Revenues disaggregated by reportable operating segment, major product line and distribution channel:\\n\\n(Dollars in millions)\\n\\nNORTH AMERICA\\n\\nEUROPE, MIDDLE EAST & AFRICA\\n\\nGREATER CHINA\\n\\nYEAR ENDED MAY 31, 2023 ASIA PACIFIC & LATIN (1)\\n\\nGLOBAL BRAND DIVISIONS\\n\\nTOTAL NIKE\\n\\nAMERICA\\n\\nBRAND CONVERSE CORPORATE\\n\\nTOTAL NIKE, INC.\\n\\nRevenues by: Footwear\\n\\n$\\n\\n14,897 $\\n\\n8,260 $\\n\\n5,435 $\\n\\n4,543 $\\n\\n— $\\n\\n33,135 $\\n\\n2,155 $\\n\\n— $\\n\\n35,290\\n\\nApparel Equipment Other\\n\\n5,947 764 —\\n\\n4,566 592 —\\n\\n1,666 147 —\\n\\n1,664 224 —\\n\\n— — 58\\n\\n13,843 1,727 58\\n\\n90 28 154\\n\\n— — 27\\n\\n13,933 1,755 239\\n\\nTOTAL REVENUES\\n\\n$\\n\\n21,608 $\\n\\n13,418 $\\n\\n7,248 $\\n\\n6,431 $\\n\\n58 $\\n\\n48,763 $\\n\\n2,427 $\\n\\n27 $\\n\\n51,217\\n\\nRevenues by:\\n\\nSales to Wholesale Customers Sales through Direct to Consumer\\n\\n$\\n\\n11,273 $ 10,335\\n\\n8,522 $ 4,896\\n\\n3,866 $ 3,382\\n\\n3,736 $ 2,695\\n\\n— $ —\\n\\n27,397 $ 21,308\\n\\n1,299 $ 974\\n\\n— $ —\\n\\n28,696 22,282\\n\\nOther\\n\\nTOTAL REVENUES\\n\\n$\\n\\n—\\n\\n21,608 $\\n\\n—\\n\\n13,418 $\\n\\n— 7,248 $\\n\\n— 6,431 $\\n\\n58 58 $\\n\\n58\\n\\n48,763 $\\n\\n154 2,427 $\\n\\n27 27 $\\n\\n239 51,217\\n\\n(1) Refer to Note 18 — Acquisitions and Divestitures for additional information on the transition of the Company's NIKE Brand businesses in its CASA territory to third-party distributors.\\n\\nYEAR ENDED MAY 31, 2022\\n\\n(Dollars in millions)\\n\\nNORTH AMERICA\\n\\nEUROPE, MIDDLE EAST & AFRICA\\n\\nGREATER CHINA\\n\\nASIA PACIFIC & LATIN AMERICA\\n\\nGLOBAL BRAND DIVISIONS\\n\\nTOTAL NIKE\\n\\nBRAND CONVERSE CORPORATE\\n\\nTOTAL NIKE, INC.\\n\\nRevenues by: Footwear Apparel\\n\\n$\\n\\n12,228 $ 5,492\\n\\n7,388 $ 4,527\\n\\n5,416 $ 1,938\\n\\n4,111 $ 1,610\\n\\n— $ —\\n\\n29,143 $ 13,567\\n\\n2,094 $ 103\\n\\n— $ —\\n\\n31,237 13,670\\n\\nEquipment Other\\n\\n633 —\\n\\n564 —\\n\\n193 —\\n\\n234 —\\n\\n— 102\\n\\n1,624 102\\n\\n26 123\\n\\n— (72)\\n\\n1,650 153\\n\\nTOTAL REVENUES Revenues by:\\n\\n$\\n\\n18,353 $\\n\\n12,479 $\\n\\n7,547 $\\n\\n5,955 $\\n\\n102 $\\n\\n44,436 $\\n\\n2,346 $\\n\\n(72) $\\n\\n46,710\\n\\nSales to Wholesale Customers Sales through Direct to Consumer Other\\n\\n$\\n\\n9,621 $ 8,732 —\\n\\n8,377 $ 4,102 —\\n\\n4,081 $ 3,466 —\\n\\n3,529 $ 2,426 —\\n\\n— $ — 102\\n\\n25,608 $ 18,726 102\\n\\n1,292 $ 931 123\\n\\n— $ — (72)\\n\\n26,900 19,657 153\\n\\nTOTAL REVENUES\\n\\n$\\n\\n18,353 $\\n\\n12,479 $\\n\\n7,547 $\\n\\n5,955 $\\n\\n102 $\\n\\n44,436 $\\n\\n2,346 $\\n\\n(72) $\\n\\n46,710\\n\\n2023 FORM 10-K 83\\n\\nTable of Contents\\n\\nYEAR ENDED MAY 31, 2021\\n\\n(Dollars in millions)\\n\\nNORTH AMERICA\\n\\nEUROPE, MIDDLE EAST & AFRICA\\n\\nGREATER CHINA\"}]"
            ]
          },
          "execution_count": 18,
          "metadata": {},
          "output_type": "execute_result"
        }
      ],
      "source": [
        "index.query(range_query)"
      ]
    },
    {
      "cell_type": "code",
      "execution_count": 19,
      "metadata": {
        "id": "YZg4U21r1ujD"
      },
      "outputs": [
        {
          "data": {
            "text/plain": [
              "[{'id': 'chunk:80',\n",
              "  'vector_distance': '0.36378967762',\n",
              "  'content': 'NIKE Brand revenues, which represented over 90% of NIKE, Inc. Revenues, increased 10% and 16% on a reported and currency-neutral basis, respectively. This increase was primarily due to higher revenues in Men\\'s, the Jordan Brand, Women\\'s and Kids\\' which grew 17%, 35%,11% and 10%, respectively, on a wholesale equivalent basis.\\n\\nNIKE Brand footwear revenues increased 20% on a currency-neutral basis, due to higher revenues in Men\\'s, the Jordan Brand, Women\\'s and Kids\\'. Unit sales of footwear increased 13%, while higher average selling price (\"ASP\") per pair contributed approximately 7 percentage points of footwear revenue growth. Higher ASP was primarily due to higher full-price ASP, net of discounts, on a wholesale equivalent basis, and growth in the size of our NIKE Direct business, partially offset by lower NIKE Direct ASP.\\n\\nNIKE Brand apparel revenues increased 8% on a currency-neutral basis, primarily due to higher revenues in Men\\'s. Unit sales of apparel increased 4%, while higher ASP per unit contributed approximately 4 percentage points of apparel revenue growth. Higher ASP was primarily due to higher full-price ASP and growth in the size of our NIKE Direct business, partially offset by lower NIKE Direct ASP, reflecting higher promotional activity.\\n\\nNIKE Direct revenues increased 14% from $18.7 billion in fiscal 2022 to $21.3 billion in fiscal 2023. On a currency-neutral basis, NIKE Direct revenues increased 20% primarily driven by NIKE Brand Digital sales growth of 24%, comparable store sales growth of 14% and the addition of new stores. For further information regarding comparable store sales, including the definition, see \"Comparable Store Sales\". NIKE Brand Digital sales were $12.6 billion for fiscal 2023 compared to $10.7 billion for fiscal 2022.\\n\\n2023 FORM 10-K 33\\n\\nTable of Contents\\n\\nGROSS MARGIN FISCAL 2023 COMPARED TO FISCAL 2022\\n\\nFor fiscal 2023, our consolidated gross profit increased 4% to $22,292 million compared to $21,479 million for fiscal 2022. Gross margin decreased 250 basis points to 43.5% for fiscal 2023 compared to 46.0% for fiscal 2022 due to the following:\\n\\nWholesale equivalent\\n\\nThe decrease in gross margin for fiscal 2023 was primarily due to:\\n\\nHigher NIKE Brand product costs, on a wholesale equivalent basis, primarily due to higher input costs and elevated inbound freight and logistics costs as well as\\n\\nproduct mix;'},\n",
              " {'id': 'chunk:73',\n",
              "  'vector_distance': '0.453679740429',\n",
              "  'content': 'NIKE designs, develops, markets and sells athletic footwear, apparel, equipment, accessories and services worldwide. We are the largest seller of athletic footwear and apparel in the world. We sell our products through NIKE Direct operations, which is comprised of both NIKE-owned retail stores and sales through our digital platforms (also referred to as \"NIKE Brand Digital\"), to wholesale accounts and to a mix of independent distributors, licensees and sales representatives in nearly all countries around the world. Our goal is to deliver value to our shareholders by building a profitable global portfolio of branded footwear, apparel, equipment and accessories businesses. Our strategy is to achieve long-term revenue growth by creating innovative, \"must-have\" products, building deep personal consumer connections with our brands and delivering compelling consumer experiences through digital platforms and at retail.\\n\\nThrough the Consumer Direct Acceleration strategy, we are focused on creating the marketplace of the future with more premium, consistent and seamless consumer experiences, leading with digital and our owned stores, as well as select wholesale partners. In addition, our product creation and marketing organizations are aligned to a consumer construct focused on sports dimensions through Men\\'s, Women\\'s and Kids\\', which allows us to better serve consumer needs. We continue to invest in a new Enterprise Resource Planning Platform, data and analytics, demand sensing, insight gathering, and other areas to create an end-to-end technology foundation, which we believe will further accelerate our digital transformation. We believe this unified approach will accelerate growth and unlock more efficiency for our business, while driving speed and responsiveness as we serve consumers globally.\\n\\nFINANCIAL HIGHLIGHTS\\n\\n\\n\\nIn fiscal 2023, NIKE, Inc. achieved record Revenues of $51.2 billion, which increased 10% and 16% on a reported and currency-neutral basis, respectively\\n\\nNIKE Direct revenues grew 14% from $18.7 billion in fiscal 2022 to $21.3 billion in fiscal 2023, and represented approximately 44% of total NIKE Brand revenues for\\n\\nfiscal 2023\\n\\nGross margin for the fiscal year decreased 250 basis points to 43.5% primarily driven by higher product costs, higher markdowns and unfavorable changes in foreign currency exchange rates, partially offset by strategic pricing actions'},\n",
              " {'id': 'chunk:66',\n",
              "  'vector_distance': '0.466785550117',\n",
              "  'content': 'From time to time, we may invest in technology, business infrastructure, new businesses or capabilities, product offering and manufacturing innovation and expansion of existing businesses, such as our NIKE Direct operations, which require substantial cash investments and management attention. We believe cost-effective investments are essential to business growth and profitability; however, significant investments are subject to typical risks and uncertainties inherent in developing a new business or expanding an existing business. The failure of any significant investment to provide expected returns or profitability could have a material adverse effect on our financial results and divert management attention from more profitable business operations. See also \"Our NIKE Direct operations have required and will continue to require a substantial investment and commitment of resources and are subject to numerous risks and uncertainties.\"\\n\\nThe sale of a large number of shares of common stock by our principal shareholder could depress the market price of our common stock.\\n\\nAs of June 30, 2023, Swoosh, LLC beneficially owned approximately 77% of our Class A Common Stock. If, on June 30, 2023, all of these shares were converted into Class B Common Stock, Swoosh, LLC\\'s commensurate ownership percentage of our Class B Common Stock would be approximately 16%. The shares are available for resale, subject to the requirements of the U.S. securities laws and the terms of the limited liability company agreement governing Swoosh, LLC. The sale or prospect of a sale of a substantial number of these shares could have an adverse effect on the market price of our common stock. Swoosh, LLC was formed by Philip H. Knight, our Chairman Emeritus, to hold the majority of his shares of Class A Common Stock. Mr. Knight does not have voting rights with respect to Swoosh, LLC, although Travis Knight, his son and a NIKE director, has a significant role in the management of the Class A Common Stock owned by Swoosh, LLC.\\n\\nChanges in our credit ratings or macroeconomic conditions may affect our liquidity, increasing borrowing costs and limiting our financing options.'},\n",
              " {'id': 'chunk:4',\n",
              "  'vector_distance': '0.525818228722',\n",
              "  'content': 'Our wholly-owned subsidiary brand, Converse, headquartered in Boston, Massachusetts, designs, distributes and licenses casual sneakers, apparel and accessories under the Converse, Chuck Taylor, All Star, One Star, Star Chevron and Jack Purcell trademarks. Operating results of the Converse brand are reported on a stand-alone basis.\\n\\nIn addition to the products we sell to our wholesale customers and directly to consumers through our NIKE Direct operations, we have also entered into license agreements that permit unaffiliated parties to manufacture and sell, using NIKE-owned trademarks, certain apparel, digital devices and applications and other equipment designed for sports activities.\\n\\n2023 FORM 10-K 1\\n\\nTable of Contents\\n\\nWe also offer interactive consumer services and experiences as well as digital products through our digital platforms, including fitness and activity apps; sport, fitness and wellness content; and digital services and features in retail stores that enhance the consumer experience.\\n\\nSALES AND MARKETING\\n\\nWe experience moderate fluctuations in aggregate sales volume during the year. Historically, revenues in the first and fourth fiscal quarters have slightly exceeded those in the second and third fiscal quarters. However, the mix of product sales may vary considerably as a result of changes in seasonal and geographic demand for particular types of footwear, apparel and equipment, as well as other macroeconomic, strategic, operating and logistics-related factors.\\n\\nBecause NIKE is a consumer products company, the relative popularity and availability of various sports and fitness activities, as well as changing design trends, affect the demand for our products. We must, therefore, respond to trends and shifts in consumer preferences by adjusting the mix of existing product offerings, developing new products, styles and categories and influencing sports and fitness preferences through extensive marketing. Failure to respond in a timely and adequate manner could have a material adverse effect on our sales and profitability. This is a continuing risk. Refer to Item 1A. Risk Factors.\\n\\nOUR MARKETS'}]"
            ]
          },
          "execution_count": 19,
          "metadata": {},
          "output_type": "execute_result"
        }
      ],
      "source": [
        "# Add filter to range query\n",
        "range_query.set_filter(text_filter)\n",
        "\n",
        "index.query(range_query)"
      ]
    },
    {
      "cell_type": "markdown",
      "metadata": {
        "id": "zYYPTQN7T6LG"
      },
      "source": [
        "## Building a RAG Pipeline from Scratch\n",
        "We're going to build a complete RAG pipeline from scratch incorporating the following components:\n",
        "\n",
        "- Standard retrieval and chat completion\n",
        "- Dense content representation to improve accuracy\n",
        "- Query re-writing to improve accuracy\n",
        "- Semantic caching to improve performance\n",
        "- Conversational session history to improve personalization"
      ]
    },
    {
      "cell_type": "markdown",
      "metadata": {
        "id": "rCWlVR2OT6LG"
      },
      "source": [
        "### Setup RedisVL AsyncSearchIndex"
      ]
    },
    {
      "cell_type": "code",
      "execution_count": 60,
      "metadata": {
        "id": "_esLGYzbT6LG"
      },
      "outputs": [],
      "source": [
        "from redis.asyncio import Redis\n",
        "from redisvl.index import AsyncSearchIndex\n",
        "\n",
        "client = Redis.from_url(REDIS_URL)\n",
        "index = AsyncSearchIndex(index.schema, client)"
      ]
    },
    {
      "cell_type": "markdown",
      "metadata": {},
      "source": [
        "### Setup OpenAI API"
      ]
    },
    {
      "cell_type": "code",
      "execution_count": 61,
      "metadata": {},
      "outputs": [],
      "source": [
        "import openai\n",
        "import os\n",
        "import getpass\n",
        "\n",
        "\n",
        "CHAT_MODEL = \"gpt-3.5-turbo-0125\"\n",
        "\n",
        "\n",
        "if \"OPENAI_API_KEY\" not in os.environ:\n",
        "    os.environ[\"OPENAI_API_KEY\"] = getpass.getpass(\"OPENAI_API_KEY\")\n"
      ]
    },
    {
      "cell_type": "markdown",
      "metadata": {
        "id": "w8Af-zneT6LH"
      },
      "source": [
        "### Baseline Retrieval Augmented Generation"
      ]
    },
    {
      "cell_type": "code",
      "execution_count": 62,
      "metadata": {
        "id": "1V1Tio4-ZjmA"
      },
      "outputs": [],
      "source": [
        "\n",
        "async def answer_question(index: AsyncSearchIndex, query: str):\n",
        "    \"\"\"Answer the user's question\"\"\"\n",
        "\n",
        "    SYSTEM_PROMPT = \"\"\"You are a helpful financial analyst assistant that has access\n",
        "    to public financial 10k documents in order to answer users questions about company\n",
        "    performance, ethics, characteristics, and core information.\n",
        "    \"\"\"\n",
        "\n",
        "    query_vector = hf.embed(query)\n",
        "    # Fetch context from Redis using vector search\n",
        "    context = await retrieve_context(index, query_vector)\n",
        "    # Generate contextualized prompt and feed to OpenAI\n",
        "    response = await openai.AsyncClient().chat.completions.create(\n",
        "        model=CHAT_MODEL,\n",
        "        messages=[\n",
        "            {\"role\": \"system\", \"content\": SYSTEM_PROMPT},\n",
        "            {\"role\": \"user\", \"content\": promptify(query, context)}\n",
        "        ],\n",
        "        temperature=0.1,\n",
        "        seed=42\n",
        "    )\n",
        "    # Response provided by LLM\n",
        "    return response.choices[0].message.content\n",
        "\n",
        "\n",
        "async def retrieve_context(index: AsyncSearchIndex, query_vector) -> str:\n",
        "    \"\"\"Fetch the relevant context from Redis using vector search\"\"\"\n",
        "    results = await index.query(\n",
        "        VectorQuery(\n",
        "            vector=query_vector,\n",
        "            vector_field_name=\"text_embedding\",\n",
        "            return_fields=[\"content\"],\n",
        "            num_results=3\n",
        "        )\n",
        "    )\n",
        "    content = \"\\n\".join([result[\"content\"] for result in results])\n",
        "    return content\n",
        "\n",
        "\n",
        "def promptify(query: str, context: str) -> str:\n",
        "    return f'''Use the provided context below derived from public financial\n",
        "    documents to answer the user's question. If you can't answer the user's\n",
        "    question, based on the context; do not guess. If there is no context at all,\n",
        "    respond with \"I don't know\".\n",
        "\n",
        "    User question:\n",
        "\n",
        "    {query}\n",
        "\n",
        "    Helpful context:\n",
        "\n",
        "    {context}\n",
        "\n",
        "    Answer:\n",
        "    '''"
      ]
    },
    {
      "cell_type": "markdown",
      "metadata": {
        "id": "kgVM_g01T6LP"
      },
      "source": [
        "### Let's test it out..."
      ]
    },
    {
      "cell_type": "code",
      "execution_count": 23,
      "metadata": {
        "id": "pn-PoACdbihY"
      },
      "outputs": [],
      "source": [
        "# Generate a list of questions\n",
        "questions = [\n",
        "    \"What is the trend in the company's revenue and profit over the past few years?\",\n",
        "    \"What are the company's primary revenue sources?\",\n",
        "    \"How much debt does the company have, and what are its capital expenditure plans?\",\n",
        "    \"What does the company say about its environmental, social, and governance (ESG) practices?\",\n",
        "    \"What is the company's strategy for growth?\"\n",
        "]"
      ]
    },
    {
      "cell_type": "code",
      "execution_count": 24,
      "metadata": {
        "id": "9M_iU6_hbv0J"
      },
      "outputs": [
        {
          "name": "stderr",
          "output_type": "stream",
          "text": [
            "huggingface/tokenizers: The current process just got forked, after parallelism has already been used. Disabling parallelism to avoid deadlocks...\n",
            "To disable this warning, you can either:\n",
            "\t- Avoid using `tokenizers` before the fork if possible\n",
            "\t- Explicitly set the environment variable TOKENIZERS_PARALLELISM=(true | false)\n"
          ]
        }
      ],
      "source": [
        "import asyncio\n",
        "\n",
        "results = await asyncio.gather(*[\n",
        "    answer_question(index, question) for question in questions\n",
        "])"
      ]
    },
    {
      "cell_type": "code",
      "execution_count": 25,
      "metadata": {
        "id": "7SZM_xg3b9Gb"
      },
      "outputs": [
        {
          "data": {
            "text/html": [
              "<div>\n",
              "<style scoped>\n",
              "    .dataframe tbody tr th:only-of-type {\n",
              "        vertical-align: middle;\n",
              "    }\n",
              "\n",
              "    .dataframe tbody tr th {\n",
              "        vertical-align: top;\n",
              "    }\n",
              "\n",
              "    .dataframe thead th {\n",
              "        text-align: right;\n",
              "    }\n",
              "</style>\n",
              "<table border=\"1\" class=\"dataframe\">\n",
              "  <thead>\n",
              "    <tr style=\"text-align: right;\">\n",
              "      <th></th>\n",
              "      <th>question</th>\n",
              "      <th>answer</th>\n",
              "    </tr>\n",
              "  </thead>\n",
              "  <tbody>\n",
              "    <tr>\n",
              "      <th>0</th>\n",
              "      <td>What is the trend in the company's revenue and...</td>\n",
              "      <td>The trend in the company's revenue and profit ...</td>\n",
              "    </tr>\n",
              "    <tr>\n",
              "      <th>1</th>\n",
              "      <td>What are the company's primary revenue sources?</td>\n",
              "      <td>The company's primary revenue sources are as f...</td>\n",
              "    </tr>\n",
              "    <tr>\n",
              "      <th>2</th>\n",
              "      <td>How much debt does the company have, and what ...</td>\n",
              "      <td>The company has a total long-term debt of $8,9...</td>\n",
              "    </tr>\n",
              "    <tr>\n",
              "      <th>3</th>\n",
              "      <td>What does the company say about its environmen...</td>\n",
              "      <td>The company acknowledges the importance of env...</td>\n",
              "    </tr>\n",
              "    <tr>\n",
              "      <th>4</th>\n",
              "      <td>What is the company's strategy for growth?</td>\n",
              "      <td>Based on the provided context, the company's s...</td>\n",
              "    </tr>\n",
              "  </tbody>\n",
              "</table>\n",
              "</div>"
            ],
            "text/plain": [
              "                                            question  \\\n",
              "0  What is the trend in the company's revenue and...   \n",
              "1    What are the company's primary revenue sources?   \n",
              "2  How much debt does the company have, and what ...   \n",
              "3  What does the company say about its environmen...   \n",
              "4         What is the company's strategy for growth?   \n",
              "\n",
              "                                              answer  \n",
              "0  The trend in the company's revenue and profit ...  \n",
              "1  The company's primary revenue sources are as f...  \n",
              "2  The company has a total long-term debt of $8,9...  \n",
              "3  The company acknowledges the importance of env...  \n",
              "4  Based on the provided context, the company's s...  "
            ]
          },
          "execution_count": 25,
          "metadata": {},
          "output_type": "execute_result"
        }
      ],
      "source": [
        "import pandas as pd\n",
        "\n",
        "pd.DataFrame(columns=[\"question\", \"answer\"], data=list(zip(questions, results)))"
      ]
    },
    {
      "cell_type": "markdown",
      "metadata": {},
      "source": [
        "### Improve accuracy with dense content representations\n",
        "\n",
        "One technique we can use to improve the quality of retrieval is to leverage an LLM from OpenAI during ETL. We will prompt the LLM to summarize and decompose the raw pdf text into more discrete propositional phrases. This will enhance the clarity of the text and improve semantic retrieval for RAG.\n",
        "\n",
        "The goal is to utilize a preprocessing technique similar to what's outlined here:\n",
        "https://github.com/langchain-ai/langchain/blob/master/templates/propositional-retrieval/propositional_retrieval/proposal_chain.py"
      ]
    },
    {
      "cell_type": "code",
      "execution_count": 26,
      "metadata": {},
      "outputs": [],
      "source": [
        "import tqdm\n",
        "import json\n",
        "\n",
        "\n",
        "def create_dense_props(chunk):\n",
        "    \"\"\"Create dense representation of raw text content.\"\"\"\n",
        "\n",
        "    # The system message here should be HEAVILY customized for your specific use case\n",
        "    SYSTEM_PROMPT = \"\"\"\n",
        "    You are a helpful PDF extractor tool. You will be presented with segments from\n",
        "    raw PDF documents composed of 10k SEC filings information about public companies.\n",
        "\n",
        "    Decompose and summarize the raw content into clear and simple propositions,\n",
        "    ensuring they are interpretable out of context. Consider the following rules:\n",
        "    1. Split compound sentences into simpler dense phrases that retain existing\n",
        "    meaning.\n",
        "    2. Simplify technical jargon or wording if possible while retaining existing\n",
        "    meaning.\n",
        "    2. For any named entity that is accompanied by additional descriptive information,\n",
        "    separate this information into its own distinct proposition.\n",
        "    3. Decontextualize the proposition by adding necessary modifier to nouns or\n",
        "    entire sentences and replacing pronouns (e.g., \"it\", \"he\", \"she\", \"they\", \"this\", \"that\")\n",
        "    with the full name of the entities they refer to.\n",
        "    4. Present the results as a list of strings, formatted in JSON, under the key \"propositions\".\n",
        "    \"\"\"\n",
        "\n",
        "    response = openai.OpenAI().chat.completions.create(\n",
        "        model=CHAT_MODEL,\n",
        "        response_format={ \"type\": \"json_object\" },\n",
        "        messages=[\n",
        "            {\"role\": \"system\", \"content\": SYSTEM_PROMPT},\n",
        "            {\"role\": \"user\", \"content\": f\"Decompose this raw content using the rules above:\\n{chunk.page_content} \"}\n",
        "        ]\n",
        "    )\n",
        "    res = response.choices[0].message.content\n",
        "\n",
        "    try:\n",
        "        return json.loads(res)[\"propositions\"]\n",
        "    except Exception as e:\n",
        "        print(f\"Failed to parse propositions\", str(e), flush=True)\n",
        "        # Retry\n",
        "        return create_dense_props(chunk)"
      ]
    },
    {
      "cell_type": "markdown",
      "metadata": {},
      "source": [
        "#### Create text propositions using OpenAI"
      ]
    },
    {
      "cell_type": "code",
      "execution_count": 27,
      "metadata": {},
      "outputs": [
        {
          "name": "stderr",
          "output_type": "stream",
          "text": [
            "100%|██████████| 179/179 [16:55<00:00,  5.67s/it]\n"
          ]
        }
      ],
      "source": [
        "propositions = [create_dense_props(chunk) for chunk in tqdm.tqdm(chunks)]"
      ]
    },
    {
      "cell_type": "code",
      "execution_count": 28,
      "metadata": {},
      "outputs": [],
      "source": [
        "propositions = [\" \".join(prop) for prop in propositions]"
      ]
    },
    {
      "cell_type": "code",
      "execution_count": 29,
      "metadata": {},
      "outputs": [
        {
          "data": {
            "text/plain": [
              "[\"NIKE Brand operations are reported based on internal geographic organization. Each NIKE Brand geographic segment focuses on designing, developing, marketing, and selling athletic footwear, apparel, and equipment. The reportable operating segments for the NIKE Brand include North America, Europe, Middle East & Africa (EMEA), Greater China, and Asia Pacific & Latin America (APLA), and encompass the NIKE and Jordan brands. Sales through NIKE Direct operations are managed within each geographic operating segment. Converse is a separate reportable operating segment specializing in designing, marketing, licensing, and selling casual sneakers, apparel, and accessories. Converse's direct to consumer operations, including digital commerce, are included in the Converse operating segment results. In the United States, NIKE Brand and Converse sales contributed about 43% of total revenues for fiscal 2023, 40% for fiscal 2022, and 39% for fiscal 2021. Products are sold to various retail accounts in the U.S., such as footwear stores, sporting goods stores, and department stores. NIKE utilizes sales offices in the U.S. to facilitate sales. The three largest customers in the U.S. made up approximately 22% of sales in fiscal 2023. NIKE Direct and Converse direct to consumer operations sell products through digital platforms and a certain number of retail stores in the U.S. In the U.S., NIKE operates factory stores, in-line stores, and Converse stores. NIKE has eight significant distribution centers in the United States.\",\n",
              " \"In fiscal 2023, non-U.S. sales of NIKE Brand and Converse accounted for about 57% of total revenues. For fiscal 2022 and 2021, non-U.S. NIKE Brand and Converse sales represented 60% and 61% of total revenues respectively. NIKE sells products through NIKE Direct operations, independent distributors, licensees, and sales representatives globally. Products are shipped from 67 distribution centers outside the U.S., refer to Item 2. Properties for more details on distribution facilities. During fiscal 2023, NIKE's top three non-U.S. customers made up around 14% of total non-U.S. sales. NIKE operates digital commerce platforms in over 40 countries and has a total of 663 retail stores outside the United States for NIKE Brand and Converse. 560 of these stores are NIKE Brand factory stores while 49 are NIKE Brand in-line stores and 54 are Converse stores. No single customer contributed 10% or more to the consolidated net revenues during fiscal 2023. Research, design, and development efforts are crucial for NIKE, focusing on technical innovation in footwear, apparel, and athletic equipment. NIKE employs specialists in various fields and collaborates with athletes, coaches, and experts for product development and compliance.\",\n",
              " \"The company focuses on designing innovative products and experiences by incorporating new technologies in various product categories and consumer applications. Market intelligence and research are utilized by different design teams to identify opportunities for integrating new technologies into existing product categories based on consumer preferences. The company's dedication to designing innovative products is exemplified by the use of technologies like Nike Air, Zoom, Free, Dri-FIT, Flyknit, FlyEase, ZoomX, Air Max, React, and Forward. Nearly all footwear and apparel products are manufactured outside the United States by independent manufacturers known as contract manufacturers. The company is supplied by numerous 'Tier 2' suppliers who provide the principal materials used in footwear and apparel finished goods products. As of May 31, 2023, the company had 146 strategic Tier 2 suppliers. As of May 31, 2023, the company's contract manufacturers operated 123 finished goods footwear factories in 11 countries. In fiscal 2023, NIKE Brand footwear finished goods were manufactured by 15 contract manufacturers, with the largest single finished goods footwear factory contributing around 9% of total production. Vietnam, Indonesia, and China manufactured approximately 50%, 27%, and 18% of total NIKE Brand footwear in fiscal 2023, respectively. Four footwear contract manufacturers each accounted for over 10% of footwear production in fiscal 2023, totaling approximately 58% of NIKE Brand footwear production. As of May 31, 2023, the company's contract manufacturers operated 291 finished goods apparel factories in 31 countries. In fiscal 2023, NIKE Brand apparel finished goods were manufactured by 55 contract manufacturers, where the largest single finished goods apparel factory contributed approximately 8% of total production. In fiscal 2023, Vietnam, China, and Cambodia manufactured around 29%, 18%, and 16% of total NIKE Brand apparel, respectively.\",\n",
              " \"In fiscal 2023, one apparel contract manufacturer produced more than 10% of NIKE Brand apparel, while the top five contract manufacturers together produced around 52% of NIKE Brand apparel. NIKE's contract manufacturers purchase raw materials for manufacturing footwear, apparel, and equipment, acquiring most raw materials locally where production occurs. The primary materials in NIKE footwear include natural and synthetic rubber, plastics, foams, leather, nylon, polyester, textiles, and polyurethane films for Air-Sole cushioning components. Air Manufacturing Innovation and contract manufacturers in China and Vietnam supplied NIKE Air-Sole cushioning components in fiscal 2023. The main materials in NIKE apparel are natural and synthetic fabrics, yarns (both virgin and recycled), performance fabrics for moisture-wicking and weather protection, and plastic and metal hardware. During fiscal 2023, NIKE faced supply chain volatility early in the year, with gradually improving conditions and increased network costs due to inflation. Despite challenges, contract manufacturers successfully sourced enough raw materials for NIKE footwear and apparel products in fiscal 2023. Sojitz Corporation of America, a large Japanese trading company, has provided import-export financing services to NIKE since 1972 and is the sole owner of NIKE's redeemable preferred stock. The sourcing risks affecting NIKE's business due to supply chain challenges and inflationary pressures are discussed in Item 1A. Risk Factors of the financial report. NIKE's international operations and trade involve working with contract manufacturers in various countries to produce their products.\",\n",
              " \"NIKE's international operations are subject to risks of doing business abroad, such as trade policy changes, import duties, quotas, and political instability. NIKE has not been significantly impacted by these risks so far, but cannot predict future effects. Global economic and political uncertainties have led to increased protectionist actions worldwide. The footwear and apparel industries, including NIKE, are impacted by trade protectionism. NIKE collaborates with industry groups to address trade issues and comply with competition laws. Despite efforts to mitigate impact, protectionist measures have increased NIKE's product costs. Further measures could negatively affect NIKE's sales and profitability, as well as the imported footwear and apparel industry.\"]"
            ]
          },
          "execution_count": 29,
          "metadata": {},
          "output_type": "execute_result"
        }
      ],
      "source": [
        "propositions[5:10]"
      ]
    },
    {
      "cell_type": "code",
      "execution_count": 30,
      "metadata": {},
      "outputs": [],
      "source": [
        "# Save to disk for faster reload..\n",
        "with open(\"propositions.json\", \"w\") as f:\n",
        "    json.dump(propositions, f)"
      ]
    },
    {
      "cell_type": "code",
      "execution_count": 63,
      "metadata": {},
      "outputs": [],
      "source": [
        "# Load from disk... if possible.\n",
        "with open(\"propositions.json\", \"r\") as f:\n",
        "    propositions = json.load(f)"
      ]
    },
    {
      "cell_type": "markdown",
      "metadata": {},
      "source": [
        "#### Create embeddings from propositions data"
      ]
    },
    {
      "cell_type": "code",
      "execution_count": 64,
      "metadata": {},
      "outputs": [
        {
          "data": {
            "text/plain": [
              "True"
            ]
          },
          "execution_count": 64,
          "metadata": {},
          "output_type": "execute_result"
        }
      ],
      "source": [
        "prop_embeddings = hf.embed_many([\n",
        "    proposition for proposition in propositions\n",
        "])\n",
        "\n",
        "# Check to make sure we've created enough embeddings, 1 per document chunk\n",
        "len(prop_embeddings) == len(propositions) == len(chunks)"
      ]
    },
    {
      "cell_type": "markdown",
      "metadata": {},
      "source": [
        "#### Upsert Redis"
      ]
    },
    {
      "cell_type": "code",
      "execution_count": 65,
      "metadata": {},
      "outputs": [],
      "source": [
        "keys = await index.load([\n",
        "    {\n",
        "        \"doc_id\": f\"{i}\",\n",
        "        \"propositions\": proposition,\n",
        "        # For HASH -- must convert embeddings to bytes\n",
        "        \"text_embedding\": array_to_buffer(prop_embeddings[i])\n",
        "    } for i, proposition in enumerate(propositions)],\n",
        "    id_field=\"doc_id\"\n",
        ")"
      ]
    },
    {
      "cell_type": "markdown",
      "metadata": {},
      "source": [
        "#### Adjust the schema and recreate"
      ]
    },
    {
      "cell_type": "code",
      "execution_count": 66,
      "metadata": {},
      "outputs": [
        {
          "name": "stdout",
          "output_type": "stream",
          "text": [
            "10:24:54 redisvl.index.index INFO   Index already exists, overwriting.\n"
          ]
        }
      ],
      "source": [
        "index.schema.add_field({\"name\": \"propositions\", \"type\": \"text\"})\n",
        "\n",
        "# create new index on same underlying data\n",
        "await index.create(overwrite=True, drop=False)"
      ]
    },
    {
      "cell_type": "markdown",
      "metadata": {},
      "source": [
        "#### Test the updated RAG workflow"
      ]
    },
    {
      "cell_type": "code",
      "execution_count": 39,
      "metadata": {},
      "outputs": [],
      "source": [
        "# Update the retrieval helper to use propositions\n",
        "async def retrieve_context(index: AsyncSearchIndex, query_vector) -> str:\n",
        "    \"\"\"Fetch the relevant context from Redis using vector search\"\"\"\n",
        "    print(\"Using dense content representation\", flush=True)\n",
        "    results = await index.query(\n",
        "        VectorQuery(\n",
        "            vector=query_vector,\n",
        "            vector_field_name=\"text_embedding\",\n",
        "            return_fields=[\"propositions\"],\n",
        "            num_results=3\n",
        "        )\n",
        "    )\n",
        "    content = \"\\n\".join([result[\"propositions\"] for result in results])\n",
        "    return content\n",
        "\n",
        "# Update the answer_question method\n",
        "async def answer_question(index: AsyncSearchIndex, query: str):\n",
        "    \"\"\"Answer the user's question\"\"\"\n",
        "\n",
        "    SYSTEM_PROMPT = \"\"\"You are a helpful financial analyst assistant that has access\n",
        "    to public financial 10k documents in order to answer users questions about company\n",
        "    performance, ethics, characteristics, and core information.\n",
        "    \"\"\"\n",
        "\n",
        "    query_vector = hf.embed(query)\n",
        "    # Fetch context from Redis using vector search\n",
        "    context = await retrieve_context(index, query_vector)\n",
        "    # Generate contextualized prompt and feed to OpenAI\n",
        "    response = await openai.AsyncClient().chat.completions.create(\n",
        "        model=CHAT_MODEL,\n",
        "        messages=[\n",
        "            {\"role\": \"system\", \"content\": SYSTEM_PROMPT},\n",
        "            {\"role\": \"user\", \"content\": promptify(query, context)}\n",
        "        ],\n",
        "        temperature=0.1,\n",
        "        seed=42\n",
        "    )\n",
        "    # Response provided by LLM\n",
        "    return response.choices[0].message.content"
      ]
    },
    {
      "cell_type": "code",
      "execution_count": 40,
      "metadata": {},
      "outputs": [
        {
          "name": "stdout",
          "output_type": "stream",
          "text": [
            "Using dense content representation\n",
            "Using dense content representation\n",
            "Using dense content representation\n",
            "Using dense content representation\n",
            "Using dense content representation\n"
          ]
        },
        {
          "data": {
            "text/html": [
              "<div>\n",
              "<style scoped>\n",
              "    .dataframe tbody tr th:only-of-type {\n",
              "        vertical-align: middle;\n",
              "    }\n",
              "\n",
              "    .dataframe tbody tr th {\n",
              "        vertical-align: top;\n",
              "    }\n",
              "\n",
              "    .dataframe thead th {\n",
              "        text-align: right;\n",
              "    }\n",
              "</style>\n",
              "<table border=\"1\" class=\"dataframe\">\n",
              "  <thead>\n",
              "    <tr style=\"text-align: right;\">\n",
              "      <th></th>\n",
              "      <th>question</th>\n",
              "      <th>answer</th>\n",
              "    </tr>\n",
              "  </thead>\n",
              "  <tbody>\n",
              "    <tr>\n",
              "      <th>0</th>\n",
              "      <td>What is the trend in the company's revenue and...</td>\n",
              "      <td>The trend in the company's revenue and profit ...</td>\n",
              "    </tr>\n",
              "    <tr>\n",
              "      <th>1</th>\n",
              "      <td>What are the company's primary revenue sources?</td>\n",
              "      <td>The company's primary revenue sources are as f...</td>\n",
              "    </tr>\n",
              "    <tr>\n",
              "      <th>2</th>\n",
              "      <td>How much debt does the company have, and what ...</td>\n",
              "      <td>As of May 31, 2023, the company had approximat...</td>\n",
              "    </tr>\n",
              "    <tr>\n",
              "      <th>3</th>\n",
              "      <td>What does the company say about its environmen...</td>\n",
              "      <td>Based on the provided context, the company ack...</td>\n",
              "    </tr>\n",
              "    <tr>\n",
              "      <th>4</th>\n",
              "      <td>What is the company's strategy for growth?</td>\n",
              "      <td>Based on the provided context, the company's s...</td>\n",
              "    </tr>\n",
              "  </tbody>\n",
              "</table>\n",
              "</div>"
            ],
            "text/plain": [
              "                                            question  \\\n",
              "0  What is the trend in the company's revenue and...   \n",
              "1    What are the company's primary revenue sources?   \n",
              "2  How much debt does the company have, and what ...   \n",
              "3  What does the company say about its environmen...   \n",
              "4         What is the company's strategy for growth?   \n",
              "\n",
              "                                              answer  \n",
              "0  The trend in the company's revenue and profit ...  \n",
              "1  The company's primary revenue sources are as f...  \n",
              "2  As of May 31, 2023, the company had approximat...  \n",
              "3  Based on the provided context, the company ack...  \n",
              "4  Based on the provided context, the company's s...  "
            ]
          },
          "execution_count": 40,
          "metadata": {},
          "output_type": "execute_result"
        }
      ],
      "source": [
        "results = await asyncio.gather(*[\n",
        "    answer_question(index, question) for question in questions\n",
        "])\n",
        "\n",
        "pd.DataFrame(columns=[\"question\", \"answer\"], data=list(zip(questions, results)))"
      ]
    },
    {
      "cell_type": "markdown",
      "metadata": {
        "id": "TnkK0NwIIM9q"
      },
      "source": [
        "### Improve accuracy with query rewriting / expansion\n",
        "\n",
        "We can also use the power on an LLM to rewrite or expand an input question.\n",
        "\n",
        "Example: https://github.com/langchain-ai/langchain/blob/master/templates/rewrite-retrieve-read/rewrite_retrieve_read/chain.py"
      ]
    },
    {
      "cell_type": "code",
      "execution_count": 41,
      "metadata": {
        "id": "XnWhfeiGYVrI"
      },
      "outputs": [
        {
          "name": "stdout",
          "output_type": "stream",
          "text": [
            "Using dense content representation\n"
          ]
        },
        {
          "data": {
            "text/plain": [
              "'Based on the information provided, we can see that NIKE, Inc. has multiple subsidiaries operating in various jurisdictions such as the United States, Netherlands, China, Mexico, Japan, and Korea. The company also has significant investments in technology, business infrastructure, new businesses, product offerings, and manufacturing. Additionally, the company had bank guarantees and letters of credit totaling $588 million in 2023, primarily for real estate agreements, self-insurance programs, and legal matters.\\n\\nWhile the specific revenue or market capitalization figures are not provided in the context, the presence of multiple subsidiaries, significant investments, and financial commitments indicate that NIKE, Inc. is a large and globally diversified company.'"
            ]
          },
          "execution_count": 41,
          "metadata": {},
          "output_type": "execute_result"
        }
      ],
      "source": [
        "# An example question that is a bit simplistic...\n",
        "await answer_question(index, \"How big is the company?\")"
      ]
    },
    {
      "cell_type": "code",
      "execution_count": 42,
      "metadata": {
        "id": "Tg55HqLFIRXJ"
      },
      "outputs": [],
      "source": [
        "async def rewrite_query(query: str, prompt: str = None):\n",
        "    \"\"\"Rewrite the user's original query\"\"\"\n",
        "\n",
        "    SYSTEM_PROMPT = prompt if prompt else \"\"\"Given the user's input question below, find a better or\n",
        "    more complete way to phrase this question in order to improve semantic search\n",
        "    engine retrieval quality over a set of SEC 10K PDF docs. Return the rephrased\n",
        "    question as a string in a JSON response under the key \"query\".\"\"\"\n",
        "\n",
        "    response = await openai.AsyncClient().chat.completions.create(\n",
        "        model=CHAT_MODEL,\n",
        "        response_format={ \"type\": \"json_object\" },\n",
        "        messages=[\n",
        "            {\"role\": \"system\", \"content\": SYSTEM_PROMPT},\n",
        "            {\"role\": \"user\", \"content\": f\"Original input question from user: {query}\"}\n",
        "        ],\n",
        "        temperature=0.1,\n",
        "        seed=42\n",
        "    )\n",
        "    # Response provided by LLM\n",
        "    rewritten_query = json.loads(response.choices[0].message.content)[\"query\"]\n",
        "    return rewritten_query"
      ]
    },
    {
      "cell_type": "code",
      "execution_count": 43,
      "metadata": {
        "id": "8_ce8fC8KR50"
      },
      "outputs": [
        {
          "data": {
            "text/plain": [
              "'What is the size of the company in terms of revenue, assets, and market capitalization?'"
            ]
          },
          "execution_count": 43,
          "metadata": {},
          "output_type": "execute_result"
        }
      ],
      "source": [
        "# Example Sinple Query Rewritten\n",
        "await rewrite_query(\"How big is the company?\")"
      ]
    },
    {
      "cell_type": "code",
      "execution_count": 44,
      "metadata": {
        "id": "9ubNQrJOYL42"
      },
      "outputs": [],
      "source": [
        "async def answer_question(index: AsyncSearchIndex, query: str, **kwargs):\n",
        "    \"\"\"Answer the user's question\"\"\"\n",
        "\n",
        "    SYSTEM_PROMPT = \"\"\"You are a helpful financial analyst assistant that has access\n",
        "    to public financial 10k documents in order to answer users questions about company\n",
        "    performance, ethics, characteristics, and core information.\n",
        "    \"\"\"\n",
        "\n",
        "    # Rewrite the query using an LLM\n",
        "    rewritten_query = await rewrite_query(query, **kwargs)\n",
        "    print(\"User query updated to:\\n\", rewritten_query, flush=True)\n",
        "\n",
        "    query_vector = hf.embed(rewritten_query)\n",
        "    # Fetch context from Redis using vector search\n",
        "    context = await retrieve_context(index, query_vector)\n",
        "    print(\"Context retrieved\", flush=True)\n",
        "\n",
        "    # Generate contextualized prompt and feed to OpenAI\n",
        "    response = await openai.AsyncClient().chat.completions.create(\n",
        "        model=CHAT_MODEL,\n",
        "        messages=[\n",
        "            {\"role\": \"system\", \"content\": SYSTEM_PROMPT},\n",
        "            {\"role\": \"user\", \"content\": promptify(rewritten_query, context)}\n",
        "        ],\n",
        "        temperature=0.1,\n",
        "        seed=42\n",
        "    )\n",
        "    # Response provided by LLM\n",
        "    return response.choices[0].message.content"
      ]
    },
    {
      "cell_type": "code",
      "execution_count": 45,
      "metadata": {
        "id": "BIO_jW6KYsMU"
      },
      "outputs": [
        {
          "name": "stdout",
          "output_type": "stream",
          "text": [
            "User query updated to:\n",
            " What is the size of the company in terms of revenue, assets, and market capitalization?\n",
            "Using dense content representation\n",
            "Context retrieved\n"
          ]
        },
        {
          "data": {
            "text/plain": [
              "\"Based on the provided context from the financial documents, we can determine the size of the company in terms of revenue, assets, and market capitalization as follows:\\n\\n1. Revenue:\\n   - The company's total revenues for fiscal year 2023 were $51,217 million, representing a 10% increase from fiscal year 2022.\\n   - The breakdown of revenues includes NIKE Brand revenues from Footwear, Apparel, Global Brand Divisions, and Converse, among others.\\n\\n2. Assets:\\n   - The company's assets at fair value as of May 31, 2023, included various categories such as cash and equivalents, short-term investments, U.S. Treasury securities, commercial paper, bonds, money market funds, and more.\\n   - Specific asset values were provided for cash, U.S. Treasury securities, commercial paper and bonds, money market funds, and available-for-sale debt securities.\\n\\n3. Market Capitalization:\\n   - Market capitalization is not explicitly provided in the context. Market capitalization is calculated by multiplying the company's total outstanding shares by the current market price per share. This information is typically available in financial news sources or stock market websites.\\n\\nIn summary, based on the information provided, the company's revenue for fiscal year 2023 was $51,217 million, and details about its assets were outlined. However, specific information about market capitalization is not directly available in the context provided.\""
            ]
          },
          "execution_count": 45,
          "metadata": {},
          "output_type": "execute_result"
        }
      ],
      "source": [
        "# Now try again with query re-writing enabled\n",
        "await answer_question(index, \"How big is the company?\")"
      ]
    },
    {
      "cell_type": "markdown",
      "metadata": {
        "id": "p97uL4g9T6LQ"
      },
      "source": [
        "### Improve performance and cut costs with LLM caching"
      ]
    },
    {
      "cell_type": "code",
      "execution_count": 46,
      "metadata": {
        "id": "7geEAsYST6LQ"
      },
      "outputs": [],
      "source": [
        "from redisvl.extensions.llmcache import SemanticCache\n",
        "\n",
        "llmcache = SemanticCache(\n",
        "    name=\"llmcache\",\n",
        "    vectorizer=hf,\n",
        "    redis_url=REDIS_URL,\n",
        "    ttl=120,\n",
        "    distance_threshold=0.2\n",
        ")"
      ]
    },
    {
      "cell_type": "code",
      "execution_count": 47,
      "metadata": {
        "id": "1ALcQXAqT6LQ"
      },
      "outputs": [],
      "source": [
        "from functools import wraps\n",
        "\n",
        "# Create an LLM caching decorator\n",
        "def cache(func):\n",
        "    @wraps(func)\n",
        "    async def wrapper(index, query_text, *args, **kwargs):\n",
        "        query_vector = llmcache._vectorizer.embed(query_text)\n",
        "\n",
        "        # Check the cache with the vector\n",
        "        if result := llmcache.check(vector=query_vector):\n",
        "            return result[0]['response']\n",
        "\n",
        "        response = await func(index, query_text, query_vector=query_vector)\n",
        "        llmcache.store(query_text, response, query_vector)\n",
        "        return response\n",
        "    return wrapper\n",
        "\n",
        "\n",
        "@cache\n",
        "async def answer_question(index: AsyncSearchIndex, query: str, **kwargs):\n",
        "    \"\"\"Answer the user's question\"\"\"\n",
        "\n",
        "    SYSTEM_PROMPT = \"\"\"You are a helpful financial analyst assistant that has access\n",
        "    to public financial 10k documents in order to answer users questions about company\n",
        "    performance, ethics, characteristics, and core information.\n",
        "    \"\"\"\n",
        "\n",
        "    context = await retrieve_context(index, kwargs[\"query_vector\"])\n",
        "    response = await openai.AsyncClient().chat.completions.create(\n",
        "        model=CHAT_MODEL,\n",
        "        messages=[\n",
        "            {\"role\": \"system\", \"content\": SYSTEM_PROMPT},\n",
        "            {\"role\": \"user\", \"content\": promptify(query, context)}\n",
        "        ],\n",
        "        temperature=0.1,\n",
        "        seed=42\n",
        "    )\n",
        "    # Response provided by GPT-3.5\n",
        "    return response.choices[0].message.content"
      ]
    },
    {
      "cell_type": "code",
      "execution_count": 48,
      "metadata": {
        "id": "BXK_BXuhT6LQ"
      },
      "outputs": [
        {
          "name": "stdout",
          "output_type": "stream",
          "text": [
            "Using dense content representation\n"
          ]
        },
        {
          "data": {
            "text/plain": [
              "\"Nike's revenue last year was $1,932 million, and this year it was $1,896 million. This indicates a decrease in revenue of 4.841% compared to the previous period.\""
            ]
          },
          "execution_count": 48,
          "metadata": {},
          "output_type": "execute_result"
        }
      ],
      "source": [
        "query = \"What was Nike's revenue last year compared to this year??\"\n",
        "\n",
        "await answer_question(index, query)"
      ]
    },
    {
      "cell_type": "code",
      "execution_count": 49,
      "metadata": {
        "id": "7mZpSpf9T6LQ"
      },
      "outputs": [
        {
          "data": {
            "text/plain": [
              "\"Nike's revenue last year was $1,932 million, and this year it was $1,896 million. This indicates a decrease in revenue of 4.841% compared to the previous period.\""
            ]
          },
          "execution_count": 49,
          "metadata": {},
          "output_type": "execute_result"
        }
      ],
      "source": [
        "query = \"What was Nike's total revenue in the last year compared to now??\"\n",
        "\n",
        "await answer_question(index, query)\n",
        "\n",
        "# notice no HTTP request to OpenAI since this question is \"close enough\" to the last one"
      ]
    },
    {
      "cell_type": "markdown",
      "metadata": {
        "id": "UaiF_ws7itsi"
      },
      "source": [
        "### Improve personalization with including chat session history\n",
        "\n",
        "In order to preserve state in the conversation, it's imperitive to offload conversation history to a database that can handle high transaction throughput for writes/reads to limit system latency.\n",
        "\n",
        "We can store message history for a particular user session in a Redis List data type.\n"
      ]
    },
    {
      "cell_type": "code",
      "execution_count": 50,
      "metadata": {
        "id": "WMOF7fJQdhgN"
      },
      "outputs": [],
      "source": [
        "import json\n",
        "\n",
        "\n",
        "class ChatBot:\n",
        "    def __init__(self, index: AsyncSearchIndex, user: str):\n",
        "        self.index = index\n",
        "        self.user = user\n",
        "\n",
        "    async def get_messages(self) -> list:\n",
        "        \"\"\"Get all messages associated with a session\"\"\"\n",
        "        return [\n",
        "            json.loads(msg) for msg in await self.index.client.lrange(f\"messages:{self.user}\", 0, -1)\n",
        "        ]\n",
        "\n",
        "    async def add_messages(self, messages: list):\n",
        "        \"\"\"Add chat messages to a Redis List\"\"\"\n",
        "        return await self.index.client.rpush(\n",
        "            f\"messages:{self.user}\", *[json.dumps(msg) for msg in messages]\n",
        "        )\n",
        "\n",
        "    async def clear_history(self):\n",
        "        \"\"\"Clear session chat\"\"\"\n",
        "        await index.client.delete(f\"messages:{self.user}\")\n",
        "\n",
        "    @staticmethod\n",
        "    def promptify(query: str, context: str) -> str:\n",
        "        return f'''Use the provided context below derived from public financial\n",
        "        documents to answer the user's question. If you can't answer the user's\n",
        "        question, based on the context; do not guess. If there is no context at all,\n",
        "        respond with \"I don't know\".\n",
        "\n",
        "        User question:\n",
        "\n",
        "        {query}\n",
        "\n",
        "        Helpful context:\n",
        "\n",
        "        {context}\n",
        "\n",
        "        Answer:\n",
        "        '''\n",
        "\n",
        "    async def retrieve_context(self, query_vector) -> str:\n",
        "        \"\"\"Fetch the relevant context from Redis using vector search\"\"\"\n",
        "        results = await self.index.query(\n",
        "            VectorQuery(\n",
        "                vector=query_vector,\n",
        "                vector_field_name=\"text_embedding\",\n",
        "                return_fields=[\"propositions\"],\n",
        "                num_results=3\n",
        "            )\n",
        "        )\n",
        "        content = \"\\n\".join([result[\"propositions\"] for result in results])\n",
        "        return content\n",
        "\n",
        "    async def answer_question(self, query: str):\n",
        "        \"\"\"Answer the user's question with historical context and caching baked-in\"\"\"\n",
        "\n",
        "        SYSTEM_PROMPT = \"\"\"You are a helpful financial analyst assistant that has access\n",
        "        to public financial 10k documents in order to answer users questions about company\n",
        "        performance, ethics, characteristics, and core information.\n",
        "        \"\"\"\n",
        "\n",
        "        # Create query vector\n",
        "        query_vector = llmcache._vectorizer.embed(query)\n",
        "\n",
        "        # TODO - implement semantic gaurdrails?\n",
        "\n",
        "        # Check the cache with the vector\n",
        "        if result := llmcache.check(vector=query_vector):\n",
        "            answer = result[0]['response']\n",
        "        else:\n",
        "            # TODO - implement query rewriting?\n",
        "            context = await self.retrieve_context(query_vector)\n",
        "            session = await self.get_messages()\n",
        "            # TODO - implement session summarization?\n",
        "            messages = (\n",
        "                [{\"role\": \"system\", \"content\": SYSTEM_PROMPT}] +\n",
        "                session +\n",
        "                [{\"role\": \"user\", \"content\": self.promptify(query, context)}]\n",
        "            )\n",
        "            # Response provided by GPT-3.5\n",
        "            response = await openai.AsyncClient().chat.completions.create(\n",
        "                model=CHAT_MODEL,\n",
        "                messages=messages,\n",
        "                temperature=0.1,\n",
        "                seed=42\n",
        "            )\n",
        "            answer = response.choices[0].message.content\n",
        "            llmcache.store(query, answer, query_vector)\n",
        "\n",
        "        # Add message history\n",
        "        await self.add_messages([\n",
        "            {\"role\": \"user\", \"content\": query},\n",
        "            {\"role\": \"assistant\", \"content\": answer}\n",
        "        ])\n",
        "\n",
        "        return answer"
      ]
    },
    {
      "cell_type": "markdown",
      "metadata": {},
      "source": [
        "## Test the entire RAG workflow"
      ]
    },
    {
      "cell_type": "code",
      "execution_count": 51,
      "metadata": {
        "id": "_Z3RUvyxdhiz"
      },
      "outputs": [],
      "source": [
        "# Setup Session\n",
        "chat = ChatBot(index, \"tyler\")\n",
        "await chat.clear_history()"
      ]
    },
    {
      "cell_type": "code",
      "execution_count": 52,
      "metadata": {},
      "outputs": [
        {
          "name": "stdout",
          "output_type": "stream",
          "text": [
            "NIKE had about 83,700 employees globally as of May 31, 2023, including retail and part-time workers, as well as independent contractors and temporary personnel.\n",
            "NIKE sells a wide range of products including athletic footwear, apparel, accessories, and equipment under the NIKE Brand, Jordan Brand, and Converse. The NIKE Brand offers performance athletic products for Men's, Women's, and Kids' categories, including sport-inspired lifestyle items. The Jordan Brand focuses on athletic and casual products with a basketball focus, while Converse sells casual products under various trademarks. Additionally, NIKE sells licensed apparel with team logos, performance equipment, and accessories such as bags, socks, and eyewear.\n",
            "Based on the provided context, it appears that footwear is the most profitable product category for NIKE. Footwear revenues for NIKE were $14,897, which is significantly higher than revenues from apparel ($5,947), equipment ($764), and other sources ($0). Additionally, the context mentions that footwear revenues increased by 22% on a currency-neutral basis, with unit sales increasing by 17% and higher ASP per pair contributing to revenue growth. This indicates that footwear is a key driver of profitability for NIKE.\n"
          ]
        }
      ],
      "source": [
        "# Run a simple chat\n",
        "stopterms = [\"exit\", \"quit\", \"end\", \"cancel\"]\n",
        "\n",
        "# Simple Chat\n",
        "while True:\n",
        "    user_query = input()\n",
        "    if user_query.lower() in stopterms:\n",
        "        break\n",
        "    answer = await chat.answer_question(user_query)\n",
        "    print(answer, flush=True)"
      ]
    },
    {
      "cell_type": "code",
      "execution_count": 53,
      "metadata": {
        "id": "ZoPQMAShZ5Uy"
      },
      "outputs": [
        {
          "data": {
            "text/plain": [
              "[{'role': 'user', 'content': 'Hello. How many employees does Nike have?'},\n",
              " {'role': 'assistant',\n",
              "  'content': 'NIKE had about 83,700 employees globally as of May 31, 2023, including retail and part-time workers, as well as independent contractors and temporary personnel.'},\n",
              " {'role': 'user',\n",
              "  'content': 'Ok. What about the different products Nike sells. What kinds of products does it sell?'},\n",
              " {'role': 'assistant',\n",
              "  'content': \"NIKE sells a wide range of products including athletic footwear, apparel, accessories, and equipment under the NIKE Brand, Jordan Brand, and Converse. The NIKE Brand offers performance athletic products for Men's, Women's, and Kids' categories, including sport-inspired lifestyle items. The Jordan Brand focuses on athletic and casual products with a basketball focus, while Converse sells casual products under various trademarks. Additionally, NIKE sells licensed apparel with team logos, performance equipment, and accessories such as bags, socks, and eyewear.\"},\n",
              " {'role': 'user', 'content': 'Which products are the most profitable?'},\n",
              " {'role': 'assistant',\n",
              "  'content': 'Based on the provided context, it appears that footwear is the most profitable product category for NIKE. Footwear revenues for NIKE were $14,897, which is significantly higher than revenues from apparel ($5,947), equipment ($764), and other sources ($0). Additionally, the context mentions that footwear revenues increased by 22% on a currency-neutral basis, with unit sales increasing by 17% and higher ASP per pair contributing to revenue growth. This indicates that footwear is a key driver of profitability for NIKE.'}]"
            ]
          },
          "execution_count": 53,
          "metadata": {},
          "output_type": "execute_result"
        }
      ],
      "source": [
        "await chat.get_messages()"
      ]
    },
    {
      "cell_type": "markdown",
      "metadata": {
        "id": "5l4uEgKzljes"
      },
      "source": [
        "## Your Next Steps\n",
        "\n",
        "While a good start, there is still more to do. **For example**:\n",
        "- we could utilize message history to generate an updated and contextualized query to use for retrieval and answer generation (with an LLM). Otherwise, there can be a disconnect between what a user is asking (in context) and what they are asking in isolation.\n",
        "- we could utilize an LLM to summarize conversation history to use as context instead of passing the whole slew of messages to the Chat endpoint.\n",
        "- we could utilize semantic properties of the message history (or summaries) in order to fetch only relevant conversation bits (vector search).\n",
        "- we could utilize a technique like HyDE ( a form of query rewriting ) to improve the retrieval quality from raw user input to source documents OR try to break down user questions into sub questions and fetch / join context based on the different searces.\n",
        "- we could incorporate semantic routing to take a broken down question and route to different data sources, indices, or query types (etc).\n",
        "- we could add semantic guardrails on the front end or back end of the conversation I/O to ensure we are within bounds of approved topics."
      ]
    },
    {
      "cell_type": "markdown",
      "metadata": {
        "id": "Wscs4Mvo1ujD"
      },
      "source": [
        "## Cleanup\n",
        "\n",
        "Clean up the database."
      ]
    },
    {
      "cell_type": "code",
      "execution_count": 54,
      "metadata": {
        "id": "On6yNuQn1ujD"
      },
      "outputs": [
        {
          "data": {
            "text/plain": [
              "True"
            ]
          },
          "execution_count": 54,
          "metadata": {},
          "output_type": "execute_result"
        }
      ],
      "source": [
        "await index.client.flushall()"
      ]
    },
    {
      "cell_type": "markdown",
      "metadata": {
        "id": "oU9qZsAn1ujD"
      },
      "source": [
        "Now that you have tried the easy-to-use RedisVL client, try your hand with LangChain -- the highest level of abstraction for using and integrating Redis as a vector database.\n",
        "\n",
        "\n",
        "<a href=\"https://colab.research.google.com/github/redis-developer/financial-vss/blob/main/langchain-03.ipynb\" target=\"_parent\"><img src=\"https://colab.research.google.com/assets/colab-badge.svg\" alt=\"Open In Colab\"/></a>"
      ]
    }
  ],
  "metadata": {
    "accelerator": "GPU",
    "colab": {
      "gpuType": "T4",
      "provenance": []
    },
    "kernelspec": {
      "display_name": "Python 3",
      "name": "python3"
    },
    "language_info": {
      "codemirror_mode": {
        "name": "ipython",
        "version": 3
      },
      "file_extension": ".py",
      "mimetype": "text/x-python",
      "name": "python",
      "nbconvert_exporter": "python",
      "pygments_lexer": "ipython3",
      "version": "3.11.4"
    }
  },
  "nbformat": 4,
  "nbformat_minor": 0
}
