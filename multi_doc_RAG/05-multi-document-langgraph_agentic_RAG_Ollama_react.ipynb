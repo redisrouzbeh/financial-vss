{
 "cells": [
  {
   "cell_type": "markdown",
   "id": "425fb020-e864-40ce-a31f-8da40c73d14b",
   "metadata": {},
   "source": [
    "# Multi-document LangGraph with Redis Retrieval Agent using Ollama and React agents\n",
    "[Retrieval Agents](https://python.langchain.com/docs/use_cases/question_answering/conversational_retrieval_agents) are useful when we want to make decisions about whether to retrieve from an index. Here we construct the same single index of 10Ks with metadata that we tried in notebook 04.\n",
    "\n",
    "To implement a Redis retrieval agent, we simply need to give an LLM access to a Redis retriever tool.\n",
    "\n",
    "We can incorporate this into [LangGraph](https://python.langchain.com/docs/langgraph)."
   ]
  },
  {
   "cell_type": "code",
   "id": "e4958a8c",
   "metadata": {
    "ExecuteTime": {
     "end_time": "2024-06-03T18:24:51.009838Z",
     "start_time": "2024-06-03T18:24:51.004557Z"
    }
   },
   "source": [
    "import json\n",
    "import os\n",
    "import warnings\n",
    "warnings.filterwarnings(\"ignore\")\n",
    "dir_path = os.getcwd()\n",
    "parent_directory = os.path.dirname(dir_path)\n",
    "os.environ[\"TOKENIZERS_PARALLELISM\"] = \"false\"\n",
    "os.environ[\"ROOT_DIR\"] = parent_directory\n",
    "print(dir_path)\n",
    "print(parent_directory)"
   ],
   "outputs": [
    {
     "name": "stdout",
     "output_type": "stream",
     "text": [
      "/Users/rouzbeh.farahmand/PycharmProjects/commit/financial-vss/multi_doc_RAG\n",
      "/Users/rouzbeh.farahmand/PycharmProjects/commit/financial-vss\n"
     ]
    }
   ],
   "execution_count": 24
  },
  {
   "metadata": {
    "ExecuteTime": {
     "end_time": "2024-06-03T18:24:53.462463Z",
     "start_time": "2024-06-03T18:24:51.020552Z"
    }
   },
   "cell_type": "code",
   "source": "!pip3 install -r $ROOT_DIR/requirements.txt",
   "id": "fe27d19af62e7bc5",
   "outputs": [
    {
     "name": "stdout",
     "output_type": "stream",
     "text": [
      "Requirement already satisfied: openai in /Library/Frameworks/Python.framework/Versions/3.11/lib/python3.11/site-packages (from -r /Users/rouzbeh.farahmand/PycharmProjects/commit/financial-vss/requirements.txt (line 1)) (1.30.5)\r\n",
      "Requirement already satisfied: tiktoken in /Library/Frameworks/Python.framework/Versions/3.11/lib/python3.11/site-packages (from -r /Users/rouzbeh.farahmand/PycharmProjects/commit/financial-vss/requirements.txt (line 2)) (0.7.0)\r\n",
      "Requirement already satisfied: langchain in /Library/Frameworks/Python.framework/Versions/3.11/lib/python3.11/site-packages (from -r /Users/rouzbeh.farahmand/PycharmProjects/commit/financial-vss/requirements.txt (line 3)) (0.2.1)\r\n",
      "Requirement already satisfied: langchain-community in /Library/Frameworks/Python.framework/Versions/3.11/lib/python3.11/site-packages (from -r /Users/rouzbeh.farahmand/PycharmProjects/commit/financial-vss/requirements.txt (line 4)) (0.2.1)\r\n",
      "Requirement already satisfied: sentence-transformers in /Library/Frameworks/Python.framework/Versions/3.11/lib/python3.11/site-packages (from -r /Users/rouzbeh.farahmand/PycharmProjects/commit/financial-vss/requirements.txt (line 6)) (3.0.0)\r\n",
      "Requirement already satisfied: pandas in /Library/Frameworks/Python.framework/Versions/3.11/lib/python3.11/site-packages (from -r /Users/rouzbeh.farahmand/PycharmProjects/commit/financial-vss/requirements.txt (line 7)) (2.2.2)\r\n",
      "Requirement already satisfied: pdf2image in /Library/Frameworks/Python.framework/Versions/3.11/lib/python3.11/site-packages (from -r /Users/rouzbeh.farahmand/PycharmProjects/commit/financial-vss/requirements.txt (line 8)) (1.17.0)\r\n",
      "Requirement already satisfied: redisvl>=0.1.0 in /Library/Frameworks/Python.framework/Versions/3.11/lib/python3.11/site-packages (from -r /Users/rouzbeh.farahmand/PycharmProjects/commit/financial-vss/requirements.txt (line 9)) (0.2.0)\r\n",
      "Requirement already satisfied: spacy in /Library/Frameworks/Python.framework/Versions/3.11/lib/python3.11/site-packages (from -r /Users/rouzbeh.farahmand/PycharmProjects/commit/financial-vss/requirements.txt (line 10)) (3.7.4)\r\n",
      "Requirement already satisfied: langgraph in /Library/Frameworks/Python.framework/Versions/3.11/lib/python3.11/site-packages (from -r /Users/rouzbeh.farahmand/PycharmProjects/commit/financial-vss/requirements.txt (line 11)) (0.0.59)\r\n",
      "Requirement already satisfied: langchainhub in /Library/Frameworks/Python.framework/Versions/3.11/lib/python3.11/site-packages (from -r /Users/rouzbeh.farahmand/PycharmProjects/commit/financial-vss/requirements.txt (line 12)) (0.1.17)\r\n",
      "Requirement already satisfied: langchain-openai in /Library/Frameworks/Python.framework/Versions/3.11/lib/python3.11/site-packages (from -r /Users/rouzbeh.farahmand/PycharmProjects/commit/financial-vss/requirements.txt (line 13)) (0.1.8)\r\n",
      "Requirement already satisfied: redis in /Library/Frameworks/Python.framework/Versions/3.11/lib/python3.11/site-packages (from -r /Users/rouzbeh.farahmand/PycharmProjects/commit/financial-vss/requirements.txt (line 14)) (5.0.4)\r\n",
      "Requirement already satisfied: langchain-experimental in /Library/Frameworks/Python.framework/Versions/3.11/lib/python3.11/site-packages (from -r /Users/rouzbeh.farahmand/PycharmProjects/commit/financial-vss/requirements.txt (line 16)) (0.0.59)\r\n",
      "Requirement already satisfied: unstructured[pdf] in /Library/Frameworks/Python.framework/Versions/3.11/lib/python3.11/site-packages (from -r /Users/rouzbeh.farahmand/PycharmProjects/commit/financial-vss/requirements.txt (line 5)) (0.14.3)\r\n",
      "Requirement already satisfied: anyio<5,>=3.5.0 in /Library/Frameworks/Python.framework/Versions/3.11/lib/python3.11/site-packages (from openai->-r /Users/rouzbeh.farahmand/PycharmProjects/commit/financial-vss/requirements.txt (line 1)) (4.4.0)\r\n",
      "Requirement already satisfied: distro<2,>=1.7.0 in /Library/Frameworks/Python.framework/Versions/3.11/lib/python3.11/site-packages (from openai->-r /Users/rouzbeh.farahmand/PycharmProjects/commit/financial-vss/requirements.txt (line 1)) (1.9.0)\r\n",
      "Requirement already satisfied: httpx<1,>=0.23.0 in /Library/Frameworks/Python.framework/Versions/3.11/lib/python3.11/site-packages (from openai->-r /Users/rouzbeh.farahmand/PycharmProjects/commit/financial-vss/requirements.txt (line 1)) (0.27.0)\r\n",
      "Requirement already satisfied: pydantic<3,>=1.9.0 in /Library/Frameworks/Python.framework/Versions/3.11/lib/python3.11/site-packages (from openai->-r /Users/rouzbeh.farahmand/PycharmProjects/commit/financial-vss/requirements.txt (line 1)) (2.7.2)\r\n",
      "Requirement already satisfied: sniffio in /Library/Frameworks/Python.framework/Versions/3.11/lib/python3.11/site-packages (from openai->-r /Users/rouzbeh.farahmand/PycharmProjects/commit/financial-vss/requirements.txt (line 1)) (1.3.1)\r\n",
      "Requirement already satisfied: tqdm>4 in /Library/Frameworks/Python.framework/Versions/3.11/lib/python3.11/site-packages (from openai->-r /Users/rouzbeh.farahmand/PycharmProjects/commit/financial-vss/requirements.txt (line 1)) (4.66.4)\r\n",
      "Requirement already satisfied: typing-extensions<5,>=4.7 in /Library/Frameworks/Python.framework/Versions/3.11/lib/python3.11/site-packages (from openai->-r /Users/rouzbeh.farahmand/PycharmProjects/commit/financial-vss/requirements.txt (line 1)) (4.12.0)\r\n",
      "Requirement already satisfied: regex>=2022.1.18 in /Library/Frameworks/Python.framework/Versions/3.11/lib/python3.11/site-packages (from tiktoken->-r /Users/rouzbeh.farahmand/PycharmProjects/commit/financial-vss/requirements.txt (line 2)) (2024.5.15)\r\n",
      "Requirement already satisfied: requests>=2.26.0 in /Library/Frameworks/Python.framework/Versions/3.11/lib/python3.11/site-packages (from tiktoken->-r /Users/rouzbeh.farahmand/PycharmProjects/commit/financial-vss/requirements.txt (line 2)) (2.32.3)\r\n",
      "Requirement already satisfied: PyYAML>=5.3 in /Library/Frameworks/Python.framework/Versions/3.11/lib/python3.11/site-packages (from langchain->-r /Users/rouzbeh.farahmand/PycharmProjects/commit/financial-vss/requirements.txt (line 3)) (6.0.1)\r\n",
      "Requirement already satisfied: SQLAlchemy<3,>=1.4 in /Library/Frameworks/Python.framework/Versions/3.11/lib/python3.11/site-packages (from langchain->-r /Users/rouzbeh.farahmand/PycharmProjects/commit/financial-vss/requirements.txt (line 3)) (2.0.30)\r\n",
      "Requirement already satisfied: aiohttp<4.0.0,>=3.8.3 in /Library/Frameworks/Python.framework/Versions/3.11/lib/python3.11/site-packages (from langchain->-r /Users/rouzbeh.farahmand/PycharmProjects/commit/financial-vss/requirements.txt (line 3)) (3.9.5)\r\n",
      "Requirement already satisfied: langchain-core<0.3.0,>=0.2.0 in /Library/Frameworks/Python.framework/Versions/3.11/lib/python3.11/site-packages (from langchain->-r /Users/rouzbeh.farahmand/PycharmProjects/commit/financial-vss/requirements.txt (line 3)) (0.2.2)\r\n",
      "Requirement already satisfied: langchain-text-splitters<0.3.0,>=0.2.0 in /Library/Frameworks/Python.framework/Versions/3.11/lib/python3.11/site-packages (from langchain->-r /Users/rouzbeh.farahmand/PycharmProjects/commit/financial-vss/requirements.txt (line 3)) (0.2.0)\r\n",
      "Requirement already satisfied: langsmith<0.2.0,>=0.1.17 in /Library/Frameworks/Python.framework/Versions/3.11/lib/python3.11/site-packages (from langchain->-r /Users/rouzbeh.farahmand/PycharmProjects/commit/financial-vss/requirements.txt (line 3)) (0.1.65)\r\n",
      "Requirement already satisfied: numpy<2,>=1 in /Library/Frameworks/Python.framework/Versions/3.11/lib/python3.11/site-packages (from langchain->-r /Users/rouzbeh.farahmand/PycharmProjects/commit/financial-vss/requirements.txt (line 3)) (1.26.4)\r\n",
      "Requirement already satisfied: tenacity<9.0.0,>=8.1.0 in /Library/Frameworks/Python.framework/Versions/3.11/lib/python3.11/site-packages (from langchain->-r /Users/rouzbeh.farahmand/PycharmProjects/commit/financial-vss/requirements.txt (line 3)) (8.3.0)\r\n",
      "Requirement already satisfied: dataclasses-json<0.7,>=0.5.7 in /Library/Frameworks/Python.framework/Versions/3.11/lib/python3.11/site-packages (from langchain-community->-r /Users/rouzbeh.farahmand/PycharmProjects/commit/financial-vss/requirements.txt (line 4)) (0.6.6)\r\n",
      "Requirement already satisfied: chardet in /Library/Frameworks/Python.framework/Versions/3.11/lib/python3.11/site-packages (from unstructured[pdf]->-r /Users/rouzbeh.farahmand/PycharmProjects/commit/financial-vss/requirements.txt (line 5)) (5.2.0)\r\n",
      "Requirement already satisfied: filetype in /Library/Frameworks/Python.framework/Versions/3.11/lib/python3.11/site-packages (from unstructured[pdf]->-r /Users/rouzbeh.farahmand/PycharmProjects/commit/financial-vss/requirements.txt (line 5)) (1.2.0)\r\n",
      "Requirement already satisfied: python-magic in /Library/Frameworks/Python.framework/Versions/3.11/lib/python3.11/site-packages (from unstructured[pdf]->-r /Users/rouzbeh.farahmand/PycharmProjects/commit/financial-vss/requirements.txt (line 5)) (0.4.27)\r\n",
      "Requirement already satisfied: lxml in /Library/Frameworks/Python.framework/Versions/3.11/lib/python3.11/site-packages (from unstructured[pdf]->-r /Users/rouzbeh.farahmand/PycharmProjects/commit/financial-vss/requirements.txt (line 5)) (5.2.2)\r\n",
      "Requirement already satisfied: nltk in /Library/Frameworks/Python.framework/Versions/3.11/lib/python3.11/site-packages (from unstructured[pdf]->-r /Users/rouzbeh.farahmand/PycharmProjects/commit/financial-vss/requirements.txt (line 5)) (3.8.1)\r\n",
      "Requirement already satisfied: tabulate in /Library/Frameworks/Python.framework/Versions/3.11/lib/python3.11/site-packages (from unstructured[pdf]->-r /Users/rouzbeh.farahmand/PycharmProjects/commit/financial-vss/requirements.txt (line 5)) (0.9.0)\r\n",
      "Requirement already satisfied: beautifulsoup4 in /Library/Frameworks/Python.framework/Versions/3.11/lib/python3.11/site-packages (from unstructured[pdf]->-r /Users/rouzbeh.farahmand/PycharmProjects/commit/financial-vss/requirements.txt (line 5)) (4.12.3)\r\n",
      "Requirement already satisfied: emoji in /Library/Frameworks/Python.framework/Versions/3.11/lib/python3.11/site-packages (from unstructured[pdf]->-r /Users/rouzbeh.farahmand/PycharmProjects/commit/financial-vss/requirements.txt (line 5)) (2.12.1)\r\n",
      "Requirement already satisfied: python-iso639 in /Library/Frameworks/Python.framework/Versions/3.11/lib/python3.11/site-packages (from unstructured[pdf]->-r /Users/rouzbeh.farahmand/PycharmProjects/commit/financial-vss/requirements.txt (line 5)) (2024.4.27)\r\n",
      "Requirement already satisfied: langdetect in /Library/Frameworks/Python.framework/Versions/3.11/lib/python3.11/site-packages (from unstructured[pdf]->-r /Users/rouzbeh.farahmand/PycharmProjects/commit/financial-vss/requirements.txt (line 5)) (1.0.9)\r\n",
      "Requirement already satisfied: rapidfuzz in /Library/Frameworks/Python.framework/Versions/3.11/lib/python3.11/site-packages (from unstructured[pdf]->-r /Users/rouzbeh.farahmand/PycharmProjects/commit/financial-vss/requirements.txt (line 5)) (3.9.2)\r\n",
      "Requirement already satisfied: backoff in /Library/Frameworks/Python.framework/Versions/3.11/lib/python3.11/site-packages (from unstructured[pdf]->-r /Users/rouzbeh.farahmand/PycharmProjects/commit/financial-vss/requirements.txt (line 5)) (2.2.1)\r\n",
      "Requirement already satisfied: unstructured-client in /Library/Frameworks/Python.framework/Versions/3.11/lib/python3.11/site-packages (from unstructured[pdf]->-r /Users/rouzbeh.farahmand/PycharmProjects/commit/financial-vss/requirements.txt (line 5)) (0.22.0)\r\n",
      "Requirement already satisfied: wrapt in /Library/Frameworks/Python.framework/Versions/3.11/lib/python3.11/site-packages (from unstructured[pdf]->-r /Users/rouzbeh.farahmand/PycharmProjects/commit/financial-vss/requirements.txt (line 5)) (1.16.0)\r\n",
      "Requirement already satisfied: onnx in /Library/Frameworks/Python.framework/Versions/3.11/lib/python3.11/site-packages (from unstructured[pdf]->-r /Users/rouzbeh.farahmand/PycharmProjects/commit/financial-vss/requirements.txt (line 5)) (1.16.1)\r\n",
      "Requirement already satisfied: pdfminer.six in /Library/Frameworks/Python.framework/Versions/3.11/lib/python3.11/site-packages (from unstructured[pdf]->-r /Users/rouzbeh.farahmand/PycharmProjects/commit/financial-vss/requirements.txt (line 5)) (20231228)\r\n",
      "Requirement already satisfied: pikepdf in /Library/Frameworks/Python.framework/Versions/3.11/lib/python3.11/site-packages (from unstructured[pdf]->-r /Users/rouzbeh.farahmand/PycharmProjects/commit/financial-vss/requirements.txt (line 5)) (8.15.1)\r\n",
      "Requirement already satisfied: pillow-heif in /Library/Frameworks/Python.framework/Versions/3.11/lib/python3.11/site-packages (from unstructured[pdf]->-r /Users/rouzbeh.farahmand/PycharmProjects/commit/financial-vss/requirements.txt (line 5)) (0.16.0)\r\n",
      "Requirement already satisfied: pypdf in /Library/Frameworks/Python.framework/Versions/3.11/lib/python3.11/site-packages (from unstructured[pdf]->-r /Users/rouzbeh.farahmand/PycharmProjects/commit/financial-vss/requirements.txt (line 5)) (4.2.0)\r\n",
      "Requirement already satisfied: pytesseract in /Library/Frameworks/Python.framework/Versions/3.11/lib/python3.11/site-packages (from unstructured[pdf]->-r /Users/rouzbeh.farahmand/PycharmProjects/commit/financial-vss/requirements.txt (line 5)) (0.3.10)\r\n",
      "Requirement already satisfied: google-cloud-vision in /Library/Frameworks/Python.framework/Versions/3.11/lib/python3.11/site-packages (from unstructured[pdf]->-r /Users/rouzbeh.farahmand/PycharmProjects/commit/financial-vss/requirements.txt (line 5)) (3.7.2)\r\n",
      "Requirement already satisfied: effdet in /Library/Frameworks/Python.framework/Versions/3.11/lib/python3.11/site-packages (from unstructured[pdf]->-r /Users/rouzbeh.farahmand/PycharmProjects/commit/financial-vss/requirements.txt (line 5)) (0.4.1)\r\n",
      "Requirement already satisfied: unstructured-inference==0.7.33 in /Library/Frameworks/Python.framework/Versions/3.11/lib/python3.11/site-packages (from unstructured[pdf]->-r /Users/rouzbeh.farahmand/PycharmProjects/commit/financial-vss/requirements.txt (line 5)) (0.7.33)\r\n",
      "Requirement already satisfied: unstructured.pytesseract>=0.3.12 in /Library/Frameworks/Python.framework/Versions/3.11/lib/python3.11/site-packages (from unstructured[pdf]->-r /Users/rouzbeh.farahmand/PycharmProjects/commit/financial-vss/requirements.txt (line 5)) (0.3.12)\r\n",
      "Requirement already satisfied: layoutparser in /Library/Frameworks/Python.framework/Versions/3.11/lib/python3.11/site-packages (from unstructured-inference==0.7.33->unstructured[pdf]->-r /Users/rouzbeh.farahmand/PycharmProjects/commit/financial-vss/requirements.txt (line 5)) (0.3.4)\r\n",
      "Requirement already satisfied: python-multipart in /Library/Frameworks/Python.framework/Versions/3.11/lib/python3.11/site-packages (from unstructured-inference==0.7.33->unstructured[pdf]->-r /Users/rouzbeh.farahmand/PycharmProjects/commit/financial-vss/requirements.txt (line 5)) (0.0.9)\r\n",
      "Requirement already satisfied: huggingface-hub in /Library/Frameworks/Python.framework/Versions/3.11/lib/python3.11/site-packages (from unstructured-inference==0.7.33->unstructured[pdf]->-r /Users/rouzbeh.farahmand/PycharmProjects/commit/financial-vss/requirements.txt (line 5)) (0.23.2)\r\n",
      "Requirement already satisfied: opencv-python!=4.7.0.68 in /Library/Frameworks/Python.framework/Versions/3.11/lib/python3.11/site-packages (from unstructured-inference==0.7.33->unstructured[pdf]->-r /Users/rouzbeh.farahmand/PycharmProjects/commit/financial-vss/requirements.txt (line 5)) (4.9.0.80)\r\n",
      "Requirement already satisfied: onnxruntime>=1.17.0 in /Library/Frameworks/Python.framework/Versions/3.11/lib/python3.11/site-packages (from unstructured-inference==0.7.33->unstructured[pdf]->-r /Users/rouzbeh.farahmand/PycharmProjects/commit/financial-vss/requirements.txt (line 5)) (1.18.0)\r\n",
      "Requirement already satisfied: matplotlib in /Library/Frameworks/Python.framework/Versions/3.11/lib/python3.11/site-packages (from unstructured-inference==0.7.33->unstructured[pdf]->-r /Users/rouzbeh.farahmand/PycharmProjects/commit/financial-vss/requirements.txt (line 5)) (3.9.0)\r\n",
      "Requirement already satisfied: torch in /Library/Frameworks/Python.framework/Versions/3.11/lib/python3.11/site-packages (from unstructured-inference==0.7.33->unstructured[pdf]->-r /Users/rouzbeh.farahmand/PycharmProjects/commit/financial-vss/requirements.txt (line 5)) (2.3.0)\r\n",
      "Requirement already satisfied: timm in /Library/Frameworks/Python.framework/Versions/3.11/lib/python3.11/site-packages (from unstructured-inference==0.7.33->unstructured[pdf]->-r /Users/rouzbeh.farahmand/PycharmProjects/commit/financial-vss/requirements.txt (line 5)) (1.0.3)\r\n",
      "Requirement already satisfied: transformers>=4.25.1 in /Library/Frameworks/Python.framework/Versions/3.11/lib/python3.11/site-packages (from unstructured-inference==0.7.33->unstructured[pdf]->-r /Users/rouzbeh.farahmand/PycharmProjects/commit/financial-vss/requirements.txt (line 5)) (4.41.2)\r\n",
      "Requirement already satisfied: scikit-learn in /Library/Frameworks/Python.framework/Versions/3.11/lib/python3.11/site-packages (from sentence-transformers->-r /Users/rouzbeh.farahmand/PycharmProjects/commit/financial-vss/requirements.txt (line 6)) (1.5.0)\r\n",
      "Requirement already satisfied: scipy in /Library/Frameworks/Python.framework/Versions/3.11/lib/python3.11/site-packages (from sentence-transformers->-r /Users/rouzbeh.farahmand/PycharmProjects/commit/financial-vss/requirements.txt (line 6)) (1.13.1)\r\n",
      "Requirement already satisfied: Pillow in /Library/Frameworks/Python.framework/Versions/3.11/lib/python3.11/site-packages (from sentence-transformers->-r /Users/rouzbeh.farahmand/PycharmProjects/commit/financial-vss/requirements.txt (line 6)) (10.3.0)\r\n",
      "Requirement already satisfied: python-dateutil>=2.8.2 in /Library/Frameworks/Python.framework/Versions/3.11/lib/python3.11/site-packages (from pandas->-r /Users/rouzbeh.farahmand/PycharmProjects/commit/financial-vss/requirements.txt (line 7)) (2.9.0.post0)\r\n",
      "Requirement already satisfied: pytz>=2020.1 in /Library/Frameworks/Python.framework/Versions/3.11/lib/python3.11/site-packages (from pandas->-r /Users/rouzbeh.farahmand/PycharmProjects/commit/financial-vss/requirements.txt (line 7)) (2024.1)\r\n",
      "Requirement already satisfied: tzdata>=2022.7 in /Library/Frameworks/Python.framework/Versions/3.11/lib/python3.11/site-packages (from pandas->-r /Users/rouzbeh.farahmand/PycharmProjects/commit/financial-vss/requirements.txt (line 7)) (2024.1)\r\n",
      "Requirement already satisfied: coloredlogs in /Library/Frameworks/Python.framework/Versions/3.11/lib/python3.11/site-packages (from redisvl>=0.1.0->-r /Users/rouzbeh.farahmand/PycharmProjects/commit/financial-vss/requirements.txt (line 9)) (15.0.1)\r\n",
      "Requirement already satisfied: spacy-legacy<3.1.0,>=3.0.11 in /Library/Frameworks/Python.framework/Versions/3.11/lib/python3.11/site-packages (from spacy->-r /Users/rouzbeh.farahmand/PycharmProjects/commit/financial-vss/requirements.txt (line 10)) (3.0.12)\r\n",
      "Requirement already satisfied: spacy-loggers<2.0.0,>=1.0.0 in /Library/Frameworks/Python.framework/Versions/3.11/lib/python3.11/site-packages (from spacy->-r /Users/rouzbeh.farahmand/PycharmProjects/commit/financial-vss/requirements.txt (line 10)) (1.0.5)\r\n",
      "Requirement already satisfied: murmurhash<1.1.0,>=0.28.0 in /Library/Frameworks/Python.framework/Versions/3.11/lib/python3.11/site-packages (from spacy->-r /Users/rouzbeh.farahmand/PycharmProjects/commit/financial-vss/requirements.txt (line 10)) (1.0.10)\r\n",
      "Requirement already satisfied: cymem<2.1.0,>=2.0.2 in /Library/Frameworks/Python.framework/Versions/3.11/lib/python3.11/site-packages (from spacy->-r /Users/rouzbeh.farahmand/PycharmProjects/commit/financial-vss/requirements.txt (line 10)) (2.0.8)\r\n",
      "Requirement already satisfied: preshed<3.1.0,>=3.0.2 in /Library/Frameworks/Python.framework/Versions/3.11/lib/python3.11/site-packages (from spacy->-r /Users/rouzbeh.farahmand/PycharmProjects/commit/financial-vss/requirements.txt (line 10)) (3.0.9)\r\n",
      "Requirement already satisfied: thinc<8.3.0,>=8.2.2 in /Library/Frameworks/Python.framework/Versions/3.11/lib/python3.11/site-packages (from spacy->-r /Users/rouzbeh.farahmand/PycharmProjects/commit/financial-vss/requirements.txt (line 10)) (8.2.3)\r\n",
      "Requirement already satisfied: wasabi<1.2.0,>=0.9.1 in /Library/Frameworks/Python.framework/Versions/3.11/lib/python3.11/site-packages (from spacy->-r /Users/rouzbeh.farahmand/PycharmProjects/commit/financial-vss/requirements.txt (line 10)) (1.1.2)\r\n",
      "Requirement already satisfied: srsly<3.0.0,>=2.4.3 in /Library/Frameworks/Python.framework/Versions/3.11/lib/python3.11/site-packages (from spacy->-r /Users/rouzbeh.farahmand/PycharmProjects/commit/financial-vss/requirements.txt (line 10)) (2.4.8)\r\n",
      "Requirement already satisfied: catalogue<2.1.0,>=2.0.6 in /Library/Frameworks/Python.framework/Versions/3.11/lib/python3.11/site-packages (from spacy->-r /Users/rouzbeh.farahmand/PycharmProjects/commit/financial-vss/requirements.txt (line 10)) (2.0.10)\r\n",
      "Requirement already satisfied: weasel<0.4.0,>=0.1.0 in /Library/Frameworks/Python.framework/Versions/3.11/lib/python3.11/site-packages (from spacy->-r /Users/rouzbeh.farahmand/PycharmProjects/commit/financial-vss/requirements.txt (line 10)) (0.3.4)\r\n",
      "Requirement already satisfied: typer<0.10.0,>=0.3.0 in /Library/Frameworks/Python.framework/Versions/3.11/lib/python3.11/site-packages (from spacy->-r /Users/rouzbeh.farahmand/PycharmProjects/commit/financial-vss/requirements.txt (line 10)) (0.9.4)\r\n",
      "Requirement already satisfied: smart-open<7.0.0,>=5.2.1 in /Library/Frameworks/Python.framework/Versions/3.11/lib/python3.11/site-packages (from spacy->-r /Users/rouzbeh.farahmand/PycharmProjects/commit/financial-vss/requirements.txt (line 10)) (6.4.0)\r\n",
      "Requirement already satisfied: jinja2 in /Library/Frameworks/Python.framework/Versions/3.11/lib/python3.11/site-packages (from spacy->-r /Users/rouzbeh.farahmand/PycharmProjects/commit/financial-vss/requirements.txt (line 10)) (3.1.4)\r\n",
      "Requirement already satisfied: setuptools in /Library/Frameworks/Python.framework/Versions/3.11/lib/python3.11/site-packages (from spacy->-r /Users/rouzbeh.farahmand/PycharmProjects/commit/financial-vss/requirements.txt (line 10)) (65.5.0)\r\n",
      "Requirement already satisfied: packaging>=20.0 in /Library/Frameworks/Python.framework/Versions/3.11/lib/python3.11/site-packages (from spacy->-r /Users/rouzbeh.farahmand/PycharmProjects/commit/financial-vss/requirements.txt (line 10)) (23.2)\r\n",
      "Requirement already satisfied: langcodes<4.0.0,>=3.2.0 in /Library/Frameworks/Python.framework/Versions/3.11/lib/python3.11/site-packages (from spacy->-r /Users/rouzbeh.farahmand/PycharmProjects/commit/financial-vss/requirements.txt (line 10)) (3.4.0)\r\n",
      "Requirement already satisfied: types-requests<3.0.0.0,>=2.31.0.2 in /Library/Frameworks/Python.framework/Versions/3.11/lib/python3.11/site-packages (from langchainhub->-r /Users/rouzbeh.farahmand/PycharmProjects/commit/financial-vss/requirements.txt (line 12)) (2.32.0.20240523)\r\n",
      "Requirement already satisfied: aiosignal>=1.1.2 in /Library/Frameworks/Python.framework/Versions/3.11/lib/python3.11/site-packages (from aiohttp<4.0.0,>=3.8.3->langchain->-r /Users/rouzbeh.farahmand/PycharmProjects/commit/financial-vss/requirements.txt (line 3)) (1.3.1)\r\n",
      "Requirement already satisfied: attrs>=17.3.0 in /Library/Frameworks/Python.framework/Versions/3.11/lib/python3.11/site-packages (from aiohttp<4.0.0,>=3.8.3->langchain->-r /Users/rouzbeh.farahmand/PycharmProjects/commit/financial-vss/requirements.txt (line 3)) (23.2.0)\r\n",
      "Requirement already satisfied: frozenlist>=1.1.1 in /Library/Frameworks/Python.framework/Versions/3.11/lib/python3.11/site-packages (from aiohttp<4.0.0,>=3.8.3->langchain->-r /Users/rouzbeh.farahmand/PycharmProjects/commit/financial-vss/requirements.txt (line 3)) (1.4.1)\r\n",
      "Requirement already satisfied: multidict<7.0,>=4.5 in /Library/Frameworks/Python.framework/Versions/3.11/lib/python3.11/site-packages (from aiohttp<4.0.0,>=3.8.3->langchain->-r /Users/rouzbeh.farahmand/PycharmProjects/commit/financial-vss/requirements.txt (line 3)) (6.0.5)\r\n",
      "Requirement already satisfied: yarl<2.0,>=1.0 in /Library/Frameworks/Python.framework/Versions/3.11/lib/python3.11/site-packages (from aiohttp<4.0.0,>=3.8.3->langchain->-r /Users/rouzbeh.farahmand/PycharmProjects/commit/financial-vss/requirements.txt (line 3)) (1.9.4)\r\n",
      "Requirement already satisfied: idna>=2.8 in /Library/Frameworks/Python.framework/Versions/3.11/lib/python3.11/site-packages (from anyio<5,>=3.5.0->openai->-r /Users/rouzbeh.farahmand/PycharmProjects/commit/financial-vss/requirements.txt (line 1)) (3.7)\r\n",
      "Requirement already satisfied: marshmallow<4.0.0,>=3.18.0 in /Library/Frameworks/Python.framework/Versions/3.11/lib/python3.11/site-packages (from dataclasses-json<0.7,>=0.5.7->langchain-community->-r /Users/rouzbeh.farahmand/PycharmProjects/commit/financial-vss/requirements.txt (line 4)) (3.21.2)\r\n",
      "Requirement already satisfied: typing-inspect<1,>=0.4.0 in /Library/Frameworks/Python.framework/Versions/3.11/lib/python3.11/site-packages (from dataclasses-json<0.7,>=0.5.7->langchain-community->-r /Users/rouzbeh.farahmand/PycharmProjects/commit/financial-vss/requirements.txt (line 4)) (0.9.0)\r\n",
      "Requirement already satisfied: certifi in /Library/Frameworks/Python.framework/Versions/3.11/lib/python3.11/site-packages (from httpx<1,>=0.23.0->openai->-r /Users/rouzbeh.farahmand/PycharmProjects/commit/financial-vss/requirements.txt (line 1)) (2024.2.2)\r\n",
      "Requirement already satisfied: httpcore==1.* in /Library/Frameworks/Python.framework/Versions/3.11/lib/python3.11/site-packages (from httpx<1,>=0.23.0->openai->-r /Users/rouzbeh.farahmand/PycharmProjects/commit/financial-vss/requirements.txt (line 1)) (1.0.5)\r\n",
      "Requirement already satisfied: h11<0.15,>=0.13 in /Library/Frameworks/Python.framework/Versions/3.11/lib/python3.11/site-packages (from httpcore==1.*->httpx<1,>=0.23.0->openai->-r /Users/rouzbeh.farahmand/PycharmProjects/commit/financial-vss/requirements.txt (line 1)) (0.14.0)\r\n",
      "Requirement already satisfied: filelock in /Library/Frameworks/Python.framework/Versions/3.11/lib/python3.11/site-packages (from huggingface-hub->unstructured-inference==0.7.33->unstructured[pdf]->-r /Users/rouzbeh.farahmand/PycharmProjects/commit/financial-vss/requirements.txt (line 5)) (3.14.0)\r\n",
      "Requirement already satisfied: fsspec>=2023.5.0 in /Library/Frameworks/Python.framework/Versions/3.11/lib/python3.11/site-packages (from huggingface-hub->unstructured-inference==0.7.33->unstructured[pdf]->-r /Users/rouzbeh.farahmand/PycharmProjects/commit/financial-vss/requirements.txt (line 5)) (2024.5.0)\r\n",
      "Requirement already satisfied: jsonpatch<2.0,>=1.33 in /Library/Frameworks/Python.framework/Versions/3.11/lib/python3.11/site-packages (from langchain-core<0.3.0,>=0.2.0->langchain->-r /Users/rouzbeh.farahmand/PycharmProjects/commit/financial-vss/requirements.txt (line 3)) (1.33)\r\n",
      "Requirement already satisfied: language-data>=1.2 in /Library/Frameworks/Python.framework/Versions/3.11/lib/python3.11/site-packages (from langcodes<4.0.0,>=3.2.0->spacy->-r /Users/rouzbeh.farahmand/PycharmProjects/commit/financial-vss/requirements.txt (line 10)) (1.2.0)\r\n",
      "Requirement already satisfied: orjson<4.0.0,>=3.9.14 in /Library/Frameworks/Python.framework/Versions/3.11/lib/python3.11/site-packages (from langsmith<0.2.0,>=0.1.17->langchain->-r /Users/rouzbeh.farahmand/PycharmProjects/commit/financial-vss/requirements.txt (line 3)) (3.10.3)\r\n",
      "Requirement already satisfied: annotated-types>=0.4.0 in /Library/Frameworks/Python.framework/Versions/3.11/lib/python3.11/site-packages (from pydantic<3,>=1.9.0->openai->-r /Users/rouzbeh.farahmand/PycharmProjects/commit/financial-vss/requirements.txt (line 1)) (0.7.0)\r\n",
      "Requirement already satisfied: pydantic-core==2.18.3 in /Library/Frameworks/Python.framework/Versions/3.11/lib/python3.11/site-packages (from pydantic<3,>=1.9.0->openai->-r /Users/rouzbeh.farahmand/PycharmProjects/commit/financial-vss/requirements.txt (line 1)) (2.18.3)\r\n",
      "Requirement already satisfied: six>=1.5 in /Library/Frameworks/Python.framework/Versions/3.11/lib/python3.11/site-packages (from python-dateutil>=2.8.2->pandas->-r /Users/rouzbeh.farahmand/PycharmProjects/commit/financial-vss/requirements.txt (line 7)) (1.16.0)\r\n",
      "Requirement already satisfied: charset-normalizer<4,>=2 in /Library/Frameworks/Python.framework/Versions/3.11/lib/python3.11/site-packages (from requests>=2.26.0->tiktoken->-r /Users/rouzbeh.farahmand/PycharmProjects/commit/financial-vss/requirements.txt (line 2)) (3.3.2)\r\n",
      "Requirement already satisfied: urllib3<3,>=1.21.1 in /Library/Frameworks/Python.framework/Versions/3.11/lib/python3.11/site-packages (from requests>=2.26.0->tiktoken->-r /Users/rouzbeh.farahmand/PycharmProjects/commit/financial-vss/requirements.txt (line 2)) (2.2.1)\r\n",
      "Requirement already satisfied: blis<0.8.0,>=0.7.8 in /Library/Frameworks/Python.framework/Versions/3.11/lib/python3.11/site-packages (from thinc<8.3.0,>=8.2.2->spacy->-r /Users/rouzbeh.farahmand/PycharmProjects/commit/financial-vss/requirements.txt (line 10)) (0.7.11)\r\n",
      "Requirement already satisfied: confection<1.0.0,>=0.0.1 in /Library/Frameworks/Python.framework/Versions/3.11/lib/python3.11/site-packages (from thinc<8.3.0,>=8.2.2->spacy->-r /Users/rouzbeh.farahmand/PycharmProjects/commit/financial-vss/requirements.txt (line 10)) (0.1.4)\r\n",
      "Requirement already satisfied: sympy in /Library/Frameworks/Python.framework/Versions/3.11/lib/python3.11/site-packages (from torch->unstructured-inference==0.7.33->unstructured[pdf]->-r /Users/rouzbeh.farahmand/PycharmProjects/commit/financial-vss/requirements.txt (line 5)) (1.12.1)\r\n",
      "Requirement already satisfied: networkx in /Library/Frameworks/Python.framework/Versions/3.11/lib/python3.11/site-packages (from torch->unstructured-inference==0.7.33->unstructured[pdf]->-r /Users/rouzbeh.farahmand/PycharmProjects/commit/financial-vss/requirements.txt (line 5)) (3.3)\r\n",
      "Requirement already satisfied: tokenizers<0.20,>=0.19 in /Library/Frameworks/Python.framework/Versions/3.11/lib/python3.11/site-packages (from transformers>=4.25.1->unstructured-inference==0.7.33->unstructured[pdf]->-r /Users/rouzbeh.farahmand/PycharmProjects/commit/financial-vss/requirements.txt (line 5)) (0.19.1)\r\n",
      "Requirement already satisfied: safetensors>=0.4.1 in /Library/Frameworks/Python.framework/Versions/3.11/lib/python3.11/site-packages (from transformers>=4.25.1->unstructured-inference==0.7.33->unstructured[pdf]->-r /Users/rouzbeh.farahmand/PycharmProjects/commit/financial-vss/requirements.txt (line 5)) (0.4.3)\r\n",
      "Requirement already satisfied: click<9.0.0,>=7.1.1 in /Library/Frameworks/Python.framework/Versions/3.11/lib/python3.11/site-packages (from typer<0.10.0,>=0.3.0->spacy->-r /Users/rouzbeh.farahmand/PycharmProjects/commit/financial-vss/requirements.txt (line 10)) (8.1.7)\r\n",
      "Requirement already satisfied: cloudpathlib<0.17.0,>=0.7.0 in /Library/Frameworks/Python.framework/Versions/3.11/lib/python3.11/site-packages (from weasel<0.4.0,>=0.1.0->spacy->-r /Users/rouzbeh.farahmand/PycharmProjects/commit/financial-vss/requirements.txt (line 10)) (0.16.0)\r\n",
      "Requirement already satisfied: soupsieve>1.2 in /Library/Frameworks/Python.framework/Versions/3.11/lib/python3.11/site-packages (from beautifulsoup4->unstructured[pdf]->-r /Users/rouzbeh.farahmand/PycharmProjects/commit/financial-vss/requirements.txt (line 5)) (2.5)\r\n",
      "Requirement already satisfied: humanfriendly>=9.1 in /Library/Frameworks/Python.framework/Versions/3.11/lib/python3.11/site-packages (from coloredlogs->redisvl>=0.1.0->-r /Users/rouzbeh.farahmand/PycharmProjects/commit/financial-vss/requirements.txt (line 9)) (10.0)\r\n",
      "Requirement already satisfied: torchvision in /Library/Frameworks/Python.framework/Versions/3.11/lib/python3.11/site-packages (from effdet->unstructured[pdf]->-r /Users/rouzbeh.farahmand/PycharmProjects/commit/financial-vss/requirements.txt (line 5)) (0.18.0)\r\n",
      "Requirement already satisfied: pycocotools>=2.0.2 in /Library/Frameworks/Python.framework/Versions/3.11/lib/python3.11/site-packages (from effdet->unstructured[pdf]->-r /Users/rouzbeh.farahmand/PycharmProjects/commit/financial-vss/requirements.txt (line 5)) (2.0.7)\r\n",
      "Requirement already satisfied: omegaconf>=2.0 in /Library/Frameworks/Python.framework/Versions/3.11/lib/python3.11/site-packages (from effdet->unstructured[pdf]->-r /Users/rouzbeh.farahmand/PycharmProjects/commit/financial-vss/requirements.txt (line 5)) (2.3.0)\r\n",
      "Requirement already satisfied: google-api-core!=2.0.*,!=2.1.*,!=2.10.*,!=2.2.*,!=2.3.*,!=2.4.*,!=2.5.*,!=2.6.*,!=2.7.*,!=2.8.*,!=2.9.*,<3.0.0dev,>=1.34.1 in /Library/Frameworks/Python.framework/Versions/3.11/lib/python3.11/site-packages (from google-api-core[grpc]!=2.0.*,!=2.1.*,!=2.10.*,!=2.2.*,!=2.3.*,!=2.4.*,!=2.5.*,!=2.6.*,!=2.7.*,!=2.8.*,!=2.9.*,<3.0.0dev,>=1.34.1->google-cloud-vision->unstructured[pdf]->-r /Users/rouzbeh.farahmand/PycharmProjects/commit/financial-vss/requirements.txt (line 5)) (2.19.0)\r\n",
      "Requirement already satisfied: google-auth!=2.24.0,!=2.25.0,<3.0.0dev,>=2.14.1 in /Library/Frameworks/Python.framework/Versions/3.11/lib/python3.11/site-packages (from google-cloud-vision->unstructured[pdf]->-r /Users/rouzbeh.farahmand/PycharmProjects/commit/financial-vss/requirements.txt (line 5)) (2.29.0)\r\n",
      "Requirement already satisfied: proto-plus<2.0.0dev,>=1.22.3 in /Library/Frameworks/Python.framework/Versions/3.11/lib/python3.11/site-packages (from google-cloud-vision->unstructured[pdf]->-r /Users/rouzbeh.farahmand/PycharmProjects/commit/financial-vss/requirements.txt (line 5)) (1.23.0)\r\n",
      "Requirement already satisfied: protobuf!=3.20.0,!=3.20.1,!=4.21.0,!=4.21.1,!=4.21.2,!=4.21.3,!=4.21.4,!=4.21.5,<5.0.0dev,>=3.19.5 in /Library/Frameworks/Python.framework/Versions/3.11/lib/python3.11/site-packages (from google-cloud-vision->unstructured[pdf]->-r /Users/rouzbeh.farahmand/PycharmProjects/commit/financial-vss/requirements.txt (line 5)) (4.25.3)\r\n",
      "Requirement already satisfied: MarkupSafe>=2.0 in /Library/Frameworks/Python.framework/Versions/3.11/lib/python3.11/site-packages (from jinja2->spacy->-r /Users/rouzbeh.farahmand/PycharmProjects/commit/financial-vss/requirements.txt (line 10)) (2.1.5)\r\n",
      "Requirement already satisfied: joblib in /Library/Frameworks/Python.framework/Versions/3.11/lib/python3.11/site-packages (from nltk->unstructured[pdf]->-r /Users/rouzbeh.farahmand/PycharmProjects/commit/financial-vss/requirements.txt (line 5)) (1.4.2)\r\n",
      "Requirement already satisfied: cryptography>=36.0.0 in /Library/Frameworks/Python.framework/Versions/3.11/lib/python3.11/site-packages (from pdfminer.six->unstructured[pdf]->-r /Users/rouzbeh.farahmand/PycharmProjects/commit/financial-vss/requirements.txt (line 5)) (42.0.7)\r\n",
      "Requirement already satisfied: Deprecated in /Library/Frameworks/Python.framework/Versions/3.11/lib/python3.11/site-packages (from pikepdf->unstructured[pdf]->-r /Users/rouzbeh.farahmand/PycharmProjects/commit/financial-vss/requirements.txt (line 5)) (1.2.14)\r\n",
      "Requirement already satisfied: threadpoolctl>=3.1.0 in /Library/Frameworks/Python.framework/Versions/3.11/lib/python3.11/site-packages (from scikit-learn->sentence-transformers->-r /Users/rouzbeh.farahmand/PycharmProjects/commit/financial-vss/requirements.txt (line 6)) (3.5.0)\r\n",
      "Requirement already satisfied: deepdiff>=6.0 in /Library/Frameworks/Python.framework/Versions/3.11/lib/python3.11/site-packages (from unstructured-client->unstructured[pdf]->-r /Users/rouzbeh.farahmand/PycharmProjects/commit/financial-vss/requirements.txt (line 5)) (7.0.1)\r\n",
      "Requirement already satisfied: jsonpath-python>=1.0.6 in /Library/Frameworks/Python.framework/Versions/3.11/lib/python3.11/site-packages (from unstructured-client->unstructured[pdf]->-r /Users/rouzbeh.farahmand/PycharmProjects/commit/financial-vss/requirements.txt (line 5)) (1.0.6)\r\n",
      "Requirement already satisfied: mypy-extensions>=1.0.0 in /Library/Frameworks/Python.framework/Versions/3.11/lib/python3.11/site-packages (from unstructured-client->unstructured[pdf]->-r /Users/rouzbeh.farahmand/PycharmProjects/commit/financial-vss/requirements.txt (line 5)) (1.0.0)\r\n",
      "Requirement already satisfied: cffi>=1.12 in /Library/Frameworks/Python.framework/Versions/3.11/lib/python3.11/site-packages (from cryptography>=36.0.0->pdfminer.six->unstructured[pdf]->-r /Users/rouzbeh.farahmand/PycharmProjects/commit/financial-vss/requirements.txt (line 5)) (1.16.0)\r\n",
      "Requirement already satisfied: ordered-set<4.2.0,>=4.1.0 in /Library/Frameworks/Python.framework/Versions/3.11/lib/python3.11/site-packages (from deepdiff>=6.0->unstructured-client->unstructured[pdf]->-r /Users/rouzbeh.farahmand/PycharmProjects/commit/financial-vss/requirements.txt (line 5)) (4.1.0)\r\n",
      "Requirement already satisfied: googleapis-common-protos<2.0.dev0,>=1.56.2 in /Library/Frameworks/Python.framework/Versions/3.11/lib/python3.11/site-packages (from google-api-core!=2.0.*,!=2.1.*,!=2.10.*,!=2.2.*,!=2.3.*,!=2.4.*,!=2.5.*,!=2.6.*,!=2.7.*,!=2.8.*,!=2.9.*,<3.0.0dev,>=1.34.1->google-api-core[grpc]!=2.0.*,!=2.1.*,!=2.10.*,!=2.2.*,!=2.3.*,!=2.4.*,!=2.5.*,!=2.6.*,!=2.7.*,!=2.8.*,!=2.9.*,<3.0.0dev,>=1.34.1->google-cloud-vision->unstructured[pdf]->-r /Users/rouzbeh.farahmand/PycharmProjects/commit/financial-vss/requirements.txt (line 5)) (1.63.0)\r\n",
      "Requirement already satisfied: grpcio<2.0dev,>=1.33.2 in /Library/Frameworks/Python.framework/Versions/3.11/lib/python3.11/site-packages (from google-api-core[grpc]!=2.0.*,!=2.1.*,!=2.10.*,!=2.2.*,!=2.3.*,!=2.4.*,!=2.5.*,!=2.6.*,!=2.7.*,!=2.8.*,!=2.9.*,<3.0.0dev,>=1.34.1->google-cloud-vision->unstructured[pdf]->-r /Users/rouzbeh.farahmand/PycharmProjects/commit/financial-vss/requirements.txt (line 5)) (1.64.0)\r\n",
      "Requirement already satisfied: grpcio-status<2.0.dev0,>=1.33.2 in /Library/Frameworks/Python.framework/Versions/3.11/lib/python3.11/site-packages (from google-api-core[grpc]!=2.0.*,!=2.1.*,!=2.10.*,!=2.2.*,!=2.3.*,!=2.4.*,!=2.5.*,!=2.6.*,!=2.7.*,!=2.8.*,!=2.9.*,<3.0.0dev,>=1.34.1->google-cloud-vision->unstructured[pdf]->-r /Users/rouzbeh.farahmand/PycharmProjects/commit/financial-vss/requirements.txt (line 5)) (1.62.2)\r\n",
      "Requirement already satisfied: cachetools<6.0,>=2.0.0 in /Library/Frameworks/Python.framework/Versions/3.11/lib/python3.11/site-packages (from google-auth!=2.24.0,!=2.25.0,<3.0.0dev,>=2.14.1->google-cloud-vision->unstructured[pdf]->-r /Users/rouzbeh.farahmand/PycharmProjects/commit/financial-vss/requirements.txt (line 5)) (5.3.3)\r\n",
      "Requirement already satisfied: pyasn1-modules>=0.2.1 in /Library/Frameworks/Python.framework/Versions/3.11/lib/python3.11/site-packages (from google-auth!=2.24.0,!=2.25.0,<3.0.0dev,>=2.14.1->google-cloud-vision->unstructured[pdf]->-r /Users/rouzbeh.farahmand/PycharmProjects/commit/financial-vss/requirements.txt (line 5)) (0.4.0)\r\n",
      "Requirement already satisfied: rsa<5,>=3.1.4 in /Library/Frameworks/Python.framework/Versions/3.11/lib/python3.11/site-packages (from google-auth!=2.24.0,!=2.25.0,<3.0.0dev,>=2.14.1->google-cloud-vision->unstructured[pdf]->-r /Users/rouzbeh.farahmand/PycharmProjects/commit/financial-vss/requirements.txt (line 5)) (4.9)\r\n",
      "Requirement already satisfied: jsonpointer>=1.9 in /Library/Frameworks/Python.framework/Versions/3.11/lib/python3.11/site-packages (from jsonpatch<2.0,>=1.33->langchain-core<0.3.0,>=0.2.0->langchain->-r /Users/rouzbeh.farahmand/PycharmProjects/commit/financial-vss/requirements.txt (line 3)) (2.4)\r\n",
      "Requirement already satisfied: marisa-trie>=0.7.7 in /Library/Frameworks/Python.framework/Versions/3.11/lib/python3.11/site-packages (from language-data>=1.2->langcodes<4.0.0,>=3.2.0->spacy->-r /Users/rouzbeh.farahmand/PycharmProjects/commit/financial-vss/requirements.txt (line 10)) (1.1.1)\r\n",
      "Requirement already satisfied: antlr4-python3-runtime==4.9.* in /Library/Frameworks/Python.framework/Versions/3.11/lib/python3.11/site-packages (from omegaconf>=2.0->effdet->unstructured[pdf]->-r /Users/rouzbeh.farahmand/PycharmProjects/commit/financial-vss/requirements.txt (line 5)) (4.9.3)\r\n",
      "Requirement already satisfied: flatbuffers in /Library/Frameworks/Python.framework/Versions/3.11/lib/python3.11/site-packages (from onnxruntime>=1.17.0->unstructured-inference==0.7.33->unstructured[pdf]->-r /Users/rouzbeh.farahmand/PycharmProjects/commit/financial-vss/requirements.txt (line 5)) (24.3.25)\r\n",
      "Requirement already satisfied: contourpy>=1.0.1 in /Library/Frameworks/Python.framework/Versions/3.11/lib/python3.11/site-packages (from matplotlib->unstructured-inference==0.7.33->unstructured[pdf]->-r /Users/rouzbeh.farahmand/PycharmProjects/commit/financial-vss/requirements.txt (line 5)) (1.2.1)\r\n",
      "Requirement already satisfied: cycler>=0.10 in /Library/Frameworks/Python.framework/Versions/3.11/lib/python3.11/site-packages (from matplotlib->unstructured-inference==0.7.33->unstructured[pdf]->-r /Users/rouzbeh.farahmand/PycharmProjects/commit/financial-vss/requirements.txt (line 5)) (0.12.1)\r\n",
      "Requirement already satisfied: fonttools>=4.22.0 in /Library/Frameworks/Python.framework/Versions/3.11/lib/python3.11/site-packages (from matplotlib->unstructured-inference==0.7.33->unstructured[pdf]->-r /Users/rouzbeh.farahmand/PycharmProjects/commit/financial-vss/requirements.txt (line 5)) (4.52.4)\r\n",
      "Requirement already satisfied: kiwisolver>=1.3.1 in /Library/Frameworks/Python.framework/Versions/3.11/lib/python3.11/site-packages (from matplotlib->unstructured-inference==0.7.33->unstructured[pdf]->-r /Users/rouzbeh.farahmand/PycharmProjects/commit/financial-vss/requirements.txt (line 5)) (1.4.5)\r\n",
      "Requirement already satisfied: pyparsing>=2.3.1 in /Library/Frameworks/Python.framework/Versions/3.11/lib/python3.11/site-packages (from matplotlib->unstructured-inference==0.7.33->unstructured[pdf]->-r /Users/rouzbeh.farahmand/PycharmProjects/commit/financial-vss/requirements.txt (line 5)) (3.1.2)\r\n",
      "Requirement already satisfied: iopath in /Library/Frameworks/Python.framework/Versions/3.11/lib/python3.11/site-packages (from layoutparser->unstructured-inference==0.7.33->unstructured[pdf]->-r /Users/rouzbeh.farahmand/PycharmProjects/commit/financial-vss/requirements.txt (line 5)) (0.1.10)\r\n",
      "Requirement already satisfied: pdfplumber in /Library/Frameworks/Python.framework/Versions/3.11/lib/python3.11/site-packages (from layoutparser->unstructured-inference==0.7.33->unstructured[pdf]->-r /Users/rouzbeh.farahmand/PycharmProjects/commit/financial-vss/requirements.txt (line 5)) (0.11.0)\r\n",
      "Requirement already satisfied: mpmath<1.4.0,>=1.1.0 in /Library/Frameworks/Python.framework/Versions/3.11/lib/python3.11/site-packages (from sympy->torch->unstructured-inference==0.7.33->unstructured[pdf]->-r /Users/rouzbeh.farahmand/PycharmProjects/commit/financial-vss/requirements.txt (line 5)) (1.3.0)\r\n",
      "Requirement already satisfied: pycparser in /Library/Frameworks/Python.framework/Versions/3.11/lib/python3.11/site-packages (from cffi>=1.12->cryptography>=36.0.0->pdfminer.six->unstructured[pdf]->-r /Users/rouzbeh.farahmand/PycharmProjects/commit/financial-vss/requirements.txt (line 5)) (2.22)\r\n",
      "Requirement already satisfied: pyasn1<0.7.0,>=0.4.6 in /Library/Frameworks/Python.framework/Versions/3.11/lib/python3.11/site-packages (from pyasn1-modules>=0.2.1->google-auth!=2.24.0,!=2.25.0,<3.0.0dev,>=2.14.1->google-cloud-vision->unstructured[pdf]->-r /Users/rouzbeh.farahmand/PycharmProjects/commit/financial-vss/requirements.txt (line 5)) (0.6.0)\r\n",
      "Requirement already satisfied: portalocker in /Library/Frameworks/Python.framework/Versions/3.11/lib/python3.11/site-packages (from iopath->layoutparser->unstructured-inference==0.7.33->unstructured[pdf]->-r /Users/rouzbeh.farahmand/PycharmProjects/commit/financial-vss/requirements.txt (line 5)) (2.8.2)\r\n",
      "Requirement already satisfied: pypdfium2>=4.18.0 in /Library/Frameworks/Python.framework/Versions/3.11/lib/python3.11/site-packages (from pdfplumber->layoutparser->unstructured-inference==0.7.33->unstructured[pdf]->-r /Users/rouzbeh.farahmand/PycharmProjects/commit/financial-vss/requirements.txt (line 5)) (4.30.0)\r\n"
     ]
    }
   ],
   "execution_count": 25
  },
  {
   "metadata": {
    "ExecuteTime": {
     "end_time": "2024-06-03T18:24:53.466852Z",
     "start_time": "2024-06-03T18:24:53.463980Z"
    }
   },
   "cell_type": "code",
   "source": [
    "# Replace values below with your own if using Redis Cloud instance\n",
    "REDIS_HOST = os.getenv(\"REDIS_HOST\", \"localhost\")\n",
    "REDIS_PORT = os.getenv(\"REDIS_PORT\", \"6379\")\n",
    "REDIS_PASSWORD = os.getenv(\"REDIS_PASSWORD\", \"\")\n",
    "os.environ[\"OPENAI_API_KEY\"] = 'sk-proj-LjOKui5AFXvDfGcssZECT3BlbkFJeIIVTcAEqxFtNZztsQg1'\n",
    "os.environ[\"NLTK_DATA\"] = \"/Users/rouzbeh.farahmand/nltk_data\"\n",
    "os.environ[\"LANGCHAIN_TRACING_V2\"] = \"true\"\n",
    "os.environ[\"LANGCHAIN_API_KEY\"] = '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'\n",
    "# If SSL is enabled on the endpoint, use rediss:// as the URL prefix\n",
    "REDIS_URL = f\"redis://{REDIS_HOST}:{REDIS_PORT}\"\n",
    "os.environ[\"REDIS_URL\"] = REDIS_URL"
   ],
   "id": "d2f9692e223d48c6",
   "outputs": [],
   "execution_count": 26
  },
  {
   "metadata": {},
   "cell_type": "markdown",
   "source": [
    "### SentenceTransformerEmbeddings Models Cache folder\n",
    "We are using `SentenceTransformerEmbeddings` in this demo and here we specify the cache folder. If you already downloaded the models in a local file system, set this folder here, otherwise the library tries to download the models in this folder if not available locally.\n",
    "\n",
    "In particular, these models will be downloaded if not present in the cache folder:\n",
    "\n",
    "models/models--sentence-transformers--all-MiniLM-L6-v2\n",
    "\n",
    "models/models--sentence-transformers--all-mpnet-base-v2\n"
   ],
   "id": "9ba8eaf10e92f692"
  },
  {
   "metadata": {
    "ExecuteTime": {
     "end_time": "2024-06-03T18:24:53.469888Z",
     "start_time": "2024-06-03T18:24:53.467600Z"
    }
   },
   "cell_type": "code",
   "source": [
    "#setting the local downloaded sentence transformer models f\n",
    "os.environ[\"TRANSFORMERS_CACHE\"] = f\"{parent_directory}/models\""
   ],
   "id": "c405bdf9381db835",
   "outputs": [],
   "execution_count": 27
  },
  {
   "metadata": {
    "ExecuteTime": {
     "end_time": "2024-06-03T18:24:54.228654Z",
     "start_time": "2024-06-03T18:24:53.471144Z"
    }
   },
   "cell_type": "code",
   "source": [
    "from langchain.embeddings.sentence_transformer import SentenceTransformerEmbeddings\n",
    "\n",
    "embeddings = SentenceTransformerEmbeddings(model_name=\"sentence-transformers/all-MiniLM-L6-v2\",\n",
    "                                           cache_folder=os.getenv(\"TRANSFORMERS_CACHE\", f\"{parent_directory}/models\"))"
   ],
   "id": "11190e3ee0b4ab1d",
   "outputs": [],
   "execution_count": 28
  },
  {
   "metadata": {},
   "cell_type": "markdown",
   "source": [
    "### Build your Redis index \n",
    "Skip this section if you have already built your index in previous notebook.\n"
   ],
   "id": "30bd69c8360baaa0"
  },
  {
   "metadata": {
    "ExecuteTime": {
     "end_time": "2024-06-03T18:24:54.268861Z",
     "start_time": "2024-06-03T18:24:54.229304Z"
    }
   },
   "cell_type": "code",
   "source": [
    "from redisvl.index import SearchIndex\n",
    "from redisvl.schema import IndexSchema\n",
    "from redis import Redis\n",
    "index_name = 'langchain'\n",
    "prefix = 'chunk'\n",
    "schema = IndexSchema.from_yaml('sec_index.yaml')\n",
    "client = Redis.from_url(REDIS_URL)\n",
    "# create an index from schema and the client\n",
    "index = SearchIndex(schema, client)\n",
    "index.create(overwrite=True, drop=True)"
   ],
   "id": "78bbc21dd49fb15f",
   "outputs": [
    {
     "name": "stdout",
     "output_type": "stream",
     "text": [
      "14:24:54 redisvl.index.index INFO   Index already exists, overwriting.\n"
     ]
    }
   ],
   "execution_count": 29
  },
  {
   "metadata": {
    "ExecuteTime": {
     "end_time": "2024-06-03T18:24:54.280254Z",
     "start_time": "2024-06-03T18:24:54.269400Z"
    }
   },
   "cell_type": "code",
   "source": [
    "# Skip if you have already done populated your index.\n",
    "from ingestion import get_sec_data\n",
    "from ingestion import redis_bulk_upload\n",
    "\n",
    "sec_data = get_sec_data()"
   ],
   "id": "c1ab8cbe7cdea875",
   "outputs": [
    {
     "name": "stdout",
     "output_type": "stream",
     "text": [
      " ✅ Loaded doc info for  112 tickers...\n"
     ]
    }
   ],
   "execution_count": 30
  },
  {
   "metadata": {
    "ExecuteTime": {
     "end_time": "2024-06-03T18:25:13.361448Z",
     "start_time": "2024-06-03T18:24:54.280863Z"
    }
   },
   "cell_type": "code",
   "source": "redis_bulk_upload(sec_data, index, embeddings, tickers=['AAPL'])",
   "id": "5b87b9c94d496bc5",
   "outputs": [
    {
     "name": "stdout",
     "output_type": "stream",
     "text": [
      "✅ Loaded 108 10K chunks for ticker=AAPL from AAPL-2021-10K.pdf\n",
      "✅ Loaded 94 10K chunks for ticker=AAPL from AAPL-2023-10K.pdf\n",
      "✅ Loaded 103 10K chunks for ticker=AAPL from AAPL-2022-10K.pdf\n",
      "✅ Loaded 27 earning_call chunks for ticker=AAPL from 2018-May-01-AAPL.txt\n",
      "✅ Loaded 31 earning_call chunks for ticker=AAPL from 2019-Oct-30-AAPL.txt\n",
      "✅ Loaded 30 earning_call chunks for ticker=AAPL from 2016-Jan-26-AAPL.txt\n",
      "✅ Loaded 31 earning_call chunks for ticker=AAPL from 2020-Jul-30-AAPL.txt\n",
      "✅ Loaded 30 earning_call chunks for ticker=AAPL from 2017-Aug-01-AAPL.txt\n",
      "✅ Loaded 29 earning_call chunks for ticker=AAPL from 2020-Jan-28-AAPL.txt\n",
      "✅ Loaded 34 earning_call chunks for ticker=AAPL from 2016-Apr-26-AAPL.txt\n",
      "✅ Loaded 29 earning_call chunks for ticker=AAPL from 2017-Jan-31-AAPL.txt\n",
      "✅ Loaded 28 earning_call chunks for ticker=AAPL from 2019-Apr-30-AAPL.txt\n",
      "✅ Loaded 26 earning_call chunks for ticker=AAPL from 2017-Nov-02-AAPL.txt\n",
      "✅ Loaded 31 earning_call chunks for ticker=AAPL from 2016-Oct-25-AAPL.txt\n",
      "✅ Loaded 30 earning_call chunks for ticker=AAPL from 2016-Jul-26-AAPL.txt\n",
      "✅ Loaded 27 earning_call chunks for ticker=AAPL from 2017-May-02-AAPL.txt\n",
      "✅ Loaded 32 earning_call chunks for ticker=AAPL from 2019-Jul-30-AAPL.txt\n",
      "✅ Loaded 31 earning_call chunks for ticker=AAPL from 2019-Jan-29-AAPL.txt\n",
      "✅ Loaded 30 earning_call chunks for ticker=AAPL from 2018-Jul-31-AAPL.txt\n",
      "✅ Loaded 30 earning_call chunks for ticker=AAPL from 2018-Feb-01-AAPL.txt\n",
      "✅ Loaded 33 earning_call chunks for ticker=AAPL from 2018-Nov-01-AAPL.txt\n",
      "✅ Loaded 30 earning_call chunks for ticker=AAPL from 2020-Apr-30-AAPL.txt\n",
      "✅✅✅Loaded a total of 874 chunks from 3 10Ks and 19 earning calls for 1 tickers.\n"
     ]
    }
   ],
   "execution_count": 31
  },
  {
   "cell_type": "markdown",
   "id": "c74e4532",
   "metadata": {},
   "source": "## Redis as a Retriever\n"
  },
  {
   "cell_type": "code",
   "id": "e50c9efe-4abe-42fa-b35a-05eeeede9ec6",
   "metadata": {
    "ExecuteTime": {
     "end_time": "2024-06-03T18:25:13.371006Z",
     "start_time": "2024-06-03T18:25:13.362059Z"
    }
   },
   "source": [
    "from langchain_community.vectorstores import Redis as LangChainRedis\n",
    "from utils import create_langchain_schemas_from_redis_schema\n",
    "\n",
    "index_name = 'langchain'\n",
    "\n",
    "vec_schema , main_schema = create_langchain_schemas_from_redis_schema('sec_index.yaml')\n",
    "\n",
    "rds = LangChainRedis.from_existing_index( embedding = embeddings, \n",
    "                                          index_name = index_name, \n",
    "                                          schema = main_schema)\n",
    "redis_retriever = rds.as_retriever()\n"
   ],
   "outputs": [],
   "execution_count": 32
  },
  {
   "metadata": {},
   "cell_type": "markdown",
   "source": "Test if the Redis index is working and returning relevant document.",
   "id": "fcc76c0d6a83a135"
  },
  {
   "metadata": {
    "ExecuteTime": {
     "end_time": "2024-06-03T18:25:13.387832Z",
     "start_time": "2024-06-03T18:25:13.371582Z"
    }
   },
   "cell_type": "code",
   "source": "rds.similarity_search(query=\"Apple in 2022\", k=4, distance_threshold=0.8)",
   "id": "39b95a9507cbf6a4",
   "outputs": [
    {
     "data": {
      "text/plain": [
       "[Document(page_content='The Company’s global operations are subject to complex and changing laws and regulations on subjects, including antitrust; privacy, data security and data localization; consumer protection; advertising, sales, billing and e-commerce; financial services and technology; product liability; intellectual property ownership and infringement; digital platforms; internet, telecommunications, and mobile communications; media, television, film and digital content; availability of third-party software applications and services; labor and employment; anticorruption; import, export and trade; foreign exchange controls and cash repatriation restrictions; anti–money laundering; foreign ownership and investment; tax; and environmental, health and safety, including electronic waste, recycling, and climate change.\\n\\nApple Inc. | 2022 Form 10-K | 13', metadata={'id': 'chunk:AAPL-2022-10K.pdf-8174de66-4264-4c32-bb7e-5754d8dfbfcd', 'chunk_id': 'AAPL-2022-10K.pdf-8174de66-4264-4c32-bb7e-5754d8dfbfcd', 'source_doc': 'AAPL-2022-10K.pdf', 'doc_type': '10K', 'ticker': 'AAPL', 'company_name': 'APPLE INC', 'sector': 'Information Technology', 'asset_class': 'Equity', 'location': 'United States', 'exchange': 'NASDAQ', 'currency': 'USD', 'market_value': '559365151.11', 'weight': '5.16', 'notional_value': '559365151.11', 'shares': '4305127', 'price': '129.93'}),\n",
       " Document(page_content='The following discussion should be read in conjunction with the consolidated financial statements and accompanying notes included in Part II, Item 8 of this Form 10-K. This section of this Form 10-K generally discusses 2022 and 2021 items and year-to-year comparisons between 2022 and 2021. Discussions of 2020 items and year-to-year comparisons between 2021 and 2020 are not included in this Form 10-K, and can be found in “Management’s Discussion and Analysis of Financial Condition and Results of Operations” in Part II, Item 7 of the Company’s Annual Report on Form 10-K for the fiscal year ended September 25, 2021.\\n\\nFiscal Year Highlights\\n\\nFiscal 2022 Highlights\\n\\nTotal net sales increased 8% or $28.5 billion during 2022 compared to 2021, driven primarily by higher net sales of iPhone, Services and Mac. The weakness in foreign currencies relative to the U.S. dollar had an unfavorable year-over-year impact on all Products and Services net sales during 2022.\\n\\nThe Company announces new product, service and software offerings at various times during the year. Significant announcements during fiscal 2022 included the following:\\n\\nFirst Quarter 2022:\\n\\n•\\n\\nUpdated MacBook Pro 14” and MacBook Pro 16”, powered by the Apple M1 Pro or M1 Max chip; and Third generation of AirPods.\\n\\nSecond Quarter 2022:\\n\\n• • •\\n\\nUpdated iPhone SE with 5G technology; All-new Mac Studio, powered by the Apple M1 Max or M1 Ultra chip; All-new Studio Display™; and Updated iPad Air with 5G technology, powered by the Apple M1 chip.\\n\\nThird Quarter 2022:\\n\\n• •\\n\\nUpdated MacBook Air and MacBook Pro 13”, both powered by the Apple M2 chip; iOS 16, macOS Ventura, iPadOS 16 and watchOS 9, updates to the Company’s operating systems; and Apple Pay Later, a buy now, pay later service.\\n\\nFourth Quarter 2022:\\n\\n• •\\n\\niPhone 14, iPhone 14 Plus, iPhone 14 Pro and iPhone 14 Pro Max; Second generation of AirPods Pro; and Apple Watch Series 8, updated Apple Watch SE and all-new Apple Watch Ultra.\\n\\nIn April 2022, the Company announced an increase to its Program authorization from $315 billion to $405 billion and raised its quarterly dividend from $0.22 to $0.23 per share beginning in May 2022. During 2022, the Company repurchased $90.2 billion of its common stock and paid dividends and dividend equivalents of $14.8 billion.\\n\\nCOVID-19', metadata={'id': 'chunk:AAPL-2022-10K.pdf-e005481f-97d5-4d79-ad08-56b54f2367e7', 'chunk_id': 'AAPL-2022-10K.pdf-e005481f-97d5-4d79-ad08-56b54f2367e7', 'source_doc': 'AAPL-2022-10K.pdf', 'doc_type': '10K', 'ticker': 'AAPL', 'company_name': 'APPLE INC', 'sector': 'Information Technology', 'asset_class': 'Equity', 'location': 'United States', 'exchange': 'NASDAQ', 'currency': 'USD', 'market_value': '559365151.11', 'weight': '5.16', 'notional_value': '559365151.11', 'shares': '4305127', 'price': '129.93'}),\n",
       " Document(page_content='In May 2023, the Company announced a new share repurchase program of up to $90 billion and raised its quarterly dividend from $0.23 to $0.24 per share beginning in May 2023. During 2023, the Company repurchased $76.6 billion of its common stock and paid dividends and dividend equivalents of $15.0 billion.\\n\\nMacroeconomic Conditions\\n\\nMacroeconomic conditions, including inﬂation, changes in interest rates, and currency ﬂuctuations, have directly and indirectly impacted, and could in the future materially impact, the Company’s results of operations and ﬁnancial condition.\\n\\nApple Inc. | 2023 Form 10-K | 20\\n\\nSegment Operating Performance\\n\\nThe following table shows net sales by reportable segment for 2023, 2022 and 2021 (dollars in millions):\\n\\n2023\\n\\nChange\\n\\n2022\\n\\nChange\\n\\nNet sales by reportable segment:\\n\\nAmericas Europe Greater China Japan Rest of Asia Paciﬁc\\n\\nTotal net sales\\n\\n$\\n\\n$\\n\\n162,560 94,294 72,559 24,257 29,615 383,285\\n\\n(4)% $ (1)% (2)% (7)% 1 % (3)% $\\n\\n169,658 95,118 74,200 25,977 29,375 394,328\\n\\n11 % $ 7 % 9 % (9)% 11 %\\n\\n8 % $\\n\\nAmericas\\n\\nAmericas net sales decreased 4% or $7.1 billion during 2023 compared to 2022 due to lower net sales of iPhone and Mac, partially oﬀset by higher net sales of Services.\\n\\nEurope\\n\\nEurope net sales decreased 1% or $824 million during 2023 compared to 2022. The weakness in foreign currencies relative to the U.S. dollar accounted for more than the entire year-over-year decrease in Europe net sales, which consisted primarily of lower net sales of Mac and Wearables, Home and Accessories, partially oﬀset by higher net sales of iPhone and Services.\\n\\nGreater China\\n\\nGreater China net sales decreased 2% or $1.6 billion during 2023 compared to 2022. The weakness in the renminbi relative to the U.S. dollar accounted for more than the entire year-over-year decrease in Greater China net sales, which consisted primarily of lower net sales of Mac and iPhone.\\n\\nJapan\\n\\nJapan net sales decreased 7% or $1.7 billion during 2023 compared to 2022. The weakness in the yen relative to the U.S. dollar accounted for more than the entire year-over-year decrease in Japan net sales, which consisted primarily of lower net sales of iPhone, Wearables, Home and Accessories and Mac.\\n\\nRest of Asia Paciﬁc', metadata={'id': 'chunk:AAPL-2023-10K.pdf-6bda75f8-da59-49ca-9520-464774f460a6', 'chunk_id': 'AAPL-2023-10K.pdf-6bda75f8-da59-49ca-9520-464774f460a6', 'source_doc': 'AAPL-2023-10K.pdf', 'doc_type': '10K', 'ticker': 'AAPL', 'company_name': 'APPLE INC', 'sector': 'Information Technology', 'asset_class': 'Equity', 'location': 'United States', 'exchange': 'NASDAQ', 'currency': 'USD', 'market_value': '559365151.11', 'weight': '5.16', 'notional_value': '559365151.11', 'shares': '4305127', 'price': '129.93'}),\n",
       " Document(page_content=\"Coming this fall, Apple TV+ will be new home for world's most creative story tellers, featuring exclusive: 1. Original shows. 2. Movies. 3. Documentaries. 4. Several Major Product Introductions: 1. iMac: 1. Launched new more powerful iMac with dramatic increases in compute and graphics performance, making it great update for consumers and pros alike. 2. For Mac business overall, faced some processor constraints, leading to 5% revenue decline vs. last year. 1. Believes that Mac revenue would have been up vs. last year without those constraints. 2. Does not believe this challenge will have significant impact on 3Q results. 2. iPad: 1. Returned to growth in Greater China. 1. Generated strong double-digit growth in each of Co.'s other geographic segments. 2. Great iPad results were driven primarily by strong customer response to iPad Pro. 3. Late in qtr., launched all-new iPad Air with ultra-thin design, Apple Pencil support and high-end performance powered by A12 Bionic chip. 4. Introduced new iPad Mini, major upgrade for iPad fans who love ultra-portable design. 1. Like new iPad Air, it delivers power of A12 Bionic and support for Apple Pencil. 3. AirPods: 1. Last month, introduced new AirPods. 1. Second generation of world's most popular wireless headphones. 2. Demand has been incredible. 2. With new Co.-designed H1 chip, new AirPods deliver faster connect times, more talk time and convenience of hands-free Hey Siri. 4.\", metadata={'id': 'chunk:2019-Apr-30-AAPL.txt-15d2cb5b-56e7-4569-b3d8-733fe283c9a2', 'chunk_id': '2019-Apr-30-AAPL.txt-15d2cb5b-56e7-4569-b3d8-733fe283c9a2', 'source_doc': '2019-Apr-30-AAPL.txt', 'doc_type': 'earning_call', 'ticker': 'AAPL', 'company_name': 'APPLE INC', 'sector': 'Information Technology', 'asset_class': 'Equity', 'location': 'United States', 'exchange': 'NASDAQ', 'currency': 'USD', 'market_value': '559365151.11', 'weight': '5.16', 'notional_value': '559365151.11', 'shares': '4305127', 'price': '129.93'})]"
      ]
     },
     "execution_count": 33,
     "metadata": {},
     "output_type": "execute_result"
    }
   ],
   "execution_count": 33
  },
  {
   "cell_type": "markdown",
   "id": "225d2277-45b2-4ae8-a7d6-62b07fb4a002",
   "metadata": {},
   "source": "Now we create a Redis retriever tool."
  },
  {
   "metadata": {
    "ExecuteTime": {
     "end_time": "2024-06-03T18:25:13.392603Z",
     "start_time": "2024-06-03T18:25:13.389366Z"
    }
   },
   "cell_type": "code",
   "source": [
    "import operator\n",
    "from datetime import datetime\n",
    "from typing import Annotated, TypedDict, Union\n",
    "\n",
    "from langchain.agents import create_react_agent\n",
    "from langchain_community.chat_models import ChatOllama\n",
    "from langchain_core.agents import AgentAction, AgentFinish\n",
    "from langchain_core.messages import BaseMessage\n",
    "from langchain_core.tools import tool\n",
    "from langgraph.graph import END, StateGraph\n",
    "from langgraph.prebuilt import ToolExecutor, ToolInvocation\n",
    "\n",
    "@tool\n",
    "def get_relevant_docs_from_redis(input: str):\n",
    "    \"\"\"\n",
    "    Get the relevant docs from a redis query.\n",
    "    \"\"\"\n",
    "    redis_response = rds.similarity_search(query=input, k=4, distance_threshold=0.8)\n",
    "    constructed_context = \" \"\n",
    "    for doc in redis_response:\n",
    "        constructed_context = constructed_context +\" \\n \" + doc.page_content\n",
    "    if len(redis_response) > 0:\n",
    "        return str(redis_response[0].page_content).replace(\"\\n\", \" \")\n",
    "    return \"No relevant docs found in Redis\"\n",
    "\n",
    "\n",
    "tools = [get_relevant_docs_from_redis]\n",
    "\n",
    "tool_executor = ToolExecutor(tools)\n"
   ],
   "id": "808833ea3d96e6c3",
   "outputs": [],
   "execution_count": 34
  },
  {
   "metadata": {
    "ExecuteTime": {
     "end_time": "2024-06-03T18:25:13.394482Z",
     "start_time": "2024-06-03T18:25:13.393146Z"
    }
   },
   "cell_type": "code",
   "source": "#TODO: write the proper parser to extract to summarize from LLM output ",
   "id": "26027cc3b783e2d8",
   "outputs": [],
   "execution_count": 35
  },
  {
   "metadata": {
    "ExecuteTime": {
     "end_time": "2024-06-03T18:25:13.399122Z",
     "start_time": "2024-06-03T18:25:13.394961Z"
    }
   },
   "cell_type": "code",
   "source": [
    "import re\n",
    "from typing import Union\n",
    "\n",
    "from langchain_core.agents import AgentAction, AgentFinish\n",
    "from langchain_core.exceptions import OutputParserException\n",
    "\n",
    "from langchain.agents.agent import AgentOutputParser\n",
    "from langchain.agents.mrkl.prompt import FORMAT_INSTRUCTIONS\n",
    "\n",
    "FINAL_ANSWER_ACTION = \"Final Answer:\"\n",
    "MISSING_ACTION_AFTER_THOUGHT_ERROR_MESSAGE = (\n",
    "    \"Invalid Format: Missing 'Action:' after 'Thought:\"\n",
    ")\n",
    "MISSING_ACTION_INPUT_AFTER_ACTION_ERROR_MESSAGE = (\n",
    "    \"Invalid Format: Missing 'Action Input:' after 'Action:'\"\n",
    ")\n",
    "FINAL_ANSWER_AND_PARSABLE_ACTION_ERROR_MESSAGE = (\n",
    "    \"Parsing LLM output produced both a final answer and a parse-able action:\"\n",
    ")\n",
    "\n",
    "\n",
    "class RedisReActSingleInputOutputParser(AgentOutputParser):\n",
    "    \"\"\"Parses ReAct-style LLM calls that have a single tool input.\n",
    "\n",
    "    Expects output to be in one of two formats.\n",
    "\n",
    "    If the output signals that an action should be taken,\n",
    "    should be in the below format. This will result in an AgentAction\n",
    "    being returned.\n",
    "\n",
    "    ```\n",
    "    Thought: agent thought here\n",
    "    Action: search\n",
    "    Action Input: what is the temperature in SF?\n",
    "    ```\n",
    "\n",
    "    If the output signals that a final answer should be given,\n",
    "    should be in the below format. This will result in an AgentFinish\n",
    "    being returned.\n",
    "\n",
    "    ```\n",
    "    Thought: agent thought here\n",
    "    Final Answer: The temperature is 100 degrees\n",
    "    ```\n",
    "\n",
    "    \"\"\"\n",
    "\n",
    "    def get_format_instructions(self) -> str:\n",
    "        return FORMAT_INSTRUCTIONS\n",
    "\n",
    "    def parse(self, text: str) -> Union[AgentAction, AgentFinish]:\n",
    "        includes_answer = FINAL_ANSWER_ACTION in text\n",
    "        regex = (\n",
    "            r\"Action\\s*\\d*\\s*:[\\s]*(.*?)[\\s]*Action\\s*\\d*\\s*Input\\s*\\d*\\s*:[\\s]*(.*)\"\n",
    "        )\n",
    "        action_match = re.search(regex, text, re.DOTALL)\n",
    "        if action_match:\n",
    "            if includes_answer:\n",
    "                raise OutputParserException(\n",
    "                    f\"{FINAL_ANSWER_AND_PARSABLE_ACTION_ERROR_MESSAGE}: {text}\"\n",
    "                )\n",
    "            action = action_match.group(1).strip()\n",
    "            action_input = action_match.group(2)\n",
    "            tool_input = action_input.strip(\" \")\n",
    "            tool_input = tool_input.strip('\"')\n",
    "\n",
    "            return AgentAction(action, tool_input, text)\n",
    "\n",
    "        elif includes_answer:\n",
    "            return AgentFinish(\n",
    "                {\"output\": text.split(FINAL_ANSWER_ACTION)[-1].strip()}, text\n",
    "            )\n",
    "\n",
    "        if not re.search(r\"Action\\s*\\d*\\s*:[\\s]*(.*?)\", text, re.DOTALL):\n",
    "            \"\"\"\n",
    "            raise OutputParserException(\n",
    "                f\"Could not parse LLM output: `{text}`\",\n",
    "                observation=MISSING_ACTION_AFTER_THOUGHT_ERROR_MESSAGE,\n",
    "                llm_output=text,\n",
    "                send_to_llm=True,\n",
    "            )\"\"\"\n",
    "            return AgentFinish({\"output\": text}, text)\n",
    "        elif not re.search(\n",
    "            r\"[\\s]*Action\\s*\\d*\\s*Input\\s*\\d*\\s*:[\\s]*(.*)\", text, re.DOTALL\n",
    "        ):\n",
    "            \"\"\"\n",
    "            raise OutputParserException(\n",
    "                f\"Could not parse LLM output: `{text}`\",\n",
    "                observation=MISSING_ACTION_INPUT_AFTER_ACTION_ERROR_MESSAGE,\n",
    "                llm_output=text,\n",
    "                send_to_llm=True,\n",
    "            )\"\"\"\n",
    "            return AgentFinish({\"output\": text}, text)\n",
    "        else:\n",
    "            \n",
    "            \"\"\"\"raise OutputParserException(f\"Could not parse LLM output: `{text}`\")\"\"\"\n",
    "            return AgentFinish({\"output\": text}, text)\n",
    "            \n",
    "\n",
    "    @property\n",
    "    def _type(self) -> str:\n",
    "        return \"react-single-input\"\n"
   ],
   "id": "5d419b9a64127339",
   "outputs": [],
   "execution_count": 36
  },
  {
   "metadata": {
    "ExecuteTime": {
     "end_time": "2024-06-03T18:25:13.401987Z",
     "start_time": "2024-06-03T18:25:13.399623Z"
    }
   },
   "cell_type": "code",
   "source": [
    "from langchain_core.prompts import PromptTemplate\n",
    "from typing import Annotated, Sequence, TypedDict\n",
    "\n",
    "from langchain_core.messages import BaseMessage\n",
    "from langgraph.graph.message import add_messages\n",
    "\n",
    "\n",
    "class AgentState(TypedDict):\n",
    "    # The add_messages function defines how an update should be processed\n",
    "    # Default is to replace. add_messages says \"append\"\n",
    "    input: str\n",
    "    chat_history: list[BaseMessage]\n",
    "    agent_outcome: Union[AgentAction, AgentFinish, None]\n",
    "    intermediate_steps: Annotated[list[tuple[AgentAction, str]], operator.add]\n",
    " \n",
    "model = ChatOllama(model=\"llama3\")\n",
    "local_prompt = PromptTemplate(\n",
    "        template=\"\"\"Answer the following questions as best you can. You have access to the following    tools:\n",
    "\n",
    "            {tools}\n",
    "            \n",
    "            Use the following format:\n",
    "            \n",
    "            Question: the input question you must answer\n",
    "            Thought: you should always think about what to do\n",
    "            Action: the action to take, should be one of [{tool_names}]\n",
    "            Action Input: the input to the action\n",
    "            Observation: the result of the action is a snippet of financial information related to a company\n",
    "            ... (this Thought/Action/Action Input/Observation can repeat N times)\n",
    "            Action Input: Use the observation and try to come up with an answer, if you cannot come up with a number or an answer, only summarize the relevant information that you have and site the source. \n",
    "            Thought: I now know the final answer\n",
    "            Final Answer: the final answer to the original input question or a summary of the relevant information you got from the information you got in the Observation\n",
    "            \n",
    "            Begin!\n",
    "            \n",
    "            Question: {input}\n",
    "            Thought:{agent_scratchpad}\"\"\",\n",
    "        input_variables=[\"tools\",\"tool_names\", \"input\",\"agent_scratchpad\"],\n",
    "    )\n",
    "\n",
    "\n",
    "agent_runnable = create_react_agent(model, tools, local_prompt, output_parser=RedisReActSingleInputOutputParser())\n"
   ],
   "id": "8f03f9e92f8596f6",
   "outputs": [],
   "execution_count": 37
  },
  {
   "metadata": {
    "ExecuteTime": {
     "end_time": "2024-06-03T18:25:13.404416Z",
     "start_time": "2024-06-03T18:25:13.402461Z"
    }
   },
   "cell_type": "code",
   "source": [
    "def execute_tools(state):\n",
    "    print(\"Called `execute_tools`\")\n",
    "    messages = [state[\"agent_outcome\"]]\n",
    "    last_message = messages[-1]\n",
    "\n",
    "    tool_name = last_message.tool\n",
    "\n",
    "    print(f\"Calling tool: {tool_name}\")\n",
    "\n",
    "    action = ToolInvocation(\n",
    "        tool=tool_name,\n",
    "        tool_input=last_message.tool_input,\n",
    "    )\n",
    "    response = tool_executor.invoke(action)\n",
    "    return {\"intermediate_steps\": [(state[\"agent_outcome\"], response)]}\n",
    "\n",
    "\n",
    "def run_agent(state):\n",
    "    \"\"\"\n",
    "    #if you want to better manages intermediate steps\n",
    "    inputs = state.copy()\n",
    "    if len(inputs['intermediate_steps']) > 5:\n",
    "        inputs['intermediate_steps'] = inputs['intermediate_steps'][-5:]\n",
    "    \"\"\"\n",
    "    print(f\"RFD-DEBUG:==========\")\n",
    "    print(f\"RFD-DEBUG:{str(state)}\")\n",
    "    print(f\"RFD-DEBUG:============\")\n",
    "    agent_outcome = agent_runnable.invoke(state)\n",
    "    print(f\"RFD-DEBUG:agent_outcome{str(agent_outcome)}\")\n",
    "    return {\"agent_outcome\": agent_outcome}\n",
    "\n",
    "\n",
    "def should_continue(state):\n",
    "    messages = [state[\"agent_outcome\"]]\n",
    "    last_message = messages[-1]\n",
    "    if \"Action\" not in last_message.log:\n",
    "        return \"end\"\n",
    "    else:\n",
    "        return \"continue\""
   ],
   "id": "474d0ac3847d3a29",
   "outputs": [],
   "execution_count": 38
  },
  {
   "metadata": {
    "ExecuteTime": {
     "end_time": "2024-06-03T18:25:13.407346Z",
     "start_time": "2024-06-03T18:25:13.404899Z"
    }
   },
   "cell_type": "code",
   "source": [
    "workflow = StateGraph(AgentState)\n",
    "\n",
    "workflow.add_node(\"agent\", run_agent)\n",
    "workflow.add_node(\"action\", execute_tools)\n",
    "\n",
    "\n",
    "workflow.set_entry_point(\"agent\")\n",
    "\n",
    "workflow.add_conditional_edges(\n",
    "    \"agent\", should_continue, {\"continue\": \"action\", \"end\": END}\n",
    ")\n",
    "\n",
    "\n",
    "workflow.add_edge(\"action\", \"agent\")\n",
    "app = workflow.compile()\n",
    "\n",
    "input_text = \"Whats the revenue of Apple in 2022?\""
   ],
   "id": "cde2086449c8d9e2",
   "outputs": [],
   "execution_count": 39
  },
  {
   "metadata": {
    "ExecuteTime": {
     "end_time": "2024-06-03T18:26:22.108572Z",
     "start_time": "2024-06-03T18:25:13.407889Z"
    }
   },
   "cell_type": "code",
   "source": [
    "inputs = {\"input\": input_text, \"chat_history\": []}\n",
    "results = []\n",
    "for s in app.stream(inputs):\n",
    "    result = list(s.values())[0]\n",
    "    results.append(result)\n",
    "    print(result)"
   ],
   "id": "cf9e83a60509ca0d",
   "outputs": [
    {
     "name": "stdout",
     "output_type": "stream",
     "text": [
      "RFD-DEBUG:==========\n",
      "RFD-DEBUG:{'input': 'Whats the revenue of Apple in 2022?', 'chat_history': [], 'agent_outcome': None, 'intermediate_steps': []}\n",
      "RFD-DEBUG:============\n",
      "RFD-DEBUG:agent_outcometool='get_relevant_docs_from_redis' tool_input='revenue\" AND \"Apple\" AND \"2022' log='Let\\'s get started!\\n\\nThought: To find the revenue of Apple in 2022, I\\'ll need to retrieve relevant documents from a Redis query. \\n\\nAction: get_relevant_docs_from_redis\\nAction Input: \"revenue\" AND \"Apple\" AND \"2022'\n",
      "{'agent_outcome': AgentAction(tool='get_relevant_docs_from_redis', tool_input='revenue\" AND \"Apple\" AND \"2022', log='Let\\'s get started!\\n\\nThought: To find the revenue of Apple in 2022, I\\'ll need to retrieve relevant documents from a Redis query. \\n\\nAction: get_relevant_docs_from_redis\\nAction Input: \"revenue\" AND \"Apple\" AND \"2022')}\n",
      "Called `execute_tools`\n",
      "Calling tool: get_relevant_docs_from_redis\n",
      "{'intermediate_steps': [(AgentAction(tool='get_relevant_docs_from_redis', tool_input='revenue\" AND \"Apple\" AND \"2022', log='Let\\'s get started!\\n\\nThought: To find the revenue of Apple in 2022, I\\'ll need to retrieve relevant documents from a Redis query. \\n\\nAction: get_relevant_docs_from_redis\\nAction Input: \"revenue\" AND \"Apple\" AND \"2022'), 'The Company’s proportion of net sales by disaggregated revenue source was generally consistent for each reportable segment in Note 11, “Segment Information and Geographic Data” for 2022, 2021 and 2020, except in Greater China, where iPhone revenue represented a moderately higher proportion of net sales in 2022 and 2021.  As of September 24, 2022 and September 25, 2021, the Company had total deferred revenue of $12.4 billion and $11.9 billion, respectively. As of September 24, 2022, the Company expects 64% of total deferred revenue to be realized in less than a year, 27% within one-to-two years, 7% within two-to-three years and 2% in greater than three years.  Apple Inc. | 2022 Form 10-K | 37  2020  137,781 28,622 23,724 30,620 53,768 274,515  Note 3 – Financial Instruments  Cash, Cash Equivalents and Marketable Securities  The following tables show the Company’s cash, cash equivalents and marketable securities by significant investment category as of September 24, 2022 and September 25, 2021 (in millions):  2022  Adjusted Cost  Unrealized Gains  Unrealized Losses  Fair Value  Cash and Cash Equivalents  Current Marketable Securities  Cash  $  18,546 $  — $  — $  18,546 $  18,546 $  — $  Level 1  (1) :  Money market funds Mutual funds Subtotal (2) :  Level 2  2,929 274  3,203  — —  —  — (47)  (47)  2,929 227  3,156  2,929 —  2,929  — 227  227  U.S. Treasury securities U.S. agency securities Non-U.S. government securities Certificates of deposit and time  25,134 5,823 16,948  — — 2  (1,725) (655) (1,201)  23,409 5,168 15,749  338 — —  5,091 240 8,806  deposits  Commercial paper Corporate debt securities Municipal securities Mortgage- and asset-backed  2,067 718 87,148 921  — — 9 —  — — (7,707) (35)  2,067 718 79,450 886  1,805 28 — —  262 690 9,023 266  securities Subtotal  22,553  161,312  —  11  (2,593)  (13,916)  19,960  147,407  —  2,171  53  24,431  Total  (3)  $ 183,061 $  11 $  (13,963) $ 169,109 $  23,646 $  24,658 $  2021  Cash  $  Adjusted Cost 17,305 $  Unrealized Gains  — $  Unrealized Losses  — $  Fair Value  17,305 $  Cash and Cash Equivalents  17,305 $  Current Marketable Securities  — $  Level 1  (1) :  Money market funds Mutual funds Subtotal (2) : Equity securities U.S. Treasury securities U.S. agency securities Non-U.S. government securities Certificates of deposit and time  Level 2  9,608 175  9,783  1,527 22,878 8,949 20,201  — 11  11  — 102 2 211  — (1)  (1)  (564) (77) (64) (101)  9,608 185  9,793  963 22,903 8,887 20,311  9,608 —')]}\n",
      "RFD-DEBUG:==========\n",
      "RFD-DEBUG:{'input': 'Whats the revenue of Apple in 2022?', 'chat_history': [], 'agent_outcome': AgentAction(tool='get_relevant_docs_from_redis', tool_input='revenue\" AND \"Apple\" AND \"2022', log='Let\\'s get started!\\n\\nThought: To find the revenue of Apple in 2022, I\\'ll need to retrieve relevant documents from a Redis query. \\n\\nAction: get_relevant_docs_from_redis\\nAction Input: \"revenue\" AND \"Apple\" AND \"2022'), 'intermediate_steps': [(AgentAction(tool='get_relevant_docs_from_redis', tool_input='revenue\" AND \"Apple\" AND \"2022', log='Let\\'s get started!\\n\\nThought: To find the revenue of Apple in 2022, I\\'ll need to retrieve relevant documents from a Redis query. \\n\\nAction: get_relevant_docs_from_redis\\nAction Input: \"revenue\" AND \"Apple\" AND \"2022'), 'The Company’s proportion of net sales by disaggregated revenue source was generally consistent for each reportable segment in Note 11, “Segment Information and Geographic Data” for 2022, 2021 and 2020, except in Greater China, where iPhone revenue represented a moderately higher proportion of net sales in 2022 and 2021.  As of September 24, 2022 and September 25, 2021, the Company had total deferred revenue of $12.4 billion and $11.9 billion, respectively. As of September 24, 2022, the Company expects 64% of total deferred revenue to be realized in less than a year, 27% within one-to-two years, 7% within two-to-three years and 2% in greater than three years.  Apple Inc. | 2022 Form 10-K | 37  2020  137,781 28,622 23,724 30,620 53,768 274,515  Note 3 – Financial Instruments  Cash, Cash Equivalents and Marketable Securities  The following tables show the Company’s cash, cash equivalents and marketable securities by significant investment category as of September 24, 2022 and September 25, 2021 (in millions):  2022  Adjusted Cost  Unrealized Gains  Unrealized Losses  Fair Value  Cash and Cash Equivalents  Current Marketable Securities  Cash  $  18,546 $  — $  — $  18,546 $  18,546 $  — $  Level 1  (1) :  Money market funds Mutual funds Subtotal (2) :  Level 2  2,929 274  3,203  — —  —  — (47)  (47)  2,929 227  3,156  2,929 —  2,929  — 227  227  U.S. Treasury securities U.S. agency securities Non-U.S. government securities Certificates of deposit and time  25,134 5,823 16,948  — — 2  (1,725) (655) (1,201)  23,409 5,168 15,749  338 — —  5,091 240 8,806  deposits  Commercial paper Corporate debt securities Municipal securities Mortgage- and asset-backed  2,067 718 87,148 921  — — 9 —  — — (7,707) (35)  2,067 718 79,450 886  1,805 28 — —  262 690 9,023 266  securities Subtotal  22,553  161,312  —  11  (2,593)  (13,916)  19,960  147,407  —  2,171  53  24,431  Total  (3)  $ 183,061 $  11 $  (13,963) $ 169,109 $  23,646 $  24,658 $  2021  Cash  $  Adjusted Cost 17,305 $  Unrealized Gains  — $  Unrealized Losses  — $  Fair Value  17,305 $  Cash and Cash Equivalents  17,305 $  Current Marketable Securities  — $  Level 1  (1) :  Money market funds Mutual funds Subtotal (2) : Equity securities U.S. Treasury securities U.S. agency securities Non-U.S. government securities Certificates of deposit and time  Level 2  9,608 175  9,783  1,527 22,878 8,949 20,201  — 11  11  — 102 2 211  — (1)  (1)  (564) (77) (64) (101)  9,608 185  9,793  963 22,903 8,887 20,311  9,608 —')]}\n",
      "RFD-DEBUG:============\n",
      "RFD-DEBUG:agent_outcometool='Use the observation and try to come up with an answer' tool_input='The observation snippet provided earlier' log=\"Let's think about what to do next.\\n\\nThought: To get the revenue of Apple in 2022, I'll need to analyze the observation I got from the Redis query. It seems like there are some financial information related to Apple Inc. in the 2022 Form 10-K report.\\n\\nAction: Use the observation and try to come up with an answer\\nAction Input: The observation snippet provided earlier\"\n",
      "{'agent_outcome': AgentAction(tool='Use the observation and try to come up with an answer', tool_input='The observation snippet provided earlier', log=\"Let's think about what to do next.\\n\\nThought: To get the revenue of Apple in 2022, I'll need to analyze the observation I got from the Redis query. It seems like there are some financial information related to Apple Inc. in the 2022 Form 10-K report.\\n\\nAction: Use the observation and try to come up with an answer\\nAction Input: The observation snippet provided earlier\")}\n",
      "Called `execute_tools`\n",
      "Calling tool: Use the observation and try to come up with an answer\n",
      "{'intermediate_steps': [(AgentAction(tool='Use the observation and try to come up with an answer', tool_input='The observation snippet provided earlier', log=\"Let's think about what to do next.\\n\\nThought: To get the revenue of Apple in 2022, I'll need to analyze the observation I got from the Redis query. It seems like there are some financial information related to Apple Inc. in the 2022 Form 10-K report.\\n\\nAction: Use the observation and try to come up with an answer\\nAction Input: The observation snippet provided earlier\"), 'Use the observation and try to come up with an answer is not a valid tool, try one of [get_relevant_docs_from_redis].')]}\n",
      "RFD-DEBUG:==========\n",
      "RFD-DEBUG:{'input': 'Whats the revenue of Apple in 2022?', 'chat_history': [], 'agent_outcome': AgentAction(tool='Use the observation and try to come up with an answer', tool_input='The observation snippet provided earlier', log=\"Let's think about what to do next.\\n\\nThought: To get the revenue of Apple in 2022, I'll need to analyze the observation I got from the Redis query. It seems like there are some financial information related to Apple Inc. in the 2022 Form 10-K report.\\n\\nAction: Use the observation and try to come up with an answer\\nAction Input: The observation snippet provided earlier\"), 'intermediate_steps': [(AgentAction(tool='get_relevant_docs_from_redis', tool_input='revenue\" AND \"Apple\" AND \"2022', log='Let\\'s get started!\\n\\nThought: To find the revenue of Apple in 2022, I\\'ll need to retrieve relevant documents from a Redis query. \\n\\nAction: get_relevant_docs_from_redis\\nAction Input: \"revenue\" AND \"Apple\" AND \"2022'), 'The Company’s proportion of net sales by disaggregated revenue source was generally consistent for each reportable segment in Note 11, “Segment Information and Geographic Data” for 2022, 2021 and 2020, except in Greater China, where iPhone revenue represented a moderately higher proportion of net sales in 2022 and 2021.  As of September 24, 2022 and September 25, 2021, the Company had total deferred revenue of $12.4 billion and $11.9 billion, respectively. As of September 24, 2022, the Company expects 64% of total deferred revenue to be realized in less than a year, 27% within one-to-two years, 7% within two-to-three years and 2% in greater than three years.  Apple Inc. | 2022 Form 10-K | 37  2020  137,781 28,622 23,724 30,620 53,768 274,515  Note 3 – Financial Instruments  Cash, Cash Equivalents and Marketable Securities  The following tables show the Company’s cash, cash equivalents and marketable securities by significant investment category as of September 24, 2022 and September 25, 2021 (in millions):  2022  Adjusted Cost  Unrealized Gains  Unrealized Losses  Fair Value  Cash and Cash Equivalents  Current Marketable Securities  Cash  $  18,546 $  — $  — $  18,546 $  18,546 $  — $  Level 1  (1) :  Money market funds Mutual funds Subtotal (2) :  Level 2  2,929 274  3,203  — —  —  — (47)  (47)  2,929 227  3,156  2,929 —  2,929  — 227  227  U.S. Treasury securities U.S. agency securities Non-U.S. government securities Certificates of deposit and time  25,134 5,823 16,948  — — 2  (1,725) (655) (1,201)  23,409 5,168 15,749  338 — —  5,091 240 8,806  deposits  Commercial paper Corporate debt securities Municipal securities Mortgage- and asset-backed  2,067 718 87,148 921  — — 9 —  — — (7,707) (35)  2,067 718 79,450 886  1,805 28 — —  262 690 9,023 266  securities Subtotal  22,553  161,312  —  11  (2,593)  (13,916)  19,960  147,407  —  2,171  53  24,431  Total  (3)  $ 183,061 $  11 $  (13,963) $ 169,109 $  23,646 $  24,658 $  2021  Cash  $  Adjusted Cost 17,305 $  Unrealized Gains  — $  Unrealized Losses  — $  Fair Value  17,305 $  Cash and Cash Equivalents  17,305 $  Current Marketable Securities  — $  Level 1  (1) :  Money market funds Mutual funds Subtotal (2) : Equity securities U.S. Treasury securities U.S. agency securities Non-U.S. government securities Certificates of deposit and time  Level 2  9,608 175  9,783  1,527 22,878 8,949 20,201  — 11  11  — 102 2 211  — (1)  (1)  (564) (77) (64) (101)  9,608 185  9,793  963 22,903 8,887 20,311  9,608 —'), (AgentAction(tool='Use the observation and try to come up with an answer', tool_input='The observation snippet provided earlier', log=\"Let's think about what to do next.\\n\\nThought: To get the revenue of Apple in 2022, I'll need to analyze the observation I got from the Redis query. It seems like there are some financial information related to Apple Inc. in the 2022 Form 10-K report.\\n\\nAction: Use the observation and try to come up with an answer\\nAction Input: The observation snippet provided earlier\"), 'Use the observation and try to come up with an answer is not a valid tool, try one of [get_relevant_docs_from_redis].')]}\n",
      "RFD-DEBUG:============\n",
      "RFD-DEBUG:agent_outcometool='get_relevant_docs_from_redis' tool_input='revenue\" AND \"Apple\" AND \"2022\"\\n\\nLet\\'s see what other information we can get!' log='I think I have a problem here!\\n\\nSince \"Use the observation and try to come up with an answer\" is not a valid action, I\\'ll need to go back to the Thought: To find the revenue of Apple in 2022, I\\'ll need to retrieve relevant documents from a Redis query.\\n\\nAction: get_relevant_docs_from_redis\\nAction Input: \"revenue\" AND \"Apple\" AND \"2022\"\\n\\nLet\\'s see what other information we can get!'\n",
      "{'agent_outcome': AgentAction(tool='get_relevant_docs_from_redis', tool_input='revenue\" AND \"Apple\" AND \"2022\"\\n\\nLet\\'s see what other information we can get!', log='I think I have a problem here!\\n\\nSince \"Use the observation and try to come up with an answer\" is not a valid action, I\\'ll need to go back to the Thought: To find the revenue of Apple in 2022, I\\'ll need to retrieve relevant documents from a Redis query.\\n\\nAction: get_relevant_docs_from_redis\\nAction Input: \"revenue\" AND \"Apple\" AND \"2022\"\\n\\nLet\\'s see what other information we can get!')}\n",
      "Called `execute_tools`\n",
      "Calling tool: get_relevant_docs_from_redis\n",
      "{'intermediate_steps': [(AgentAction(tool='get_relevant_docs_from_redis', tool_input='revenue\" AND \"Apple\" AND \"2022\"\\n\\nLet\\'s see what other information we can get!', log='I think I have a problem here!\\n\\nSince \"Use the observation and try to come up with an answer\" is not a valid action, I\\'ll need to go back to the Thought: To find the revenue of Apple in 2022, I\\'ll need to retrieve relevant documents from a Redis query.\\n\\nAction: get_relevant_docs_from_redis\\nAction Input: \"revenue\" AND \"Apple\" AND \"2022\"\\n\\nLet\\'s see what other information we can get!'), 'The Company’s proportion of net sales by disaggregated revenue source was generally consistent for each reportable segment in Note 11, “Segment Information and Geographic Data” for 2022, 2021 and 2020, except in Greater China, where iPhone revenue represented a moderately higher proportion of net sales in 2022 and 2021.  As of September 24, 2022 and September 25, 2021, the Company had total deferred revenue of $12.4 billion and $11.9 billion, respectively. As of September 24, 2022, the Company expects 64% of total deferred revenue to be realized in less than a year, 27% within one-to-two years, 7% within two-to-three years and 2% in greater than three years.  Apple Inc. | 2022 Form 10-K | 37  2020  137,781 28,622 23,724 30,620 53,768 274,515  Note 3 – Financial Instruments  Cash, Cash Equivalents and Marketable Securities  The following tables show the Company’s cash, cash equivalents and marketable securities by significant investment category as of September 24, 2022 and September 25, 2021 (in millions):  2022  Adjusted Cost  Unrealized Gains  Unrealized Losses  Fair Value  Cash and Cash Equivalents  Current Marketable Securities  Cash  $  18,546 $  — $  — $  18,546 $  18,546 $  — $  Level 1  (1) :  Money market funds Mutual funds Subtotal (2) :  Level 2  2,929 274  3,203  — —  —  — (47)  (47)  2,929 227  3,156  2,929 —  2,929  — 227  227  U.S. Treasury securities U.S. agency securities Non-U.S. government securities Certificates of deposit and time  25,134 5,823 16,948  — — 2  (1,725) (655) (1,201)  23,409 5,168 15,749  338 — —  5,091 240 8,806  deposits  Commercial paper Corporate debt securities Municipal securities Mortgage- and asset-backed  2,067 718 87,148 921  — — 9 —  — — (7,707) (35)  2,067 718 79,450 886  1,805 28 — —  262 690 9,023 266  securities Subtotal  22,553  161,312  —  11  (2,593)  (13,916)  19,960  147,407  —  2,171  53  24,431  Total  (3)  $ 183,061 $  11 $  (13,963) $ 169,109 $  23,646 $  24,658 $  2021  Cash  $  Adjusted Cost 17,305 $  Unrealized Gains  — $  Unrealized Losses  — $  Fair Value  17,305 $  Cash and Cash Equivalents  17,305 $  Current Marketable Securities  — $  Level 1  (1) :  Money market funds Mutual funds Subtotal (2) : Equity securities U.S. Treasury securities U.S. agency securities Non-U.S. government securities Certificates of deposit and time  Level 2  9,608 175  9,783  1,527 22,878 8,949 20,201  — 11  11  — 102 2 211  — (1)  (1)  (564) (77) (64) (101)  9,608 185  9,793  963 22,903 8,887 20,311  9,608 —')]}\n",
      "RFD-DEBUG:==========\n",
      "RFD-DEBUG:{'input': 'Whats the revenue of Apple in 2022?', 'chat_history': [], 'agent_outcome': AgentAction(tool='get_relevant_docs_from_redis', tool_input='revenue\" AND \"Apple\" AND \"2022\"\\n\\nLet\\'s see what other information we can get!', log='I think I have a problem here!\\n\\nSince \"Use the observation and try to come up with an answer\" is not a valid action, I\\'ll need to go back to the Thought: To find the revenue of Apple in 2022, I\\'ll need to retrieve relevant documents from a Redis query.\\n\\nAction: get_relevant_docs_from_redis\\nAction Input: \"revenue\" AND \"Apple\" AND \"2022\"\\n\\nLet\\'s see what other information we can get!'), 'intermediate_steps': [(AgentAction(tool='get_relevant_docs_from_redis', tool_input='revenue\" AND \"Apple\" AND \"2022', log='Let\\'s get started!\\n\\nThought: To find the revenue of Apple in 2022, I\\'ll need to retrieve relevant documents from a Redis query. \\n\\nAction: get_relevant_docs_from_redis\\nAction Input: \"revenue\" AND \"Apple\" AND \"2022'), 'The Company’s proportion of net sales by disaggregated revenue source was generally consistent for each reportable segment in Note 11, “Segment Information and Geographic Data” for 2022, 2021 and 2020, except in Greater China, where iPhone revenue represented a moderately higher proportion of net sales in 2022 and 2021.  As of September 24, 2022 and September 25, 2021, the Company had total deferred revenue of $12.4 billion and $11.9 billion, respectively. As of September 24, 2022, the Company expects 64% of total deferred revenue to be realized in less than a year, 27% within one-to-two years, 7% within two-to-three years and 2% in greater than three years.  Apple Inc. | 2022 Form 10-K | 37  2020  137,781 28,622 23,724 30,620 53,768 274,515  Note 3 – Financial Instruments  Cash, Cash Equivalents and Marketable Securities  The following tables show the Company’s cash, cash equivalents and marketable securities by significant investment category as of September 24, 2022 and September 25, 2021 (in millions):  2022  Adjusted Cost  Unrealized Gains  Unrealized Losses  Fair Value  Cash and Cash Equivalents  Current Marketable Securities  Cash  $  18,546 $  — $  — $  18,546 $  18,546 $  — $  Level 1  (1) :  Money market funds Mutual funds Subtotal (2) :  Level 2  2,929 274  3,203  — —  —  — (47)  (47)  2,929 227  3,156  2,929 —  2,929  — 227  227  U.S. Treasury securities U.S. agency securities Non-U.S. government securities Certificates of deposit and time  25,134 5,823 16,948  — — 2  (1,725) (655) (1,201)  23,409 5,168 15,749  338 — —  5,091 240 8,806  deposits  Commercial paper Corporate debt securities Municipal securities Mortgage- and asset-backed  2,067 718 87,148 921  — — 9 —  — — (7,707) (35)  2,067 718 79,450 886  1,805 28 — —  262 690 9,023 266  securities Subtotal  22,553  161,312  —  11  (2,593)  (13,916)  19,960  147,407  —  2,171  53  24,431  Total  (3)  $ 183,061 $  11 $  (13,963) $ 169,109 $  23,646 $  24,658 $  2021  Cash  $  Adjusted Cost 17,305 $  Unrealized Gains  — $  Unrealized Losses  — $  Fair Value  17,305 $  Cash and Cash Equivalents  17,305 $  Current Marketable Securities  — $  Level 1  (1) :  Money market funds Mutual funds Subtotal (2) : Equity securities U.S. Treasury securities U.S. agency securities Non-U.S. government securities Certificates of deposit and time  Level 2  9,608 175  9,783  1,527 22,878 8,949 20,201  — 11  11  — 102 2 211  — (1)  (1)  (564) (77) (64) (101)  9,608 185  9,793  963 22,903 8,887 20,311  9,608 —'), (AgentAction(tool='Use the observation and try to come up with an answer', tool_input='The observation snippet provided earlier', log=\"Let's think about what to do next.\\n\\nThought: To get the revenue of Apple in 2022, I'll need to analyze the observation I got from the Redis query. It seems like there are some financial information related to Apple Inc. in the 2022 Form 10-K report.\\n\\nAction: Use the observation and try to come up with an answer\\nAction Input: The observation snippet provided earlier\"), 'Use the observation and try to come up with an answer is not a valid tool, try one of [get_relevant_docs_from_redis].'), (AgentAction(tool='get_relevant_docs_from_redis', tool_input='revenue\" AND \"Apple\" AND \"2022\"\\n\\nLet\\'s see what other information we can get!', log='I think I have a problem here!\\n\\nSince \"Use the observation and try to come up with an answer\" is not a valid action, I\\'ll need to go back to the Thought: To find the revenue of Apple in 2022, I\\'ll need to retrieve relevant documents from a Redis query.\\n\\nAction: get_relevant_docs_from_redis\\nAction Input: \"revenue\" AND \"Apple\" AND \"2022\"\\n\\nLet\\'s see what other information we can get!'), 'The Company’s proportion of net sales by disaggregated revenue source was generally consistent for each reportable segment in Note 11, “Segment Information and Geographic Data” for 2022, 2021 and 2020, except in Greater China, where iPhone revenue represented a moderately higher proportion of net sales in 2022 and 2021.  As of September 24, 2022 and September 25, 2021, the Company had total deferred revenue of $12.4 billion and $11.9 billion, respectively. As of September 24, 2022, the Company expects 64% of total deferred revenue to be realized in less than a year, 27% within one-to-two years, 7% within two-to-three years and 2% in greater than three years.  Apple Inc. | 2022 Form 10-K | 37  2020  137,781 28,622 23,724 30,620 53,768 274,515  Note 3 – Financial Instruments  Cash, Cash Equivalents and Marketable Securities  The following tables show the Company’s cash, cash equivalents and marketable securities by significant investment category as of September 24, 2022 and September 25, 2021 (in millions):  2022  Adjusted Cost  Unrealized Gains  Unrealized Losses  Fair Value  Cash and Cash Equivalents  Current Marketable Securities  Cash  $  18,546 $  — $  — $  18,546 $  18,546 $  — $  Level 1  (1) :  Money market funds Mutual funds Subtotal (2) :  Level 2  2,929 274  3,203  — —  —  — (47)  (47)  2,929 227  3,156  2,929 —  2,929  — 227  227  U.S. Treasury securities U.S. agency securities Non-U.S. government securities Certificates of deposit and time  25,134 5,823 16,948  — — 2  (1,725) (655) (1,201)  23,409 5,168 15,749  338 — —  5,091 240 8,806  deposits  Commercial paper Corporate debt securities Municipal securities Mortgage- and asset-backed  2,067 718 87,148 921  — — 9 —  — — (7,707) (35)  2,067 718 79,450 886  1,805 28 — —  262 690 9,023 266  securities Subtotal  22,553  161,312  —  11  (2,593)  (13,916)  19,960  147,407  —  2,171  53  24,431  Total  (3)  $ 183,061 $  11 $  (13,963) $ 169,109 $  23,646 $  24,658 $  2021  Cash  $  Adjusted Cost 17,305 $  Unrealized Gains  — $  Unrealized Losses  — $  Fair Value  17,305 $  Cash and Cash Equivalents  17,305 $  Current Marketable Securities  — $  Level 1  (1) :  Money market funds Mutual funds Subtotal (2) : Equity securities U.S. Treasury securities U.S. agency securities Non-U.S. government securities Certificates of deposit and time  Level 2  9,608 175  9,783  1,527 22,878 8,949 20,201  — 11  11  — 102 2 211  — (1)  (1)  (564) (77) (64) (101)  9,608 185  9,793  963 22,903 8,887 20,311  9,608 —')]}\n",
      "RFD-DEBUG:============\n",
      "RFD-DEBUG:agent_outcometool='get_relevant_docs_from_redis' tool_input='revenue\" AND \"Apple\" AND \"2022\"\\n\\nLet\\'s see what other information we can get' log='Since you provided the observation snippet from the Redis query, I\\'ll use it to retrieve relevant documents. The action input is: \"revenue\" AND \"Apple\" AND \"2022\"\\n\\nAction: get_relevant_docs_from_redis\\nAction Input: \"revenue\" AND \"Apple\" AND \"2022\"\\n\\nLet\\'s see what other information we can get'\n",
      "{'agent_outcome': AgentAction(tool='get_relevant_docs_from_redis', tool_input='revenue\" AND \"Apple\" AND \"2022\"\\n\\nLet\\'s see what other information we can get', log='Since you provided the observation snippet from the Redis query, I\\'ll use it to retrieve relevant documents. The action input is: \"revenue\" AND \"Apple\" AND \"2022\"\\n\\nAction: get_relevant_docs_from_redis\\nAction Input: \"revenue\" AND \"Apple\" AND \"2022\"\\n\\nLet\\'s see what other information we can get')}\n",
      "Called `execute_tools`\n",
      "Calling tool: get_relevant_docs_from_redis\n",
      "{'intermediate_steps': [(AgentAction(tool='get_relevant_docs_from_redis', tool_input='revenue\" AND \"Apple\" AND \"2022\"\\n\\nLet\\'s see what other information we can get', log='Since you provided the observation snippet from the Redis query, I\\'ll use it to retrieve relevant documents. The action input is: \"revenue\" AND \"Apple\" AND \"2022\"\\n\\nAction: get_relevant_docs_from_redis\\nAction Input: \"revenue\" AND \"Apple\" AND \"2022\"\\n\\nLet\\'s see what other information we can get'), 'The Company’s proportion of net sales by disaggregated revenue source was generally consistent for each reportable segment in Note 11, “Segment Information and Geographic Data” for 2022, 2021 and 2020, except in Greater China, where iPhone revenue represented a moderately higher proportion of net sales in 2022 and 2021.  As of September 24, 2022 and September 25, 2021, the Company had total deferred revenue of $12.4 billion and $11.9 billion, respectively. As of September 24, 2022, the Company expects 64% of total deferred revenue to be realized in less than a year, 27% within one-to-two years, 7% within two-to-three years and 2% in greater than three years.  Apple Inc. | 2022 Form 10-K | 37  2020  137,781 28,622 23,724 30,620 53,768 274,515  Note 3 – Financial Instruments  Cash, Cash Equivalents and Marketable Securities  The following tables show the Company’s cash, cash equivalents and marketable securities by significant investment category as of September 24, 2022 and September 25, 2021 (in millions):  2022  Adjusted Cost  Unrealized Gains  Unrealized Losses  Fair Value  Cash and Cash Equivalents  Current Marketable Securities  Cash  $  18,546 $  — $  — $  18,546 $  18,546 $  — $  Level 1  (1) :  Money market funds Mutual funds Subtotal (2) :  Level 2  2,929 274  3,203  — —  —  — (47)  (47)  2,929 227  3,156  2,929 —  2,929  — 227  227  U.S. Treasury securities U.S. agency securities Non-U.S. government securities Certificates of deposit and time  25,134 5,823 16,948  — — 2  (1,725) (655) (1,201)  23,409 5,168 15,749  338 — —  5,091 240 8,806  deposits  Commercial paper Corporate debt securities Municipal securities Mortgage- and asset-backed  2,067 718 87,148 921  — — 9 —  — — (7,707) (35)  2,067 718 79,450 886  1,805 28 — —  262 690 9,023 266  securities Subtotal  22,553  161,312  —  11  (2,593)  (13,916)  19,960  147,407  —  2,171  53  24,431  Total  (3)  $ 183,061 $  11 $  (13,963) $ 169,109 $  23,646 $  24,658 $  2021  Cash  $  Adjusted Cost 17,305 $  Unrealized Gains  — $  Unrealized Losses  — $  Fair Value  17,305 $  Cash and Cash Equivalents  17,305 $  Current Marketable Securities  — $  Level 1  (1) :  Money market funds Mutual funds Subtotal (2) : Equity securities U.S. Treasury securities U.S. agency securities Non-U.S. government securities Certificates of deposit and time  Level 2  9,608 175  9,783  1,527 22,878 8,949 20,201  — 11  11  — 102 2 211  — (1)  (1)  (564) (77) (64) (101)  9,608 185  9,793  963 22,903 8,887 20,311  9,608 —')]}\n",
      "RFD-DEBUG:==========\n",
      "RFD-DEBUG:{'input': 'Whats the revenue of Apple in 2022?', 'chat_history': [], 'agent_outcome': AgentAction(tool='get_relevant_docs_from_redis', tool_input='revenue\" AND \"Apple\" AND \"2022\"\\n\\nLet\\'s see what other information we can get', log='Since you provided the observation snippet from the Redis query, I\\'ll use it to retrieve relevant documents. The action input is: \"revenue\" AND \"Apple\" AND \"2022\"\\n\\nAction: get_relevant_docs_from_redis\\nAction Input: \"revenue\" AND \"Apple\" AND \"2022\"\\n\\nLet\\'s see what other information we can get'), 'intermediate_steps': [(AgentAction(tool='get_relevant_docs_from_redis', tool_input='revenue\" AND \"Apple\" AND \"2022', log='Let\\'s get started!\\n\\nThought: To find the revenue of Apple in 2022, I\\'ll need to retrieve relevant documents from a Redis query. \\n\\nAction: get_relevant_docs_from_redis\\nAction Input: \"revenue\" AND \"Apple\" AND \"2022'), 'The Company’s proportion of net sales by disaggregated revenue source was generally consistent for each reportable segment in Note 11, “Segment Information and Geographic Data” for 2022, 2021 and 2020, except in Greater China, where iPhone revenue represented a moderately higher proportion of net sales in 2022 and 2021.  As of September 24, 2022 and September 25, 2021, the Company had total deferred revenue of $12.4 billion and $11.9 billion, respectively. As of September 24, 2022, the Company expects 64% of total deferred revenue to be realized in less than a year, 27% within one-to-two years, 7% within two-to-three years and 2% in greater than three years.  Apple Inc. | 2022 Form 10-K | 37  2020  137,781 28,622 23,724 30,620 53,768 274,515  Note 3 – Financial Instruments  Cash, Cash Equivalents and Marketable Securities  The following tables show the Company’s cash, cash equivalents and marketable securities by significant investment category as of September 24, 2022 and September 25, 2021 (in millions):  2022  Adjusted Cost  Unrealized Gains  Unrealized Losses  Fair Value  Cash and Cash Equivalents  Current Marketable Securities  Cash  $  18,546 $  — $  — $  18,546 $  18,546 $  — $  Level 1  (1) :  Money market funds Mutual funds Subtotal (2) :  Level 2  2,929 274  3,203  — —  —  — (47)  (47)  2,929 227  3,156  2,929 —  2,929  — 227  227  U.S. Treasury securities U.S. agency securities Non-U.S. government securities Certificates of deposit and time  25,134 5,823 16,948  — — 2  (1,725) (655) (1,201)  23,409 5,168 15,749  338 — —  5,091 240 8,806  deposits  Commercial paper Corporate debt securities Municipal securities Mortgage- and asset-backed  2,067 718 87,148 921  — — 9 —  — — (7,707) (35)  2,067 718 79,450 886  1,805 28 — —  262 690 9,023 266  securities Subtotal  22,553  161,312  —  11  (2,593)  (13,916)  19,960  147,407  —  2,171  53  24,431  Total  (3)  $ 183,061 $  11 $  (13,963) $ 169,109 $  23,646 $  24,658 $  2021  Cash  $  Adjusted Cost 17,305 $  Unrealized Gains  — $  Unrealized Losses  — $  Fair Value  17,305 $  Cash and Cash Equivalents  17,305 $  Current Marketable Securities  — $  Level 1  (1) :  Money market funds Mutual funds Subtotal (2) : Equity securities U.S. Treasury securities U.S. agency securities Non-U.S. government securities Certificates of deposit and time  Level 2  9,608 175  9,783  1,527 22,878 8,949 20,201  — 11  11  — 102 2 211  — (1)  (1)  (564) (77) (64) (101)  9,608 185  9,793  963 22,903 8,887 20,311  9,608 —'), (AgentAction(tool='Use the observation and try to come up with an answer', tool_input='The observation snippet provided earlier', log=\"Let's think about what to do next.\\n\\nThought: To get the revenue of Apple in 2022, I'll need to analyze the observation I got from the Redis query. It seems like there are some financial information related to Apple Inc. in the 2022 Form 10-K report.\\n\\nAction: Use the observation and try to come up with an answer\\nAction Input: The observation snippet provided earlier\"), 'Use the observation and try to come up with an answer is not a valid tool, try one of [get_relevant_docs_from_redis].'), (AgentAction(tool='get_relevant_docs_from_redis', tool_input='revenue\" AND \"Apple\" AND \"2022\"\\n\\nLet\\'s see what other information we can get!', log='I think I have a problem here!\\n\\nSince \"Use the observation and try to come up with an answer\" is not a valid action, I\\'ll need to go back to the Thought: To find the revenue of Apple in 2022, I\\'ll need to retrieve relevant documents from a Redis query.\\n\\nAction: get_relevant_docs_from_redis\\nAction Input: \"revenue\" AND \"Apple\" AND \"2022\"\\n\\nLet\\'s see what other information we can get!'), 'The Company’s proportion of net sales by disaggregated revenue source was generally consistent for each reportable segment in Note 11, “Segment Information and Geographic Data” for 2022, 2021 and 2020, except in Greater China, where iPhone revenue represented a moderately higher proportion of net sales in 2022 and 2021.  As of September 24, 2022 and September 25, 2021, the Company had total deferred revenue of $12.4 billion and $11.9 billion, respectively. As of September 24, 2022, the Company expects 64% of total deferred revenue to be realized in less than a year, 27% within one-to-two years, 7% within two-to-three years and 2% in greater than three years.  Apple Inc. | 2022 Form 10-K | 37  2020  137,781 28,622 23,724 30,620 53,768 274,515  Note 3 – Financial Instruments  Cash, Cash Equivalents and Marketable Securities  The following tables show the Company’s cash, cash equivalents and marketable securities by significant investment category as of September 24, 2022 and September 25, 2021 (in millions):  2022  Adjusted Cost  Unrealized Gains  Unrealized Losses  Fair Value  Cash and Cash Equivalents  Current Marketable Securities  Cash  $  18,546 $  — $  — $  18,546 $  18,546 $  — $  Level 1  (1) :  Money market funds Mutual funds Subtotal (2) :  Level 2  2,929 274  3,203  — —  —  — (47)  (47)  2,929 227  3,156  2,929 —  2,929  — 227  227  U.S. Treasury securities U.S. agency securities Non-U.S. government securities Certificates of deposit and time  25,134 5,823 16,948  — — 2  (1,725) (655) (1,201)  23,409 5,168 15,749  338 — —  5,091 240 8,806  deposits  Commercial paper Corporate debt securities Municipal securities Mortgage- and asset-backed  2,067 718 87,148 921  — — 9 —  — — (7,707) (35)  2,067 718 79,450 886  1,805 28 — —  262 690 9,023 266  securities Subtotal  22,553  161,312  —  11  (2,593)  (13,916)  19,960  147,407  —  2,171  53  24,431  Total  (3)  $ 183,061 $  11 $  (13,963) $ 169,109 $  23,646 $  24,658 $  2021  Cash  $  Adjusted Cost 17,305 $  Unrealized Gains  — $  Unrealized Losses  — $  Fair Value  17,305 $  Cash and Cash Equivalents  17,305 $  Current Marketable Securities  — $  Level 1  (1) :  Money market funds Mutual funds Subtotal (2) : Equity securities U.S. Treasury securities U.S. agency securities Non-U.S. government securities Certificates of deposit and time  Level 2  9,608 175  9,783  1,527 22,878 8,949 20,201  — 11  11  — 102 2 211  — (1)  (1)  (564) (77) (64) (101)  9,608 185  9,793  963 22,903 8,887 20,311  9,608 —'), (AgentAction(tool='get_relevant_docs_from_redis', tool_input='revenue\" AND \"Apple\" AND \"2022\"\\n\\nLet\\'s see what other information we can get', log='Since you provided the observation snippet from the Redis query, I\\'ll use it to retrieve relevant documents. The action input is: \"revenue\" AND \"Apple\" AND \"2022\"\\n\\nAction: get_relevant_docs_from_redis\\nAction Input: \"revenue\" AND \"Apple\" AND \"2022\"\\n\\nLet\\'s see what other information we can get'), 'The Company’s proportion of net sales by disaggregated revenue source was generally consistent for each reportable segment in Note 11, “Segment Information and Geographic Data” for 2022, 2021 and 2020, except in Greater China, where iPhone revenue represented a moderately higher proportion of net sales in 2022 and 2021.  As of September 24, 2022 and September 25, 2021, the Company had total deferred revenue of $12.4 billion and $11.9 billion, respectively. As of September 24, 2022, the Company expects 64% of total deferred revenue to be realized in less than a year, 27% within one-to-two years, 7% within two-to-three years and 2% in greater than three years.  Apple Inc. | 2022 Form 10-K | 37  2020  137,781 28,622 23,724 30,620 53,768 274,515  Note 3 – Financial Instruments  Cash, Cash Equivalents and Marketable Securities  The following tables show the Company’s cash, cash equivalents and marketable securities by significant investment category as of September 24, 2022 and September 25, 2021 (in millions):  2022  Adjusted Cost  Unrealized Gains  Unrealized Losses  Fair Value  Cash and Cash Equivalents  Current Marketable Securities  Cash  $  18,546 $  — $  — $  18,546 $  18,546 $  — $  Level 1  (1) :  Money market funds Mutual funds Subtotal (2) :  Level 2  2,929 274  3,203  — —  —  — (47)  (47)  2,929 227  3,156  2,929 —  2,929  — 227  227  U.S. Treasury securities U.S. agency securities Non-U.S. government securities Certificates of deposit and time  25,134 5,823 16,948  — — 2  (1,725) (655) (1,201)  23,409 5,168 15,749  338 — —  5,091 240 8,806  deposits  Commercial paper Corporate debt securities Municipal securities Mortgage- and asset-backed  2,067 718 87,148 921  — — 9 —  — — (7,707) (35)  2,067 718 79,450 886  1,805 28 — —  262 690 9,023 266  securities Subtotal  22,553  161,312  —  11  (2,593)  (13,916)  19,960  147,407  —  2,171  53  24,431  Total  (3)  $ 183,061 $  11 $  (13,963) $ 169,109 $  23,646 $  24,658 $  2021  Cash  $  Adjusted Cost 17,305 $  Unrealized Gains  — $  Unrealized Losses  — $  Fair Value  17,305 $  Cash and Cash Equivalents  17,305 $  Current Marketable Securities  — $  Level 1  (1) :  Money market funds Mutual funds Subtotal (2) : Equity securities U.S. Treasury securities U.S. agency securities Non-U.S. government securities Certificates of deposit and time  Level 2  9,608 175  9,783  1,527 22,878 8,949 20,201  — 11  11  — 102 2 211  — (1)  (1)  (564) (77) (64) (101)  9,608 185  9,793  963 22,903 8,887 20,311  9,608 —')]}\n",
      "RFD-DEBUG:============\n",
      "RFD-DEBUG:agent_outcomereturn_values={'output': 'I\\'ve accessed the Redis query and retrieved relevant documents based on your input: \"revenue\" AND \"Apple\" AND \"2022\".\\n\\nHere are some key points I found:\\n\\n1. As of September 24, 2022, Apple Inc. had total deferred revenue of $12.4 billion.\\n2. The company expects to realize 64% of this deferred revenue within less than a year, 27% within one- to two-years, 7% within two- to three-years, and 2% in greater than three years.\\n\\nRegarding the financial instruments, I found that as of September 24, 2022:\\n\\n1. Cash and cash equivalents totaled $18,546 million.\\n2. Current marketable securities had an adjusted cost of $2,929 million, unrealized gains of $227 million, and a fair value of $3,156 million.\\n3. Level 1: Money market funds and mutual funds accounted for $3,203 million.\\n4. Level 2: U.S. Treasury securities, U.S. agency securities, non-U.S. government securities, and certificates of deposit and time had an adjusted cost of $9,608 million, unrealized gains of $185 million, and a fair value of $9,793 million.\\n\\nPlease let me know if you\\'d like to explore further or have any specific questions!'} log='I\\'ve accessed the Redis query and retrieved relevant documents based on your input: \"revenue\" AND \"Apple\" AND \"2022\".\\n\\nHere are some key points I found:\\n\\n1. As of September 24, 2022, Apple Inc. had total deferred revenue of $12.4 billion.\\n2. The company expects to realize 64% of this deferred revenue within less than a year, 27% within one- to two-years, 7% within two- to three-years, and 2% in greater than three years.\\n\\nRegarding the financial instruments, I found that as of September 24, 2022:\\n\\n1. Cash and cash equivalents totaled $18,546 million.\\n2. Current marketable securities had an adjusted cost of $2,929 million, unrealized gains of $227 million, and a fair value of $3,156 million.\\n3. Level 1: Money market funds and mutual funds accounted for $3,203 million.\\n4. Level 2: U.S. Treasury securities, U.S. agency securities, non-U.S. government securities, and certificates of deposit and time had an adjusted cost of $9,608 million, unrealized gains of $185 million, and a fair value of $9,793 million.\\n\\nPlease let me know if you\\'d like to explore further or have any specific questions!'\n",
      "{'agent_outcome': AgentFinish(return_values={'output': 'I\\'ve accessed the Redis query and retrieved relevant documents based on your input: \"revenue\" AND \"Apple\" AND \"2022\".\\n\\nHere are some key points I found:\\n\\n1. As of September 24, 2022, Apple Inc. had total deferred revenue of $12.4 billion.\\n2. The company expects to realize 64% of this deferred revenue within less than a year, 27% within one- to two-years, 7% within two- to three-years, and 2% in greater than three years.\\n\\nRegarding the financial instruments, I found that as of September 24, 2022:\\n\\n1. Cash and cash equivalents totaled $18,546 million.\\n2. Current marketable securities had an adjusted cost of $2,929 million, unrealized gains of $227 million, and a fair value of $3,156 million.\\n3. Level 1: Money market funds and mutual funds accounted for $3,203 million.\\n4. Level 2: U.S. Treasury securities, U.S. agency securities, non-U.S. government securities, and certificates of deposit and time had an adjusted cost of $9,608 million, unrealized gains of $185 million, and a fair value of $9,793 million.\\n\\nPlease let me know if you\\'d like to explore further or have any specific questions!'}, log='I\\'ve accessed the Redis query and retrieved relevant documents based on your input: \"revenue\" AND \"Apple\" AND \"2022\".\\n\\nHere are some key points I found:\\n\\n1. As of September 24, 2022, Apple Inc. had total deferred revenue of $12.4 billion.\\n2. The company expects to realize 64% of this deferred revenue within less than a year, 27% within one- to two-years, 7% within two- to three-years, and 2% in greater than three years.\\n\\nRegarding the financial instruments, I found that as of September 24, 2022:\\n\\n1. Cash and cash equivalents totaled $18,546 million.\\n2. Current marketable securities had an adjusted cost of $2,929 million, unrealized gains of $227 million, and a fair value of $3,156 million.\\n3. Level 1: Money market funds and mutual funds accounted for $3,203 million.\\n4. Level 2: U.S. Treasury securities, U.S. agency securities, non-U.S. government securities, and certificates of deposit and time had an adjusted cost of $9,608 million, unrealized gains of $185 million, and a fair value of $9,793 million.\\n\\nPlease let me know if you\\'d like to explore further or have any specific questions!')}\n"
     ]
    }
   ],
   "execution_count": 40
  }
 ],
 "metadata": {
  "kernelspec": {
   "display_name": "Python 3 (ipykernel)",
   "language": "python",
   "name": "python3"
  },
  "language_info": {
   "codemirror_mode": {
    "name": "ipython",
    "version": 3
   },
   "file_extension": ".py",
   "mimetype": "text/x-python",
   "name": "python",
   "nbconvert_exporter": "python",
   "pygments_lexer": "ipython3",
   "version": "3.11.2"
  }
 },
 "nbformat": 4,
 "nbformat_minor": 5
}
